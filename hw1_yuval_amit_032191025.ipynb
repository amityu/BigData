{
  "nbformat": 4,
  "nbformat_minor": 0,
  "metadata": {
    "kernelspec": {
      "display_name": "Python 3",
      "language": "python",
      "name": "python3"
    },
    "language_info": {
      "codemirror_mode": {
        "name": "ipython",
        "version": 3
      },
      "file_extension": ".py",
      "mimetype": "text/x-python",
      "name": "python",
      "nbconvert_exporter": "python",
      "pygments_lexer": "ipython3",
      "version": "3.6.9"
    },
    "colab": {
      "name": "Copy of hw1_yuval_amit_032191025.ipynb",
      "provenance": [],
      "collapsed_sections": [
        "W1K5VTLoYCy3"
      ],
      "include_colab_link": true
    }
  },
  "cells": [
    {
      "cell_type": "markdown",
      "metadata": {
        "id": "view-in-github",
        "colab_type": "text"
      },
      "source": [
        "<a href=\"https://colab.research.google.com/github/amityu/BIgData/blob/main/hw1_yuval_amit_032191025.ipynb\" target=\"_parent\"><img src=\"https://colab.research.google.com/assets/colab-badge.svg\" alt=\"Open In Colab\"/></a>"
      ]
    },
    {
      "cell_type": "code",
      "metadata": {
        "id": "4rLpsIGs6Lzo"
      },
      "source": [
        "!mkdir /root/.kaggle/"
      ],
      "execution_count": null,
      "outputs": []
    },
    {
      "cell_type": "code",
      "metadata": {
        "colab": {
          "base_uri": "https://localhost:8080/"
        },
        "id": "DRS8zTYg6LmH",
        "outputId": "59f3d2ba-8034-4b43-c2ee-a820bf91de86"
      },
      "source": [
        "from google.colab import drive\n",
        "drive.mount('/content/drive')"
      ],
      "execution_count": null,
      "outputs": [
        {
          "output_type": "stream",
          "name": "stdout",
          "text": [
            "Mounted at /content/drive\n"
          ]
        }
      ]
    },
    {
      "cell_type": "markdown",
      "metadata": {
        "id": "_fq8BHLiYCyE"
      },
      "source": [
        "# Homework Assignment 1\n",
        "### [The Art of Analyzing Big Data - The Data Scientist’s Toolbox](https://www.ise.bgu.ac.il/labs/fire/lectures.html)\n",
        "#### By Dr. Michael Fire "
      ]
    },
    {
      "cell_type": "markdown",
      "metadata": {
        "id": "jYvqtKSOYCyG"
      },
      "source": [
        "For this homework you will need to write code that analyzes real-world datasets. The code needs to be written in Python using the [sqlite3](https://docs.python.org/2/library/sqlite3.html) package. \n",
        "\n",
        "**Please note:** You need to answer only the questions that match your ID first digit."
      ]
    },
    {
      "cell_type": "markdown",
      "metadata": {
        "id": "AML-gkV-YCyI"
      },
      "source": [
        "# 1. Babies Names Dataset (35pt)"
      ]
    },
    {
      "cell_type": "markdown",
      "metadata": {
        "id": "jvkBrt7SYCyK"
      },
      "source": [
        "**Task 1 (for everyone):** Write a code that uses the  [**babies names dataset** ](https://www.kaggle.com/kaggle/us-baby-names?select=NationalNames.csv) (use NationalNames.csv) and creates a table named (Names) with the dataset data and the following columns: 'State', 'Gender', 'Name', 'Count' , and 'Year' (5pt)\n",
        "**Bonus:** Load the data using a Batch INSERT SQL Query (2pt)"
      ]
    },
    {
      "cell_type": "code",
      "metadata": {
        "id": "CB52AjumIDbf",
        "colab": {
          "base_uri": "https://localhost:8080/",
          "height": 41
        },
        "outputId": "4547b4e5-fb68-4bd9-aa15-9d316aa372f9"
      },
      "source": [
        "import os\n",
        "os.getcwd()\n"
      ],
      "execution_count": null,
      "outputs": [
        {
          "output_type": "execute_result",
          "data": {
            "application/vnd.google.colaboratory.intrinsic+json": {
              "type": "string"
            },
            "text/plain": [
              "'/content'"
            ]
          },
          "metadata": {},
          "execution_count": 2
        }
      ]
    },
    {
      "cell_type": "code",
      "metadata": {
        "id": "X79xFlZZui5I",
        "colab": {
          "base_uri": "https://localhost:8080/"
        },
        "outputId": "aa941d44-7fdc-44b4-c63f-f6eed6d4bd47"
      },
      "source": [
        "# Creating a dataset directory\n",
        "!mkdir ./datasets\n",
        "!mkdir ./datasets/us-baby-name\n",
        "\n",
        "# download the dataset from Kaggle and unzip it\n",
        "!kaggle datasets download kaggle/us-baby-names -f database.sqlite -p ./datasets/us-baby-name/database.sqlite\n",
        "#os.chdir('./datasets/us-baby-name/database.sqlite/')\n",
        "!unzip ./datasets/us-baby-name/database.sqlite/*.zip  -d ./datasets/us-baby-name/database.sqlite"
      ],
      "execution_count": null,
      "outputs": [
        {
          "output_type": "stream",
          "name": "stdout",
          "text": [
            "Traceback (most recent call last):\n",
            "  File \"/usr/local/bin/kaggle\", line 5, in <module>\n",
            "    from kaggle.cli import main\n",
            "  File \"/usr/local/lib/python2.7/dist-packages/kaggle/__init__.py\", line 23, in <module>\n",
            "    api.authenticate()\n",
            "  File \"/usr/local/lib/python2.7/dist-packages/kaggle/api/kaggle_api_extended.py\", line 146, in authenticate\n",
            "    self.config_file, self.config_dir))\n",
            "IOError: Could not find kaggle.json. Make sure it's located in /root/.kaggle. Or use the environment method.\n",
            "unzip:  cannot find or open ./datasets/us-baby-name/database.sqlite/*.zip, ./datasets/us-baby-name/database.sqlite/*.zip.zip or ./datasets/us-baby-name/database.sqlite/*.zip.ZIP.\n",
            "\n",
            "No zipfiles found.\n"
          ]
        }
      ]
    },
    {
      "cell_type": "code",
      "metadata": {
        "id": "mzWd6_BkPR1B"
      },
      "source": [
        ""
      ],
      "execution_count": null,
      "outputs": []
    },
    {
      "cell_type": "code",
      "metadata": {
        "id": "-vrdQhaLYCyL",
        "colab": {
          "base_uri": "https://localhost:8080/"
        },
        "outputId": "1fe792cd-0f27-4866-87a2-7abc64111177"
      },
      "source": [
        "import sqlite3\n",
        "import matplotlib\n",
        "import matplotlib.pyplot as plt\n",
        "import os\n",
        "\n",
        "import numpy as np\n",
        "%matplotlib inline\n",
        "#my_path = 'drive/MyDrive/BigData/'\n",
        "my_path = \"./datasets/us-baby-name/\"\n",
        "#my_path = \"\"\n",
        "conn = sqlite3.connect('database.sqlite')#connecting to the database\n",
        "c = conn.cursor()\n",
        "\n",
        "c.execute('''CREATE TABLE IF NOT EXISTS Names AS\n",
        "    SELECT NationalNames.Id, State, NationalNames.Gender, NationalNames.Name, StateNames.Count, NationalNames.Year\n",
        "    FROM NationalNames  JOIN StateNames ON (NationalNames.Id = StateNames.Id) ;''')\n",
        "print(c.fetchmany(10))"
      ],
      "execution_count": null,
      "outputs": [
        {
          "output_type": "stream",
          "name": "stdout",
          "text": [
            "[]\n"
          ]
        }
      ]
    },
    {
      "cell_type": "code",
      "metadata": {
        "colab": {
          "base_uri": "https://localhost:8080/",
          "height": 41
        },
        "id": "pdoIWvq-zqi-",
        "outputId": "bae62bd9-c46e-460f-c459-a47fb8c25f5a"
      },
      "source": [
        "os.getcwd()\n"
      ],
      "execution_count": null,
      "outputs": [
        {
          "output_type": "execute_result",
          "data": {
            "application/vnd.google.colaboratory.intrinsic+json": {
              "type": "string"
            },
            "text/plain": [
              "'/content/drive/My Drive/BigData/datasets/us-baby-name/database.sqlite/datasets/us-baby-name/database.sqlite'"
            ]
          },
          "metadata": {},
          "execution_count": 30
        }
      ]
    },
    {
      "cell_type": "markdown",
      "metadata": {
        "id": "QEbvkQhCYCyP"
      },
      "source": [
        "**Task 2 (for everyone):** Write a query that returns the statistics for the name Mary (5pt). Use the [the timeit package](https://docs.python.org/3/library/timeit.html) to measure the time it takes the query to run (5pt). **Bonus:** [Create an index](https://www.w3schools.com/sql/sql_create_index.asp)  on the _Name_ column and use the [the timeit package](https://docs.python.org/3/library/timeit.html) to measure the time it takes the query to run with the index (5pt)"
      ]
    },
    {
      "cell_type": "code",
      "metadata": {
        "id": "YBCHPAOzYCyR",
        "colab": {
          "base_uri": "https://localhost:8080/"
        },
        "outputId": "48855640-1b59-4ecc-a118-70ac1ff2a9c0"
      },
      "source": [
        "from timeit import  timeit\n",
        "\n",
        "def query():\n",
        "    c.execute(\"SELECT * FROM Names WHERE Name = 'Mary'\")\n",
        "    print (c.fetchall())\n",
        "print (' Time for enqirey %f' %timeit(query, number=1))\n"
      ],
      "execution_count": null,
      "outputs": [
        {
          "output_type": "stream",
          "name": "stdout",
          "text": [
            "[(1, 'AK', 'F', 'Mary', 14, 1880), (1274, 'AK', 'M', 'Mary', 38, 1880), (2001, 'AK', 'F', 'Mary', 8, 1881), (3239, 'AK', 'M', 'Mary', 10, 1881), (3936, 'AK', 'F', 'Mary', 21, 1882), (5278, 'AK', 'M', 'Mary', 35, 1882), (6063, 'AK', 'F', 'Mary', 6, 1883), (7408, 'AK', 'M', 'Mary', 19, 1883), (8147, 'AK', 'F', 'Mary', 9, 1884), (9611, 'AK', 'M', 'Mary', 16, 1884), (10444, 'AK', 'F', 'Mary', 9, 1885), (11911, 'AK', 'M', 'Mary', 6, 1885), (12738, 'AK', 'F', 'Mary', 8, 1886), (14324, 'AK', 'M', 'Mary', 11, 1886), (15130, 'AK', 'F', 'Mary', 11, 1887), (16672, 'AK', 'M', 'Mary', 29, 1887), (17503, 'AK', 'F', 'Mary', 11, 1888), (19224, 'AK', 'M', 'Mary', 43, 1888), (20154, 'AK', 'F', 'Mary', 28, 1889), (21894, 'AK', 'M', 'Mary', 43, 1889), (22744, 'AK', 'F', 'Mary', 12, 1890), (24570, 'AK', 'M', 'Mary', 16, 1890), (25439, 'AK', 'F', 'Mary', 32, 1891), (27230, 'AL', 'M', 'Mary', 12, 1891), (28099, 'AL', 'F', 'Mary', 8, 1892), (30010, 'AL', 'M', 'Mary', 25, 1892), (31020, 'AL', 'F', 'Mary', 77, 1893), (32903, 'AL', 'M', 'Mary', 41, 1893), (33851, 'AL', 'F', 'Mary', 6, 1894), (35803, 'AL', 'M', 'Mary', 201, 1894), (36792, 'AL', 'F', 'Mary', 8, 1895), (38860, 'AL', 'M', 'Mary', 20, 1895), (39841, 'AL', 'F', 'Mary', 49, 1896), (41907, 'AL', 'M', 'Mary', 122, 1896), (42932, 'AL', 'F', 'Mary', 409, 1897), (44941, 'AL', 'M', 'Mary', 9, 1897), (45960, 'AL', 'F', 'Mary', 15, 1898), (48185, 'AL', 'M', 'Mary', 30, 1898), (49224, 'AL', 'F', 'Mary', 108, 1899), (51301, 'AL', 'M', 'Mary', 12, 1899), (52266, 'AL', 'F', 'Mary', 174, 1900), (54723, 'AL', 'M', 'Mary', 8, 1900), (55997, 'AL', 'F', 'Mary', 10, 1901), (58170, 'AL', 'M', 'Mary', 7, 1901), (59150, 'AL', 'F', 'Mary', 39, 1902), (61440, 'AL', 'M', 'Mary', 7, 1902), (62512, 'AL', 'F', 'Mary', 16, 1903), (64824, 'AL', 'M', 'Mary', 5, 1903), (65901, 'AL', 'F', 'Mary', 9, 1904), (68318, 'AL', 'M', 'Mary', 45, 1904), (69462, 'AL', 'F', 'Mary', 6, 1905), (71935, 'AL', 'M', 'Mary', 8, 1905), (73118, 'AL', 'F', 'Mary', 12, 1906), (75562, 'AL', 'M', 'Mary', 194, 1906), (76751, 'AL', 'F', 'Mary', 6, 1907), (79401, 'AL', 'M', 'Mary', 11, 1907), (80699, 'AL', 'F', 'Mary', 28, 1908), (83368, 'AL', 'M', 'Mary', 8, 1908), (84717, 'AL', 'F', 'Mary', 15, 1909), (87512, 'AL', 'M', 'Mary', 7, 1909), (88944, 'AL', 'F', 'Mary', 28, 1910), (91971, 'AL', 'M', 'Mary', 10, 1910), (93573, 'AL', 'F', 'Mary', 17, 1911), (96702, 'AL', 'M', 'Mary', 5, 1911), (98440, 'AL', 'F', 'Mary', 14, 1912), (102234, 'AL', 'M', 'Mary', 23, 1912), (104791, 'AL', 'F', 'Mary', 99, 1913), (108872, 'AL', 'M', 'Mary', 5, 1913), (111758, 'AL', 'F', 'Mary', 10, 1914), (116386, 'AL', 'M', 'Mary', 33, 1914), (119721, 'AL', 'F', 'Mary', 15, 1915), (125118, 'AL', 'M', 'Mary', 6, 1915), (129079, 'AL', 'F', 'Mary', 6, 1916), (134677, 'AL', 'M', 'Mary', 10, 1916), (138775, 'AL', 'F', 'Mary', 8, 1917), (144535, 'AL', 'M', 'Mary', 23, 1917), (148690, 'AL', 'F', 'Mary', 5, 1918), (154732, 'AR', 'M', 'Mary', 5, 1918), (159090, 'AR', 'F', 'Mary', 9, 1919), (165132, 'AR', 'M', 'Mary', 20, 1919), (169460, 'AR', 'F', 'Mary', 16, 1920), (175655, 'AR', 'M', 'Mary', 9, 1920), (180216, 'AR', 'F', 'Mary', 35, 1921), (186536, 'AR', 'M', 'Mary', 49, 1921), (191072, 'AR', 'F', 'Mary', 40, 1922), (197310, 'AR', 'M', 'Mary', 9, 1922), (201829, 'AR', 'F', 'Mary', 7, 1923), (207991, 'AR', 'M', 'Mary', 16, 1923), (212472, 'AR', 'F', 'Mary', 73, 1924), (218783, 'AR', 'M', 'Mary', 15, 1924), (223339, 'AR', 'F', 'Mary', 6, 1925), (229479, 'AR', 'M', 'Mary', 9, 1925), (233981, 'AR', 'F', 'Mary', 7, 1926), (239954, 'AR', 'M', 'Mary', 11, 1926), (244442, 'AR', 'F', 'Mary', 36, 1927), (250393, 'AZ', 'M', 'Mary', 7, 1927), (254849, 'AZ', 'F', 'Mary', 66, 1928), (260613, 'AZ', 'M', 'Mary', 13, 1928), (265009, 'AZ', 'F', 'Mary', 11, 1929), (270587, 'AZ', 'M', 'Mary', 69, 1929), (274824, 'AZ', 'F', 'Mary', 5, 1930), (280379, 'AZ', 'M', 'Mary', 12, 1930), (284613, 'AZ', 'F', 'Mary', 32, 1931), (289894, 'AZ', 'M', 'Mary', 12, 1931), (293903, 'AZ', 'F', 'Mary', 5, 1932), (299307, 'AZ', 'M', 'Mary', 104, 1932), (303285, 'AZ', 'F', 'Mary', 5, 1933), (308440, 'AZ', 'M', 'Mary', 5, 1933), (312296, 'AZ', 'F', 'Mary', 11, 1934), (317580, 'AZ', 'M', 'Mary', 8, 1934), (321476, 'AZ', 'F', 'Mary', 17, 1935), (326693, 'AZ', 'M', 'Mary', 7, 1935), (330508, 'AZ', 'F', 'Mary', 7, 1936), (335676, 'AZ', 'M', 'Mary', 592, 1936), (339403, 'AZ', 'F', 'Mary', 9, 1937), (344649, 'AZ', 'M', 'Mary', 23, 1937), (348348, 'AZ', 'F', 'Mary', 25, 1938), (353672, 'AZ', 'M', 'Mary', 9, 1938), (357377, 'CA', 'F', 'Mary', 9, 1939), (362669, 'CA', 'M', 'Mary', 18, 1939), (366296, 'CA', 'F', 'Mary', 8, 1940), (371647, 'CA', 'M', 'Mary', 5, 1940), (375257, 'CA', 'F', 'Mary', 11, 1941), (380671, 'CA', 'M', 'Mary', 8, 1941), (384341, 'CA', 'F', 'Mary', 9, 1942), (390082, 'CA', 'M', 'Mary', 5, 1942), (393765, 'CA', 'F', 'Mary', 28, 1943), (399513, 'CA', 'M', 'Mary', 7, 1943), (403171, 'CA', 'F', 'Mary', 7, 1944), (408793, 'CA', 'M', 'Mary', 6, 1944), (412325, 'CA', 'F', 'Mary', 8, 1945), (417993, 'CA', 'M', 'Mary', 13, 1945), (421350, 'CA', 'F', 'Mary', 228, 1946), (427506, 'CA', 'M', 'Mary', 442, 1946), (431054, 'CA', 'F', 'Mary', 9, 1947), (437654, 'CA', 'M', 'Mary', 18, 1947), (441426, 'CA', 'F', 'Mary', 6, 1948), (447976, 'CA', 'M', 'Mary', 29, 1948), (451661, 'CA', 'F', 'Mary', 9, 1949), (458232, 'CA', 'M', 'Mary', 5, 1949), (461923, 'CA', 'F', 'Mary', 239, 1950), (468667, 'CA', 'M', 'Mary', 887, 1950), (472230, 'CA', 'F', 'Mary', 5, 1951), (478977, 'CA', 'M', 'Mary', 6, 1951), (482690, 'CA', 'F', 'Mary', 6, 1952), (489635, 'CA', 'M', 'Mary', 8, 1952), (493344, 'CA', 'F', 'Mary', 7, 1953), (500436, 'CA', 'M', 'Mary', 7, 1953), (504176, 'CA', 'F', 'Mary', 6, 1954), (511350, 'CA', 'M', 'Mary', 8, 1954), (515137, 'CA', 'F', 'Mary', 8, 1955), (522468, 'CA', 'M', 'Mary', 11, 1955), (526249, 'CA', 'F', 'Mary', 13, 1956), (533773, 'CA', 'M', 'Mary', 31, 1956), (537592, 'CA', 'F', 'Mary', 60, 1957), (545173, 'CA', 'M', 'Mary', 5, 1957), (549154, 'CA', 'F', 'Mary', 5, 1958), (556826, 'CA', 'M', 'Mary', 6, 1958), (560674, 'CA', 'F', 'Mary', 6, 1959), (568463, 'CA', 'M', 'Mary', 18, 1959), (572441, 'CA', 'F', 'Mary', 9, 1960), (580378, 'CA', 'M', 'Mary', 11, 1960), (584366, 'CA', 'F', 'Mary', 37, 1961), (592506, 'CA', 'M', 'Mary', 14, 1961), (596544, 'CA', 'F', 'Mary', 31, 1962), (604738, 'CA', 'M', 'Mary', 26, 1962), (608748, 'CA', 'F', 'Mary', 8, 1963), (617078, 'CA', 'M', 'Mary', 6, 1963), (621027, 'CA', 'F', 'Mary', 17, 1964), (629494, 'CA', 'M', 'Mary', 19, 1964), (633421, 'CA', 'F', 'Mary', 14, 1965), (641594, 'CA', 'M', 'Mary', 29, 1965), (645374, 'CA', 'F', 'Mary', 6, 1966), (653701, 'CA', 'M', 'Mary', 189, 1966), (657523, 'CA', 'F', 'Mary', 9, 1967), (666033, 'CA', 'M', 'Mary', 411, 1967), (669924, 'CA', 'F', 'Mary', 8, 1968), (678855, 'CA', 'M', 'Mary', 165, 1968), (682854, 'CA', 'F', 'Mary', 10, 1969), (692307, 'CA', 'M', 'Mary', 6, 1969), (696604, 'CA', 'F', 'Mary', 25, 1970), (706755, 'CA', 'M', 'Mary', 6, 1970), (711381, 'CO', 'F', 'Mary', 13, 1971), (721883, 'CO', 'M', 'Mary', 11, 1971), (726673, 'CO', 'F', 'Mary', 8, 1972), (737253, 'CO', 'M', 'Mary', 10, 1972), (742086, 'CO', 'F', 'Mary', 5, 1973), (752988, 'CO', 'M', 'Mary', 7, 1973), (757759, 'CO', 'F', 'Mary', 15, 1974), (769043, 'CO', 'M', 'Mary', 18, 1974), (774009, 'CO', 'F', 'Mary', 69, 1975), (785608, 'CO', 'M', 'Mary', 5, 1975), (790943, 'CO', 'F', 'Mary', 18, 1976), (802887, 'CO', 'M', 'Mary', 345, 1976), (808336, 'CO', 'F', 'Mary', 16, 1977), (820869, 'CT', 'M', 'Mary', 76, 1977), (826510, 'CT', 'F', 'Mary', 7, 1978), (839080, 'CT', 'M', 'Mary', 7, 1978), (844732, 'CT', 'F', 'Mary', 65, 1979), (857780, 'CT', 'M', 'Mary', 12, 1979), (863763, 'CT', 'F', 'Mary', 21, 1980), (877199, 'CT', 'M', 'Mary', 5, 1980), (883204, 'CT', 'F', 'Mary', 11, 1981), (896479, 'DC', 'M', 'Mary', 17, 1981), (902673, 'DC', 'F', 'Mary', 5, 1982), (916032, 'DC', 'M', 'Mary', 7, 1982), (922354, 'DC', 'F', 'Mary', 35, 1983), (935596, 'DC', 'M', 'Mary', 29, 1983), (941751, 'DE', 'F', 'Mary', 8, 1984), (955116, 'DE', 'M', 'Mary', 6, 1984), (961252, 'DE', 'F', 'Mary', 5, 1985), (974855, 'FL', 'M', 'Mary', 9, 1985), (981329, 'FL', 'F', 'Mary', 23, 1986), (995576, 'FL', 'M', 'Mary', 16, 1986), (1001969, 'FL', 'F', 'Mary', 11, 1987), (1016339, 'FL', 'M', 'Mary', 11, 1987), (1023361, 'FL', 'F', 'Mary', 10, 1988), (1038741, 'FL', 'M', 'Mary', 7, 1988), (1045723, 'FL', 'F', 'Mary', 15, 1989), (1061490, 'FL', 'M', 'Mary', 13, 1989), (1069487, 'FL', 'F', 'Mary', 6, 1990), (1086453, 'FL', 'M', 'Mary', 10, 1990), (1094203, 'FL', 'F', 'Mary', 12, 1991), (1111897, 'FL', 'M', 'Mary', 120, 1991), (1119305, 'FL', 'F', 'Mary', 29, 1992), (1137664, 'FL', 'M', 'Mary', 5, 1992), (1144722, 'FL', 'F', 'Mary', 6, 1993), (1164071, 'GA', 'M', 'Mary', 10, 1993), (1170679, 'GA', 'F', 'Mary', 44, 1994), (1192137, 'GA', 'M', 'Mary', 55, 1994), (1196679, 'GA', 'F', 'Mary', 5, 1995), (1217093, 'GA', 'M', 'Mary', 8, 1995), (1222763, 'GA', 'F', 'Mary', 14, 1996), (1242923, 'GA', 'M', 'Mary', 11, 1996), (1249184, 'GA', 'F', 'Mary', 48, 1997), (1270145, 'GA', 'M', 'Mary', 23, 1997), (1276148, 'GA', 'F', 'Mary', 7, 1998), (1297492, 'GA', 'M', 'Mary', 1583, 1998), (1304039, 'GA', 'F', 'Mary', 7, 1999), (1326836, 'GA', 'M', 'Mary', 5, 1999), (1332584, 'HI', 'F', 'Mary', 5, 2000), (1356836, 'HI', 'M', 'Mary', 12, 2000), (1362350, 'HI', 'F', 'Mary', 6, 2001), (1385826, 'IA', 'M', 'Mary', 12, 2001), (1392613, 'IA', 'F', 'Mary', 20, 2002), (1416584, 'IA', 'M', 'Mary', 22, 2002), (1423181, 'IA', 'F', 'Mary', 5, 2003), (1449163, 'IA', 'M', 'Mary', 37, 2003), (1454357, 'IA', 'F', 'Mary', 13, 2004), (1476302, 'ID', 'M', 'Mary', 20, 2004), (1486402, 'ID', 'F', 'Mary', 5, 2005), (1512973, 'ID', 'M', 'Mary', 5, 2005), (1518944, 'ID', 'F', 'Mary', 6, 2006), (1546706, 'IL', 'M', 'Mary', 448, 2006), (1553025, 'IL', 'F', 'Mary', 5, 2007), (1581442, 'IL', 'M', 'Mary', 5, 2007), (1587959, 'IL', 'F', 'Mary', 20, 2008), (1623010, 'IL', 'F', 'Mary', 7, 2009), (1657701, 'IL', 'F', 'Mary', 39, 2010), (1691745, 'IL', 'F', 'Mary', 463, 2011), (1725623, 'IL', 'F', 'Mary', 20, 2012), (1756676, 'IN', 'M', 'Mary', 108, 2012), (1759306, 'IN', 'F', 'Mary', 6, 2013), (1792509, 'IN', 'F', 'Mary', 9, 2014), (1824701, 'IN', 'M', 'Mary', 6, 2014)]\n",
            " Time for enqirey 1.404011\n"
          ]
        }
      ]
    },
    {
      "cell_type": "markdown",
      "metadata": {
        "id": "6dClZxXjYCyU"
      },
      "source": [
        "### <span style=\"color:red\"> Please answer only **one** of the following questions according to your ID number (use the formula **<YOUR_ID> mod 4 +1**) </span>"
      ]
    },
    {
      "cell_type": "code",
      "metadata": {
        "id": "iDpqwgwQYCyV",
        "colab": {
          "base_uri": "https://localhost:8080/"
        },
        "outputId": "48f404a4-5bdc-450c-e9e5-7ffedbc4d6e8"
      },
      "source": [
        "# which question to answer - put your ID number and run the code \n",
        "your_id  = \"032191025\"\n",
        "q = int(your_id) % 4 + 1\n",
        "print(\"You need to answer question number %s\" % q)"
      ],
      "execution_count": null,
      "outputs": [
        {
          "output_type": "stream",
          "name": "stdout",
          "text": [
            "You need to answer question number 2\n"
          ]
        }
      ]
    },
    {
      "cell_type": "markdown",
      "metadata": {
        "id": "bGU71KQ8YCyZ"
      },
      "source": [
        "***Question 1:*** Write a function that returns how many babies were born in a given state in a given year.\n",
        "Use it to calculate the number of babies born in TX in 1986 (10pt)\n",
        "\n"
      ]
    },
    {
      "cell_type": "code",
      "metadata": {
        "id": "0RB3GjaaYCya"
      },
      "source": [
        ""
      ],
      "execution_count": null,
      "outputs": []
    },
    {
      "cell_type": "markdown",
      "metadata": {
        "id": "510Wry5WYCye"
      },
      "source": [
        "***Question 2:*** Write a function that returns how many female babies were born between a given range of years.\n",
        "Use it to calculate how many babies were born between 1988 and 1995  (10pt)"
      ]
    },
    {
      "cell_type": "code",
      "metadata": {
        "id": "m5wOKWsBYCyf",
        "colab": {
          "base_uri": "https://localhost:8080/"
        },
        "outputId": "e140774a-325d-4552-b8d8-5d51c87bd1db"
      },
      "source": [
        "def female_between_years(start, finish):\n",
        "    c.execute(''' SELECT\n",
        "        SUM (Count)\n",
        "        FROM Names\n",
        "        WHERE Gender = 'F'  AND Year BETWEEN %d AND %d\n",
        "        '''\n",
        "        %(start,finish))\n",
        "    return  c.fetchall()\n",
        "print(female_between_years(1988, 1995))"
      ],
      "execution_count": null,
      "outputs": [
        {
          "output_type": "stream",
          "name": "stdout",
          "text": [
            "[(6184943,)]\n"
          ]
        }
      ]
    },
    {
      "cell_type": "markdown",
      "metadata": {
        "id": "x721dD1NYCyi"
      },
      "source": [
        "**Question 3:** Write a function that returns the most common female name in a given state. Use it to calculate the most common female name in Wasington in 1987 (10pt)"
      ]
    },
    {
      "cell_type": "code",
      "metadata": {
        "id": "h3t_ouDoYCyj"
      },
      "source": [
        ""
      ],
      "execution_count": null,
      "outputs": []
    },
    {
      "cell_type": "markdown",
      "metadata": {
        "id": "mRyUoBvhYCyl"
      },
      "source": [
        "**Question 4:** Write a function that returns how many male babies named _Robert where born in a given state in a given year. Use it to find the state in which the highest number of babies _Robert_ where born in 2010 (10pt)"
      ]
    },
    {
      "cell_type": "code",
      "metadata": {
        "id": "lz1q1mvPYCym"
      },
      "source": [
        ""
      ],
      "execution_count": null,
      "outputs": []
    },
    {
      "cell_type": "markdown",
      "metadata": {
        "id": "THz0vDHHYCyo"
      },
      "source": [
        "**Question (for everyone):** For the state of CA write code that calculates the second most popular female/male names in each decade (10pt). **Bonus**: Visualize it somehow using Matplotlib (5pt)"
      ]
    },
    {
      "cell_type": "code",
      "metadata": {
        "id": "dVRTQGOS_3G9",
        "colab": {
          "base_uri": "https://localhost:8080/",
          "height": 362
        },
        "outputId": "0a427ae2-683e-444b-d370-6f74dd9112b4"
      },
      "source": [
        "import numpy as np\n",
        "querystr ='''\n",
        "\n",
        "\n",
        "    DROP table if exists  name_count_query;\n",
        "\n",
        "    CREATE TABLE  if not exists name_count_query AS\n",
        "            SELECT Id,Name, Gender, (Year/10)*10 AS decade , SUM (Count) AS name_count\n",
        "                 FROM Names\n",
        "                 WHERE State = 'CA'\n",
        "\n",
        "                 GROUP BY Gender, Name, decade;\n",
        "\n",
        "\n",
        "\n",
        "    DROP table if exists  max_decade_values;\n",
        "\n",
        "    CREATE TABLE if not exists  max_decade_values AS\n",
        "    SELECT *, MAX(name_count) FROM name_count_query GROUP BY decade,Gender;\n",
        "\n",
        "    CREATE TABLE if not exists  second_max_ca AS\n",
        "    SELECT *, MAX(name_count) FROM (SELECT  *\n",
        "    FROM name_count_query\n",
        "    WHERE id not in (select id from max_decade_values)\n",
        "    )\n",
        "    GROUP BY decade,Gender;\n",
        "\n",
        "        '''\n",
        "c = conn.cursor()\n",
        "c.executescript(querystr)\n",
        "print('SECOND MOST POPULAR NAME OF A GENDER IN CA IN A DECADE')\n",
        "c.execute('''SELECT name, Gender, decade, name_count  FROM second_max_ca''')\n",
        "\n",
        "result = c.fetchall()\n",
        "\n",
        "result_np = np.array(result)\n",
        "male_map = result_np[:,1] == 'M'\n",
        "male_results = result_np[male_map,:]\n",
        "female_results=result_np[~male_map,:]\n",
        "columnIndex = 2\n",
        "# Sort 2D numpy array by 2nd Column\n",
        "male_results = male_results[male_results[:,columnIndex].argsort()]\n",
        "female_results = female_results[female_results[:,columnIndex].argsort()]\n",
        "plt.plot((male_results[:,2]).astype(int),(male_results[:,3].astype(int)), label = 'male')\n",
        "plt.plot((female_results[:,2]).astype(int),(female_results[:,3].astype(int)), label = 'female')\n",
        "plt.title('Maxium male/female name occurence by decate')\n",
        "plt.xlabel('decade')\n",
        "plt.ylabel('max count')\n",
        "plt.legend()\n",
        "plt.show()\n",
        "\n",
        "print (result)"
      ],
      "execution_count": null,
      "outputs": [
        {
          "output_type": "stream",
          "name": "stdout",
          "text": [
            "SECOND MOST POPULAR NAME OF A GENDER IN CA IN A DECADE\n"
          ]
        },
        {
          "output_type": "display_data",
          "data": {
            "image/png": "[encoded data removed]",
            "text/plain": [
              "<Figure size 432x288 with 1 Axes>"
            ]
          },
          "metadata": {
            "needs_background": "light"
          }
        },
        {
          "output_type": "stream",
          "name": "stdout",
          "text": [
            "[('Valene', 'F', 1930, 1732), ('Brady', 'M', 1930, 1890), ('Ola', 'F', 1940, 7612), ('Sharon', 'M', 1940, 6839), ('Michele', 'F', 1950, 7186), ('Therman', 'M', 1950, 6222), ('Rayma', 'F', 1960, 10933), ('Kennan', 'M', 1960, 9998), ('Lerae', 'F', 1970, 2971), ('Wendel', 'M', 1970, 2692)]\n"
          ]
        }
      ]
    },
    {
      "cell_type": "code",
      "metadata": {
        "pycharm": {
          "name": "#%%\n"
        },
        "id": "4PNbMLuh3M1n"
      },
      "source": [
        ""
      ],
      "execution_count": null,
      "outputs": []
    },
    {
      "cell_type": "markdown",
      "metadata": {
        "collapsed": false,
        "id": "d5xIwr5q3M1n"
      },
      "source": [
        "# 2. Flavors of Cacao Dataset (15pt)"
      ]
    },
    {
      "cell_type": "markdown",
      "metadata": {
        "id": "dTpNKH7UYCyq"
      },
      "source": [
        "Using the [Flavors of Cacao](https://www.kaggle.com/rombikuboktaeder/choco-flavors) dataset, answer the following questions:"
      ]
    },
    {
      "cell_type": "code",
      "metadata": {
        "id": "D5FWfEiaYCys",
        "colab": {
          "base_uri": "https://localhost:8080/"
        },
        "outputId": "6f5778dc-7569-4cdf-c7a9-8518069ffa1a"
      },
      "source": [
        "import pandas as pd\n",
        "import sqlalchemy\n",
        "# load the data into a Pandas DataFrame\n",
        "coco_df = pd.read_csv(my_path + 'flavors_of_cacao.csv')\n",
        "for col in coco_df.columns:\n",
        "    print(col)\n",
        "\n",
        "type = {'Company' : 'TEXT',\n",
        "        'Specific Bean Origin' : 'TEXT',\n",
        "        'REF': 'INTEGER',\n",
        "        'Review': 'INTEGER',\n",
        "        'CocoaPercen': 'REAL',\n",
        "        'Location':'TEXT',\n",
        "        'Rating':'REAL',\n",
        "        'Type':'TEXT',\n",
        "        'Broad':'TEXT'}\n",
        "# write the data to a sqlite table\n",
        "coco_df.to_sql('coco', conn,dtype=type, if_exists='replace', index = False)\n",
        "#con.commit()"
      ],
      "execution_count": null,
      "outputs": [
        {
          "output_type": "stream",
          "name": "stdout",
          "text": [
            "Company\n",
            "Specific Bean Origin\n",
            "REF\n",
            "Review\n",
            "CocoaPercent\n",
            "Location\n",
            "Rating\n",
            "Type\n",
            "Broad\n"
          ]
        },
        {
          "output_type": "stream",
          "name": "stderr",
          "text": [
            "/usr/local/lib/python3.7/dist-packages/pandas/core/generic.py:2615: UserWarning: The spaces in these column names will not be changed. In pandas versions < 0.14, spaces were converted to underscores.\n",
            "  method=method,\n"
          ]
        }
      ]
    },
    {
      "cell_type": "markdown",
      "metadata": {
        "collapsed": false,
        "id": "wWcGZUlE3M1o"
      },
      "source": [
        "**Question 1:** Write a function that returns the number of bars manufactured where the bars' BroadBean Origin is a given country. Use the function to calculate the number of bars where BroadBean Origin is 'Fiji' (15pt)"
      ]
    },
    {
      "cell_type": "markdown",
      "metadata": {
        "id": "9GCvKxWtYCyu"
      },
      "source": [
        "**Question 2:** Write a function that returns the maximal and average cocoa percentage in a bar manufactured by a company in a specific country. Use the function to calculate the minimal and average cocoa percentage in bars manufactured by a Swiss company (15pt)."
      ]
    },
    {
      "cell_type": "code",
      "metadata": {
        "id": "KZJXxtwWYCyv",
        "colab": {
          "base_uri": "https://localhost:8080/"
        },
        "outputId": "805cad2a-6704-48c1-8060-0b8ebb24a979"
      },
      "source": [
        "\n",
        "c = conn.cursor()\n",
        "def max_and_average_percent(data = ['A. Morin', 'France']):\n",
        "    c.execute('''Create  table if not exists mydata(\n",
        "            company_name TEXT,\n",
        "            company_location TEXT\n",
        "            )''')\n",
        "    c.execute('''INSERT INTO mydata\n",
        "                 (company_name, company_location)\n",
        "             VALUES\n",
        "                  (?, ?);''', data)\n",
        "    c.execute('''select avg(CocoaPercent), max(CocoaPercent)\n",
        "        From coco, mydata\n",
        "        WHERE Company = mydata.company_name and Location = mydata.company_location\n",
        "        GROUP BY Company''')\n",
        "\n",
        "    print('Average and max cocoa percentage')\n",
        "    #c.execute(querystr,data)\n",
        "\n",
        "    result = c.fetchall()\n",
        "    print(result)\n",
        "    c.execute('''drop table mydata;\n",
        "    ''')\n",
        "c.execute('''select company\n",
        "            From coco\n",
        "            where Location='Switzerland'; ''')\n",
        "companies = c.fetchall()\n",
        "for company in companies:\n",
        "    print('For company ' + company[0])\n",
        "    max_and_average_percent([company[0],'Switzerland'])"
      ],
      "execution_count": null,
      "outputs": [
        {
          "output_type": "stream",
          "name": "stdout",
          "text": [
            "For company Akesson's (Pralus)\n",
            "Average and max cocoa percentage\n",
            "[(75.0, '75%')]\n",
            "For company Akesson's (Pralus)\n",
            "Average and max cocoa percentage\n",
            "[(75.0, '75%')]\n",
            "For company Akesson's (Pralus)\n",
            "Average and max cocoa percentage\n",
            "[(75.0, '75%')]\n",
            "For company Beschle (Felchlin)\n",
            "Average and max cocoa percentage\n",
            "[(72.0, '88%')]\n",
            "For company Beschle (Felchlin)\n",
            "Average and max cocoa percentage\n",
            "[(72.0, '88%')]\n",
            "For company Beschle (Felchlin)\n",
            "Average and max cocoa percentage\n",
            "[(72.0, '88%')]\n",
            "For company Beschle (Felchlin)\n",
            "Average and max cocoa percentage\n",
            "[(72.0, '88%')]\n",
            "For company Beschle (Felchlin)\n",
            "Average and max cocoa percentage\n",
            "[(72.0, '88%')]\n",
            "For company Beschle (Felchlin)\n",
            "Average and max cocoa percentage\n",
            "[(72.0, '88%')]\n",
            "For company Beschle (Felchlin)\n",
            "Average and max cocoa percentage\n",
            "[(72.0, '88%')]\n",
            "For company Beschle (Felchlin)\n",
            "Average and max cocoa percentage\n",
            "[(72.0, '88%')]\n",
            "For company Felchlin\n",
            "Average and max cocoa percentage\n",
            "[(66.14285714285714, '74%')]\n",
            "For company Felchlin\n",
            "Average and max cocoa percentage\n",
            "[(66.14285714285714, '74%')]\n",
            "For company Felchlin\n",
            "Average and max cocoa percentage\n",
            "[(66.14285714285714, '74%')]\n",
            "For company Felchlin\n",
            "Average and max cocoa percentage\n",
            "[(66.14285714285714, '74%')]\n",
            "For company Felchlin\n",
            "Average and max cocoa percentage\n",
            "[(66.14285714285714, '74%')]\n",
            "For company Felchlin\n",
            "Average and max cocoa percentage\n",
            "[(66.14285714285714, '74%')]\n",
            "For company Felchlin\n",
            "Average and max cocoa percentage\n",
            "[(66.14285714285714, '74%')]\n",
            "For company Idilio (Felchlin)\n",
            "Average and max cocoa percentage\n",
            "[(72.0, '74%')]\n",
            "For company Idilio (Felchlin)\n",
            "Average and max cocoa percentage\n",
            "[(72.0, '74%')]\n",
            "For company Idilio (Felchlin)\n",
            "Average and max cocoa percentage\n",
            "[(72.0, '74%')]\n",
            "For company Idilio (Felchlin)\n",
            "Average and max cocoa percentage\n",
            "[(72.0, '74%')]\n",
            "For company Idilio (Felchlin)\n",
            "Average and max cocoa percentage\n",
            "[(72.0, '74%')]\n",
            "For company Idilio (Felchlin)\n",
            "Average and max cocoa percentage\n",
            "[(72.0, '74%')]\n",
            "For company Idilio (Felchlin)\n",
            "Average and max cocoa percentage\n",
            "[(72.0, '74%')]\n",
            "For company Idilio (Felchlin)\n",
            "Average and max cocoa percentage\n",
            "[(72.0, '74%')]\n",
            "For company Idilio (Felchlin)\n",
            "Average and max cocoa percentage\n",
            "[(72.0, '74%')]\n",
            "For company Idilio (Felchlin)\n",
            "Average and max cocoa percentage\n",
            "[(72.0, '74%')]\n",
            "For company Lindt & Sprungli\n",
            "Average and max cocoa percentage\n",
            "[(85.0, '85%')]\n",
            "For company Original Beans (Felchlin)\n",
            "Average and max cocoa percentage\n",
            "[(71.16666666666667, '80%')]\n",
            "For company Original Beans (Felchlin)\n",
            "Average and max cocoa percentage\n",
            "[(71.16666666666667, '80%')]\n",
            "For company Original Beans (Felchlin)\n",
            "Average and max cocoa percentage\n",
            "[(71.16666666666667, '80%')]\n",
            "For company Original Beans (Felchlin)\n",
            "Average and max cocoa percentage\n",
            "[(71.16666666666667, '80%')]\n",
            "For company Original Beans (Felchlin)\n",
            "Average and max cocoa percentage\n",
            "[(71.16666666666667, '80%')]\n",
            "For company Original Beans (Felchlin)\n",
            "Average and max cocoa percentage\n",
            "[(71.16666666666667, '80%')]\n",
            "For company Sprungli (Felchlin)\n",
            "Average and max cocoa percentage\n",
            "[(70.0, '70%')]\n",
            "For company Stella (aka Bernrain)\n",
            "Average and max cocoa percentage\n",
            "[(70.0, '72%')]\n",
            "For company Stella (aka Bernrain)\n",
            "Average and max cocoa percentage\n",
            "[(70.0, '72%')]\n"
          ]
        }
      ]
    },
    {
      "cell_type": "markdown",
      "metadata": {
        "id": "GlYqUA1xYCyx"
      },
      "source": [
        "**Question 3:** Calculate the second most common bean type(s) and the most rare bean type(s) (15\n",
        "pt)"
      ]
    },
    {
      "cell_type": "code",
      "metadata": {
        "id": "kk0qIAiwYCyx"
      },
      "source": [
        ""
      ],
      "execution_count": null,
      "outputs": []
    },
    {
      "cell_type": "markdown",
      "metadata": {
        "id": "aOg-NK_lYCyz"
      },
      "source": [
        "**Question 4:** Calculate the number of reviews and the average rating in each year. Calculate the number of reviews and the average rating of each company in each year (15pt)"
      ]
    },
    {
      "cell_type": "code",
      "metadata": {
        "id": "e8qwHAldYCy0"
      },
      "source": [
        ""
      ],
      "execution_count": null,
      "outputs": []
    },
    {
      "cell_type": "markdown",
      "metadata": {
        "id": "eKx7_9vyYCy1"
      },
      "source": [
        "# 3. Kickstarter Projects Dataset (25pt)"
      ]
    },
    {
      "cell_type": "code",
      "metadata": {
        "colab": {
          "base_uri": "https://localhost:8080/"
        },
        "id": "P3ukfjhk5o_i",
        "outputId": "9a06ccde-fed0-49cd-ba9c-2b5581eab38b"
      },
      "source": [
        "!kaggle datasets list -s Kickstarter"
      ],
      "execution_count": null,
      "outputs": [
        {
          "output_type": "stream",
          "name": "stdout",
          "text": [
            "Warning: Looks like you're using an outdated API Version, please consider updating (server 1.5.12 / client 1.5.4)\n",
            "ref                                                     title                                        size  lastUpdated          downloadCount  \n",
            "------------------------------------------------------  ------------------------------------------  -----  -------------------  -------------  \n",
            "kemical/kickstarter-projects                            Kickstarter Projects                         37MB  2018-02-08 09:02:30          57126  \n",
            "socathie/kickstarter-project-statistics                 Kickstarter Project Statistics                1MB  2019-11-14 06:38:31           6187  \n",
            "codename007/funding-successful-projects                 Funding Successful Projects on Kickstarter   20MB  2017-06-20 17:37:38           2997  \n",
            "yashkantharia/kickstarter-campaigns                     Kickstarter Campaigns                        12MB  2019-03-03 13:46:08           1162  \n",
            "oscarvilla/kickstarter-nlp                              kickstarter NLP                              11MB  2018-08-09 01:38:57            449  \n",
            "toshimelonhead/400000-kickstarter-projects              400,000 Kickstarter Projects                   0B  2019-07-23 01:23:31            339  \n",
            "wood2174/mapkickstarter                                 Kickstarter                                  18MB  2018-03-07 00:01:12            257  \n",
            "parienza/kickstarter                                    kickstarter                                   4MB  2017-12-27 02:42:30            272  \n",
            "yashkantharia/kickstarter-campaigns-dataset-20          Kickstarter Campaigns Dataset 2.0            30MB  2021-01-04 11:57:44            275  \n",
            "tonyplaysguitar/steam-spy-data-from-api-request         Kickstarter videogames released on Steam      1MB  2018-01-21 23:54:08            323  \n",
            "sripaadsrinivasan/kickstarter-campaigns-dataset         Kickstarter Campaigns dataset                34MB  2021-02-08 18:27:31            113  \n",
            "tayoaki/kickstarter-dataset                             Kickstarter dataset                           2MB  2018-05-09 00:49:56            407  \n",
            "markusschmitz/kickstarter                               kickstarter                                  21MB  2019-05-23 05:34:44             60  \n",
            "iamsajanbhagat/kickstarter                              Kickstarter                                  20MB  2018-01-22 06:31:09             96  \n",
            "uysalah/archived-kickstarter-projects                   Archived Kickstarter Projects                 1MB  2019-05-10 04:33:22            231  \n",
            "antonionoca/kickstarter2018nlp                          kickstarter-2018-nlp                         35MB  2019-04-23 22:02:34            299  \n",
            "ukveteran/kickstarter                                   Kickstarter                                  20MB  2020-01-03 20:27:30             32  \n",
            "cravingsformeow/kickstarter-us-2018-cleansed            Kickstarter US 2018 Cleansed                  5MB  2020-03-24 17:36:42             29  \n",
            "bob1235/10-000-kickstarter-projects-in-cat-video-games  Kickstarter Video Games                      18MB  2021-05-21 20:17:22              5  \n",
            "officerbribe/yks-six-pack                               YKS Six Pack                                219KB  2021-08-05 21:03:58            137  \n"
          ]
        }
      ]
    },
    {
      "cell_type": "code",
      "metadata": {
        "id": "Wor14ur56IfZ"
      },
      "source": [
        ""
      ],
      "execution_count": null,
      "outputs": []
    },
    {
      "cell_type": "code",
      "metadata": {
        "id": "9cDt1eFT5Djt",
        "colab": {
          "base_uri": "https://localhost:8080/"
        },
        "outputId": "21011957-9207-42af-dd55-1b112f310774"
      },
      "source": [
        "!kaggle datasets download kemical/kickstarter-projects -p /"
      ],
      "execution_count": null,
      "outputs": [
        {
          "output_type": "stream",
          "name": "stdout",
          "text": [
            "Downloading kickstarter-projects.zip to /\n",
            " 68% 25.0M/36.8M [00:00<00:00, 45.3MB/s]\n",
            "100% 36.8M/36.8M [00:00<00:00, 62.7MB/s]\n"
          ]
        }
      ]
    },
    {
      "cell_type": "markdown",
      "metadata": {
        "id": "5HXua9B5YCy2"
      },
      "source": [
        "Using the [Kickstarter Projects Dataset](https://www.kaggle.com/kemical/kickstarter-projects#ks-projects-201801.csv), answer the following questions:"
      ]
    },
    {
      "cell_type": "markdown",
      "metadata": {
        "id": "NGgJ1dyeZiFH"
      },
      "source": [
        "**Task 1 (for everyone):** Load the dataset to SQLite DB using [PonyORM](https://ponyorm.org) (10pt)"
      ]
    },
    {
      "cell_type": "code",
      "metadata": {
        "id": "TLhhxMDDb2nN",
        "colab": {
          "base_uri": "https://localhost:8080/"
        },
        "outputId": "cc5c4404-9f38-45c4-e0e8-35eb6aa3449e"
      },
      "source": [
        "!pip install pony"
      ],
      "execution_count": null,
      "outputs": [
        {
          "output_type": "stream",
          "name": "stdout",
          "text": [
            "Collecting pony\n",
            "  Downloading pony-0.7.14.tar.gz (290 kB)\n",
            "\u001b[?25l\r\u001b[K     |█▏                              | 10 kB 21.5 MB/s eta 0:00:01\r\u001b[K     |██▎                             | 20 kB 22.9 MB/s eta 0:00:01\r\u001b[K     |███▍                            | 30 kB 24.4 MB/s eta 0:00:01\r\u001b[K     |████▌                           | 40 kB 24.7 MB/s eta 0:00:01\r\u001b[K     |█████▋                          | 51 kB 24.5 MB/s eta 0:00:01\r\u001b[K     |██████▊                         | 61 kB 21.0 MB/s eta 0:00:01\r\u001b[K     |████████                        | 71 kB 21.0 MB/s eta 0:00:01\r\u001b[K     |█████████                       | 81 kB 22.7 MB/s eta 0:00:01\r\u001b[K     |██████████▏                     | 92 kB 24.0 MB/s eta 0:00:01\r\u001b[K     |███████████▎                    | 102 kB 25.8 MB/s eta 0:00:01\r\u001b[K     |████████████▍                   | 112 kB 25.8 MB/s eta 0:00:01\r\u001b[K     |█████████████▌                  | 122 kB 25.8 MB/s eta 0:00:01\r\u001b[K     |██████████████▋                 | 133 kB 25.8 MB/s eta 0:00:01\r\u001b[K     |███████████████▉                | 143 kB 25.8 MB/s eta 0:00:01\r\u001b[K     |█████████████████               | 153 kB 25.8 MB/s eta 0:00:01\r\u001b[K     |██████████████████              | 163 kB 25.8 MB/s eta 0:00:01\r\u001b[K     |███████████████████▏            | 174 kB 25.8 MB/s eta 0:00:01\r\u001b[K     |████████████████████▎           | 184 kB 25.8 MB/s eta 0:00:01\r\u001b[K     |█████████████████████▍          | 194 kB 25.8 MB/s eta 0:00:01\r\u001b[K     |██████████████████████▌         | 204 kB 25.8 MB/s eta 0:00:01\r\u001b[K     |███████████████████████▊        | 215 kB 25.8 MB/s eta 0:00:01\r\u001b[K     |████████████████████████▉       | 225 kB 25.8 MB/s eta 0:00:01\r\u001b[K     |██████████████████████████      | 235 kB 25.8 MB/s eta 0:00:01\r\u001b[K     |███████████████████████████     | 245 kB 25.8 MB/s eta 0:00:01\r\u001b[K     |████████████████████████████▏   | 256 kB 25.8 MB/s eta 0:00:01\r\u001b[K     |█████████████████████████████▎  | 266 kB 25.8 MB/s eta 0:00:01\r\u001b[K     |██████████████████████████████▌ | 276 kB 25.8 MB/s eta 0:00:01\r\u001b[K     |███████████████████████████████▋| 286 kB 25.8 MB/s eta 0:00:01\r\u001b[K     |████████████████████████████████| 290 kB 25.8 MB/s \n",
            "\u001b[?25hBuilding wheels for collected packages: pony\n",
            "  Building wheel for pony (setup.py) ... \u001b[?25l\u001b[?25hdone\n",
            "  Created wheel for pony: filename=pony-0.7.14-py3-none-any.whl size=351293 sha256=3e55d05be1c6fa9f7b026c7e5401a9dfe58d796c36a929760835d21e44cccccd\n",
            "  Stored in directory: /root/.cache/pip/wheels/de/7a/8b/82a3b5a0135fc6bad188f62e1bf6c4843142bc22c144879014\n",
            "Successfully built pony\n",
            "Installing collected packages: pony\n",
            "Successfully installed pony-0.7.14\n"
          ]
        }
      ]
    },
    {
      "cell_type": "markdown",
      "metadata": {
        "id": "W1K5VTLoYCy3"
      },
      "source": [
        "### <span style=\"color:red\"> Please answer only **one** of the following questions according to your ID number (use the formula **<YOUR_ID> mod 3 +1**) </span>"
      ]
    },
    {
      "cell_type": "code",
      "metadata": {
        "id": "vwlOZtVHYCy3"
      },
      "source": [
        "# which question to answer - put your ID number and run the code \n",
        "your_id  = \"032191025\"\n",
        "q = int(your_id) % 3 + 1\n",
        "print(\"You need to answer question number %s\" % q)"
      ],
      "execution_count": null,
      "outputs": []
    },
    {
      "cell_type": "markdown",
      "metadata": {
        "id": "gkVN8OnxYCy5"
      },
      "source": [
        "**Question 1:** On average which project category received the highest number of backers? (15 pt)"
      ]
    },
    {
      "cell_type": "code",
      "metadata": {
        "id": "vkhb156oYCy6"
      },
      "source": [
        ""
      ],
      "execution_count": null,
      "outputs": []
    },
    {
      "cell_type": "markdown",
      "metadata": {
        "id": "LTk5XnNGYCy7"
      },
      "source": [
        "**Question 2:** On average which project category received the highest pledged USD? (15 pt)"
      ]
    },
    {
      "cell_type": "code",
      "metadata": {
        "id": "DfiXdIneYCy8"
      },
      "source": [
        ""
      ],
      "execution_count": null,
      "outputs": []
    },
    {
      "cell_type": "markdown",
      "metadata": {
        "id": "wM5KvHE1YCy9"
      },
      "source": [
        "**Question 3:** In which month occurred the highest number of projects? (15 pt)"
      ]
    },
    {
      "cell_type": "code",
      "metadata": {
        "id": "5DTIStGMYCy-"
      },
      "source": [
        ""
      ],
      "execution_count": null,
      "outputs": []
    },
    {
      "cell_type": "markdown",
      "metadata": {
        "id": "ResaA3kxYCy_"
      },
      "source": [
        "## 4. Oscars Datasets (10pt)"
      ]
    },
    {
      "cell_type": "markdown",
      "metadata": {
        "id": "WYQasQOKYCzA"
      },
      "source": [
        "Using the [Oscars Dataset](https://www.kaggle.com/theacademy/academy-awards), please answer only one of the following questions (you can chose):"
      ]
    },
    {
      "cell_type": "markdown",
      "metadata": {
        "id": "QGDmLdbKYCzA"
      },
      "source": [
        "**Question 1:** Who is the male actress with the most Oscar nominees? (10pt)"
      ]
    },
    {
      "cell_type": "code",
      "metadata": {
        "id": "qipeHl6AYCzB"
      },
      "source": [
        ""
      ],
      "execution_count": null,
      "outputs": []
    },
    {
      "cell_type": "markdown",
      "metadata": {
        "id": "BR33wDkbYCzD"
      },
      "source": [
        "**Question 2:** Who is the female director with the most Oscar nominees? (10pt)"
      ]
    },
    {
      "cell_type": "code",
      "metadata": {
        "id": "2jm9HeghYCzD"
      },
      "source": [
        ""
      ],
      "execution_count": null,
      "outputs": []
    },
    {
      "cell_type": "markdown",
      "metadata": {
        "id": "Va320K09YCzE"
      },
      "source": [
        "**Question 3:** Which top-10 movies received the highest number of Oscar nominees? (10pt)"
      ]
    },
    {
      "cell_type": "code",
      "metadata": {
        "id": "k9gVwnHVYCzF"
      },
      "source": [
        ""
      ],
      "execution_count": null,
      "outputs": []
    },
    {
      "cell_type": "markdown",
      "metadata": {
        "id": "AF15wiyqYCzH"
      },
      "source": [
        "**Question 4:** Write a function that receives an actor's name and returns the actor’s number of Oscar nominees. Use the function to calculate the number of times Leonardo DiCaprio was a nominee (10pt)"
      ]
    },
    {
      "cell_type": "code",
      "metadata": {
        "id": "_ZdwQJCWYCzH"
      },
      "source": [
        ""
      ],
      "execution_count": null,
      "outputs": []
    },
    {
      "cell_type": "markdown",
      "metadata": {
        "id": "eW1N-PBiYCzJ"
      },
      "source": [
        "## 5. Select a Dataset (15pt)"
      ]
    },
    {
      "cell_type": "markdown",
      "metadata": {
        "id": "Me79ek_mYCzJ"
      },
      "source": [
        "**Open Question:** Select an interesting dataset and use SQL to discover something interesting (15pt). **Bonus:** Use BigQuery (2pt)"
      ]
    },
    {
      "cell_type": "code",
      "metadata": {
        "id": "xXIIUhgccGWw"
      },
      "source": [
        ""
      ],
      "execution_count": null,
      "outputs": []
    }
  ]
}