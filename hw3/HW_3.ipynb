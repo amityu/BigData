{
 "nbformat": 4,
 "nbformat_minor": 0,
 "metadata": {
  "kernelspec": {
   "display_name": "Python 3",
   "language": "python",
   "name": "python3"
  },
  "language_info": {
   "codemirror_mode": {
    "name": "ipython",
    "version": 3
   },
   "file_extension": ".py",
   "mimetype": "text/x-python",
   "name": "python",
   "nbconvert_exporter": "python",
   "pygments_lexer": "ipython3",
   "version": "3.6.7"
  },
  "colab": {
   "name": "HW 3.ipynb",
   "provenance": []
  }
 },
 "cells": [
  {
   "cell_type": "markdown",
   "metadata": {
    "id": "yEpzoJKH0P2W",
    "pycharm": {
     "name": "#%% md\n"
    }
   },
   "source": [
    "# Homework Assignment 3"
   ]
  },
  {
   "cell_type": "code",
   "execution_count": null,
   "outputs": [],
   "source": [
    "import pandas as pd\n",
    "!mkdir /root/.kaggle/\n",
    "!pip install kaggle\n",
    "import json\n",
    "\n",
    "#Important Note: complete this with your own key - after running this for the first time remmember to **remove** your API_KEY\n",
    "api_token = {\"username\":\"amyuval\",\"key\":\"1c309b85bf5a7e1c79a431e672976a28\"}\n",
    "\n",
    "# creating kaggle.json file with the personal API-Key details\n",
    "# You can also put this file on your Google Drive\n",
    "with open('/root/.kaggle/kaggle.json', 'w') as file:\n",
    "  json.dump(api_token, file)\n",
    "!chmod 600 ~/.kaggle/kaggle.json\n",
    "!ls"
   ],
   "metadata": {
    "collapsed": false,
    "pycharm": {
     "name": "#%%\n"
    }
   }
  },
  {
   "cell_type": "markdown",
   "metadata": {
    "id": "oH_ZGm7d0P2Z",
    "pycharm": {
     "name": "#%% md\n"
    }
   },
   "source": [
    "Using the [Seattle Library Collection Inventory Dataset](https://www.kaggle.com/city-of-seattle/seattle-library-collection-inventory#library-collection-inventory.csv) and TuriCreate please, answer the following questions:/city-of-seattle/seattle-library-collection-inventory"
   ]
  },
  {
   "cell_type": "code",
   "execution_count": 3,
   "outputs": [
    {
     "name": "stdout",
     "output_type": "stream",
     "text": [
      "mkdir: cannot create directory ‘./datasets’: File exists\r\n",
      "mkdir: cannot create directory ‘./datasets/libary’: File exists\r\n",
      "Downloading seattle-library-collection-inventory.zip to ./datasets/libary\r\n",
      "100%|█████████████████████████████████████▉| 3.77G/3.77G [03:53<00:00, 19.1MB/s]\r\n",
      "100%|██████████████████████████████████████| 3.77G/3.77G [03:53<00:00, 17.4MB/s]\r\n",
      "Archive:  ./datasets/libary/seattle-library-collection-inventory.zip\r\n",
      "  inflating: ./datasets/libary/CollectionInventory_Codes_EXCLUDED_INCLUDED.xlsx  \r\n",
      "  inflating: ./datasets/libary/Library Collection Inventory FAQs.pdf  \r\n",
      "  inflating: ./datasets/libary/library-collection-inventory.csv  \r\n",
      "  inflating: ./datasets/libary/socrata_metadata.json  \r\n"
     ]
    }
   ],
   "source": [
    "# Creating a dataset directory\n",
    "!mkdir ./datasets\n",
    "!mkdir ./datasets/libary\n",
    "\n",
    "# download the dataset from Kaggle and unzip it\n",
    "!kaggle datasets download city-of-seattle/seattle-library-collection-inventory -p ./datasets/libary\n",
    "\n",
    "!unzip  ./datasets/libary/* -d  ./datasets/libary"
   ],
   "metadata": {
    "collapsed": false,
    "pycharm": {
     "name": "#%%\n"
    }
   }
  },
  {
   "cell_type": "code",
   "metadata": {
    "id": "Ub2x4KPX0P2d",
    "pycharm": {
     "name": "#%%\n"
    }
   },
   "source": [
    "import turicreate as tc\n",
    "sf = tc.SFrame.read_csv('./datasets/libary/library-collection-inventory.csv')\n",
    "sf.show()"
   ],
   "execution_count": 1,
   "outputs": [
    {
     "data": {
      "text/plain": "Successfully parsed 10 tokens: \n\t0: 735439\n\t1: [\"Genealog ... t.\",,1947]\n\t2: \n\t3: Enloes family\n\t4: arbk\n\t5: caref\n\t6: \n\t7: cen\n\t8: 2017-09-01 ... :00:00.000\n\t9: 1",
      "text/html": "<pre>Successfully parsed 10 tokens: \n\t0: 735439\n\t1: [\"Genealog ... t.\",,1947]\n\t2: \n\t3: Enloes family\n\t4: arbk\n\t5: caref\n\t6: \n\t7: cen\n\t8: 2017-09-01 ... :00:00.000\n\t9: 1</pre>"
     },
     "metadata": {},
     "output_type": "display_data"
    },
    {
     "data": {
      "text/plain": "1 lines failed to parse correctly",
      "text/html": "<pre>1 lines failed to parse correctly</pre>"
     },
     "metadata": {},
     "output_type": "display_data"
    },
    {
     "data": {
      "text/plain": "Finished parsing file /home/amityu/code/BigData/hw3/datasets/libary/library-collection-inventory.csv",
      "text/html": "<pre>Finished parsing file /home/amityu/code/BigData/hw3/datasets/libary/library-collection-inventory.csv</pre>"
     },
     "metadata": {},
     "output_type": "display_data"
    },
    {
     "data": {
      "text/plain": "Parsing completed. Parsed 100 lines in 5.21035 secs.",
      "text/html": "<pre>Parsing completed. Parsed 100 lines in 5.21035 secs.</pre>"
     },
     "metadata": {},
     "output_type": "display_data"
    },
    {
     "name": "stdout",
     "output_type": "stream",
     "text": [
      "------------------------------------------------------\n",
      "Inferred types from first 100 line(s) of file as \n",
      "column_type_hints=[int,str,str,str,str,str,str,str,str,str,str,str,int]\n",
      "If parsing fails due to incorrect types, you can correct\n",
      "the inferred type list above and pass it to read_csv in\n",
      "the column_type_hints argument\n",
      "------------------------------------------------------\n"
     ]
    },
    {
     "data": {
      "text/plain": "Successfully parsed 10 tokens: \n\t0: 735439\n\t1: [Genealogy ... t.\",,1947]\n\t2: \n\t3: Enloes family\n\t4: arbk\n\t5: caref\n\t6: \n\t7: cen\n\t8: 2017-09-01 ... :00:00.000\n\t9: 1",
      "text/html": "<pre>Successfully parsed 10 tokens: \n\t0: 735439\n\t1: [Genealogy ... t.\",,1947]\n\t2: \n\t3: Enloes family\n\t4: arbk\n\t5: caref\n\t6: \n\t7: cen\n\t8: 2017-09-01 ... :00:00.000\n\t9: 1</pre>"
     },
     "metadata": {},
     "output_type": "display_data"
    },
    {
     "data": {
      "text/plain": "Read 158429 lines. Lines per second: 27413.4",
      "text/html": "<pre>Read 158429 lines. Lines per second: 27413.4</pre>"
     },
     "metadata": {},
     "output_type": "display_data"
    },
    {
     "data": {
      "text/plain": "Read 792246 lines. Lines per second: 65340.1",
      "text/html": "<pre>Read 792246 lines. Lines per second: 65340.1</pre>"
     },
     "metadata": {},
     "output_type": "display_data"
    },
    {
     "data": {
      "text/plain": "Successfully parsed 9 tokens: \n\t0: 362786\n\t1: [Records., ... l Society]\n\t2: Registers  ... astchester\n\t3: arbk\n\t4: caref\n\t5: \n\t6: cen\n\t7: 2017-09-01 ... :00:00.000\n\t8: 1",
      "text/html": "<pre>Successfully parsed 9 tokens: \n\t0: 362786\n\t1: [Records., ... l Society]\n\t2: Registers  ... astchester\n\t3: arbk\n\t4: caref\n\t5: \n\t6: cen\n\t7: 2017-09-01 ... :00:00.000\n\t8: 1</pre>"
     },
     "metadata": {},
     "output_type": "display_data"
    },
    {
     "data": {
      "text/plain": "Successfully parsed 10 tokens: \n\t0: 28078\n\t1: [Papers.,\" ... 9)\",,1969]\n\t2: \n\t3: Genealogy Congresses\n\t4: arbk\n\t5: caref\n\t6: \n\t7: cen\n\t8: 2017-09-01 ... :00:00.000\n\t9: 6",
      "text/html": "<pre>Successfully parsed 10 tokens: \n\t0: 28078\n\t1: [Papers.,\" ... 9)\",,1969]\n\t2: \n\t3: Genealogy Congresses\n\t4: arbk\n\t5: caref\n\t6: \n\t7: cen\n\t8: 2017-09-01 ... :00:00.000\n\t9: 6</pre>"
     },
     "metadata": {},
     "output_type": "display_data"
    },
    {
     "data": {
      "text/plain": "Read 1425551 lines. Lines per second: 76892.9",
      "text/html": "<pre>Read 1425551 lines. Lines per second: 76892.9</pre>"
     },
     "metadata": {},
     "output_type": "display_data"
    },
    {
     "data": {
      "text/plain": "Successfully parsed 9 tokens: \n\t0: 362786\n\t1: [Records., ... l Society]\n\t2: Registers  ... astchester\n\t3: arbk\n\t4: caref\n\t5: \n\t6: cen\n\t7: 2017-10-01 ... :00:00.000\n\t8: 1",
      "text/html": "<pre>Successfully parsed 9 tokens: \n\t0: 362786\n\t1: [Records., ... l Society]\n\t2: Registers  ... astchester\n\t3: arbk\n\t4: caref\n\t5: \n\t6: cen\n\t7: 2017-10-01 ... :00:00.000\n\t8: 1</pre>"
     },
     "metadata": {},
     "output_type": "display_data"
    },
    {
     "data": {
      "text/plain": "Read 2058239 lines. Lines per second: 87127.2",
      "text/html": "<pre>Read 2058239 lines. Lines per second: 87127.2</pre>"
     },
     "metadata": {},
     "output_type": "display_data"
    },
    {
     "data": {
      "text/plain": "Successfully parsed 10 tokens: \n\t0: 735439\n\t1: [Genealogy ... t.\",,1947]\n\t2: \n\t3: Enloes family\n\t4: arbk\n\t5: caref\n\t6: \n\t7: cen\n\t8: 2017-10-01 ... :00:00.000\n\t9: 1",
      "text/html": "<pre>Successfully parsed 10 tokens: \n\t0: 735439\n\t1: [Genealogy ... t.\",,1947]\n\t2: \n\t3: Enloes family\n\t4: arbk\n\t5: caref\n\t6: \n\t7: cen\n\t8: 2017-10-01 ... :00:00.000\n\t9: 1</pre>"
     },
     "metadata": {},
     "output_type": "display_data"
    },
    {
     "data": {
      "text/plain": "Successfully parsed 10 tokens: \n\t0: 28078\n\t1: [Papers.,\" ... 9)\",,1969]\n\t2: \n\t3: Genealogy Congresses\n\t4: arbk\n\t5: caref\n\t6: \n\t7: cen\n\t8: 2017-10-01 ... :00:00.000\n\t9: 6",
      "text/html": "<pre>Successfully parsed 10 tokens: \n\t0: 28078\n\t1: [Papers.,\" ... 9)\",,1969]\n\t2: \n\t3: Genealogy Congresses\n\t4: arbk\n\t5: caref\n\t6: \n\t7: cen\n\t8: 2017-10-01 ... :00:00.000\n\t9: 6</pre>"
     },
     "metadata": {},
     "output_type": "display_data"
    },
    {
     "data": {
      "text/plain": "Successfully parsed 10 tokens: \n\t0: 735439\n\t1: [Genealogy ... t.\",,1947]\n\t2: \n\t3: Enloes family\n\t4: arbk\n\t5: caref\n\t6: \n\t7: cen\n\t8: 2017-11-01 ... :00:00.000\n\t9: 1",
      "text/html": "<pre>Successfully parsed 10 tokens: \n\t0: 735439\n\t1: [Genealogy ... t.\",,1947]\n\t2: \n\t3: Enloes family\n\t4: arbk\n\t5: caref\n\t6: \n\t7: cen\n\t8: 2017-11-01 ... :00:00.000\n\t9: 1</pre>"
     },
     "metadata": {},
     "output_type": "display_data"
    },
    {
     "data": {
      "text/plain": "Successfully parsed 10 tokens: \n\t0: 28078\n\t1: [Papers.,\" ... 9)\",,1969]\n\t2: \n\t3: Genealogy Congresses\n\t4: arbk\n\t5: caref\n\t6: \n\t7: cen\n\t8: 2017-11-01 ... :00:00.000\n\t9: 6",
      "text/html": "<pre>Successfully parsed 10 tokens: \n\t0: 28078\n\t1: [Papers.,\" ... 9)\",,1969]\n\t2: \n\t3: Genealogy Congresses\n\t4: arbk\n\t5: caref\n\t6: \n\t7: cen\n\t8: 2017-11-01 ... :00:00.000\n\t9: 6</pre>"
     },
     "metadata": {},
     "output_type": "display_data"
    },
    {
     "data": {
      "text/plain": "Read 3007318 lines. Lines per second: 102984",
      "text/html": "<pre>Read 3007318 lines. Lines per second: 102984</pre>"
     },
     "metadata": {},
     "output_type": "display_data"
    },
    {
     "data": {
      "text/plain": "Successfully parsed 9 tokens: \n\t0: 362786\n\t1: [Records., ... l Society]\n\t2: Registers  ... astchester\n\t3: arbk\n\t4: caref\n\t5: \n\t6: cen\n\t7: 2017-11-01 ... :00:00.000\n\t8: 1",
      "text/html": "<pre>Successfully parsed 9 tokens: \n\t0: 362786\n\t1: [Records., ... l Society]\n\t2: Registers  ... astchester\n\t3: arbk\n\t4: caref\n\t5: \n\t6: cen\n\t7: 2017-11-01 ... :00:00.000\n\t8: 1</pre>"
     },
     "metadata": {},
     "output_type": "display_data"
    },
    {
     "data": {
      "text/plain": "Read 3955167 lines. Lines per second: 114632",
      "text/html": "<pre>Read 3955167 lines. Lines per second: 114632</pre>"
     },
     "metadata": {},
     "output_type": "display_data"
    },
    {
     "data": {
      "text/plain": "Read 4921517 lines. Lines per second: 123030",
      "text/html": "<pre>Read 4921517 lines. Lines per second: 123030</pre>"
     },
     "metadata": {},
     "output_type": "display_data"
    },
    {
     "data": {
      "text/plain": "Read 5727642 lines. Lines per second: 125910",
      "text/html": "<pre>Read 5727642 lines. Lines per second: 125910</pre>"
     },
     "metadata": {},
     "output_type": "display_data"
    },
    {
     "data": {
      "text/plain": "Read 6372050 lines. Lines per second: 123198",
      "text/html": "<pre>Read 6372050 lines. Lines per second: 123198</pre>"
     },
     "metadata": {},
     "output_type": "display_data"
    },
    {
     "data": {
      "text/plain": "Read 7015427 lines. Lines per second: 122876",
      "text/html": "<pre>Read 7015427 lines. Lines per second: 122876</pre>"
     },
     "metadata": {},
     "output_type": "display_data"
    },
    {
     "data": {
      "text/plain": "Read 7658012 lines. Lines per second: 121377",
      "text/html": "<pre>Read 7658012 lines. Lines per second: 121377</pre>"
     },
     "metadata": {},
     "output_type": "display_data"
    },
    {
     "data": {
      "text/plain": "Read 8300537 lines. Lines per second: 120511",
      "text/html": "<pre>Read 8300537 lines. Lines per second: 120511</pre>"
     },
     "metadata": {},
     "output_type": "display_data"
    },
    {
     "data": {
      "text/plain": "Read 8942541 lines. Lines per second: 119995",
      "text/html": "<pre>Read 8942541 lines. Lines per second: 119995</pre>"
     },
     "metadata": {},
     "output_type": "display_data"
    },
    {
     "data": {
      "text/plain": "Read 9584241 lines. Lines per second: 118507",
      "text/html": "<pre>Read 9584241 lines. Lines per second: 118507</pre>"
     },
     "metadata": {},
     "output_type": "display_data"
    },
    {
     "data": {
      "text/plain": "Read 10064697 lines. Lines per second: 116756",
      "text/html": "<pre>Read 10064697 lines. Lines per second: 116756</pre>"
     },
     "metadata": {},
     "output_type": "display_data"
    },
    {
     "data": {
      "text/plain": "Read 10706084 lines. Lines per second: 117331",
      "text/html": "<pre>Read 10706084 lines. Lines per second: 117331</pre>"
     },
     "metadata": {},
     "output_type": "display_data"
    },
    {
     "data": {
      "text/plain": "Read 11506803 lines. Lines per second: 118475",
      "text/html": "<pre>Read 11506803 lines. Lines per second: 118475</pre>"
     },
     "metadata": {},
     "output_type": "display_data"
    },
    {
     "data": {
      "text/plain": "Read 12146869 lines. Lines per second: 118366",
      "text/html": "<pre>Read 12146869 lines. Lines per second: 118366</pre>"
     },
     "metadata": {},
     "output_type": "display_data"
    },
    {
     "data": {
      "text/plain": "Read 12786183 lines. Lines per second: 117954",
      "text/html": "<pre>Read 12786183 lines. Lines per second: 117954</pre>"
     },
     "metadata": {},
     "output_type": "display_data"
    },
    {
     "data": {
      "text/plain": "Read 13425702 lines. Lines per second: 117158",
      "text/html": "<pre>Read 13425702 lines. Lines per second: 117158</pre>"
     },
     "metadata": {},
     "output_type": "display_data"
    },
    {
     "data": {
      "text/plain": "Read 14064281 lines. Lines per second: 116373",
      "text/html": "<pre>Read 14064281 lines. Lines per second: 116373</pre>"
     },
     "metadata": {},
     "output_type": "display_data"
    },
    {
     "data": {
      "text/plain": "Read 14703184 lines. Lines per second: 115711",
      "text/html": "<pre>Read 14703184 lines. Lines per second: 115711</pre>"
     },
     "metadata": {},
     "output_type": "display_data"
    },
    {
     "data": {
      "text/plain": "Read 15181421 lines. Lines per second: 114932",
      "text/html": "<pre>Read 15181421 lines. Lines per second: 114932</pre>"
     },
     "metadata": {},
     "output_type": "display_data"
    },
    {
     "data": {
      "text/plain": "Read 15819488 lines. Lines per second: 111929",
      "text/html": "<pre>Read 15819488 lines. Lines per second: 111929</pre>"
     },
     "metadata": {},
     "output_type": "display_data"
    },
    {
     "data": {
      "text/plain": "Read 16457329 lines. Lines per second: 111822",
      "text/html": "<pre>Read 16457329 lines. Lines per second: 111822</pre>"
     },
     "metadata": {},
     "output_type": "display_data"
    },
    {
     "data": {
      "text/plain": "Read 17096109 lines. Lines per second: 111655",
      "text/html": "<pre>Read 17096109 lines. Lines per second: 111655</pre>"
     },
     "metadata": {},
     "output_type": "display_data"
    },
    {
     "data": {
      "text/plain": "Read 17734642 lines. Lines per second: 111608",
      "text/html": "<pre>Read 17734642 lines. Lines per second: 111608</pre>"
     },
     "metadata": {},
     "output_type": "display_data"
    },
    {
     "data": {
      "text/plain": "Read 18372819 lines. Lines per second: 111763",
      "text/html": "<pre>Read 18372819 lines. Lines per second: 111763</pre>"
     },
     "metadata": {},
     "output_type": "display_data"
    },
    {
     "data": {
      "text/plain": "Read 19011182 lines. Lines per second: 111624",
      "text/html": "<pre>Read 19011182 lines. Lines per second: 111624</pre>"
     },
     "metadata": {},
     "output_type": "display_data"
    },
    {
     "data": {
      "text/plain": "Read 19648313 lines. Lines per second: 111579",
      "text/html": "<pre>Read 19648313 lines. Lines per second: 111579</pre>"
     },
     "metadata": {},
     "output_type": "display_data"
    },
    {
     "data": {
      "text/plain": "Read 20285070 lines. Lines per second: 111408",
      "text/html": "<pre>Read 20285070 lines. Lines per second: 111408</pre>"
     },
     "metadata": {},
     "output_type": "display_data"
    },
    {
     "data": {
      "text/plain": "Read 20920824 lines. Lines per second: 111385",
      "text/html": "<pre>Read 20920824 lines. Lines per second: 111385</pre>"
     },
     "metadata": {},
     "output_type": "display_data"
    },
    {
     "data": {
      "text/plain": "Read 21556704 lines. Lines per second: 111301",
      "text/html": "<pre>Read 21556704 lines. Lines per second: 111301</pre>"
     },
     "metadata": {},
     "output_type": "display_data"
    },
    {
     "data": {
      "text/plain": "Read 22191375 lines. Lines per second: 110834",
      "text/html": "<pre>Read 22191375 lines. Lines per second: 110834</pre>"
     },
     "metadata": {},
     "output_type": "display_data"
    },
    {
     "data": {
      "text/plain": "Read 22667980 lines. Lines per second: 110258",
      "text/html": "<pre>Read 22667980 lines. Lines per second: 110258</pre>"
     },
     "metadata": {},
     "output_type": "display_data"
    },
    {
     "data": {
      "text/plain": "Read 23144173 lines. Lines per second: 109944",
      "text/html": "<pre>Read 23144173 lines. Lines per second: 109944</pre>"
     },
     "metadata": {},
     "output_type": "display_data"
    },
    {
     "data": {
      "text/plain": "Read 23778409 lines. Lines per second: 109765",
      "text/html": "<pre>Read 23778409 lines. Lines per second: 109765</pre>"
     },
     "metadata": {},
     "output_type": "display_data"
    },
    {
     "data": {
      "text/plain": "Read 24253808 lines. Lines per second: 108383",
      "text/html": "<pre>Read 24253808 lines. Lines per second: 108383</pre>"
     },
     "metadata": {},
     "output_type": "display_data"
    },
    {
     "data": {
      "text/plain": "Read 24728974 lines. Lines per second: 107311",
      "text/html": "<pre>Read 24728974 lines. Lines per second: 107311</pre>"
     },
     "metadata": {},
     "output_type": "display_data"
    },
    {
     "data": {
      "text/plain": "Read 25203871 lines. Lines per second: 106808",
      "text/html": "<pre>Read 25203871 lines. Lines per second: 106808</pre>"
     },
     "metadata": {},
     "output_type": "display_data"
    },
    {
     "data": {
      "text/plain": "Read 25836643 lines. Lines per second: 106673",
      "text/html": "<pre>Read 25836643 lines. Lines per second: 106673</pre>"
     },
     "metadata": {},
     "output_type": "display_data"
    },
    {
     "data": {
      "text/plain": "Read 26627074 lines. Lines per second: 107230",
      "text/html": "<pre>Read 26627074 lines. Lines per second: 107230</pre>"
     },
     "metadata": {},
     "output_type": "display_data"
    },
    {
     "data": {
      "text/plain": "Read 27101342 lines. Lines per second: 106924",
      "text/html": "<pre>Read 27101342 lines. Lines per second: 106924</pre>"
     },
     "metadata": {},
     "output_type": "display_data"
    },
    {
     "data": {
      "text/plain": "Read 27733054 lines. Lines per second: 106854",
      "text/html": "<pre>Read 27733054 lines. Lines per second: 106854</pre>"
     },
     "metadata": {},
     "output_type": "display_data"
    },
    {
     "data": {
      "text/plain": "Read 28360239 lines. Lines per second: 106831",
      "text/html": "<pre>Read 28360239 lines. Lines per second: 106831</pre>"
     },
     "metadata": {},
     "output_type": "display_data"
    },
    {
     "data": {
      "text/plain": "Read 29134252 lines. Lines per second: 107692",
      "text/html": "<pre>Read 29134252 lines. Lines per second: 107692</pre>"
     },
     "metadata": {},
     "output_type": "display_data"
    },
    {
     "data": {
      "text/plain": "Successfully parsed 10 tokens: \n\t0: 332256\n\t1: [Souvenir  ... )\",,1930?]\n\t2: Lumbermen' ... rint. Co.,\n\t3: \n\t4: arbk\n\t5: casea\n\t6: \n\t7: cen\n\t8: 2019-07-01 ... :00:00.000\n\t9: 1",
      "text/html": "<pre>Successfully parsed 10 tokens: \n\t0: 332256\n\t1: [Souvenir  ... )\",,1930?]\n\t2: Lumbermen' ... rint. Co.,\n\t3: \n\t4: arbk\n\t5: casea\n\t6: \n\t7: cen\n\t8: 2019-07-01 ... :00:00.000\n\t9: 1</pre>"
     },
     "metadata": {},
     "output_type": "display_data"
    },
    {
     "data": {
      "text/plain": "Read 29908093 lines. Lines per second: 108497",
      "text/html": "<pre>Read 29908093 lines. Lines per second: 108497</pre>"
     },
     "metadata": {},
     "output_type": "display_data"
    },
    {
     "data": {
      "text/plain": "Read 30680053 lines. Lines per second: 109345",
      "text/html": "<pre>Read 30680053 lines. Lines per second: 109345</pre>"
     },
     "metadata": {},
     "output_type": "display_data"
    },
    {
     "data": {
      "text/plain": "Read 31453271 lines. Lines per second: 110115",
      "text/html": "<pre>Read 31453271 lines. Lines per second: 110115</pre>"
     },
     "metadata": {},
     "output_type": "display_data"
    },
    {
     "data": {
      "text/plain": "Read 32227265 lines. Lines per second: 110493",
      "text/html": "<pre>Read 32227265 lines. Lines per second: 110493</pre>"
     },
     "metadata": {},
     "output_type": "display_data"
    },
    {
     "data": {
      "text/plain": "Read 32845822 lines. Lines per second: 110629",
      "text/html": "<pre>Read 32845822 lines. Lines per second: 110629</pre>"
     },
     "metadata": {},
     "output_type": "display_data"
    },
    {
     "data": {
      "text/plain": "Read 33463300 lines. Lines per second: 110302",
      "text/html": "<pre>Read 33463300 lines. Lines per second: 110302</pre>"
     },
     "metadata": {},
     "output_type": "display_data"
    },
    {
     "data": {
      "text/plain": "Read 33926790 lines. Lines per second: 109748",
      "text/html": "<pre>Read 33926790 lines. Lines per second: 109748</pre>"
     },
     "metadata": {},
     "output_type": "display_data"
    },
    {
     "data": {
      "text/plain": "Read 34389968 lines. Lines per second: 109443",
      "text/html": "<pre>Read 34389968 lines. Lines per second: 109443</pre>"
     },
     "metadata": {},
     "output_type": "display_data"
    },
    {
     "data": {
      "text/plain": "Read 35007247 lines. Lines per second: 109214",
      "text/html": "<pre>Read 35007247 lines. Lines per second: 109214</pre>"
     },
     "metadata": {},
     "output_type": "display_data"
    },
    {
     "data": {
      "text/plain": "14 lines failed to parse correctly",
      "text/html": "<pre>14 lines failed to parse correctly</pre>"
     },
     "metadata": {},
     "output_type": "display_data"
    },
    {
     "data": {
      "text/plain": "Finished parsing file /home/amityu/code/BigData/hw3/datasets/libary/library-collection-inventory.csv",
      "text/html": "<pre>Finished parsing file /home/amityu/code/BigData/hw3/datasets/libary/library-collection-inventory.csv</pre>"
     },
     "metadata": {},
     "output_type": "display_data"
    },
    {
     "data": {
      "text/plain": "Parsing completed. Parsed 35531294 lines in 325.812 secs.",
      "text/html": "<pre>Parsing completed. Parsed 35531294 lines in 325.812 secs.</pre>"
     },
     "metadata": {},
     "output_type": "display_data"
    },
    {
     "data": {
      "text/plain": "Materializing SFrame",
      "text/html": "<pre>Materializing SFrame</pre>"
     },
     "metadata": {},
     "output_type": "display_data"
    },
    {
     "data": {
      "text/plain": "<IPython.core.display.HTML object>",
      "text/html": "<html>                 <body>                     <iframe style=\"border:0;margin:0\" width=\"1000\" height=\"4200\" srcdoc='<html lang=\"en\">                         <head>                             <script src=\"https://cdnjs.cloudflare.com/ajax/libs/vega/5.4.0/vega.js\"></script>                             <script src=\"https://cdnjs.cloudflare.com/ajax/libs/vega-embed/4.0.0/vega-embed.js\"></script>                             <script src=\"https://cdnjs.cloudflare.com/ajax/libs/vega-tooltip/0.5.1/vega-tooltip.min.js\"></script>                             <link rel=\"stylesheet\" type=\"text/css\" href=\"https://cdnjs.cloudflare.com/ajax/libs/vega-tooltip/0.5.1/vega-tooltip.min.css\">                             <style>                             .vega-actions > a{                                 color:white;                                 text-decoration: none;                                 font-family: \"Arial\";                                 cursor:pointer;                                 padding:5px;                                 background:#AAAAAA;                                 border-radius:4px;                                 padding-left:10px;                                 padding-right:10px;                                 margin-right:5px;                             }                             .vega-actions{                                 margin-top:20px;                                 text-align:center                             }                            .vega-actions > a{                                 background:#999999;                            }                             </style>                         </head>                         <body>                             <div id=\"vis\">                             </div>                             <script>                                 var vega_json = \"{\\\"$schema\\\": \\\"https://vega.github.io/schema/vega/v4.json\\\", \\\"metadata\\\": {\\\"bubbleOpts\\\": {\\\"showAllFields\\\": false, \\\"fields\\\": [{\\\"field\\\": \\\"left\\\"}, {\\\"field\\\": \\\"right\\\"}, {\\\"field\\\": \\\"count\\\"}, {\\\"field\\\": \\\"label\\\"}]}}, \\\"width\\\": 800, \\\"height\\\": 3980, \\\"padding\\\": 8, \\\"data\\\": [{\\\"name\\\": \\\"pts_store\\\"}, {\\\"name\\\": \\\"source_2\\\", \\\"values\\\": [{\\\"a\\\": 0, \\\"title\\\": \\\"BibNum\\\", \\\"num_row\\\": 35531294, \\\"type\\\": \\\"integer\\\", \\\"num_unique\\\": 788885, \\\"num_missing\\\": 0, \\\"mean\\\": 2545974.855721, \\\"min\\\": 4.0, \\\"max\\\": 3494654.0, \\\"median\\\": 2926505.0, \\\"stdev\\\": 958988.377336, \\\"numeric\\\": [{\\\"left\\\": -19175, \\\"right\\\": 157841, \\\"count\\\": 1045426}, {\\\"left\\\": 157841, \\\"right\\\": 334857, \\\"count\\\": 1234286}, {\\\"left\\\": 334857, \\\"right\\\": 511873, \\\"count\\\": 1205506}, {\\\"left\\\": 511873, \\\"right\\\": 688889, \\\"count\\\": 552230}, {\\\"left\\\": 688889, \\\"right\\\": 865905, \\\"count\\\": 476857}, {\\\"left\\\": 865905, \\\"right\\\": 1042921, \\\"count\\\": 64169}, {\\\"left\\\": 1042921, \\\"right\\\": 1219937, \\\"count\\\": 61733}, {\\\"left\\\": 1219937, \\\"right\\\": 1396953, \\\"count\\\": 509927}, {\\\"left\\\": 1396953, \\\"right\\\": 1573969, \\\"count\\\": 14892}, {\\\"left\\\": 1573969, \\\"right\\\": 1750985, \\\"count\\\": 566868}, {\\\"left\\\": 1750985, \\\"right\\\": 1928001, \\\"count\\\": 806397}, {\\\"left\\\": 1928001, \\\"right\\\": 2105017, \\\"count\\\": 903024}, {\\\"left\\\": 2105017, \\\"right\\\": 2282033, \\\"count\\\": 1113769}, {\\\"left\\\": 2282033, \\\"right\\\": 2459049, \\\"count\\\": 1406228}, {\\\"left\\\": 2459049, \\\"right\\\": 2636065, \\\"count\\\": 2232812}, {\\\"left\\\": 2636065, \\\"right\\\": 2813081, \\\"count\\\": 3315562}, {\\\"left\\\": 2813081, \\\"right\\\": 2990097, \\\"count\\\": 3823009}, {\\\"left\\\": 2990097, \\\"right\\\": 3167113, \\\"count\\\": 5604518}, {\\\"left\\\": 3167113, \\\"right\\\": 3344129, \\\"count\\\": 7504141}, {\\\"left\\\": 3344129, \\\"right\\\": 3521145, \\\"count\\\": 3089940}, {\\\"start\\\": -19175, \\\"stop\\\": 3521145, \\\"step\\\": 177016}], \\\"categorical\\\": []}, {\\\"a\\\": 1, \\\"title\\\": \\\"Title\\\", \\\"num_row\\\": 35531294, \\\"type\\\": \\\"str\\\", \\\"num_unique\\\": 877989, \\\"num_missing\\\": 0, \\\"categorical\\\": [{\\\"label\\\": \\\"\\\", \\\"label_idx\\\": 0, \\\"count\\\": 182651, \\\"percentage\\\": \\\"0.514057%\\\"}, {\\\"label\\\": \\\"Uncataloged Poster\\\", \\\"label_idx\\\": 1, \\\"count\\\": 3030, \\\"percentage\\\": \\\"0.00852769%\\\"}, {\\\"label\\\": \\\"Uncataloged Adult book\\\", \\\"label_idx\\\": 2, \\\"count\\\": 2876, \\\"percentage\\\": \\\"0.00809427%\\\"}, {\\\"label\\\": \\\"Sundry legislation affecting the Naval establishment, 1937 : hearings before the United States House Committee on Naval Affairs, Seventy-Fifth Congress, first session.\\\", \\\"label_idx\\\": 3, \\\"count\\\": 2698, \\\"percentage\\\": \\\"0.00759331%\\\"}, {\\\"label\\\": \\\"Report.\\\", \\\"label_idx\\\": 4, \\\"count\\\": 2434, \\\"percentage\\\": \\\"0.0068503%\\\"}, {\\\"label\\\": \\\"Annual report.\\\", \\\"label_idx\\\": 5, \\\"count\\\": 2422, \\\"percentage\\\": \\\"0.00681653%\\\"}, {\\\"label\\\": \\\"Uncataloged Adult non-fiction\\\", \\\"label_idx\\\": 6, \\\"count\\\": 2414, \\\"percentage\\\": \\\"0.00679401%\\\"}, {\\\"label\\\": \\\"Sundry legislation affecting the Naval establishment, 1935 : hearings before the United States House Committee on Naval Affairs, Seventy-Fourth Congress, first session.\\\", \\\"label_idx\\\": 7, \\\"count\\\": 2246, \\\"percentage\\\": \\\"0.00632119%\\\"}, {\\\"label\\\": \\\"Proceedings.\\\", \\\"label_idx\\\": 8, \\\"count\\\": 1920, \\\"percentage\\\": \\\"0.00540369%\\\"}, {\\\"label\\\": \\\"A wrinkle in time / Madeleine L&apos;Engle.\\\", \\\"label_idx\\\": 9, \\\"count\\\": 1723, \\\"percentage\\\": \\\"0.00484925%\\\"}, {\\\"label\\\": \\\"Other (877979 labels)\\\", \\\"label_idx\\\": 10, \\\"count\\\": 35326880, \\\"percentage\\\": \\\"99.4247%\\\"}], \\\"numeric\\\": []}, {\\\"a\\\": 2, \\\"title\\\": \\\"Author\\\", \\\"num_row\\\": 35531294, \\\"type\\\": \\\"str\\\", \\\"num_unique\\\": 283815, \\\"num_missing\\\": 0, \\\"categorical\\\": [{\\\"label\\\": \\\"\\\", \\\"label_idx\\\": 0, \\\"count\\\": 5527858, \\\"percentage\\\": \\\"15.5577%\\\"}, {\\\"label\\\": \\\"Patterson, James, 1947-\\\", \\\"label_idx\\\": 1, \\\"count\\\": 59823, \\\"percentage\\\": \\\"0.168367%\\\"}, {\\\"label\\\": \\\"Stilton, Geronimo\\\", \\\"label_idx\\\": 2, \\\"count\\\": 43064, \\\"percentage\\\": \\\"0.1212%\\\"}, {\\\"label\\\": \\\"Osborne, Mary Pope\\\", \\\"label_idx\\\": 3, \\\"count\\\": 41807, \\\"percentage\\\": \\\"0.117662%\\\"}, {\\\"label\\\": \\\"Seuss, Dr.\\\", \\\"label_idx\\\": 4, \\\"count\\\": 40011, \\\"percentage\\\": \\\"0.112608%\\\"}, {\\\"label\\\": \\\"Warner, Gertrude Chandler, 1890-1979\\\", \\\"label_idx\\\": 5, \\\"count\\\": 38072, \\\"percentage\\\": \\\"0.107151%\\\"}, {\\\"label\\\": \\\"Willems, Mo\\\", \\\"label_idx\\\": 6, \\\"count\\\": 35204, \\\"percentage\\\": \\\"0.0990789%\\\"}, {\\\"label\\\": \\\"Meadows, Daisy\\\", \\\"label_idx\\\": 7, \\\"count\\\": 32953, \\\"percentage\\\": \\\"0.0927436%\\\"}, {\\\"label\\\": \\\"Pilkey, Dav, 1966-\\\", \\\"label_idx\\\": 8, \\\"count\\\": 29263, \\\"percentage\\\": \\\"0.0823584%\\\"}, {\\\"label\\\": \\\"Adler, David A.\\\", \\\"label_idx\\\": 9, \\\"count\\\": 24510, \\\"percentage\\\": \\\"0.0689814%\\\"}, {\\\"label\\\": \\\"Other (283805 labels)\\\", \\\"label_idx\\\": 10, \\\"count\\\": 29658729, \\\"percentage\\\": \\\"83.4721%\\\"}], \\\"numeric\\\": []}, {\\\"a\\\": 3, \\\"title\\\": \\\"ISBN\\\", \\\"num_row\\\": 35531294, \\\"type\\\": \\\"str\\\", \\\"num_unique\\\": 477695, \\\"num_missing\\\": 0, \\\"categorical\\\": [{\\\"label\\\": \\\"\\\", \\\"label_idx\\\": 0, \\\"count\\\": 8067816, \\\"percentage\\\": \\\"22.7062%\\\"}, {\\\"label\\\": \\\"1631212583, 9781631212581\\\", \\\"label_idx\\\": 1, \\\"count\\\": 4271, \\\"percentage\\\": \\\"0.0120204%\\\"}, {\\\"label\\\": \\\"0062498533, 9780062498533\\\", \\\"label_idx\\\": 2, \\\"count\\\": 1190, \\\"percentage\\\": \\\"0.00334916%\\\"}, {\\\"label\\\": \\\"0714871419, 9780714871417\\\", \\\"label_idx\\\": 3, \\\"count\\\": 1140, \\\"percentage\\\": \\\"0.00320844%\\\"}, {\\\"label\\\": \\\"0374386137, 9780374386139\\\", \\\"label_idx\\\": 4, \\\"count\\\": 1136, \\\"percentage\\\": \\\"0.00319718%\\\"}, {\\\"label\\\": \\\"0316316121, 9780316316125\\\", \\\"label_idx\\\": 5, \\\"count\\\": 1094, \\\"percentage\\\": \\\"0.00307898%\\\"}, {\\\"label\\\": \\\"0375869026, 0375969020, 9780375869020, 9780375969027\\\", \\\"label_idx\\\": 6, \\\"count\\\": 1091, \\\"percentage\\\": \\\"0.00307053%\\\"}, {\\\"label\\\": \\\"1580056776, 9781580056779\\\", \\\"label_idx\\\": 7, \\\"count\\\": 1067, \\\"percentage\\\": \\\"0.00300299%\\\"}, {\\\"label\\\": \\\"0316547611, 9780316547611\\\", \\\"label_idx\\\": 8, \\\"count\\\": 1031, \\\"percentage\\\": \\\"0.00290167%\\\"}, {\\\"label\\\": \\\"1455563935, 9781455563937\\\", \\\"label_idx\\\": 9, \\\"count\\\": 996, \\\"percentage\\\": \\\"0.00280316%\\\"}, {\\\"label\\\": \\\"Other (477685 labels)\\\", \\\"label_idx\\\": 10, \\\"count\\\": 27450462, \\\"percentage\\\": \\\"77.2571%\\\"}], \\\"numeric\\\": []}, {\\\"a\\\": 4, \\\"title\\\": \\\"PublicationYear\\\", \\\"num_row\\\": 35531294, \\\"type\\\": \\\"str\\\", \\\"num_unique\\\": 20120, \\\"num_missing\\\": 0, \\\"categorical\\\": [{\\\"label\\\": \\\"[2017]\\\", \\\"label_idx\\\": 0, \\\"count\\\": 1996208, \\\"percentage\\\": \\\"5.61817%\\\"}, {\\\"label\\\": \\\"[2016]\\\", \\\"label_idx\\\": 1, \\\"count\\\": 1769213, \\\"percentage\\\": \\\"4.97931%\\\"}, {\\\"label\\\": \\\"2017.\\\", \\\"label_idx\\\": 2, \\\"count\\\": 1515269, \\\"percentage\\\": \\\"4.2646%\\\"}, {\\\"label\\\": \\\"2016.\\\", \\\"label_idx\\\": 3, \\\"count\\\": 1442364, \\\"percentage\\\": \\\"4.05942%\\\"}, {\\\"label\\\": \\\"[2015]\\\", \\\"label_idx\\\": 4, \\\"count\\\": 1436608, \\\"percentage\\\": \\\"4.04322%\\\"}, {\\\"label\\\": \\\"[2018]\\\", \\\"label_idx\\\": 5, \\\"count\\\": 1287382, \\\"percentage\\\": \\\"3.62323%\\\"}, {\\\"label\\\": \\\"2015.\\\", \\\"label_idx\\\": 6, \\\"count\\\": 1146483, \\\"percentage\\\": \\\"3.22669%\\\"}, {\\\"label\\\": \\\"[2014]\\\", \\\"label_idx\\\": 7, \\\"count\\\": 1128006, \\\"percentage\\\": \\\"3.17468%\\\"}, {\\\"label\\\": \\\"[2013]\\\", \\\"label_idx\\\": 8, \\\"count\\\": 958892, \\\"percentage\\\": \\\"2.69873%\\\"}, {\\\"label\\\": \\\"2018.\\\", \\\"label_idx\\\": 9, \\\"count\\\": 927557, \\\"percentage\\\": \\\"2.61054%\\\"}, {\\\"label\\\": \\\"Other (20110 labels)\\\", \\\"label_idx\\\": 10, \\\"count\\\": 21923312, \\\"percentage\\\": \\\"61.7014%\\\"}], \\\"numeric\\\": []}, {\\\"a\\\": 5, \\\"title\\\": \\\"Publisher\\\", \\\"num_row\\\": 35531294, \\\"type\\\": \\\"str\\\", \\\"num_unique\\\": 127443, \\\"num_missing\\\": 0, \\\"categorical\\\": [{\\\"label\\\": \\\"Random House,\\\", \\\"label_idx\\\": 0, \\\"count\\\": 468816, \\\"percentage\\\": \\\"1.31945%\\\"}, {\\\"label\\\": \\\"\\\", \\\"label_idx\\\": 1, \\\"count\\\": 286737, \\\"percentage\\\": \\\"0.806998%\\\"}, {\\\"label\\\": \\\"[publisher not identified],\\\", \\\"label_idx\\\": 2, \\\"count\\\": 278134, \\\"percentage\\\": \\\"0.782786%\\\"}, {\\\"label\\\": \\\"Candlewick Press,\\\", \\\"label_idx\\\": 3, \\\"count\\\": 277407, \\\"percentage\\\": \\\"0.78074%\\\"}, {\\\"label\\\": \\\"Alfred A. Knopf,\\\", \\\"label_idx\\\": 4, \\\"count\\\": 272321, \\\"percentage\\\": \\\"0.766426%\\\"}, {\\\"label\\\": \\\"Houghton Mifflin Harcourt,\\\", \\\"label_idx\\\": 5, \\\"count\\\": 254674, \\\"percentage\\\": \\\"0.71676%\\\"}, {\\\"label\\\": \\\"Thorndike Press,\\\", \\\"label_idx\\\": 6, \\\"count\\\": 250490, \\\"percentage\\\": \\\"0.704984%\\\"}, {\\\"label\\\": \\\"Little, Brown and Company,\\\", \\\"label_idx\\\": 7, \\\"count\\\": 224979, \\\"percentage\\\": \\\"0.633185%\\\"}, {\\\"label\\\": \\\"Simon &amp; Schuster,\\\", \\\"label_idx\\\": 8, \\\"count\\\": 199170, \\\"percentage\\\": \\\"0.560548%\\\"}, {\\\"label\\\": \\\"St. Martin&apos;s Press,\\\", \\\"label_idx\\\": 9, \\\"count\\\": 185353, \\\"percentage\\\": \\\"0.521661%\\\"}, {\\\"label\\\": \\\"Other (127433 labels)\\\", \\\"label_idx\\\": 10, \\\"count\\\": 32833213, \\\"percentage\\\": \\\"92.4065%\\\"}], \\\"numeric\\\": []}, {\\\"a\\\": 6, \\\"title\\\": \\\"Subjects\\\", \\\"num_row\\\": 35531294, \\\"type\\\": \\\"str\\\", \\\"num_unique\\\": 668735, \\\"num_missing\\\": 0, \\\"categorical\\\": [{\\\"label\\\": \\\"\\\", \\\"label_idx\\\": 0, \\\"count\\\": 840100, \\\"percentage\\\": \\\"2.36439%\\\"}, {\\\"label\\\": \\\"Rock music 2011 2020\\\", \\\"label_idx\\\": 1, \\\"count\\\": 113996, \\\"percentage\\\": \\\"0.320833%\\\"}, {\\\"label\\\": \\\"Rock music 2011 2020, Rock music\\\", \\\"label_idx\\\": 2, \\\"count\\\": 86351, \\\"percentage\\\": \\\"0.243028%\\\"}, {\\\"label\\\": \\\"Popular music 2011 2020\\\", \\\"label_idx\\\": 3, \\\"count\\\": 67272, \\\"percentage\\\": \\\"0.189332%\\\"}, {\\\"label\\\": \\\"Short stories\\\", \\\"label_idx\\\": 4, \\\"count\\\": 64649, \\\"percentage\\\": \\\"0.181949%\\\"}, {\\\"label\\\": \\\"Popular music 2011 2020, Popular music\\\", \\\"label_idx\\\": 5, \\\"count\\\": 54973, \\\"percentage\\\": \\\"0.154717%\\\"}, {\\\"label\\\": \\\"Popular music 2011 2020, Rock music 2011 2020\\\", \\\"label_idx\\\": 6, \\\"count\\\": 50933, \\\"percentage\\\": \\\"0.143347%\\\"}, {\\\"label\\\": \\\"Rock music 2001 2010\\\", \\\"label_idx\\\": 7, \\\"count\\\": 47306, \\\"percentage\\\": \\\"0.133139%\\\"}, {\\\"label\\\": \\\"Popular music 2011 2020, Rock music 2011 2020, Popular music, Rock music\\\", \\\"label_idx\\\": 8, \\\"count\\\": 36438, \\\"percentage\\\": \\\"0.102552%\\\"}, {\\\"label\\\": \\\"Childrens songs Juvenile sound recordings, Songs\\\", \\\"label_idx\\\": 9, \\\"count\\\": 33622, \\\"percentage\\\": \\\"0.0946264%\\\"}, {\\\"label\\\": \\\"Other (668725 labels)\\\", \\\"label_idx\\\": 10, \\\"count\\\": 34135654, \\\"percentage\\\": \\\"96.0721%\\\"}], \\\"numeric\\\": []}, {\\\"a\\\": 7, \\\"title\\\": \\\"ItemType\\\", \\\"num_row\\\": 35531294, \\\"type\\\": \\\"str\\\", \\\"num_unique\\\": 80, \\\"num_missing\\\": 0, \\\"categorical\\\": [{\\\"label\\\": \\\"acbk\\\", \\\"label_idx\\\": 0, \\\"count\\\": 17363567, \\\"percentage\\\": \\\"48.8684%\\\"}, {\\\"label\\\": \\\"jcbk\\\", \\\"label_idx\\\": 1, \\\"count\\\": 8660092, \\\"percentage\\\": \\\"24.3731%\\\"}, {\\\"label\\\": \\\"arbk\\\", \\\"label_idx\\\": 2, \\\"count\\\": 3052064, \\\"percentage\\\": \\\"8.58979%\\\"}, {\\\"label\\\": \\\"accd\\\", \\\"label_idx\\\": 3, \\\"count\\\": 2310740, \\\"percentage\\\": \\\"6.50339%\\\"}, {\\\"label\\\": \\\"acdvd\\\", \\\"label_idx\\\": 4, \\\"count\\\": 2225450, \\\"percentage\\\": \\\"6.26335%\\\"}, {\\\"label\\\": \\\"jcdvd\\\", \\\"label_idx\\\": 5, \\\"count\\\": 512779, \\\"percentage\\\": \\\"1.44318%\\\"}, {\\\"label\\\": \\\"Other (74 labels)\\\", \\\"label_idx\\\": 6, \\\"count\\\": 1406602, \\\"percentage\\\": \\\"3.95877%\\\"}], \\\"numeric\\\": []}, {\\\"a\\\": 8, \\\"title\\\": \\\"ItemCollection\\\", \\\"num_row\\\": 35531294, \\\"type\\\": \\\"str\\\", \\\"num_unique\\\": 302, \\\"num_missing\\\": 0, \\\"categorical\\\": [{\\\"label\\\": \\\"canf\\\", \\\"label_idx\\\": 0, \\\"count\\\": 4952616, \\\"percentage\\\": \\\"13.9387%\\\"}, {\\\"label\\\": \\\"nanf\\\", \\\"label_idx\\\": 1, \\\"count\\\": 4011052, \\\"percentage\\\": \\\"11.2888%\\\"}, {\\\"label\\\": \\\"ncpic\\\", \\\"label_idx\\\": 2, \\\"count\\\": 1927849, \\\"percentage\\\": \\\"5.42578%\\\"}, {\\\"label\\\": \\\"nafic\\\", \\\"label_idx\\\": 3, \\\"count\\\": 1743697, \\\"percentage\\\": \\\"4.9075%\\\"}, {\\\"label\\\": \\\"ncnf\\\", \\\"label_idx\\\": 4, \\\"count\\\": 1295108, \\\"percentage\\\": \\\"3.64498%\\\"}, {\\\"label\\\": \\\"nadvd\\\", \\\"label_idx\\\": 5, \\\"count\\\": 1139356, \\\"percentage\\\": \\\"3.20663%\\\"}, {\\\"label\\\": \\\"nacd\\\", \\\"label_idx\\\": 6, \\\"count\\\": 985548, \\\"percentage\\\": \\\"2.77375%\\\"}, {\\\"label\\\": \\\"caref\\\", \\\"label_idx\\\": 7, \\\"count\\\": 980088, \\\"percentage\\\": \\\"2.75838%\\\"}, {\\\"label\\\": \\\"ncfic\\\", \\\"label_idx\\\": 8, \\\"count\\\": 916884, \\\"percentage\\\": \\\"2.5805%\\\"}, {\\\"label\\\": \\\"cafic\\\", \\\"label_idx\\\": 9, \\\"count\\\": 746404, \\\"percentage\\\": \\\"2.10069%\\\"}, {\\\"label\\\": \\\"Other (292 labels)\\\", \\\"label_idx\\\": 10, \\\"count\\\": 16832692, \\\"percentage\\\": \\\"47.3743%\\\"}], \\\"numeric\\\": []}, {\\\"a\\\": 9, \\\"title\\\": \\\"FloatingItem\\\", \\\"num_row\\\": 35531294, \\\"type\\\": \\\"str\\\", \\\"num_unique\\\": 2, \\\"num_missing\\\": 30278862, \\\"categorical\\\": [{\\\"label\\\": \\\"(null)\\\", \\\"label_idx\\\": 0, \\\"count\\\": 30278862, \\\"percentage\\\": \\\"85.2174%\\\"}, {\\\"label\\\": \\\"Floating\\\", \\\"label_idx\\\": 1, \\\"count\\\": 5252432, \\\"percentage\\\": \\\"14.7826%\\\"}], \\\"numeric\\\": []}, {\\\"a\\\": 10, \\\"title\\\": \\\"ItemLocation\\\", \\\"num_row\\\": 35531294, \\\"type\\\": \\\"str\\\", \\\"num_unique\\\": 35, \\\"num_missing\\\": 0, \\\"categorical\\\": [{\\\"label\\\": \\\"cen\\\", \\\"label_idx\\\": 0, \\\"count\\\": 14838248, \\\"percentage\\\": \\\"41.7611%\\\"}, {\\\"label\\\": \\\"net\\\", \\\"label_idx\\\": 1, \\\"count\\\": 1597179, \\\"percentage\\\": \\\"4.49513%\\\"}, {\\\"label\\\": \\\"bal\\\", \\\"label_idx\\\": 2, \\\"count\\\": 1402430, \\\"percentage\\\": \\\"3.94703%\\\"}, {\\\"label\\\": \\\"gwd\\\", \\\"label_idx\\\": 3, \\\"count\\\": 1354858, \\\"percentage\\\": \\\"3.81314%\\\"}, {\\\"label\\\": \\\"swt\\\", \\\"label_idx\\\": 4, \\\"count\\\": 1290016, \\\"percentage\\\": \\\"3.63065%\\\"}, {\\\"label\\\": \\\"dth\\\", \\\"label_idx\\\": 5, \\\"count\\\": 1233212, \\\"percentage\\\": \\\"3.47078%\\\"}, {\\\"label\\\": \\\"lcy\\\", \\\"label_idx\\\": 6, \\\"count\\\": 1189762, \\\"percentage\\\": \\\"3.34849%\\\"}, {\\\"label\\\": \\\"bro\\\", \\\"label_idx\\\": 7, \\\"count\\\": 1121757, \\\"percentage\\\": \\\"3.1571%\\\"}, {\\\"label\\\": \\\"cap\\\", \\\"label_idx\\\": 8, \\\"count\\\": 947549, \\\"percentage\\\": \\\"2.6668%\\\"}, {\\\"label\\\": \\\"bea\\\", \\\"label_idx\\\": 9, \\\"count\\\": 936897, \\\"percentage\\\": \\\"2.63682%\\\"}, {\\\"label\\\": \\\"Other (25 labels)\\\", \\\"label_idx\\\": 10, \\\"count\\\": 9619386, \\\"percentage\\\": \\\"27.073%\\\"}], \\\"numeric\\\": []}, {\\\"a\\\": 11, \\\"title\\\": \\\"ReportDate\\\", \\\"num_row\\\": 35531294, \\\"type\\\": \\\"str\\\", \\\"num_unique\\\": 26, \\\"num_missing\\\": 0, \\\"categorical\\\": [{\\\"label\\\": \\\"2019-07-01T00:00:00.000\\\", \\\"label_idx\\\": 0, \\\"count\\\": 1486645, \\\"percentage\\\": \\\"4.18404%\\\"}, {\\\"label\\\": \\\"2019-11-01T00:00:00.000\\\", \\\"label_idx\\\": 1, \\\"count\\\": 1481457, \\\"percentage\\\": \\\"4.16944%\\\"}, {\\\"label\\\": \\\"2019-08-01T00:00:00.000\\\", \\\"label_idx\\\": 2, \\\"count\\\": 1478412, \\\"percentage\\\": \\\"4.16087%\\\"}, {\\\"label\\\": \\\"2019-10-01T00:00:00.000\\\", \\\"label_idx\\\": 3, \\\"count\\\": 1474539, \\\"percentage\\\": \\\"4.14997%\\\"}, {\\\"label\\\": \\\"2019-09-01T00:00:00.000\\\", \\\"label_idx\\\": 4, \\\"count\\\": 1468124, \\\"percentage\\\": \\\"4.13192%\\\"}, {\\\"label\\\": \\\"2018-04-01T00:00:00.000\\\", \\\"label_idx\\\": 5, \\\"count\\\": 1350510, \\\"percentage\\\": \\\"3.8009%\\\"}, {\\\"label\\\": \\\"2018-08-01T00:00:00.000\\\", \\\"label_idx\\\": 6, \\\"count\\\": 1349359, \\\"percentage\\\": \\\"3.79766%\\\"}, {\\\"label\\\": \\\"2018-03-01T00:00:00.000\\\", \\\"label_idx\\\": 7, \\\"count\\\": 1348504, \\\"percentage\\\": \\\"3.79526%\\\"}, {\\\"label\\\": \\\"2017-11-01T00:00:00.000\\\", \\\"label_idx\\\": 8, \\\"count\\\": 1346752, \\\"percentage\\\": \\\"3.79033%\\\"}, {\\\"label\\\": \\\"2018-05-01T00:00:00.000\\\", \\\"label_idx\\\": 9, \\\"count\\\": 1345588, \\\"percentage\\\": \\\"3.78705%\\\"}, {\\\"label\\\": \\\"Other (16 labels)\\\", \\\"label_idx\\\": 10, \\\"count\\\": 21401404, \\\"percentage\\\": \\\"60.2325%\\\"}], \\\"numeric\\\": []}, {\\\"a\\\": 12, \\\"title\\\": \\\"ItemCount\\\", \\\"num_row\\\": 35531294, \\\"type\\\": \\\"integer\\\", \\\"num_unique\\\": 302, \\\"num_missing\\\": 0, \\\"mean\\\": 1.228062, \\\"min\\\": 1.0, \\\"max\\\": 900.0, \\\"median\\\": 1.0, \\\"stdev\\\": 2.444172, \\\"numeric\\\": [{\\\"left\\\": -8, \\\"right\\\": 38, \\\"count\\\": 35515849}, {\\\"left\\\": 38, \\\"right\\\": 84, \\\"count\\\": 11222}, {\\\"left\\\": 84, \\\"right\\\": 130, \\\"count\\\": 2369}, {\\\"left\\\": 130, \\\"right\\\": 176, \\\"count\\\": 972}, {\\\"left\\\": 176, \\\"right\\\": 222, \\\"count\\\": 334}, {\\\"left\\\": 222, \\\"right\\\": 268, \\\"count\\\": 119}, {\\\"left\\\": 268, \\\"right\\\": 314, \\\"count\\\": 162}, {\\\"left\\\": 314, \\\"right\\\": 360, \\\"count\\\": 102}, {\\\"left\\\": 360, \\\"right\\\": 406, \\\"count\\\": 16}, {\\\"left\\\": 406, \\\"right\\\": 452, \\\"count\\\": 57}, {\\\"left\\\": 452, \\\"right\\\": 498, \\\"count\\\": 7}, {\\\"left\\\": 498, \\\"right\\\": 544, \\\"count\\\": 7}, {\\\"left\\\": 544, \\\"right\\\": 590, \\\"count\\\": 32}, {\\\"left\\\": 590, \\\"right\\\": 636, \\\"count\\\": 7}, {\\\"left\\\": 636, \\\"right\\\": 682, \\\"count\\\": 9}, {\\\"left\\\": 682, \\\"right\\\": 728, \\\"count\\\": 0}, {\\\"left\\\": 728, \\\"right\\\": 774, \\\"count\\\": 0}, {\\\"left\\\": 774, \\\"right\\\": 820, \\\"count\\\": 26}, {\\\"left\\\": 820, \\\"right\\\": 866, \\\"count\\\": 0}, {\\\"left\\\": 866, \\\"right\\\": 912, \\\"count\\\": 4}, {\\\"start\\\": -8, \\\"stop\\\": 912, \\\"step\\\": 46}], \\\"categorical\\\": []}]}, {\\\"name\\\": \\\"data_2\\\", \\\"source\\\": \\\"source_2\\\", \\\"transform\\\": [{\\\"type\\\": \\\"formula\\\", \\\"expr\\\": \\\"20\\\", \\\"as\\\": \\\"c_x_axis_back\\\"}, {\\\"type\\\": \\\"formula\\\", \\\"expr\\\": \\\"toNumber(datum[\\\\\\\"a\\\\\\\"])*300+66\\\", \\\"as\\\": \\\"c_main_background\\\"}, {\\\"type\\\": \\\"formula\\\", \\\"expr\\\": \\\"toNumber(datum[\\\\\\\"a\\\\\\\"])*300+43\\\", \\\"as\\\": \\\"c_top_bar\\\"}, {\\\"type\\\": \\\"formula\\\", \\\"expr\\\": \\\"toNumber(datum[\\\\\\\"a\\\\\\\"])*300+59\\\", \\\"as\\\": \\\"c_top_title\\\"}, {\\\"type\\\": \\\"formula\\\", \\\"expr\\\": \\\"toNumber(datum[\\\\\\\"a\\\\\\\"])*300+58\\\", \\\"as\\\": \\\"c_top_type\\\"}, {\\\"type\\\": \\\"formula\\\", \\\"expr\\\": \\\"toNumber(datum[\\\\\\\"a\\\\\\\"])*300+178\\\", \\\"as\\\": \\\"c_rule\\\"}, {\\\"type\\\": \\\"formula\\\", \\\"expr\\\": \\\"toNumber(datum[\\\\\\\"a\\\\\\\"])*300+106\\\", \\\"as\\\": \\\"c_num_rows\\\"}, {\\\"type\\\": \\\"formula\\\", \\\"expr\\\": \\\"toNumber(datum[\\\\\\\"a\\\\\\\"])*300+130\\\", \\\"as\\\": \\\"c_num_unique\\\"}, {\\\"type\\\": \\\"formula\\\", \\\"expr\\\": \\\"toNumber(datum[\\\\\\\"a\\\\\\\"])*300+154\\\", \\\"as\\\": \\\"c_missing\\\"}, {\\\"type\\\": \\\"formula\\\", \\\"expr\\\": \\\"toNumber(datum[\\\\\\\"a\\\\\\\"])*300+105\\\", \\\"as\\\": \\\"c_num_rows_val\\\"}, {\\\"type\\\": \\\"formula\\\", \\\"expr\\\": \\\"toNumber(datum[\\\\\\\"a\\\\\\\"])*300+130\\\", \\\"as\\\": \\\"c_num_unique_val\\\"}, {\\\"type\\\": \\\"formula\\\", \\\"expr\\\": \\\"toNumber(datum[\\\\\\\"a\\\\\\\"])*300+154\\\", \\\"as\\\": \\\"c_missing_val\\\"}, {\\\"type\\\": \\\"formula\\\", \\\"expr\\\": \\\"toNumber(datum[\\\\\\\"a\\\\\\\"])*300+195\\\", \\\"as\\\": \\\"c_frequent_items\\\"}, {\\\"type\\\": \\\"formula\\\", \\\"expr\\\": \\\"toNumber(datum[\\\\\\\"a\\\\\\\"])*300+218\\\", \\\"as\\\": \\\"c_first_item\\\"}, {\\\"type\\\": \\\"formula\\\", \\\"expr\\\": \\\"toNumber(datum[\\\\\\\"a\\\\\\\"])*300+235\\\", \\\"as\\\": \\\"c_second_item\\\"}, {\\\"type\\\": \\\"formula\\\", \\\"expr\\\": \\\"toNumber(datum[\\\\\\\"a\\\\\\\"])*300+252\\\", \\\"as\\\": \\\"c_third_item\\\"}, {\\\"type\\\": \\\"formula\\\", \\\"expr\\\": \\\"toNumber(datum[\\\\\\\"a\\\\\\\"])*300+269\\\", \\\"as\\\": \\\"c_fourth_item\\\"}, {\\\"type\\\": \\\"formula\\\", \\\"expr\\\": \\\"toNumber(datum[\\\\\\\"a\\\\\\\"])*300+286\\\", \\\"as\\\": \\\"c_fifth_item\\\"}, {\\\"type\\\": \\\"formula\\\", \\\"expr\\\": \\\"toNumber(datum[\\\\\\\"a\\\\\\\"])*300+200\\\", \\\"as\\\": \\\"c_mean\\\"}, {\\\"type\\\": \\\"formula\\\", \\\"expr\\\": \\\"toNumber(datum[\\\\\\\"a\\\\\\\"])*300+220\\\", \\\"as\\\": \\\"c_min\\\"}, {\\\"type\\\": \\\"formula\\\", \\\"expr\\\": \\\"toNumber(datum[\\\\\\\"a\\\\\\\"])*300+240\\\", \\\"as\\\": \\\"c_max\\\"}, {\\\"type\\\": \\\"formula\\\", \\\"expr\\\": \\\"toNumber(datum[\\\\\\\"a\\\\\\\"])*300+260\\\", \\\"as\\\": \\\"c_median\\\"}, {\\\"type\\\": \\\"formula\\\", \\\"expr\\\": \\\"toNumber(datum[\\\\\\\"a\\\\\\\"])*300+280\\\", \\\"as\\\": \\\"c_stdev\\\"}, {\\\"type\\\": \\\"formula\\\", \\\"expr\\\": \\\"toNumber(datum[\\\\\\\"a\\\\\\\"])*300+198\\\", \\\"as\\\": \\\"c_mean_val\\\"}, {\\\"type\\\": \\\"formula\\\", \\\"expr\\\": \\\"toNumber(datum[\\\\\\\"a\\\\\\\"])*300+218\\\", \\\"as\\\": \\\"c_min_val\\\"}, {\\\"type\\\": \\\"formula\\\", \\\"expr\\\": \\\"toNumber(datum[\\\\\\\"a\\\\\\\"])*300+238\\\", \\\"as\\\": \\\"c_max_val\\\"}, {\\\"type\\\": \\\"formula\\\", \\\"expr\\\": \\\"toNumber(datum[\\\\\\\"a\\\\\\\"])*300+258\\\", \\\"as\\\": \\\"c_median_val\\\"}, {\\\"type\\\": \\\"formula\\\", \\\"expr\\\": \\\"toNumber(datum[\\\\\\\"a\\\\\\\"])*300+278\\\", \\\"as\\\": \\\"c_stdev_val\\\"}, {\\\"type\\\": \\\"formula\\\", \\\"expr\\\": \\\"toNumber(datum[\\\\\\\"a\\\\\\\"])*300+106\\\", \\\"as\\\": \\\"graph_offset\\\"}, {\\\"type\\\": \\\"formula\\\", \\\"expr\\\": \\\"toNumber(datum[\\\\\\\"a\\\\\\\"])*300+132\\\", \\\"as\\\": \\\"graph_offset_categorical\\\"}, {\\\"type\\\": \\\"formula\\\", \\\"expr\\\": \\\"(toString(datum[\\\\\\\"type\\\\\\\"]) == \\\\\\\"integer\\\\\\\" || toString(datum[\\\\\\\"type\\\\\\\"]) == \\\\\\\"float\\\\\\\")?false:true\\\", \\\"as\\\": \\\"c_clip_val\\\"}, {\\\"type\\\": \\\"formula\\\", \\\"expr\\\": \\\"(toString(datum[\\\\\\\"type\\\\\\\"]) == \\\\\\\"integer\\\\\\\" || toString(datum[\\\\\\\"type\\\\\\\"]) == \\\\\\\"float\\\\\\\")?250:0\\\", \\\"as\\\": \\\"c_width_numeric_val\\\"}, {\\\"type\\\": \\\"formula\\\", \\\"expr\\\": \\\"(toString(datum[\\\\\\\"type\\\\\\\"]) == \\\\\\\"str\\\\\\\")?false:true\\\", \\\"as\\\": \\\"c_clip_val_cat\\\"}, {\\\"type\\\": \\\"formula\\\", \\\"expr\\\": \\\"(toString(datum[\\\\\\\"type\\\\\\\"]) == \\\\\\\"str\\\\\\\")?250:0\\\", \\\"as\\\": \\\"c_width_numeric_val_cat\\\"}]}], \\\"marks\\\": [{\\\"encode\\\": {\\\"enter\\\": {\\\"x\\\": {\\\"value\\\": 0}, \\\"width\\\": {\\\"value\\\": 734}, \\\"y\\\": {\\\"value\\\": 0}, \\\"height\\\": {\\\"value\\\": 366}, \\\"clip\\\": {\\\"value\\\": 0}, \\\"fill\\\": {\\\"value\\\": \\\"#ffffff\\\"}, \\\"fillOpacity\\\": {\\\"value\\\": 0}, \\\"stroke\\\": {\\\"value\\\": \\\"#000000\\\"}, \\\"strokeWidth\\\": {\\\"value\\\": 0}}}, \\\"marks\\\": [{\\\"encode\\\": {\\\"enter\\\": {\\\"x\\\": {\\\"value\\\": 0}, \\\"width\\\": {\\\"value\\\": 734}, \\\"y\\\": {\\\"value\\\": 0}, \\\"height\\\": {\\\"value\\\": 366}, \\\"clip\\\": {\\\"value\\\": 0}, \\\"fill\\\": {\\\"value\\\": \\\"#ffffff\\\"}, \\\"fillOpacity\\\": {\\\"value\\\": 0}, \\\"stroke\\\": {\\\"value\\\": \\\"#000000\\\"}, \\\"strokeWidth\\\": {\\\"value\\\": 0}}}, \\\"scales\\\": [], \\\"axes\\\": [], \\\"marks\\\": [{\\\"from\\\": {\\\"data\\\": \\\"data_2\\\"}, \\\"encode\\\": {\\\"enter\\\": {\\\"x\\\": {\\\"value\\\": 33}, \\\"width\\\": {\\\"value\\\": 700}, \\\"y\\\": {\\\"value\\\": 66}, \\\"height\\\": {\\\"value\\\": 250}, \\\"fill\\\": {\\\"value\\\": \\\"#FEFEFE\\\"}, \\\"fillOpacity\\\": {\\\"value\\\": 1}, \\\"stroke\\\": {\\\"value\\\": \\\"#DEDEDE\\\"}, \\\"strokeWidth\\\": {\\\"value\\\": 0.5}}, \\\"update\\\": {\\\"x\\\": {\\\"signal\\\": \\\"datum[\\\\\\\"c_x_axis_back\\\\\\\"]\\\"}, \\\"y\\\": {\\\"field\\\": \\\"c_main_background\\\"}}}, \\\"type\\\": \\\"rect\\\"}, {\\\"from\\\": {\\\"data\\\": \\\"data_2\\\"}, \\\"encode\\\": {\\\"enter\\\": {\\\"x\\\": {\\\"value\\\": 33}, \\\"width\\\": {\\\"value\\\": 700}, \\\"y\\\": {\\\"value\\\": 43}, \\\"height\\\": {\\\"value\\\": 30}, \\\"fill\\\": {\\\"value\\\": \\\"#F5F5F5\\\"}, \\\"fillOpacity\\\": {\\\"value\\\": 1}, \\\"stroke\\\": {\\\"value\\\": \\\"#DEDEDE\\\"}, \\\"strokeWidth\\\": {\\\"value\\\": 0.5}}, \\\"update\\\": {\\\"x\\\": {\\\"signal\\\": \\\"datum[\\\\\\\"c_x_axis_back\\\\\\\"]\\\"}, \\\"y\\\": {\\\"field\\\": \\\"c_top_bar\\\"}}}, \\\"type\\\": \\\"rect\\\"}, {\\\"from\\\": {\\\"data\\\": \\\"data_2\\\"}, \\\"encode\\\": {\\\"enter\\\": {\\\"x\\\": {\\\"value\\\": 720}, \\\"y\\\": {\\\"value\\\": 58}, \\\"text\\\": {\\\"signal\\\": \\\"&apos;&apos;+datum[\\\\\\\"type\\\\\\\"]\\\"}, \\\"align\\\": {\\\"value\\\": \\\"right\\\"}, \\\"baseline\\\": {\\\"value\\\": \\\"middle\\\"}, \\\"dx\\\": {\\\"value\\\": 0, \\\"offset\\\": 0}, \\\"dy\\\": {\\\"value\\\": 0, \\\"offset\\\": 0}, \\\"angle\\\": {\\\"value\\\": 0}, \\\"font\\\": {\\\"value\\\": \\\"AvenirNext-Medium\\\"}, \\\"fontSize\\\": {\\\"value\\\": 12}, \\\"fontWeight\\\": {\\\"value\\\": \\\"normal\\\"}, \\\"fontStyle\\\": {\\\"value\\\": \\\"normal\\\"}, \\\"fill\\\": {\\\"value\\\": \\\"#595859\\\"}}, \\\"update\\\": {\\\"x\\\": {\\\"signal\\\": \\\"datum[\\\\\\\"c_x_axis_back\\\\\\\"]+687\\\"}, \\\"y\\\": {\\\"field\\\": \\\"c_top_type\\\"}}}, \\\"type\\\": \\\"text\\\"}, {\\\"from\\\": {\\\"data\\\": \\\"data_2\\\"}, \\\"encode\\\": {\\\"enter\\\": {\\\"x\\\": {\\\"value\\\": 44}, \\\"y\\\": {\\\"value\\\": 59}, \\\"text\\\": {\\\"signal\\\": \\\"&apos;&apos;+datum[\\\\\\\"title\\\\\\\"]\\\"}, \\\"align\\\": {\\\"value\\\": \\\"left\\\"}, \\\"baseline\\\": {\\\"value\\\": \\\"middle\\\"}, \\\"dx\\\": {\\\"value\\\": 0, \\\"offset\\\": 0}, \\\"dy\\\": {\\\"value\\\": 0, \\\"offset\\\": 0}, \\\"angle\\\": {\\\"value\\\": 0}, \\\"font\\\": {\\\"value\\\": \\\"AvenirNext-Medium\\\"}, \\\"fontSize\\\": {\\\"value\\\": 15}, \\\"fontWeight\\\": {\\\"value\\\": \\\"normal\\\"}, \\\"fontStyle\\\": {\\\"value\\\": \\\"normal\\\"}, \\\"fill\\\": {\\\"value\\\": \\\"#9B9B9B\\\"}}, \\\"update\\\": {\\\"x\\\": {\\\"signal\\\": \\\"datum[\\\\\\\"c_x_axis_back\\\\\\\"]+11\\\"}, \\\"y\\\": {\\\"field\\\": \\\"c_top_title\\\"}}}, \\\"type\\\": \\\"text\\\"}, {\\\"from\\\": {\\\"data\\\": \\\"data_2\\\"}, \\\"encode\\\": {\\\"enter\\\": {\\\"x\\\": {\\\"value\\\": 500}, \\\"y\\\": {\\\"value\\\": 178}, \\\"stroke\\\": {\\\"value\\\": \\\"#EDEDEB\\\"}, \\\"strokeWidth\\\": {\\\"value\\\": 1}, \\\"strokeCap\\\": {\\\"value\\\": \\\"butt\\\"}, \\\"x2\\\": {\\\"value\\\": 720}, \\\"y2\\\": {\\\"value\\\": 178}}, \\\"update\\\": {\\\"x\\\": {\\\"signal\\\": \\\"datum[\\\\\\\"c_x_axis_back\\\\\\\"]+467\\\"}, \\\"x2\\\": {\\\"signal\\\": \\\"datum[\\\\\\\"c_x_axis_back\\\\\\\"]+687\\\"}, \\\"y\\\": {\\\"field\\\": \\\"c_rule\\\"}, \\\"y2\\\": {\\\"field\\\": \\\"c_rule\\\"}}}, \\\"type\\\": \\\"rule\\\"}, {\\\"from\\\": {\\\"data\\\": \\\"data_2\\\"}, \\\"encode\\\": {\\\"enter\\\": {\\\"x\\\": {\\\"value\\\": 500}, \\\"y\\\": {\\\"value\\\": 106}, \\\"text\\\": {\\\"value\\\": \\\"Num. Rows:\\\"}, \\\"align\\\": {\\\"value\\\": \\\"left\\\"}, \\\"baseline\\\": {\\\"value\\\": \\\"middle\\\"}, \\\"dx\\\": {\\\"value\\\": 0, \\\"offset\\\": 0}, \\\"dy\\\": {\\\"value\\\": 0, \\\"offset\\\": 0}, \\\"angle\\\": {\\\"value\\\": 0}, \\\"font\\\": {\\\"value\\\": \\\"AvenirNext-Medium\\\"}, \\\"fontSize\\\": {\\\"value\\\": 12}, \\\"fontWeight\\\": {\\\"value\\\": \\\"normal\\\"}, \\\"fontStyle\\\": {\\\"value\\\": \\\"normal\\\"}, \\\"fill\\\": {\\\"value\\\": \\\"#4A4A4A\\\"}}, \\\"update\\\": {\\\"x\\\": {\\\"signal\\\": \\\"datum[\\\\\\\"c_x_axis_back\\\\\\\"]+467\\\"}, \\\"y\\\": {\\\"field\\\": \\\"c_num_rows\\\"}}}, \\\"type\\\": \\\"text\\\"}, {\\\"from\\\": {\\\"data\\\": \\\"data_2\\\"}, \\\"encode\\\": {\\\"enter\\\": {\\\"x\\\": {\\\"value\\\": 500}, \\\"y\\\": {\\\"value\\\": 130}, \\\"text\\\": {\\\"value\\\": \\\"Num. Unique:\\\"}, \\\"align\\\": {\\\"value\\\": \\\"left\\\"}, \\\"baseline\\\": {\\\"value\\\": \\\"middle\\\"}, \\\"dx\\\": {\\\"value\\\": 0, \\\"offset\\\": 0}, \\\"dy\\\": {\\\"value\\\": 0, \\\"offset\\\": 0}, \\\"angle\\\": {\\\"value\\\": 0}, \\\"font\\\": {\\\"value\\\": \\\"AvenirNext-Medium\\\"}, \\\"fontSize\\\": {\\\"value\\\": 12}, \\\"fontWeight\\\": {\\\"value\\\": \\\"normal\\\"}, \\\"fontStyle\\\": {\\\"value\\\": \\\"normal\\\"}, \\\"fill\\\": {\\\"value\\\": \\\"#4A4A4A\\\"}}, \\\"update\\\": {\\\"x\\\": {\\\"signal\\\": \\\"datum[\\\\\\\"c_x_axis_back\\\\\\\"]+467\\\"}, \\\"y\\\": {\\\"field\\\": \\\"c_num_unique\\\"}}}, \\\"type\\\": \\\"text\\\"}, {\\\"from\\\": {\\\"data\\\": \\\"data_2\\\"}, \\\"encode\\\": {\\\"enter\\\": {\\\"x\\\": {\\\"value\\\": 500}, \\\"y\\\": {\\\"value\\\": 154}, \\\"text\\\": {\\\"value\\\": \\\"Missing:\\\"}, \\\"align\\\": {\\\"value\\\": \\\"left\\\"}, \\\"baseline\\\": {\\\"value\\\": \\\"middle\\\"}, \\\"dx\\\": {\\\"value\\\": 0, \\\"offset\\\": 0}, \\\"dy\\\": {\\\"value\\\": 0, \\\"offset\\\": 0}, \\\"angle\\\": {\\\"value\\\": 0}, \\\"font\\\": {\\\"value\\\": \\\"AvenirNext-Medium\\\"}, \\\"fontSize\\\": {\\\"value\\\": 12}, \\\"fontWeight\\\": {\\\"value\\\": \\\"normal\\\"}, \\\"fontStyle\\\": {\\\"value\\\": \\\"normal\\\"}, \\\"fill\\\": {\\\"value\\\": \\\"#4A4A4A\\\"}}, \\\"update\\\": {\\\"x\\\": {\\\"signal\\\": \\\"datum[\\\\\\\"c_x_axis_back\\\\\\\"]+467\\\"}, \\\"y\\\": {\\\"field\\\": \\\"c_missing\\\"}}}, \\\"type\\\": \\\"text\\\"}, {\\\"from\\\": {\\\"data\\\": \\\"data_2\\\"}, \\\"encode\\\": {\\\"enter\\\": {\\\"x\\\": {\\\"value\\\": 700}, \\\"y\\\": {\\\"value\\\": 105}, \\\"text\\\": {\\\"signal\\\": \\\"toString(format(datum[\\\\\\\"num_row\\\\\\\"], \\\\\\\",\\\\\\\"))\\\"}, \\\"align\\\": {\\\"value\\\": \\\"right\\\"}, \\\"baseline\\\": {\\\"value\\\": \\\"middle\\\"}, \\\"dx\\\": {\\\"value\\\": 0, \\\"offset\\\": 0}, \\\"dy\\\": {\\\"value\\\": 0, \\\"offset\\\": 0}, \\\"angle\\\": {\\\"value\\\": 0}, \\\"font\\\": {\\\"value\\\": \\\"AvenirNext-Medium\\\"}, \\\"fontSize\\\": {\\\"value\\\": 12}, \\\"fontWeight\\\": {\\\"value\\\": \\\"normal\\\"}, \\\"fontStyle\\\": {\\\"value\\\": \\\"normal\\\"}, \\\"fill\\\": {\\\"value\\\": \\\"#5A5A5A\\\"}}, \\\"update\\\": {\\\"x\\\": {\\\"signal\\\": \\\"datum[\\\\\\\"c_x_axis_back\\\\\\\"]+667\\\"}, \\\"y\\\": {\\\"field\\\": \\\"c_num_rows_val\\\"}}}, \\\"type\\\": \\\"text\\\"}, {\\\"from\\\": {\\\"data\\\": \\\"data_2\\\"}, \\\"encode\\\": {\\\"enter\\\": {\\\"x\\\": {\\\"value\\\": 700}, \\\"y\\\": {\\\"value\\\": 130}, \\\"text\\\": {\\\"signal\\\": \\\"toString(format(datum[\\\\\\\"num_unique\\\\\\\"], \\\\\\\",\\\\\\\"))\\\"}, \\\"align\\\": {\\\"value\\\": \\\"right\\\"}, \\\"baseline\\\": {\\\"value\\\": \\\"middle\\\"}, \\\"dx\\\": {\\\"value\\\": 0, \\\"offset\\\": 0}, \\\"dy\\\": {\\\"value\\\": 0, \\\"offset\\\": 0}, \\\"angle\\\": {\\\"value\\\": 0}, \\\"font\\\": {\\\"value\\\": \\\"AvenirNext-Medium\\\"}, \\\"fontSize\\\": {\\\"value\\\": 12}, \\\"fontWeight\\\": {\\\"value\\\": \\\"normal\\\"}, \\\"fontStyle\\\": {\\\"value\\\": \\\"normal\\\"}, \\\"fill\\\": {\\\"value\\\": \\\"#5A5A5A\\\"}}, \\\"update\\\": {\\\"x\\\": {\\\"signal\\\": \\\"datum[\\\\\\\"c_x_axis_back\\\\\\\"]+667\\\"}, \\\"y\\\": {\\\"field\\\": \\\"c_num_unique_val\\\"}}}, \\\"type\\\": \\\"text\\\"}, {\\\"from\\\": {\\\"data\\\": \\\"data_2\\\"}, \\\"encode\\\": {\\\"enter\\\": {\\\"x\\\": {\\\"value\\\": 700}, \\\"y\\\": {\\\"value\\\": 154}, \\\"text\\\": {\\\"signal\\\": \\\"toString(format(datum[\\\\\\\"num_missing\\\\\\\"], \\\\\\\",\\\\\\\"))\\\"}, \\\"align\\\": {\\\"value\\\": \\\"right\\\"}, \\\"baseline\\\": {\\\"value\\\": \\\"middle\\\"}, \\\"dx\\\": {\\\"value\\\": 0, \\\"offset\\\": 0}, \\\"dy\\\": {\\\"value\\\": 0, \\\"offset\\\": 0}, \\\"angle\\\": {\\\"value\\\": 0}, \\\"font\\\": {\\\"value\\\": \\\"AvenirNext-Medium\\\"}, \\\"fontSize\\\": {\\\"value\\\": 12}, \\\"fontWeight\\\": {\\\"value\\\": \\\"normal\\\"}, \\\"fontStyle\\\": {\\\"value\\\": \\\"normal\\\"}, \\\"fill\\\": {\\\"value\\\": \\\"#5A5A5A\\\"}}, \\\"update\\\": {\\\"x\\\": {\\\"signal\\\": \\\"datum[\\\\\\\"c_x_axis_back\\\\\\\"]+667\\\"}, \\\"y\\\": {\\\"field\\\": \\\"c_missing_val\\\"}}}, \\\"type\\\": \\\"text\\\"}, {\\\"from\\\": {\\\"data\\\": \\\"data_2\\\"}, \\\"encode\\\": {\\\"enter\\\": {\\\"x\\\": {\\\"value\\\": 500}, \\\"y\\\": {\\\"value\\\": 200}, \\\"text\\\": {\\\"signal\\\": \\\"(toString(datum[\\\\\\\"type\\\\\\\"]) == \\\\\\\"str\\\\\\\")? \\\\\\\"Frequent Items\\\\\\\":\\\\\\\"\\\\\\\"\\\"}, \\\"align\\\": {\\\"value\\\": \\\"left\\\"}, \\\"baseline\\\": {\\\"value\\\": \\\"middle\\\"}, \\\"dx\\\": {\\\"value\\\": 0, \\\"offset\\\": 0}, \\\"dy\\\": {\\\"value\\\": 0, \\\"offset\\\": 0}, \\\"angle\\\": {\\\"value\\\": 0}, \\\"clip\\\": {\\\"value\\\": true}, \\\"font\\\": {\\\"value\\\": \\\"AvenirNext-Medium\\\"}, \\\"fontSize\\\": {\\\"value\\\": 11}, \\\"fontWeight\\\": {\\\"value\\\": \\\"bold\\\"}, \\\"fontStyle\\\": {\\\"value\\\": \\\"normal\\\"}, \\\"fill\\\": {\\\"value\\\": \\\"#4A4A4A\\\"}}, \\\"update\\\": {\\\"x\\\": {\\\"signal\\\": \\\"datum[\\\\\\\"c_x_axis_back\\\\\\\"]+467\\\"}, \\\"y\\\": {\\\"field\\\": \\\"c_frequent_items\\\"}}}, \\\"type\\\": \\\"text\\\"}, {\\\"from\\\": {\\\"data\\\": \\\"data_2\\\"}, \\\"encode\\\": {\\\"enter\\\": {\\\"x\\\": {\\\"value\\\": 520}, \\\"y\\\": {\\\"value\\\": 200}, \\\"text\\\": {\\\"signal\\\": \\\"((datum[\\\\\\\"categorical\\\\\\\"].length >= 1) &amp;&amp; (toString(datum[\\\\\\\"type\\\\\\\"]) == \\\\\\\"str\\\\\\\"))? toString(datum[\\\\\\\"categorical\\\\\\\"][0][\\\\\\\"label\\\\\\\"]):\\\\\\\"\\\\\\\"\\\"}, \\\"align\\\": {\\\"value\\\": \\\"left\\\"}, \\\"baseline\\\": {\\\"value\\\": \\\"middle\\\"}, \\\"dx\\\": {\\\"value\\\": 0, \\\"offset\\\": 0}, \\\"dy\\\": {\\\"value\\\": 0, \\\"offset\\\": 0}, \\\"angle\\\": {\\\"value\\\": 0}, \\\"clip\\\": {\\\"value\\\": true}, \\\"font\\\": {\\\"value\\\": \\\"AvenirNext-Medium\\\"}, \\\"fontSize\\\": {\\\"value\\\": 11}, \\\"fontWeight\\\": {\\\"value\\\": \\\"normal\\\"}, \\\"fontStyle\\\": {\\\"value\\\": \\\"normal\\\"}, \\\"fill\\\": {\\\"value\\\": \\\"#4A4A4A\\\"}}, \\\"update\\\": {\\\"x\\\": {\\\"signal\\\": \\\"datum[\\\\\\\"c_x_axis_back\\\\\\\"]+487\\\"}, \\\"y\\\": {\\\"field\\\": \\\"c_first_item\\\"}}}, \\\"type\\\": \\\"text\\\"}, {\\\"from\\\": {\\\"data\\\": \\\"data_2\\\"}, \\\"encode\\\": {\\\"enter\\\": {\\\"x\\\": {\\\"value\\\": 520}, \\\"y\\\": {\\\"value\\\": 200}, \\\"text\\\": {\\\"signal\\\": \\\"((datum[\\\\\\\"categorical\\\\\\\"].length >= 2) &amp;&amp; (toString(datum[\\\\\\\"type\\\\\\\"]) == \\\\\\\"str\\\\\\\"))? toString(datum[\\\\\\\"categorical\\\\\\\"][1][\\\\\\\"label\\\\\\\"]):\\\\\\\"\\\\\\\"\\\"}, \\\"align\\\": {\\\"value\\\": \\\"left\\\"}, \\\"baseline\\\": {\\\"value\\\": \\\"middle\\\"}, \\\"dx\\\": {\\\"value\\\": 0, \\\"offset\\\": 0}, \\\"dy\\\": {\\\"value\\\": 0, \\\"offset\\\": 0}, \\\"angle\\\": {\\\"value\\\": 0}, \\\"clip\\\": {\\\"value\\\": true}, \\\"font\\\": {\\\"value\\\": \\\"AvenirNext-Medium\\\"}, \\\"fontSize\\\": {\\\"value\\\": 11}, \\\"fontWeight\\\": {\\\"value\\\": \\\"normal\\\"}, \\\"fontStyle\\\": {\\\"value\\\": \\\"normal\\\"}, \\\"fill\\\": {\\\"value\\\": \\\"#4A4A4A\\\"}}, \\\"update\\\": {\\\"x\\\": {\\\"signal\\\": \\\"datum[\\\\\\\"c_x_axis_back\\\\\\\"]+487\\\"}, \\\"y\\\": {\\\"field\\\": \\\"c_second_item\\\"}}}, \\\"type\\\": \\\"text\\\"}, {\\\"from\\\": {\\\"data\\\": \\\"data_2\\\"}, \\\"encode\\\": {\\\"enter\\\": {\\\"x\\\": {\\\"value\\\": 520}, \\\"y\\\": {\\\"value\\\": 200}, \\\"text\\\": {\\\"signal\\\": \\\"((datum[\\\\\\\"categorical\\\\\\\"].length >= 3) &amp;&amp; (toString(datum[\\\\\\\"type\\\\\\\"]) == \\\\\\\"str\\\\\\\"))? toString(datum[\\\\\\\"categorical\\\\\\\"][2][\\\\\\\"label\\\\\\\"]):\\\\\\\"\\\\\\\"\\\"}, \\\"align\\\": {\\\"value\\\": \\\"left\\\"}, \\\"baseline\\\": {\\\"value\\\": \\\"middle\\\"}, \\\"dx\\\": {\\\"value\\\": 0, \\\"offset\\\": 0}, \\\"dy\\\": {\\\"value\\\": 0, \\\"offset\\\": 0}, \\\"angle\\\": {\\\"value\\\": 0}, \\\"clip\\\": {\\\"value\\\": true}, \\\"font\\\": {\\\"value\\\": \\\"AvenirNext-Medium\\\"}, \\\"fontSize\\\": {\\\"value\\\": 11}, \\\"fontWeight\\\": {\\\"value\\\": \\\"normal\\\"}, \\\"fontStyle\\\": {\\\"value\\\": \\\"normal\\\"}, \\\"fill\\\": {\\\"value\\\": \\\"#4A4A4A\\\"}}, \\\"update\\\": {\\\"x\\\": {\\\"signal\\\": \\\"datum[\\\\\\\"c_x_axis_back\\\\\\\"]+487\\\"}, \\\"y\\\": {\\\"field\\\": \\\"c_third_item\\\"}}}, \\\"type\\\": \\\"text\\\"}, {\\\"from\\\": {\\\"data\\\": \\\"data_2\\\"}, \\\"encode\\\": {\\\"enter\\\": {\\\"x\\\": {\\\"value\\\": 520}, \\\"y\\\": {\\\"value\\\": 200}, \\\"text\\\": {\\\"signal\\\": \\\"((datum[\\\\\\\"categorical\\\\\\\"].length >= 4) &amp;&amp; (toString(datum[\\\\\\\"type\\\\\\\"]) == \\\\\\\"str\\\\\\\"))? toString(datum[\\\\\\\"categorical\\\\\\\"][3][\\\\\\\"label\\\\\\\"]):\\\\\\\"\\\\\\\"\\\"}, \\\"align\\\": {\\\"value\\\": \\\"left\\\"}, \\\"baseline\\\": {\\\"value\\\": \\\"middle\\\"}, \\\"dx\\\": {\\\"value\\\": 0, \\\"offset\\\": 0}, \\\"dy\\\": {\\\"value\\\": 0, \\\"offset\\\": 0}, \\\"angle\\\": {\\\"value\\\": 0}, \\\"clip\\\": {\\\"value\\\": true}, \\\"font\\\": {\\\"value\\\": \\\"AvenirNext-Medium\\\"}, \\\"fontSize\\\": {\\\"value\\\": 11}, \\\"fontWeight\\\": {\\\"value\\\": \\\"normal\\\"}, \\\"fontStyle\\\": {\\\"value\\\": \\\"normal\\\"}, \\\"fill\\\": {\\\"value\\\": \\\"#4A4A4A\\\"}}, \\\"update\\\": {\\\"x\\\": {\\\"signal\\\": \\\"datum[\\\\\\\"c_x_axis_back\\\\\\\"]+487\\\"}, \\\"y\\\": {\\\"field\\\": \\\"c_fourth_item\\\"}}}, \\\"type\\\": \\\"text\\\"}, {\\\"from\\\": {\\\"data\\\": \\\"data_2\\\"}, \\\"encode\\\": {\\\"enter\\\": {\\\"x\\\": {\\\"value\\\": 520}, \\\"y\\\": {\\\"value\\\": 200}, \\\"text\\\": {\\\"signal\\\": \\\"((datum[\\\\\\\"categorical\\\\\\\"].length >= 5) &amp;&amp; (toString(datum[\\\\\\\"type\\\\\\\"]) == \\\\\\\"str\\\\\\\"))? toString(datum[\\\\\\\"categorical\\\\\\\"][4][\\\\\\\"label\\\\\\\"]):\\\\\\\"\\\\\\\"\\\"}, \\\"align\\\": {\\\"value\\\": \\\"left\\\"}, \\\"baseline\\\": {\\\"value\\\": \\\"middle\\\"}, \\\"dx\\\": {\\\"value\\\": 0, \\\"offset\\\": 0}, \\\"dy\\\": {\\\"value\\\": 0, \\\"offset\\\": 0}, \\\"angle\\\": {\\\"value\\\": 0}, \\\"clip\\\": {\\\"value\\\": true}, \\\"font\\\": {\\\"value\\\": \\\"AvenirNext-Medium\\\"}, \\\"fontSize\\\": {\\\"value\\\": 11}, \\\"fontWeight\\\": {\\\"value\\\": \\\"normal\\\"}, \\\"fontStyle\\\": {\\\"value\\\": \\\"normal\\\"}, \\\"fill\\\": {\\\"value\\\": \\\"#4A4A4A\\\"}}, \\\"update\\\": {\\\"x\\\": {\\\"signal\\\": \\\"datum[\\\\\\\"c_x_axis_back\\\\\\\"]+487\\\"}, \\\"y\\\": {\\\"field\\\": \\\"c_fifth_item\\\"}}}, \\\"type\\\": \\\"text\\\"}, {\\\"from\\\": {\\\"data\\\": \\\"data_2\\\"}, \\\"encode\\\": {\\\"enter\\\": {\\\"x\\\": {\\\"value\\\": 700}, \\\"y\\\": {\\\"value\\\": 200}, \\\"text\\\": {\\\"signal\\\": \\\"((datum[\\\\\\\"categorical\\\\\\\"].length >= 1) &amp;&amp; (toString(datum[\\\\\\\"type\\\\\\\"]) == \\\\\\\"str\\\\\\\"))? toString(datum[\\\\\\\"categorical\\\\\\\"][0][\\\\\\\"count\\\\\\\"]):\\\\\\\"\\\\\\\"\\\"}, \\\"align\\\": {\\\"value\\\": \\\"right\\\"}, \\\"baseline\\\": {\\\"value\\\": \\\"middle\\\"}, \\\"dx\\\": {\\\"value\\\": 0, \\\"offset\\\": 0}, \\\"dy\\\": {\\\"value\\\": 0, \\\"offset\\\": 0}, \\\"angle\\\": {\\\"value\\\": 0}, \\\"clip\\\": {\\\"value\\\": true}, \\\"font\\\": {\\\"value\\\": \\\"AvenirNext-Medium\\\"}, \\\"fontSize\\\": {\\\"value\\\": 11}, \\\"fontWeight\\\": {\\\"value\\\": \\\"normal\\\"}, \\\"fontStyle\\\": {\\\"value\\\": \\\"normal\\\"}, \\\"fill\\\": {\\\"value\\\": \\\"#7A7A7A\\\"}}, \\\"update\\\": {\\\"x\\\": {\\\"signal\\\": \\\"datum[\\\\\\\"c_x_axis_back\\\\\\\"]+667\\\"}, \\\"y\\\": {\\\"field\\\": \\\"c_first_item\\\"}}}, \\\"type\\\": \\\"text\\\"}, {\\\"from\\\": {\\\"data\\\": \\\"data_2\\\"}, \\\"encode\\\": {\\\"enter\\\": {\\\"x\\\": {\\\"value\\\": 700}, \\\"y\\\": {\\\"value\\\": 200}, \\\"text\\\": {\\\"signal\\\": \\\"((datum[\\\\\\\"categorical\\\\\\\"].length >= 2) &amp;&amp; (toString(datum[\\\\\\\"type\\\\\\\"]) == \\\\\\\"str\\\\\\\"))? toString(datum[\\\\\\\"categorical\\\\\\\"][1][\\\\\\\"count\\\\\\\"]):\\\\\\\"\\\\\\\"\\\"}, \\\"align\\\": {\\\"value\\\": \\\"right\\\"}, \\\"baseline\\\": {\\\"value\\\": \\\"middle\\\"}, \\\"dx\\\": {\\\"value\\\": 0, \\\"offset\\\": 0}, \\\"dy\\\": {\\\"value\\\": 0, \\\"offset\\\": 0}, \\\"angle\\\": {\\\"value\\\": 0}, \\\"clip\\\": {\\\"value\\\": true}, \\\"font\\\": {\\\"value\\\": \\\"AvenirNext-Medium\\\"}, \\\"fontSize\\\": {\\\"value\\\": 10}, \\\"fontWeight\\\": {\\\"value\\\": \\\"normal\\\"}, \\\"fontStyle\\\": {\\\"value\\\": \\\"normal\\\"}, \\\"fill\\\": {\\\"value\\\": \\\"#7A7A7A\\\"}}, \\\"update\\\": {\\\"x\\\": {\\\"signal\\\": \\\"datum[\\\\\\\"c_x_axis_back\\\\\\\"]+667\\\"}, \\\"y\\\": {\\\"field\\\": \\\"c_second_item\\\"}}}, \\\"type\\\": \\\"text\\\"}, {\\\"from\\\": {\\\"data\\\": \\\"data_2\\\"}, \\\"encode\\\": {\\\"enter\\\": {\\\"x\\\": {\\\"value\\\": 700}, \\\"y\\\": {\\\"value\\\": 200}, \\\"text\\\": {\\\"signal\\\": \\\"((datum[\\\\\\\"categorical\\\\\\\"].length >= 3) &amp;&amp; (toString(datum[\\\\\\\"type\\\\\\\"]) == \\\\\\\"str\\\\\\\"))? toString(datum[\\\\\\\"categorical\\\\\\\"][2][\\\\\\\"count\\\\\\\"]):\\\\\\\"\\\\\\\"\\\"}, \\\"align\\\": {\\\"value\\\": \\\"right\\\"}, \\\"baseline\\\": {\\\"value\\\": \\\"middle\\\"}, \\\"dx\\\": {\\\"value\\\": 0, \\\"offset\\\": 0}, \\\"dy\\\": {\\\"value\\\": 0, \\\"offset\\\": 0}, \\\"angle\\\": {\\\"value\\\": 0}, \\\"clip\\\": {\\\"value\\\": true}, \\\"font\\\": {\\\"value\\\": \\\"AvenirNext-Medium\\\"}, \\\"fontSize\\\": {\\\"value\\\": 10}, \\\"fontWeight\\\": {\\\"value\\\": \\\"normal\\\"}, \\\"fontStyle\\\": {\\\"value\\\": \\\"normal\\\"}, \\\"fill\\\": {\\\"value\\\": \\\"#7A7A7A\\\"}}, \\\"update\\\": {\\\"x\\\": {\\\"signal\\\": \\\"datum[\\\\\\\"c_x_axis_back\\\\\\\"]+667\\\"}, \\\"y\\\": {\\\"field\\\": \\\"c_third_item\\\"}}}, \\\"type\\\": \\\"text\\\"}, {\\\"from\\\": {\\\"data\\\": \\\"data_2\\\"}, \\\"encode\\\": {\\\"enter\\\": {\\\"x\\\": {\\\"value\\\": 700}, \\\"y\\\": {\\\"value\\\": 200}, \\\"text\\\": {\\\"signal\\\": \\\"((datum[\\\\\\\"categorical\\\\\\\"].length >= 4) &amp;&amp; (toString(datum[\\\\\\\"type\\\\\\\"]) == \\\\\\\"str\\\\\\\"))? toString(datum[\\\\\\\"categorical\\\\\\\"][3][\\\\\\\"count\\\\\\\"]):\\\\\\\"\\\\\\\"\\\"}, \\\"align\\\": {\\\"value\\\": \\\"right\\\"}, \\\"baseline\\\": {\\\"value\\\": \\\"middle\\\"}, \\\"dx\\\": {\\\"value\\\": 0, \\\"offset\\\": 0}, \\\"dy\\\": {\\\"value\\\": 0, \\\"offset\\\": 0}, \\\"angle\\\": {\\\"value\\\": 0}, \\\"clip\\\": {\\\"value\\\": true}, \\\"font\\\": {\\\"value\\\": \\\"AvenirNext-Medium\\\"}, \\\"fontSize\\\": {\\\"value\\\": 10}, \\\"fontWeight\\\": {\\\"value\\\": \\\"normal\\\"}, \\\"fontStyle\\\": {\\\"value\\\": \\\"normal\\\"}, \\\"fill\\\": {\\\"value\\\": \\\"#7A7A7A\\\"}}, \\\"update\\\": {\\\"x\\\": {\\\"signal\\\": \\\"datum[\\\\\\\"c_x_axis_back\\\\\\\"]+667\\\"}, \\\"y\\\": {\\\"field\\\": \\\"c_fourth_item\\\"}}}, \\\"type\\\": \\\"text\\\"}, {\\\"from\\\": {\\\"data\\\": \\\"data_2\\\"}, \\\"encode\\\": {\\\"enter\\\": {\\\"x\\\": {\\\"value\\\": 700}, \\\"y\\\": {\\\"value\\\": 200}, \\\"text\\\": {\\\"signal\\\": \\\"((datum[\\\\\\\"categorical\\\\\\\"].length >= 5) &amp;&amp; (toString(datum[\\\\\\\"type\\\\\\\"]) == \\\\\\\"str\\\\\\\"))? toString(datum[\\\\\\\"categorical\\\\\\\"][4][\\\\\\\"count\\\\\\\"]):\\\\\\\"\\\\\\\"\\\"}, \\\"align\\\": {\\\"value\\\": \\\"right\\\"}, \\\"baseline\\\": {\\\"value\\\": \\\"middle\\\"}, \\\"dx\\\": {\\\"value\\\": 0, \\\"offset\\\": 0}, \\\"dy\\\": {\\\"value\\\": 0, \\\"offset\\\": 0}, \\\"angle\\\": {\\\"value\\\": 0}, \\\"clip\\\": {\\\"value\\\": true}, \\\"font\\\": {\\\"value\\\": \\\"AvenirNext-Medium\\\"}, \\\"fontSize\\\": {\\\"value\\\": 10}, \\\"fontWeight\\\": {\\\"value\\\": \\\"normal\\\"}, \\\"fontStyle\\\": {\\\"value\\\": \\\"normal\\\"}, \\\"fill\\\": {\\\"value\\\": \\\"#7A7A7A\\\"}}, \\\"update\\\": {\\\"x\\\": {\\\"signal\\\": \\\"datum[\\\\\\\"c_x_axis_back\\\\\\\"]+667\\\"}, \\\"y\\\": {\\\"field\\\": \\\"c_fifth_item\\\"}}}, \\\"type\\\": \\\"text\\\"}, {\\\"from\\\": {\\\"data\\\": \\\"data_2\\\"}, \\\"encode\\\": {\\\"enter\\\": {\\\"x\\\": {\\\"value\\\": 500}, \\\"y\\\": {\\\"value\\\": 200}, \\\"text\\\": {\\\"signal\\\": \\\"(toString(datum[\\\\\\\"type\\\\\\\"]) == \\\\\\\"integer\\\\\\\" || toString(datum[\\\\\\\"type\\\\\\\"]) == \\\\\\\"float\\\\\\\")? \\\\\\\"Mean:\\\\\\\":\\\\\\\"\\\\\\\"\\\"}, \\\"align\\\": {\\\"value\\\": \\\"left\\\"}, \\\"baseline\\\": {\\\"value\\\": \\\"middle\\\"}, \\\"dx\\\": {\\\"value\\\": 0, \\\"offset\\\": 0}, \\\"dy\\\": {\\\"value\\\": 0, \\\"offset\\\": 0}, \\\"angle\\\": {\\\"value\\\": 0}, \\\"clip\\\": {\\\"value\\\": true}, \\\"font\\\": {\\\"value\\\": \\\"AvenirNext-Medium\\\"}, \\\"fontSize\\\": {\\\"value\\\": 11}, \\\"fontWeight\\\": {\\\"value\\\": \\\"bold\\\"}, \\\"fontStyle\\\": {\\\"value\\\": \\\"normal\\\"}, \\\"fill\\\": {\\\"value\\\": \\\"#4A4A4A\\\"}}, \\\"update\\\": {\\\"x\\\": {\\\"signal\\\": \\\"datum[\\\\\\\"c_x_axis_back\\\\\\\"]+467\\\"}, \\\"y\\\": {\\\"field\\\": \\\"c_mean\\\"}}}, \\\"type\\\": \\\"text\\\"}, {\\\"from\\\": {\\\"data\\\": \\\"data_2\\\"}, \\\"encode\\\": {\\\"enter\\\": {\\\"x\\\": {\\\"value\\\": 500}, \\\"y\\\": {\\\"value\\\": 220}, \\\"text\\\": {\\\"signal\\\": \\\"(toString(datum[\\\\\\\"type\\\\\\\"]) == \\\\\\\"integer\\\\\\\" || toString(datum[\\\\\\\"type\\\\\\\"]) == \\\\\\\"float\\\\\\\")? \\\\\\\"Min:\\\\\\\":\\\\\\\"\\\\\\\"\\\"}, \\\"align\\\": {\\\"value\\\": \\\"left\\\"}, \\\"baseline\\\": {\\\"value\\\": \\\"middle\\\"}, \\\"dx\\\": {\\\"value\\\": 0, \\\"offset\\\": 0}, \\\"dy\\\": {\\\"value\\\": 0, \\\"offset\\\": 0}, \\\"angle\\\": {\\\"value\\\": 0}, \\\"font\\\": {\\\"value\\\": \\\"AvenirNext-Medium\\\"}, \\\"fontSize\\\": {\\\"value\\\": 11}, \\\"fontWeight\\\": {\\\"value\\\": \\\"bold\\\"}, \\\"fontStyle\\\": {\\\"value\\\": \\\"normal\\\"}, \\\"fill\\\": {\\\"value\\\": \\\"#4A4A4A\\\"}}, \\\"update\\\": {\\\"x\\\": {\\\"signal\\\": \\\"datum[\\\\\\\"c_x_axis_back\\\\\\\"]+467\\\"}, \\\"y\\\": {\\\"field\\\": \\\"c_min\\\"}}}, \\\"type\\\": \\\"text\\\"}, {\\\"from\\\": {\\\"data\\\": \\\"data_2\\\"}, \\\"encode\\\": {\\\"enter\\\": {\\\"x\\\": {\\\"value\\\": 500}, \\\"y\\\": {\\\"value\\\": 240}, \\\"text\\\": {\\\"signal\\\": \\\"(toString(datum[\\\\\\\"type\\\\\\\"]) == \\\\\\\"integer\\\\\\\" || toString(datum[\\\\\\\"type\\\\\\\"]) == \\\\\\\"float\\\\\\\")? \\\\\\\"Max:\\\\\\\":\\\\\\\"\\\\\\\"\\\"}, \\\"align\\\": {\\\"value\\\": \\\"left\\\"}, \\\"baseline\\\": {\\\"value\\\": \\\"middle\\\"}, \\\"dx\\\": {\\\"value\\\": 0, \\\"offset\\\": 0}, \\\"dy\\\": {\\\"value\\\": 0, \\\"offset\\\": 0}, \\\"angle\\\": {\\\"value\\\": 0}, \\\"font\\\": {\\\"value\\\": \\\"AvenirNext-Medium\\\"}, \\\"fontSize\\\": {\\\"value\\\": 11}, \\\"fontWeight\\\": {\\\"value\\\": \\\"bold\\\"}, \\\"fontStyle\\\": {\\\"value\\\": \\\"normal\\\"}, \\\"fill\\\": {\\\"value\\\": \\\"#4A4A4A\\\"}}, \\\"update\\\": {\\\"x\\\": {\\\"signal\\\": \\\"datum[\\\\\\\"c_x_axis_back\\\\\\\"]+467\\\"}, \\\"y\\\": {\\\"field\\\": \\\"c_max\\\"}}}, \\\"type\\\": \\\"text\\\"}, {\\\"from\\\": {\\\"data\\\": \\\"data_2\\\"}, \\\"encode\\\": {\\\"enter\\\": {\\\"x\\\": {\\\"value\\\": 500}, \\\"y\\\": {\\\"value\\\": 260}, \\\"text\\\": {\\\"signal\\\": \\\"(toString(datum[\\\\\\\"type\\\\\\\"]) == \\\\\\\"integer\\\\\\\" || toString(datum[\\\\\\\"type\\\\\\\"]) == \\\\\\\"float\\\\\\\")? \\\\\\\"Median:\\\\\\\":\\\\\\\"\\\\\\\"\\\"}, \\\"align\\\": {\\\"value\\\": \\\"left\\\"}, \\\"baseline\\\": {\\\"value\\\": \\\"middle\\\"}, \\\"dx\\\": {\\\"value\\\": 0, \\\"offset\\\": 0}, \\\"dy\\\": {\\\"value\\\": 0, \\\"offset\\\": 0}, \\\"angle\\\": {\\\"value\\\": 0}, \\\"font\\\": {\\\"value\\\": \\\"AvenirNext-Medium\\\"}, \\\"fontSize\\\": {\\\"value\\\": 11}, \\\"fontWeight\\\": {\\\"value\\\": \\\"bold\\\"}, \\\"fontStyle\\\": {\\\"value\\\": \\\"normal\\\"}, \\\"fill\\\": {\\\"value\\\": \\\"#4A4A4A\\\"}}, \\\"update\\\": {\\\"x\\\": {\\\"signal\\\": \\\"datum[\\\\\\\"c_x_axis_back\\\\\\\"]+467\\\"}, \\\"y\\\": {\\\"field\\\": \\\"c_median\\\"}}}, \\\"type\\\": \\\"text\\\"}, {\\\"from\\\": {\\\"data\\\": \\\"data_2\\\"}, \\\"encode\\\": {\\\"enter\\\": {\\\"x\\\": {\\\"value\\\": 500}, \\\"y\\\": {\\\"value\\\": 280}, \\\"text\\\": {\\\"signal\\\": \\\"(toString(datum[\\\\\\\"type\\\\\\\"]) == \\\\\\\"integer\\\\\\\" || toString(datum[\\\\\\\"type\\\\\\\"]) == \\\\\\\"float\\\\\\\")? \\\\\\\"St. Dev:\\\\\\\":\\\\\\\"\\\\\\\"\\\"}, \\\"align\\\": {\\\"value\\\": \\\"left\\\"}, \\\"baseline\\\": {\\\"value\\\": \\\"middle\\\"}, \\\"dx\\\": {\\\"value\\\": 0, \\\"offset\\\": 0}, \\\"dy\\\": {\\\"value\\\": 0, \\\"offset\\\": 0}, \\\"angle\\\": {\\\"value\\\": 0}, \\\"font\\\": {\\\"value\\\": \\\"AvenirNext-Medium\\\"}, \\\"fontSize\\\": {\\\"value\\\": 11}, \\\"fontWeight\\\": {\\\"value\\\": \\\"bold\\\"}, \\\"fontStyle\\\": {\\\"value\\\": \\\"normal\\\"}, \\\"fill\\\": {\\\"value\\\": \\\"#4A4A4A\\\"}}, \\\"update\\\": {\\\"x\\\": {\\\"signal\\\": \\\"datum[\\\\\\\"c_x_axis_back\\\\\\\"]+467\\\"}, \\\"y\\\": {\\\"field\\\": \\\"c_stdev\\\"}}}, \\\"type\\\": \\\"text\\\"}, {\\\"from\\\": {\\\"data\\\": \\\"data_2\\\"}, \\\"encode\\\": {\\\"enter\\\": {\\\"x\\\": {\\\"value\\\": 700}, \\\"y\\\": {\\\"value\\\": 198}, \\\"text\\\": {\\\"signal\\\": \\\"(toString(datum[\\\\\\\"type\\\\\\\"]) == \\\\\\\"integer\\\\\\\" || toString(datum[\\\\\\\"type\\\\\\\"]) == \\\\\\\"float\\\\\\\")?toString(format(datum[\\\\\\\"mean\\\\\\\"], \\\\\\\",\\\\\\\")):\\\\\\\"\\\\\\\"\\\"}, \\\"align\\\": {\\\"value\\\": \\\"right\\\"}, \\\"baseline\\\": {\\\"value\\\": \\\"middle\\\"}, \\\"dx\\\": {\\\"value\\\": 0, \\\"offset\\\": 0}, \\\"dy\\\": {\\\"value\\\": 0, \\\"offset\\\": 0}, \\\"angle\\\": {\\\"value\\\": 0}, \\\"font\\\": {\\\"value\\\": \\\"AvenirNext-Medium\\\"}, \\\"fontSize\\\": {\\\"value\\\": 10}, \\\"fontWeight\\\": {\\\"value\\\": \\\"normal\\\"}, \\\"fontStyle\\\": {\\\"value\\\": \\\"normal\\\"}, \\\"fill\\\": {\\\"value\\\": \\\"#6A6A6A\\\"}}, \\\"update\\\": {\\\"x\\\": {\\\"signal\\\": \\\"datum[\\\\\\\"c_x_axis_back\\\\\\\"]+667\\\"}, \\\"y\\\": {\\\"field\\\": \\\"c_mean_val\\\"}}}, \\\"type\\\": \\\"text\\\"}, {\\\"from\\\": {\\\"data\\\": \\\"data_2\\\"}, \\\"encode\\\": {\\\"enter\\\": {\\\"x\\\": {\\\"value\\\": 700}, \\\"y\\\": {\\\"value\\\": 218}, \\\"text\\\": {\\\"signal\\\": \\\"(toString(datum[\\\\\\\"type\\\\\\\"]) == \\\\\\\"integer\\\\\\\" || toString(datum[\\\\\\\"type\\\\\\\"]) == \\\\\\\"float\\\\\\\")?toString(format(datum[\\\\\\\"min\\\\\\\"], \\\\\\\",\\\\\\\")):\\\\\\\"\\\\\\\"\\\"}, \\\"align\\\": {\\\"value\\\": \\\"right\\\"}, \\\"baseline\\\": {\\\"value\\\": \\\"middle\\\"}, \\\"dx\\\": {\\\"value\\\": 0, \\\"offset\\\": 0}, \\\"dy\\\": {\\\"value\\\": 0, \\\"offset\\\": 0}, \\\"angle\\\": {\\\"value\\\": 0}, \\\"font\\\": {\\\"value\\\": \\\"AvenirNext-Medium\\\"}, \\\"fontSize\\\": {\\\"value\\\": 10}, \\\"fontWeight\\\": {\\\"value\\\": \\\"normal\\\"}, \\\"fontStyle\\\": {\\\"value\\\": \\\"normal\\\"}, \\\"fill\\\": {\\\"value\\\": \\\"#6A6A6A\\\"}}, \\\"update\\\": {\\\"x\\\": {\\\"signal\\\": \\\"datum[\\\\\\\"c_x_axis_back\\\\\\\"]+667\\\"}, \\\"y\\\": {\\\"field\\\": \\\"c_min_val\\\"}}}, \\\"type\\\": \\\"text\\\"}, {\\\"from\\\": {\\\"data\\\": \\\"data_2\\\"}, \\\"encode\\\": {\\\"enter\\\": {\\\"x\\\": {\\\"value\\\": 700}, \\\"y\\\": {\\\"value\\\": 238}, \\\"text\\\": {\\\"signal\\\": \\\"(toString(datum[\\\\\\\"type\\\\\\\"]) == \\\\\\\"integer\\\\\\\" || toString(datum[\\\\\\\"type\\\\\\\"]) == \\\\\\\"float\\\\\\\")?toString(format(datum[\\\\\\\"max\\\\\\\"], \\\\\\\",\\\\\\\")):\\\\\\\"\\\\\\\"\\\"}, \\\"align\\\": {\\\"value\\\": \\\"right\\\"}, \\\"baseline\\\": {\\\"value\\\": \\\"middle\\\"}, \\\"dx\\\": {\\\"value\\\": 0, \\\"offset\\\": 0}, \\\"dy\\\": {\\\"value\\\": 0, \\\"offset\\\": 0}, \\\"angle\\\": {\\\"value\\\": 0}, \\\"font\\\": {\\\"value\\\": \\\"AvenirNext-Medium\\\"}, \\\"fontSize\\\": {\\\"value\\\": 10}, \\\"fontWeight\\\": {\\\"value\\\": \\\"normal\\\"}, \\\"fontStyle\\\": {\\\"value\\\": \\\"normal\\\"}, \\\"fill\\\": {\\\"value\\\": \\\"#6A6A6A\\\"}}, \\\"update\\\": {\\\"x\\\": {\\\"signal\\\": \\\"datum[\\\\\\\"c_x_axis_back\\\\\\\"]+667\\\"}, \\\"y\\\": {\\\"field\\\": \\\"c_max_val\\\"}}}, \\\"type\\\": \\\"text\\\"}, {\\\"from\\\": {\\\"data\\\": \\\"data_2\\\"}, \\\"encode\\\": {\\\"enter\\\": {\\\"x\\\": {\\\"value\\\": 700}, \\\"y\\\": {\\\"value\\\": 258}, \\\"text\\\": {\\\"signal\\\": \\\"(toString(datum[\\\\\\\"type\\\\\\\"]) == \\\\\\\"integer\\\\\\\" || toString(datum[\\\\\\\"type\\\\\\\"]) == \\\\\\\"float\\\\\\\")?toString(format(datum[\\\\\\\"median\\\\\\\"], \\\\\\\",\\\\\\\")):\\\\\\\"\\\\\\\"\\\"}, \\\"align\\\": {\\\"value\\\": \\\"right\\\"}, \\\"baseline\\\": {\\\"value\\\": \\\"middle\\\"}, \\\"dx\\\": {\\\"value\\\": 0, \\\"offset\\\": 0}, \\\"dy\\\": {\\\"value\\\": 0, \\\"offset\\\": 0}, \\\"angle\\\": {\\\"value\\\": 0}, \\\"font\\\": {\\\"value\\\": \\\"AvenirNext-Medium\\\"}, \\\"fontSize\\\": {\\\"value\\\": 10}, \\\"fontWeight\\\": {\\\"value\\\": \\\"normal\\\"}, \\\"fontStyle\\\": {\\\"value\\\": \\\"normal\\\"}, \\\"fill\\\": {\\\"value\\\": \\\"#6A6A6A\\\"}}, \\\"update\\\": {\\\"x\\\": {\\\"signal\\\": \\\"datum[\\\\\\\"c_x_axis_back\\\\\\\"]+667\\\"}, \\\"y\\\": {\\\"field\\\": \\\"c_median_val\\\"}}}, \\\"type\\\": \\\"text\\\"}, {\\\"from\\\": {\\\"data\\\": \\\"data_2\\\"}, \\\"encode\\\": {\\\"enter\\\": {\\\"x\\\": {\\\"value\\\": 700}, \\\"y\\\": {\\\"value\\\": 278}, \\\"text\\\": {\\\"signal\\\": \\\"(toString(datum[\\\\\\\"type\\\\\\\"]) == \\\\\\\"integer\\\\\\\" || toString(datum[\\\\\\\"type\\\\\\\"]) == \\\\\\\"float\\\\\\\")?toString(format(datum[\\\\\\\"stdev\\\\\\\"], \\\\\\\",\\\\\\\")):\\\\\\\"\\\\\\\"\\\"}, \\\"align\\\": {\\\"value\\\": \\\"right\\\"}, \\\"baseline\\\": {\\\"value\\\": \\\"middle\\\"}, \\\"dx\\\": {\\\"value\\\": 0, \\\"offset\\\": 0}, \\\"dy\\\": {\\\"value\\\": 0, \\\"offset\\\": 0}, \\\"angle\\\": {\\\"value\\\": 0}, \\\"font\\\": {\\\"value\\\": \\\"AvenirNext-Medium\\\"}, \\\"fontSize\\\": {\\\"value\\\": 10}, \\\"fontWeight\\\": {\\\"value\\\": \\\"normal\\\"}, \\\"fontStyle\\\": {\\\"value\\\": \\\"normal\\\"}, \\\"fill\\\": {\\\"value\\\": \\\"#6A6A6A\\\"}}, \\\"update\\\": {\\\"x\\\": {\\\"signal\\\": \\\"datum[\\\\\\\"c_x_axis_back\\\\\\\"]+667\\\"}, \\\"y\\\": {\\\"field\\\": \\\"c_stdev_val\\\"}}}, \\\"type\\\": \\\"text\\\"}, {\\\"from\\\": {\\\"facet\\\": {\\\"name\\\": \\\"new_data\\\", \\\"data\\\": \\\"data_2\\\", \\\"field\\\": \\\"numeric\\\"}}, \\\"encode\\\": {\\\"enter\\\": {\\\"x\\\": {\\\"value\\\": 120}, \\\"width\\\": {\\\"value\\\": 250}, \\\"y\\\": {\\\"field\\\": \\\"graph_offset\\\"}, \\\"height\\\": {\\\"value\\\": 150}, \\\"fill\\\": {\\\"value\\\": \\\"#ffffff\\\"}, \\\"fillOpacity\\\": {\\\"value\\\": 0}, \\\"stroke\\\": {\\\"value\\\": \\\"#000000\\\"}, \\\"strokeWidth\\\": {\\\"value\\\": 0}}, \\\"update\\\": {\\\"x\\\": {\\\"signal\\\": \\\"datum[\\\\\\\"c_x_axis_back\\\\\\\"]+87\\\"}, \\\"clip\\\": {\\\"field\\\": \\\"c_clip_val\\\"}, \\\"width\\\": {\\\"field\\\": \\\"c_width_numeric_val\\\"}}}, \\\"type\\\": \\\"group\\\", \\\"scales\\\": [{\\\"name\\\": \\\"x\\\", \\\"type\\\": \\\"linear\\\", \\\"domain\\\": {\\\"data\\\": \\\"new_data\\\", \\\"fields\\\": [\\\"left\\\", \\\"right\\\"], \\\"sort\\\": true}, \\\"range\\\": [0, {\\\"signal\\\": \\\"width\\\"}], \\\"nice\\\": true, \\\"zero\\\": true}, {\\\"name\\\": \\\"y\\\", \\\"type\\\": \\\"linear\\\", \\\"domain\\\": {\\\"data\\\": \\\"new_data\\\", \\\"field\\\": \\\"count\\\"}, \\\"range\\\": [{\\\"signal\\\": \\\"height\\\"}, 0], \\\"nice\\\": true, \\\"zero\\\": true}], \\\"axes\\\": [{\\\"title\\\": \\\"Values\\\", \\\"scale\\\": \\\"x\\\", \\\"labelOverlap\\\": true, \\\"orient\\\": \\\"bottom\\\", \\\"tickCount\\\": {\\\"signal\\\": \\\"ceil(width/40)\\\"}, \\\"zindex\\\": 1}, {\\\"scale\\\": \\\"x\\\", \\\"domain\\\": false, \\\"grid\\\": true, \\\"labels\\\": false, \\\"maxExtent\\\": 0, \\\"minExtent\\\": 0, \\\"orient\\\": \\\"bottom\\\", \\\"tickCount\\\": {\\\"signal\\\": \\\"ceil(width/40)\\\"}, \\\"ticks\\\": false, \\\"zindex\\\": 0, \\\"gridScale\\\": \\\"y\\\"}, {\\\"title\\\": \\\"Count\\\", \\\"scale\\\": \\\"y\\\", \\\"labelOverlap\\\": true, \\\"orient\\\": \\\"left\\\", \\\"tickCount\\\": {\\\"signal\\\": \\\"ceil(height/40)\\\"}, \\\"zindex\\\": 1}, {\\\"scale\\\": \\\"y\\\", \\\"domain\\\": false, \\\"grid\\\": true, \\\"labels\\\": false, \\\"maxExtent\\\": 0, \\\"minExtent\\\": 0, \\\"orient\\\": \\\"left\\\", \\\"tickCount\\\": {\\\"signal\\\": \\\"ceil(height/40)\\\"}, \\\"ticks\\\": false, \\\"zindex\\\": 0, \\\"gridScale\\\": \\\"x\\\"}], \\\"style\\\": \\\"cell\\\", \\\"signals\\\": [{\\\"name\\\": \\\"width\\\", \\\"update\\\": \\\"250\\\"}, {\\\"name\\\": \\\"height\\\", \\\"update\\\": \\\"150\\\"}], \\\"marks\\\": [{\\\"name\\\": \\\"marks\\\", \\\"type\\\": \\\"rect\\\", \\\"style\\\": [\\\"rect\\\"], \\\"from\\\": {\\\"data\\\": \\\"new_data\\\"}, \\\"encode\\\": {\\\"hover\\\": {\\\"fill\\\": {\\\"value\\\": \\\"#7EC2F3\\\"}}, \\\"update\\\": {\\\"x\\\": {\\\"scale\\\": \\\"x\\\", \\\"field\\\": \\\"left\\\"}, \\\"x2\\\": {\\\"scale\\\": \\\"x\\\", \\\"field\\\": \\\"right\\\"}, \\\"y\\\": {\\\"scale\\\": \\\"y\\\", \\\"field\\\": \\\"count\\\"}, \\\"y2\\\": {\\\"scale\\\": \\\"y\\\", \\\"value\\\": 0}, \\\"fill\\\": {\\\"value\\\": \\\"#108EE9\\\"}}}}]}, {\\\"from\\\": {\\\"facet\\\": {\\\"name\\\": \\\"data_5\\\", \\\"data\\\": \\\"data_2\\\", \\\"field\\\": \\\"categorical\\\"}}, \\\"encode\\\": {\\\"enter\\\": {\\\"x\\\": {\\\"value\\\": 170}, \\\"width\\\": {\\\"value\\\": 250}, \\\"y\\\": {\\\"field\\\": \\\"graph_offset_categorical\\\"}, \\\"height\\\": {\\\"value\\\": 150}, \\\"fill\\\": {\\\"value\\\": \\\"#ffffff\\\"}, \\\"fillOpacity\\\": {\\\"value\\\": 0}, \\\"stroke\\\": {\\\"value\\\": \\\"#000000\\\"}, \\\"strokeWidth\\\": {\\\"value\\\": 0}}, \\\"update\\\": {\\\"x\\\": {\\\"signal\\\": \\\"datum[\\\\\\\"c_x_axis_back\\\\\\\"]+137\\\"}, \\\"clip\\\": {\\\"field\\\": \\\"c_clip_val_cat\\\"}, \\\"width\\\": {\\\"field\\\": \\\"c_width_numeric_val_cat\\\"}}}, \\\"type\\\": \\\"group\\\", \\\"style\\\": \\\"cell\\\", \\\"signals\\\": [{\\\"name\\\": \\\"unit\\\", \\\"value\\\": {}, \\\"on\\\": [{\\\"events\\\": \\\"mousemove\\\", \\\"update\\\": \\\"isTuple(group()) ? group() : unit\\\"}]}, {\\\"name\\\": \\\"pts\\\", \\\"update\\\": \\\"data(\\\\\\\"pts_store\\\\\\\").length &amp;&amp; {count: data(\\\\\\\"pts_store\\\\\\\")[0].values[0]}\\\"}, {\\\"name\\\": \\\"pts_tuple\\\", \\\"value\\\": {}, \\\"on\\\": [{\\\"events\\\": [{\\\"source\\\": \\\"scope\\\", \\\"type\\\": \\\"click\\\"}], \\\"update\\\": \\\"datum &amp;&amp; item().mark.marktype !== &apos;group&apos; ? {unit: \\\\\\\"\\\\\\\", encodings: [\\\\\\\"x\\\\\\\"], fields: [\\\\\\\"count\\\\\\\"], values: [datum[\\\\\\\"count\\\\\\\"]]} : null\\\", \\\"force\\\": true}]}, {\\\"name\\\": \\\"pts_modify\\\", \\\"on\\\": [{\\\"events\\\": {\\\"signal\\\": \\\"pts_tuple\\\"}, \\\"update\\\": \\\"modify(\\\\\\\"pts_store\\\\\\\", pts_tuple, true)\\\"}]}], \\\"marks\\\": [{\\\"name\\\": \\\"marks\\\", \\\"type\\\": \\\"rect\\\", \\\"style\\\": [\\\"bar\\\"], \\\"from\\\": {\\\"data\\\": \\\"data_5\\\"}, \\\"encode\\\": {\\\"hover\\\": {\\\"fill\\\": {\\\"value\\\": \\\"#7EC2F3\\\"}}, \\\"update\\\": {\\\"x\\\": {\\\"scale\\\": \\\"x\\\", \\\"field\\\": \\\"count\\\"}, \\\"x2\\\": {\\\"scale\\\": \\\"x\\\", \\\"value\\\": 0}, \\\"y\\\": {\\\"scale\\\": \\\"y\\\", \\\"field\\\": \\\"label\\\"}, \\\"height\\\": {\\\"scale\\\": \\\"y\\\", \\\"band\\\": true}, \\\"fill\\\": {\\\"value\\\": \\\"#108EE9\\\"}}}}], \\\"scales\\\": [{\\\"name\\\": \\\"x\\\", \\\"type\\\": \\\"linear\\\", \\\"domain\\\": {\\\"data\\\": \\\"data_5\\\", \\\"field\\\": \\\"count\\\"}, \\\"range\\\": [0, 250], \\\"nice\\\": true, \\\"zero\\\": true}, {\\\"name\\\": \\\"y\\\", \\\"type\\\": \\\"band\\\", \\\"domain\\\": {\\\"data\\\": \\\"data_5\\\", \\\"field\\\": \\\"label\\\", \\\"sort\\\": {\\\"op\\\": \\\"mean\\\", \\\"field\\\": \\\"label_idx\\\", \\\"order\\\": \\\"descending\\\"}}, \\\"range\\\": [150, 0], \\\"paddingInner\\\": 0.1, \\\"paddingOuter\\\": 0.05}], \\\"axes\\\": [{\\\"orient\\\": \\\"top\\\", \\\"scale\\\": \\\"x\\\", \\\"labelOverlap\\\": true, \\\"tickCount\\\": {\\\"signal\\\": \\\"ceil(width/40)\\\"}, \\\"title\\\": \\\"Count\\\", \\\"zindex\\\": 1}, {\\\"orient\\\": \\\"top\\\", \\\"scale\\\": \\\"x\\\", \\\"domain\\\": false, \\\"grid\\\": true, \\\"labels\\\": false, \\\"maxExtent\\\": 0, \\\"minExtent\\\": 0, \\\"tickCount\\\": {\\\"signal\\\": \\\"ceil(width/40)\\\"}, \\\"ticks\\\": false, \\\"zindex\\\": 0, \\\"gridScale\\\": \\\"y\\\"}, {\\\"scale\\\": \\\"y\\\", \\\"labelOverlap\\\": true, \\\"orient\\\": \\\"left\\\", \\\"title\\\": \\\"Label\\\", \\\"zindex\\\": 1}]}], \\\"type\\\": \\\"group\\\"}], \\\"type\\\": \\\"group\\\"}], \\\"config\\\": {\\\"axis\\\": {\\\"labelFont\\\": \\\"HelveticaNeue-Light, Arial\\\", \\\"labelFontSize\\\": 7, \\\"labelPadding\\\": 10, \\\"labelColor\\\": \\\"#595959\\\", \\\"titleFont\\\": \\\"HelveticaNeue-Light, Arial\\\", \\\"titleFontWeight\\\": \\\"normal\\\", \\\"titlePadding\\\": 9, \\\"titleFontSize\\\": 12, \\\"titleColor\\\": \\\"#595959\\\"}, \\\"axisY\\\": {\\\"minExtent\\\": 30}, \\\"style\\\": {\\\"rect\\\": {\\\"stroke\\\": \\\"rgba(200, 200, 200, 0.5)\\\"}, \\\"group-title\\\": {\\\"fontSize\\\": 20, \\\"font\\\": \\\"HelveticaNeue-Light, Arial\\\", \\\"fontWeight\\\": \\\"normal\\\", \\\"fill\\\": \\\"#595959\\\"}}}}\";                                 var vega_json_parsed = JSON.parse(vega_json);                                 var toolTipOpts = {                                     showAllFields: true                                 };                                 if(vega_json_parsed[\"metadata\"] != null){                                     if(vega_json_parsed[\"metadata\"][\"bubbleOpts\"] != null){                                         toolTipOpts = vega_json_parsed[\"metadata\"][\"bubbleOpts\"];                                     };                                 };                                 vegaEmbed(\"#vis\", vega_json_parsed).then(function (result) {                                     vegaTooltip.vega(result.view, toolTipOpts);                                  });                             </script>                         </body>                     </html>' src=\"demo_iframe_srcdoc.htm\">                         <p>Your browser does not support iframes.</p>                     </iframe>                 </body>             </html>"
     },
     "metadata": {},
     "output_type": "display_data"
    }
   ]
  },
  {
   "cell_type": "code",
   "metadata": {
    "id": "keOHakis0P2j",
    "pycharm": {
     "name": "#%%\n"
    }
   },
   "source": [
    "sf[:10000].save('small_libary2.csv')"
   ],
   "execution_count": 4,
   "outputs": []
  },
  {
   "cell_type": "markdown",
   "source": [
    "**Question 1:** Write a function that returns the most popular book in each subject. Use it to find the most popular book in\n",
    "    the _Mystery Fiction_ subject (15pt)"
   ],
   "metadata": {
    "collapsed": false,
    "pycharm": {
     "name": "#%% md\n"
    }
   }
  },
  {
   "cell_type": "code",
   "execution_count": 35,
   "outputs": [
    {
     "data": {
      "text/plain": "Finished parsing file /home/amityu/code/BigData/hw3/small_libary2.csv",
      "text/html": "<pre>Finished parsing file /home/amityu/code/BigData/hw3/small_libary2.csv</pre>"
     },
     "metadata": {},
     "output_type": "display_data"
    },
    {
     "data": {
      "text/plain": "Parsing completed. Parsed 100 lines in 0.076507 secs.",
      "text/html": "<pre>Parsing completed. Parsed 100 lines in 0.076507 secs.</pre>"
     },
     "metadata": {},
     "output_type": "display_data"
    },
    {
     "name": "stdout",
     "output_type": "stream",
     "text": [
      "------------------------------------------------------\n",
      "Inferred types from first 100 line(s) of file as \n",
      "column_type_hints=[int,str,str,str,str,str,str,str,str,str,str,str,int]\n",
      "If parsing fails due to incorrect types, you can correct\n",
      "the inferred type list above and pass it to read_csv in\n",
      "the column_type_hints argument\n",
      "------------------------------------------------------\n"
     ]
    },
    {
     "data": {
      "text/plain": "Finished parsing file /home/amityu/code/BigData/hw3/small_libary2.csv",
      "text/html": "<pre>Finished parsing file /home/amityu/code/BigData/hw3/small_libary2.csv</pre>"
     },
     "metadata": {},
     "output_type": "display_data"
    },
    {
     "data": {
      "text/plain": "Parsing completed. Parsed 10000 lines in 0.112097 secs.",
      "text/html": "<pre>Parsing completed. Parsed 10000 lines in 0.112097 secs.</pre>"
     },
     "metadata": {},
     "output_type": "display_data"
    }
   ],
   "source": [
    "#loading the data\n",
    "import turicreate as tc\n",
    "import turicreate.aggregate as agg\n",
    "sf = tc.SFrame.read_csv('small_libary2.csv')\n"
   ],
   "metadata": {
    "collapsed": false,
    "pycharm": {
     "name": "#%%\n"
    }
   }
  },
  {
   "cell_type": "code",
   "execution_count": 36,
   "outputs": [],
   "source": [
    "#exctacting year of the publication date\n",
    "import re\n",
    "r = re.compile('\\\\d{4}')\n",
    "def get_year(y_str):\n",
    "    l = r.findall(y_str) # take the first year\n",
    "    if len(l) == 0:\n",
    "        return None\n",
    "    return int(l[0])\n",
    "\n",
    "sf['year'] = sf['PublicationYear'].apply(lambda s: get_year(s))\n",
    "sf.materialize()\n"
   ],
   "metadata": {
    "collapsed": false,
    "pycharm": {
     "name": "#%%\n"
    }
   }
  },
  {
   "cell_type": "code",
   "execution_count": 31,
   "outputs": [
    {
     "name": "stdout",
     "output_type": "stream",
     "text": [
      "most popular title in the subject Mystery fiction\n",
      "{'Title': 'No shred of evidence / Charles Todd.', 'count': 4}\n"
     ]
    }
   ],
   "source": [
    "import turicreate.aggregate as agg\n",
    "def subject_popular(sf, subject):\n",
    "    new_sf = sf[sf['Subjects'].apply(lambda x : subject in x)]\n",
    "    return new_sf.groupby('Title', {'count': agg.SUM('ItemCount')}).sort('count', ascending=False)[0]\n",
    "\n",
    "popular_item = subject_popular(sf, 'Mystery fiction')\n",
    "print('most popular title in the subject Mystery fiction')\n",
    "print(popular_item)"
   ],
   "metadata": {
    "collapsed": false,
    "pycharm": {
     "name": "#%%\n"
    }
   }
  },
  {
   "cell_type": "markdown",
   "source": [
    "**Question 2**: Find the top-10 fiction subjects (5pt), and use Seaborn to visualize the number of items over time for each subject (15pt)\n"
   ],
   "metadata": {
    "collapsed": false,
    "pycharm": {
     "name": "#%% md\n"
    }
   }
  },
  {
   "cell_type": "code",
   "execution_count": 37,
   "outputs": [
    {
     "name": "stdout",
     "output_type": "stream",
     "text": [
      "+-------------------------------+------+-----------------+\n",
      "|            subject            | year | YearlyItemCount |\n",
      "+-------------------------------+------+-----------------+\n",
      "|   Pakistan Social conditions  | 2015 |        1        |\n",
      "| Windsor Edward Duke of 189... | 2012 |        1        |\n",
      "|  Exhibitions Washington St... | 2009 |        1        |\n",
      "|   Werewolves Juvenile fiction | 2009 |        1        |\n",
      "|  Immortality Juvenile fiction | 2015 |        1        |\n",
      "|       Elk Rocky Mountains     | 1984 |        1        |\n",
      "|  Inner cities Massachusett... | 2010 |        1        |\n",
      "|     Sick Juvenile fiction     | 2015 |        2        |\n",
      "|      Success in business      | 2015 |        2        |\n",
      "|  Magic Comic books strips etc | 2012 |        3        |\n",
      "+-------------------------------+------+-----------------+\n",
      "[28839 rows x 3 columns]\n",
      "\n"
     ]
    }
   ],
   "source": [
    "\n",
    "sf['subjects_list'] = sf['Subjects'].apply(lambda x: list(x.split(',')))\n",
    "s_sf = sf.stack('subjects_list', new_column_name='subject')\n",
    "s_sf.save('sf_after_subject_stack.csv')\n",
    "s_sf= s_sf.groupby(['year', 'subject'],  {'YearlyItemCount': agg.SUM('ItemCount')})\n",
    "\n",
    "s_sf.print_rows(10)"
   ],
   "metadata": {
    "collapsed": false,
    "pycharm": {
     "name": "#%%\n"
    }
   }
  },
  {
   "cell_type": "code",
   "execution_count": 38,
   "outputs": [
    {
     "name": "stdout",
     "output_type": "stream",
     "text": [
      "+---------------------+-------+\n",
      "|       subject       | count |\n",
      "+---------------------+-------+\n",
      "|    Mystery fiction  |  313  |\n",
      "|  Historical fiction |  232  |\n",
      "|   Suspense fiction  |  177  |\n",
      "|    Science fiction  |  141  |\n",
      "|    Fantasy fiction  |  141  |\n",
      "+---------------------+-------+\n",
      "[2124 rows x 2 columns]\n",
      "\n",
      "the top 10 subjects are\n",
      "+--------------------------------+-------+\n",
      "|            subject             | count |\n",
      "+--------------------------------+-------+\n",
      "|         Mystery fiction        |  313  |\n",
      "|       Historical fiction       |  232  |\n",
      "|        Suspense fiction        |  177  |\n",
      "|         Science fiction        |  141  |\n",
      "|         Fantasy fiction        |  141  |\n",
      "|      Psychological fiction     |  127  |\n",
      "|  Detective and mystery fiction |  124  |\n",
      "|        Domestic fiction        |  118  |\n",
      "|   Friendship Juvenile fiction  |  101  |\n",
      "|        Nonfiction films        |   97  |\n",
      "+--------------------------------+-------+\n",
      "[10 rows x 2 columns]\n",
      "\n"
     ]
    }
   ],
   "source": [
    "s_sf = s_sf[s_sf['subject'].apply(lambda x: 'fiction' in x)]\n",
    "s_sf  = s_sf.groupby('subject', {'count': agg.SUM('YearlyItemCount')}).sort('count', ascending=False)\n",
    "s_sf.print_rows(5)\n",
    "top_subjects = s_sf[:10]\n",
    "print('the top 10 subjects are')\n",
    "top_subjects.print_rows(10)\n",
    "top_subjects.save('top_subjects.csv')"
   ],
   "metadata": {
    "collapsed": false,
    "pycharm": {
     "name": "#%%\n"
    }
   }
  },
  {
   "cell_type": "code",
   "execution_count": 7,
   "outputs": [
    {
     "data": {
      "text/plain": "Finished parsing file /home/amityu/code/BigData/hw3/sf_after_subject_stack.csv",
      "text/html": "<pre>Finished parsing file /home/amityu/code/BigData/hw3/sf_after_subject_stack.csv</pre>"
     },
     "metadata": {},
     "output_type": "display_data"
    },
    {
     "data": {
      "text/plain": "Parsing completed. Parsed 100 lines in 0.385142 secs.",
      "text/html": "<pre>Parsing completed. Parsed 100 lines in 0.385142 secs.</pre>"
     },
     "metadata": {},
     "output_type": "display_data"
    },
    {
     "name": "stdout",
     "output_type": "stream",
     "text": [
      "------------------------------------------------------\n",
      "Inferred types from first 100 line(s) of file as \n",
      "column_type_hints=[int,str,str,str,str,str,str,str,str,str,str,str,int,int,str]\n",
      "If parsing fails due to incorrect types, you can correct\n",
      "the inferred type list above and pass it to read_csv in\n",
      "the column_type_hints argument\n",
      "------------------------------------------------------\n"
     ]
    },
    {
     "data": {
      "text/plain": "Finished parsing file /home/amityu/code/BigData/hw3/sf_after_subject_stack.csv",
      "text/html": "<pre>Finished parsing file /home/amityu/code/BigData/hw3/sf_after_subject_stack.csv</pre>"
     },
     "metadata": {},
     "output_type": "display_data"
    },
    {
     "data": {
      "text/plain": "Parsing completed. Parsed 39244 lines in 0.254442 secs.",
      "text/html": "<pre>Parsing completed. Parsed 39244 lines in 0.254442 secs.</pre>"
     },
     "metadata": {},
     "output_type": "display_data"
    },
    {
     "data": {
      "text/plain": "Finished parsing file /home/amityu/code/BigData/hw3/top_subjects.csv",
      "text/html": "<pre>Finished parsing file /home/amityu/code/BigData/hw3/top_subjects.csv</pre>"
     },
     "metadata": {},
     "output_type": "display_data"
    },
    {
     "name": "stdout",
     "output_type": "stream",
     "text": [
      "------------------------------------------------------\n",
      "Inferred types from first 100 line(s) of file as \n",
      "column_type_hints=[str,int]\n",
      "If parsing fails due to incorrect types, you can correct\n",
      "the inferred type list above and pass it to read_csv in\n",
      "the column_type_hints argument\n",
      "------------------------------------------------------\n"
     ]
    },
    {
     "data": {
      "text/plain": "Parsing completed. Parsed 10 lines in 0.006308 secs.",
      "text/html": "<pre>Parsing completed. Parsed 10 lines in 0.006308 secs.</pre>"
     },
     "metadata": {},
     "output_type": "display_data"
    },
    {
     "data": {
      "text/plain": "Finished parsing file /home/amityu/code/BigData/hw3/top_subjects.csv",
      "text/html": "<pre>Finished parsing file /home/amityu/code/BigData/hw3/top_subjects.csv</pre>"
     },
     "metadata": {},
     "output_type": "display_data"
    },
    {
     "data": {
      "text/plain": "Parsing completed. Parsed 10 lines in 0.009344 secs.",
      "text/html": "<pre>Parsing completed. Parsed 10 lines in 0.009344 secs.</pre>"
     },
     "metadata": {},
     "output_type": "display_data"
    },
    {
     "data": {
      "text/plain": "<AxesSubplot:xlabel='year'>"
     },
     "execution_count": 7,
     "metadata": {},
     "output_type": "execute_result"
    },
    {
     "data": {
      "text/plain": "<Figure size 432x288 with 1 Axes>",
      "image/png": "[encoded data removed]"
     },
     "metadata": {
      "needs_background": "light"
     },
     "output_type": "display_data"
    }
   ],
   "source": [
    "import pandas as pd\n",
    "import turicreate as tc\n",
    "import turicreate.aggregate as agg\n",
    "s_sf = tc.load_sframe('sf_after_subject_stack.csv')\n",
    "top_subjects = tc.load_sframe('top_subjects.csv')\n",
    "t_sf = top_subjects.join(s_sf)\n",
    "t_sf= t_sf.groupby(['year', 'subject'],  {'count': agg.SUM('ItemCount')})\n",
    "df =t_sf.to_dataframe()\n",
    "df = df.pivot(index = 'year', columns='subject', values='count')\n",
    "import matplotlib.pyplot as plt\n",
    "import seaborn as sns\n",
    "sns.lineplot(data = df)\n"
   ],
   "metadata": {
    "collapsed": false,
    "pycharm": {
     "name": "#%%\n"
    }
   }
  },
  {
   "cell_type": "code",
   "execution_count": 6,
   "outputs": [
    {
     "data": {
      "text/plain": "<AxesSubplot:xlabel='year'>"
     },
     "execution_count": 6,
     "metadata": {},
     "output_type": "execute_result"
    },
    {
     "data": {
      "text/plain": "<Figure size 432x288 with 1 Axes>",
      "image/png": "[encoded data removed]"
     },
     "metadata": {
      "needs_background": "light"
     },
     "output_type": "display_data"
    }
   ],
   "source": [],
   "metadata": {
    "collapsed": false,
    "pycharm": {
     "name": "#%%\n"
    }
   }
  },
  {
   "cell_type": "markdown",
   "source": [
    "**\n",
    "Question 3:** Write a function that gets as input a subject name. The function returns the top-20 most _popular_ authors for the input subject (15pt).\n",
    "\n"
   ],
   "metadata": {
    "collapsed": false,
    "pycharm": {
     "name": "#%% md\n"
    }
   }
  },
  {
   "cell_type": "code",
   "execution_count": 15,
   "outputs": [
    {
     "name": "stdout",
     "output_type": "stream",
     "text": [
      "+-------------------------------+-------+\n",
      "|             Author            | count |\n",
      "+-------------------------------+-------+\n",
      "|       Fry, Jason, 1969-       |   14  |\n",
      "|      Gibbs, Stuart, 1969-     |   4   |\n",
      "|         Scieszka, Jon         |   3   |\n",
      "|         Roth, Veronica        |   3   |\n",
      "|      Luceno, James, 1947-     |   3   |\n",
      "|       Bear, Greg, 1951-       |   3   |\n",
      "|         Crouch, Blake         |   3   |\n",
      "|     McCaffrey, Todd, 1956-    |   2   |\n",
      "|      Weber, David, 1952-      |   2   |\n",
      "|      Brown, Pierce, 1988-     |   2   |\n",
      "|       Delany, Samuel R.       |   2   |\n",
      "|           Weir, Andy          |   2   |\n",
      "|  Modesitt, L. E., Jr., 1943-  |   2   |\n",
      "|       Butler, Octavia E.      |   2   |\n",
      "|         Dayton, Arwen         |   2   |\n",
      "| Clarke, Arthur C. (Arthur ... |   2   |\n",
      "|         Pineiro, R. J.        |   2   |\n",
      "|   Castellucci, Cecil, 1969-   |   2   |\n",
      "|        McCaffrey, Anne        |   2   |\n",
      "|  Crichton, Michael, 1942-2008 |   2   |\n",
      "+-------------------------------+-------+\n",
      "[20 rows x 2 columns]\n",
      "\n"
     ]
    }
   ],
   "source": [
    "def popular_authors(sf :tc.SFrame, subject):\n",
    "\n",
    "    '''\n",
    "\n",
    "    :param sf: sframe with stacked with column subject\n",
    "    :param subject:\n",
    "    :return:\n",
    "    '''\n",
    "    sf = sf[(sf['subject'] == subject) & (sf['Author'] != '')].dropna()\n",
    "\n",
    "    return  sf.groupby('Author', {'count':agg.SUM('ItemCount')}).sort('count', ascending = False)[:20]\n",
    "\n",
    "popular_authors(s_sf, 'Science fiction').print_rows(20)\n",
    "\n",
    "\n"
   ],
   "metadata": {
    "collapsed": false,
    "pycharm": {
     "name": "#%%\n"
    }
   }
  },
  {
   "cell_type": "markdown",
   "metadata": {
    "id": "w5glNK9H0P2r",
    "pycharm": {
     "name": "#%% md\n"
    }
   },
   "source": [
    "Using the [The Blog Authorship Corpus](https://www.kaggle.com/rtatman/blog-authorship-corpus.htm) and TuriCreate, please answer the following questions:"
   ]
  },
  {
   "cell_type": "markdown",
   "metadata": {
    "id": "DrxFfd-i0P2s",
    "pycharm": {
     "name": "#%% md\n"
    }
   },
   "source": [
    "**Question 4:** Calculate the average and median age of bloggers in each topic by gender(5pt). \n",
    "Calculate the average and median age of bloggers according to their sign (5pt). \n",
    "Visualize the age distributions  of bloggers according to their  topic and gender using Seaborn and PlotlyExpress(15pt)"
   ]
  },
  {
   "cell_type": "code",
   "metadata": {
    "id": "0J2gbaCw0P2t",
    "pycharm": {
     "name": "#%%\n"
    }
   },
   "source": [
    "!mkdir ./datasets/blog\n",
    "\n",
    "# download the dataset from Kaggle and unzip it\n",
    "!kaggle datasets download rtatman/blog-authorship-corpus -p ./datasets/blog\n",
    "\n",
    "!unzip  ./datasets/blog/* -d  ./datasets/blog"
   ],
   "execution_count": 16,
   "outputs": [
    {
     "name": "stdout",
     "output_type": "stream",
     "text": [
      "Downloading blog-authorship-corpus.zip to ./datasets/blog\r\n",
      "100%|████████████████████████████████████████| 290M/290M [00:13<00:00, 19.1MB/s]\r\n",
      "100%|████████████████████████████████████████| 290M/290M [00:13<00:00, 22.5MB/s]\r\n",
      "Archive:  ./datasets/blog/blog-authorship-corpus.zip\r\n",
      "  inflating: ./datasets/blog/blogtext.csv  \r\n"
     ]
    }
   ]
  },
  {
   "cell_type": "code",
   "execution_count": 1,
   "outputs": [],
   "source": [
    "import turicreate as tc\n",
    "import turicreate.aggregate as agg\n",
    "\n",
    "import pandas as pd\n",
    "df = pd.read_csv('./datasets/blog/blogtext.csv')\n",
    "#sf = tc.SFrame(df)\n",
    "#sf.show()"
   ],
   "metadata": {
    "collapsed": false,
    "pycharm": {
     "name": "#%%\n"
    }
   }
  },
  {
   "cell_type": "code",
   "execution_count": 5,
   "outputs": [
    {
     "data": {
      "text/plain": "Columns:\n\tgender\tstr\n\ttopic\tstr\n\tmedian\tarray\n\tmean\tfloat\n\nRows: 80\n\nData:\n+--------+----------------------+--------+--------------------+\n| gender |        topic         | median |        mean        |\n+--------+----------------------+--------+--------------------+\n| female |       Military       | [23.0] | 23.717005076142133 |\n| female |      Marketing       | [26.0] | 26.04315659679408  |\n| female |         Arts         | [24.0] | 25.50335145405605  |\n|  male  |  InvestmentBanking   | [33.0] | 29.468933177022276 |\n| female | Communications-Media | [25.0] | 25.87068601211439  |\n| female |       Internet       | [27.0] | 29.373342974210654 |\n|  male  |     Environment      | [23.0] | 22.846938775510203 |\n| female |    Manufacturing     | [27.0] | 28.985195154777927 |\n|  male  |     Advertising      | [26.0] | 29.830090791180286 |\n|  male  |  Sports-Recreation   | [23.0] | 23.991891891891893 |\n+--------+----------------------+--------+--------------------+\n[80 rows x 4 columns]\nNote: Only the head of the SFrame is printed.\nYou can use print_rows(num_rows=m, num_columns=n) to print more rows and columns.",
      "text/html": "<div style=\"max-height:1000px;max-width:1500px;overflow:auto;\"><table frame=\"box\" rules=\"cols\">\n    <tr>\n        <th style=\"padding-left: 1em; padding-right: 1em; text-align: center\">gender</th>\n        <th style=\"padding-left: 1em; padding-right: 1em; text-align: center\">topic</th>\n        <th style=\"padding-left: 1em; padding-right: 1em; text-align: center\">median</th>\n        <th style=\"padding-left: 1em; padding-right: 1em; text-align: center\">mean</th>\n    </tr>\n    <tr>\n        <td style=\"padding-left: 1em; padding-right: 1em; text-align: center; vertical-align: top\">female</td>\n        <td style=\"padding-left: 1em; padding-right: 1em; text-align: center; vertical-align: top\">Military</td>\n        <td style=\"padding-left: 1em; padding-right: 1em; text-align: center; vertical-align: top\">[23.0]</td>\n        <td style=\"padding-left: 1em; padding-right: 1em; text-align: center; vertical-align: top\">23.717005076142133</td>\n    </tr>\n    <tr>\n        <td style=\"padding-left: 1em; padding-right: 1em; text-align: center; vertical-align: top\">female</td>\n        <td style=\"padding-left: 1em; padding-right: 1em; text-align: center; vertical-align: top\">Marketing</td>\n        <td style=\"padding-left: 1em; padding-right: 1em; text-align: center; vertical-align: top\">[26.0]</td>\n        <td style=\"padding-left: 1em; padding-right: 1em; text-align: center; vertical-align: top\">26.04315659679408</td>\n    </tr>\n    <tr>\n        <td style=\"padding-left: 1em; padding-right: 1em; text-align: center; vertical-align: top\">female</td>\n        <td style=\"padding-left: 1em; padding-right: 1em; text-align: center; vertical-align: top\">Arts</td>\n        <td style=\"padding-left: 1em; padding-right: 1em; text-align: center; vertical-align: top\">[24.0]</td>\n        <td style=\"padding-left: 1em; padding-right: 1em; text-align: center; vertical-align: top\">25.50335145405605</td>\n    </tr>\n    <tr>\n        <td style=\"padding-left: 1em; padding-right: 1em; text-align: center; vertical-align: top\">male</td>\n        <td style=\"padding-left: 1em; padding-right: 1em; text-align: center; vertical-align: top\">InvestmentBanking</td>\n        <td style=\"padding-left: 1em; padding-right: 1em; text-align: center; vertical-align: top\">[33.0]</td>\n        <td style=\"padding-left: 1em; padding-right: 1em; text-align: center; vertical-align: top\">29.468933177022276</td>\n    </tr>\n    <tr>\n        <td style=\"padding-left: 1em; padding-right: 1em; text-align: center; vertical-align: top\">female</td>\n        <td style=\"padding-left: 1em; padding-right: 1em; text-align: center; vertical-align: top\">Communications-Media</td>\n        <td style=\"padding-left: 1em; padding-right: 1em; text-align: center; vertical-align: top\">[25.0]</td>\n        <td style=\"padding-left: 1em; padding-right: 1em; text-align: center; vertical-align: top\">25.87068601211439</td>\n    </tr>\n    <tr>\n        <td style=\"padding-left: 1em; padding-right: 1em; text-align: center; vertical-align: top\">female</td>\n        <td style=\"padding-left: 1em; padding-right: 1em; text-align: center; vertical-align: top\">Internet</td>\n        <td style=\"padding-left: 1em; padding-right: 1em; text-align: center; vertical-align: top\">[27.0]</td>\n        <td style=\"padding-left: 1em; padding-right: 1em; text-align: center; vertical-align: top\">29.373342974210654</td>\n    </tr>\n    <tr>\n        <td style=\"padding-left: 1em; padding-right: 1em; text-align: center; vertical-align: top\">male</td>\n        <td style=\"padding-left: 1em; padding-right: 1em; text-align: center; vertical-align: top\">Environment</td>\n        <td style=\"padding-left: 1em; padding-right: 1em; text-align: center; vertical-align: top\">[23.0]</td>\n        <td style=\"padding-left: 1em; padding-right: 1em; text-align: center; vertical-align: top\">22.846938775510203</td>\n    </tr>\n    <tr>\n        <td style=\"padding-left: 1em; padding-right: 1em; text-align: center; vertical-align: top\">female</td>\n        <td style=\"padding-left: 1em; padding-right: 1em; text-align: center; vertical-align: top\">Manufacturing</td>\n        <td style=\"padding-left: 1em; padding-right: 1em; text-align: center; vertical-align: top\">[27.0]</td>\n        <td style=\"padding-left: 1em; padding-right: 1em; text-align: center; vertical-align: top\">28.985195154777927</td>\n    </tr>\n    <tr>\n        <td style=\"padding-left: 1em; padding-right: 1em; text-align: center; vertical-align: top\">male</td>\n        <td style=\"padding-left: 1em; padding-right: 1em; text-align: center; vertical-align: top\">Advertising</td>\n        <td style=\"padding-left: 1em; padding-right: 1em; text-align: center; vertical-align: top\">[26.0]</td>\n        <td style=\"padding-left: 1em; padding-right: 1em; text-align: center; vertical-align: top\">29.830090791180286</td>\n    </tr>\n    <tr>\n        <td style=\"padding-left: 1em; padding-right: 1em; text-align: center; vertical-align: top\">male</td>\n        <td style=\"padding-left: 1em; padding-right: 1em; text-align: center; vertical-align: top\">Sports-Recreation</td>\n        <td style=\"padding-left: 1em; padding-right: 1em; text-align: center; vertical-align: top\">[23.0]</td>\n        <td style=\"padding-left: 1em; padding-right: 1em; text-align: center; vertical-align: top\">23.991891891891893</td>\n    </tr>\n</table>\n[80 rows x 4 columns]<br/>Note: Only the head of the SFrame is printed.<br/>You can use print_rows(num_rows=m, num_columns=n) to print more rows and columns.\n</div>"
     },
     "execution_count": 5,
     "metadata": {},
     "output_type": "execute_result"
    }
   ],
   "source": [
    "sf.groupby(['topic','gender'], {'median' : agg.QUANTILE('age', 0.5),'mean':agg.MEAN('age') })"
   ],
   "metadata": {
    "collapsed": false,
    "pycharm": {
     "name": "#%%\n"
    }
   }
  },
  {
   "cell_type": "code",
   "execution_count": 6,
   "outputs": [
    {
     "data": {
      "text/plain": "Columns:\n\tsign\tstr\n\tmedian\tarray\n\tmean\tfloat\n\nRows: 12\n\nData:\n+-------------+--------+--------------------+\n|     sign    | median |        mean        |\n+-------------+--------+--------------------+\n|   Scorpio   | [23.0] | 23.634331099875784 |\n|    Cancer   | [25.0] | 24.470437215594654 |\n|    Taurus   | [24.0] | 23.455954987931786 |\n|   Aquarius  | [24.0] | 23.537182764103285 |\n|    Pisces   | [24.0] | 25.033319149723418 |\n|    Aries    | [24.0] | 25.18413641330276  |\n|  Capricorn  | [24.0] | 24.09839230909939  |\n|    Libra    | [24.0] | 22.460737937559127 |\n|    Gemini   | [24.0] | 23.944195440992594 |\n| Sagittarius | [24.0] | 23.75247821568469  |\n+-------------+--------+--------------------+\n[12 rows x 3 columns]\nNote: Only the head of the SFrame is printed.\nYou can use print_rows(num_rows=m, num_columns=n) to print more rows and columns.",
      "text/html": "<div style=\"max-height:1000px;max-width:1500px;overflow:auto;\"><table frame=\"box\" rules=\"cols\">\n    <tr>\n        <th style=\"padding-left: 1em; padding-right: 1em; text-align: center\">sign</th>\n        <th style=\"padding-left: 1em; padding-right: 1em; text-align: center\">median</th>\n        <th style=\"padding-left: 1em; padding-right: 1em; text-align: center\">mean</th>\n    </tr>\n    <tr>\n        <td style=\"padding-left: 1em; padding-right: 1em; text-align: center; vertical-align: top\">Scorpio</td>\n        <td style=\"padding-left: 1em; padding-right: 1em; text-align: center; vertical-align: top\">[23.0]</td>\n        <td style=\"padding-left: 1em; padding-right: 1em; text-align: center; vertical-align: top\">23.634331099875784</td>\n    </tr>\n    <tr>\n        <td style=\"padding-left: 1em; padding-right: 1em; text-align: center; vertical-align: top\">Cancer</td>\n        <td style=\"padding-left: 1em; padding-right: 1em; text-align: center; vertical-align: top\">[25.0]</td>\n        <td style=\"padding-left: 1em; padding-right: 1em; text-align: center; vertical-align: top\">24.470437215594654</td>\n    </tr>\n    <tr>\n        <td style=\"padding-left: 1em; padding-right: 1em; text-align: center; vertical-align: top\">Taurus</td>\n        <td style=\"padding-left: 1em; padding-right: 1em; text-align: center; vertical-align: top\">[24.0]</td>\n        <td style=\"padding-left: 1em; padding-right: 1em; text-align: center; vertical-align: top\">23.455954987931786</td>\n    </tr>\n    <tr>\n        <td style=\"padding-left: 1em; padding-right: 1em; text-align: center; vertical-align: top\">Aquarius</td>\n        <td style=\"padding-left: 1em; padding-right: 1em; text-align: center; vertical-align: top\">[24.0]</td>\n        <td style=\"padding-left: 1em; padding-right: 1em; text-align: center; vertical-align: top\">23.537182764103285</td>\n    </tr>\n    <tr>\n        <td style=\"padding-left: 1em; padding-right: 1em; text-align: center; vertical-align: top\">Pisces</td>\n        <td style=\"padding-left: 1em; padding-right: 1em; text-align: center; vertical-align: top\">[24.0]</td>\n        <td style=\"padding-left: 1em; padding-right: 1em; text-align: center; vertical-align: top\">25.033319149723418</td>\n    </tr>\n    <tr>\n        <td style=\"padding-left: 1em; padding-right: 1em; text-align: center; vertical-align: top\">Aries</td>\n        <td style=\"padding-left: 1em; padding-right: 1em; text-align: center; vertical-align: top\">[24.0]</td>\n        <td style=\"padding-left: 1em; padding-right: 1em; text-align: center; vertical-align: top\">25.18413641330276</td>\n    </tr>\n    <tr>\n        <td style=\"padding-left: 1em; padding-right: 1em; text-align: center; vertical-align: top\">Capricorn</td>\n        <td style=\"padding-left: 1em; padding-right: 1em; text-align: center; vertical-align: top\">[24.0]</td>\n        <td style=\"padding-left: 1em; padding-right: 1em; text-align: center; vertical-align: top\">24.09839230909939</td>\n    </tr>\n    <tr>\n        <td style=\"padding-left: 1em; padding-right: 1em; text-align: center; vertical-align: top\">Libra</td>\n        <td style=\"padding-left: 1em; padding-right: 1em; text-align: center; vertical-align: top\">[24.0]</td>\n        <td style=\"padding-left: 1em; padding-right: 1em; text-align: center; vertical-align: top\">22.460737937559127</td>\n    </tr>\n    <tr>\n        <td style=\"padding-left: 1em; padding-right: 1em; text-align: center; vertical-align: top\">Gemini</td>\n        <td style=\"padding-left: 1em; padding-right: 1em; text-align: center; vertical-align: top\">[24.0]</td>\n        <td style=\"padding-left: 1em; padding-right: 1em; text-align: center; vertical-align: top\">23.944195440992594</td>\n    </tr>\n    <tr>\n        <td style=\"padding-left: 1em; padding-right: 1em; text-align: center; vertical-align: top\">Sagittarius</td>\n        <td style=\"padding-left: 1em; padding-right: 1em; text-align: center; vertical-align: top\">[24.0]</td>\n        <td style=\"padding-left: 1em; padding-right: 1em; text-align: center; vertical-align: top\">23.75247821568469</td>\n    </tr>\n</table>\n[12 rows x 3 columns]<br/>Note: Only the head of the SFrame is printed.<br/>You can use print_rows(num_rows=m, num_columns=n) to print more rows and columns.\n</div>"
     },
     "execution_count": 6,
     "metadata": {},
     "output_type": "execute_result"
    }
   ],
   "source": [
    "sf.groupby(['sign'], {'median' : agg.QUANTILE('age', 0.5),'mean':agg.MEAN('age') })\n"
   ],
   "metadata": {
    "collapsed": false,
    "pycharm": {
     "name": "#%%\n"
    }
   }
  },
  {
   "cell_type": "code",
   "execution_count": 19,
   "outputs": [
    {
     "ename": "ValueError",
     "evalue": "Value of 'x' is not the name of a column in 'data_frame'. Expected one of ['Rank', 'Sourceid', 'Title', 'Type', 'Issn', 'SJR', 'SJR Best Quartile', 'H index', 'Total Docs. (2020)', 'Total Docs. (3years)', 'Total Refs.', 'Total Cites (3years)', 'Citable Docs. (3years)', 'Cites / Doc. (2years)', 'Ref. / Doc.', 'Country', 'Region', 'Publisher', 'Coverage', 'Categories'] but received: topic",
     "output_type": "error",
     "traceback": [
      "\u001B[0;31m---------------------------------------------------------------------------\u001B[0m",
      "\u001B[0;31mValueError\u001B[0m                                Traceback (most recent call last)",
      "\u001B[0;32m<ipython-input-19-070d6b436ca4>\u001B[0m in \u001B[0;36m<module>\u001B[0;34m\u001B[0m\n\u001B[1;32m      1\u001B[0m \u001B[0;32mimport\u001B[0m \u001B[0mplotly\u001B[0m\u001B[0;34m.\u001B[0m\u001B[0mexpress\u001B[0m \u001B[0;32mas\u001B[0m \u001B[0mpx\u001B[0m\u001B[0;34m\u001B[0m\u001B[0;34m\u001B[0m\u001B[0m\n\u001B[1;32m      2\u001B[0m \u001B[0;34m\u001B[0m\u001B[0m\n\u001B[0;32m----> 3\u001B[0;31m \u001B[0mfig\u001B[0m \u001B[0;34m=\u001B[0m \u001B[0mpx\u001B[0m\u001B[0;34m.\u001B[0m\u001B[0mdensity_heatmap\u001B[0m\u001B[0;34m(\u001B[0m\u001B[0mdf\u001B[0m\u001B[0;34m,\u001B[0m \u001B[0mx\u001B[0m\u001B[0;34m=\u001B[0m\u001B[0;34m\"topic\"\u001B[0m\u001B[0;34m,\u001B[0m \u001B[0my\u001B[0m\u001B[0;34m=\u001B[0m\u001B[0;34m\"age\"\u001B[0m\u001B[0;34m,\u001B[0m \u001B[0mmarginal_x\u001B[0m\u001B[0;34m=\u001B[0m\u001B[0;34m\"histogram\"\u001B[0m\u001B[0;34m,\u001B[0m \u001B[0mmarginal_y\u001B[0m\u001B[0;34m=\u001B[0m\u001B[0;34m\"histogram\"\u001B[0m\u001B[0;34m,\u001B[0m\u001B[0mfacet_col\u001B[0m\u001B[0;34m=\u001B[0m\u001B[0;34m\"gender\"\u001B[0m\u001B[0;34m)\u001B[0m\u001B[0;34m\u001B[0m\u001B[0;34m\u001B[0m\u001B[0m\n\u001B[0m\u001B[1;32m      4\u001B[0m \u001B[0mfig\u001B[0m\u001B[0;34m.\u001B[0m\u001B[0mshow\u001B[0m\u001B[0;34m(\u001B[0m\u001B[0;34m)\u001B[0m\u001B[0;34m\u001B[0m\u001B[0;34m\u001B[0m\u001B[0m\n",
      "\u001B[0;32m~/code/BigData/turi_env/lib/python3.6/site-packages/plotly/express/_chart_types.py\u001B[0m in \u001B[0;36mdensity_heatmap\u001B[0;34m(data_frame, x, y, z, facet_row, facet_col, facet_col_wrap, facet_row_spacing, facet_col_spacing, hover_name, hover_data, animation_frame, animation_group, category_orders, labels, orientation, color_continuous_scale, range_color, color_continuous_midpoint, marginal_x, marginal_y, opacity, log_x, log_y, range_x, range_y, histfunc, histnorm, nbinsx, nbinsy, text_auto, title, template, width, height)\u001B[0m\n\u001B[1;32m    194\u001B[0m             \u001B[0mnbinsy\u001B[0m\u001B[0;34m=\u001B[0m\u001B[0mnbinsy\u001B[0m\u001B[0;34m,\u001B[0m\u001B[0;34m\u001B[0m\u001B[0;34m\u001B[0m\u001B[0m\n\u001B[1;32m    195\u001B[0m             \u001B[0mxbingroup\u001B[0m\u001B[0;34m=\u001B[0m\u001B[0;34m\"x\"\u001B[0m\u001B[0;34m,\u001B[0m\u001B[0;34m\u001B[0m\u001B[0;34m\u001B[0m\u001B[0m\n\u001B[0;32m--> 196\u001B[0;31m             \u001B[0mybingroup\u001B[0m\u001B[0;34m=\u001B[0m\u001B[0;34m\"y\"\u001B[0m\u001B[0;34m,\u001B[0m\u001B[0;34m\u001B[0m\u001B[0;34m\u001B[0m\u001B[0m\n\u001B[0m\u001B[1;32m    197\u001B[0m         ),\n\u001B[1;32m    198\u001B[0m     )\n",
      "\u001B[0;32m~/code/BigData/turi_env/lib/python3.6/site-packages/plotly/express/_core.py\u001B[0m in \u001B[0;36mmake_figure\u001B[0;34m(args, constructor, trace_patch, layout_patch)\u001B[0m\n\u001B[1;32m   1943\u001B[0m     \u001B[0mapply_default_cascade\u001B[0m\u001B[0;34m(\u001B[0m\u001B[0margs\u001B[0m\u001B[0;34m)\u001B[0m\u001B[0;34m\u001B[0m\u001B[0;34m\u001B[0m\u001B[0m\n\u001B[1;32m   1944\u001B[0m \u001B[0;34m\u001B[0m\u001B[0m\n\u001B[0;32m-> 1945\u001B[0;31m     \u001B[0margs\u001B[0m \u001B[0;34m=\u001B[0m \u001B[0mbuild_dataframe\u001B[0m\u001B[0;34m(\u001B[0m\u001B[0margs\u001B[0m\u001B[0;34m,\u001B[0m \u001B[0mconstructor\u001B[0m\u001B[0;34m)\u001B[0m\u001B[0;34m\u001B[0m\u001B[0;34m\u001B[0m\u001B[0m\n\u001B[0m\u001B[1;32m   1946\u001B[0m     \u001B[0;32mif\u001B[0m \u001B[0mconstructor\u001B[0m \u001B[0;32min\u001B[0m \u001B[0;34m[\u001B[0m\u001B[0mgo\u001B[0m\u001B[0;34m.\u001B[0m\u001B[0mTreemap\u001B[0m\u001B[0;34m,\u001B[0m \u001B[0mgo\u001B[0m\u001B[0;34m.\u001B[0m\u001B[0mSunburst\u001B[0m\u001B[0;34m,\u001B[0m \u001B[0mgo\u001B[0m\u001B[0;34m.\u001B[0m\u001B[0mIcicle\u001B[0m\u001B[0;34m]\u001B[0m \u001B[0;32mand\u001B[0m \u001B[0margs\u001B[0m\u001B[0;34m[\u001B[0m\u001B[0;34m\"path\"\u001B[0m\u001B[0;34m]\u001B[0m \u001B[0;32mis\u001B[0m \u001B[0;32mnot\u001B[0m \u001B[0;32mNone\u001B[0m\u001B[0;34m:\u001B[0m\u001B[0;34m\u001B[0m\u001B[0;34m\u001B[0m\u001B[0m\n\u001B[1;32m   1947\u001B[0m         \u001B[0margs\u001B[0m \u001B[0;34m=\u001B[0m \u001B[0mprocess_dataframe_hierarchy\u001B[0m\u001B[0;34m(\u001B[0m\u001B[0margs\u001B[0m\u001B[0;34m)\u001B[0m\u001B[0;34m\u001B[0m\u001B[0;34m\u001B[0m\u001B[0m\n",
      "\u001B[0;32m~/code/BigData/turi_env/lib/python3.6/site-packages/plotly/express/_core.py\u001B[0m in \u001B[0;36mbuild_dataframe\u001B[0;34m(args, constructor)\u001B[0m\n\u001B[1;32m   1404\u001B[0m \u001B[0;34m\u001B[0m\u001B[0m\n\u001B[1;32m   1405\u001B[0m     df_output, wide_id_vars = process_args_into_dataframe(\n\u001B[0;32m-> 1406\u001B[0;31m         \u001B[0margs\u001B[0m\u001B[0;34m,\u001B[0m \u001B[0mwide_mode\u001B[0m\u001B[0;34m,\u001B[0m \u001B[0mvar_name\u001B[0m\u001B[0;34m,\u001B[0m \u001B[0mvalue_name\u001B[0m\u001B[0;34m\u001B[0m\u001B[0;34m\u001B[0m\u001B[0m\n\u001B[0m\u001B[1;32m   1407\u001B[0m     )\n\u001B[1;32m   1408\u001B[0m \u001B[0;34m\u001B[0m\u001B[0m\n",
      "\u001B[0;32m~/code/BigData/turi_env/lib/python3.6/site-packages/plotly/express/_core.py\u001B[0m in \u001B[0;36mprocess_args_into_dataframe\u001B[0;34m(args, wide_mode, var_name, value_name)\u001B[0m\n\u001B[1;32m   1205\u001B[0m                         \u001B[0;32mif\u001B[0m \u001B[0margument\u001B[0m \u001B[0;34m==\u001B[0m \u001B[0;34m\"index\"\u001B[0m\u001B[0;34m:\u001B[0m\u001B[0;34m\u001B[0m\u001B[0;34m\u001B[0m\u001B[0m\n\u001B[1;32m   1206\u001B[0m                             \u001B[0merr_msg\u001B[0m \u001B[0;34m+=\u001B[0m \u001B[0;34m\"\\n To use the index, pass it in directly as `df.index`.\"\u001B[0m\u001B[0;34m\u001B[0m\u001B[0;34m\u001B[0m\u001B[0m\n\u001B[0;32m-> 1207\u001B[0;31m                         \u001B[0;32mraise\u001B[0m \u001B[0mValueError\u001B[0m\u001B[0;34m(\u001B[0m\u001B[0merr_msg\u001B[0m\u001B[0;34m)\u001B[0m\u001B[0;34m\u001B[0m\u001B[0;34m\u001B[0m\u001B[0m\n\u001B[0m\u001B[1;32m   1208\u001B[0m                 \u001B[0;32melif\u001B[0m \u001B[0mlength\u001B[0m \u001B[0;32mand\u001B[0m \u001B[0mlen\u001B[0m\u001B[0;34m(\u001B[0m\u001B[0mdf_input\u001B[0m\u001B[0;34m[\u001B[0m\u001B[0margument\u001B[0m\u001B[0;34m]\u001B[0m\u001B[0;34m)\u001B[0m \u001B[0;34m!=\u001B[0m \u001B[0mlength\u001B[0m\u001B[0;34m:\u001B[0m\u001B[0;34m\u001B[0m\u001B[0;34m\u001B[0m\u001B[0m\n\u001B[1;32m   1209\u001B[0m                     raise ValueError(\n",
      "\u001B[0;31mValueError\u001B[0m: Value of 'x' is not the name of a column in 'data_frame'. Expected one of ['Rank', 'Sourceid', 'Title', 'Type', 'Issn', 'SJR', 'SJR Best Quartile', 'H index', 'Total Docs. (2020)', 'Total Docs. (3years)', 'Total Refs.', 'Total Cites (3years)', 'Citable Docs. (3years)', 'Cites / Doc. (2years)', 'Ref. / Doc.', 'Country', 'Region', 'Publisher', 'Coverage', 'Categories'] but received: topic"
     ]
    }
   ],
   "source": [
    "import plotly.express as px\n",
    "\n",
    "fig = px.density_heatmap(df, x=\"topic\", y=\"age\", marginal_x=\"histogram\", marginal_y=\"histogram\",facet_col=\"gender\")\n",
    "fig.show()"
   ],
   "metadata": {
    "collapsed": false,
    "pycharm": {
     "name": "#%%\n"
    }
   }
  },
  {
   "cell_type": "markdown",
   "metadata": {
    "id": "HoIuWd1A0P2x",
    "pycharm": {
     "name": "#%% md\n"
    }
   },
   "source": [
    "**Question 5:** Using the  [SJR Journal Ranking of 2018](https://www.scimagojr.com/journalrank.php) dataset and Seaborn, visualize\n",
    "    the H-index distributions according to the SJR Best Quartile (15pt). Using a grid, visualize the _Cites / Doc. (2years)_ histograms values of each publisher (15pt).\n",
    "    \n"
   ]
  },
  {
   "cell_type": "code",
   "metadata": {
    "id": "HNtgDQZE0P2y",
    "pycharm": {
     "name": "#%%\n"
    }
   },
   "source": [
    "!mkdir ./datasets/journal\n",
    "!wget https://www.scimagojr.com/journalrank.php?out=xls -O ./datasets/journal/data.csv"
   ],
   "execution_count": 20,
   "outputs": [
    {
     "name": "stdout",
     "output_type": "stream",
     "text": [
      "--2022-03-13 13:53:33--  https://www.scimagojr.com/journalrank.php?out=xls\r\n",
      "Resolving www.scimagojr.com (www.scimagojr.com)... 94.130.25.5, 217.76.150.138, 82.223.219.196\r\n",
      "Connecting to www.scimagojr.com (www.scimagojr.com)|94.130.25.5|:443... connected.\r\n",
      "HTTP request sent, awaiting response... 200 OK\r\n",
      "Length: unspecified [text/csv]\r\n",
      "Saving to: ‘./datasets/journal/data.csv’\r\n",
      "\r\n",
      "./datasets/journal/     [               <=>  ]   8.65M  2.17MB/s    in 4.2s    \r\n",
      "\r\n",
      "2022-03-13 13:53:39 (2.07 MB/s) - ‘./datasets/journal/data.csv’ saved [9068264]\r\n",
      "\r\n"
     ]
    }
   ]
  },
  {
   "cell_type": "code",
   "execution_count": 20,
   "outputs": [
    {
     "name": "stderr",
     "output_type": "stream",
     "text": [
      "/home/amityu/code/BigData/turi_env/lib/python3.6/site-packages/IPython/core/interactiveshell.py:3072: DtypeWarning:\n",
      "\n",
      "Columns (5) have mixed types.Specify dtype option on import or set low_memory=False.\n",
      "\n"
     ]
    },
    {
     "data": {
      "text/plain": "<Figure size 432x288 with 1 Axes>",
      "image/png": "[encoded data removed]"
     },
     "metadata": {
      "needs_background": "light"
     },
     "output_type": "display_data"
    }
   ],
   "source": [
    "import pandas as pd\n",
    "import matplotlib.pyplot as plt\n",
    "\n",
    "import seaborn as sns\n",
    "%matplotlib inline\n",
    "df = pd.read_csv('./datasets/journal/data.csv', sep = ';')\n",
    "df.head()\n",
    "g =df.groupby('SJR Best Quartile')\n",
    "fig, ax = plt.subplots()\n",
    "keys = []\n",
    "for key,data in g:\n",
    "   sns.histplot(data['H index'], bins=10, ax=ax,element=\"poly\", fill=False)#)#, kde=False)\n",
    "   keys.append(key)\n",
    "#ax.set_xlim([0, 10])\n",
    "plt.legend(labels=keys)\n",
    "plt.show()\n"
   ],
   "metadata": {
    "collapsed": false,
    "pycharm": {
     "name": "#%%\n"
    }
   }
  },
  {
   "cell_type": "code",
   "execution_count": 8,
   "outputs": [
    {
     "data": {
      "text/plain": "                           Publisher\n6004         Taylor and Francis Ltd.\n1948                   Elsevier Ltd.\n1937                        Elsevier\n1940                     Elsevier BV\n7156  Wiley-Blackwell Publishing Ltd",
      "text/html": "<div>\n<style scoped>\n    .dataframe tbody tr th:only-of-type {\n        vertical-align: middle;\n    }\n\n    .dataframe tbody tr th {\n        vertical-align: top;\n    }\n\n    .dataframe thead th {\n        text-align: right;\n    }\n</style>\n<table border=\"1\" class=\"dataframe\">\n  <thead>\n    <tr style=\"text-align: right;\">\n      <th></th>\n      <th>Publisher</th>\n    </tr>\n  </thead>\n  <tbody>\n    <tr>\n      <th>6004</th>\n      <td>Taylor and Francis Ltd.</td>\n    </tr>\n    <tr>\n      <th>1948</th>\n      <td>Elsevier Ltd.</td>\n    </tr>\n    <tr>\n      <th>1937</th>\n      <td>Elsevier</td>\n    </tr>\n    <tr>\n      <th>1940</th>\n      <td>Elsevier BV</td>\n    </tr>\n    <tr>\n      <th>7156</th>\n      <td>Wiley-Blackwell Publishing Ltd</td>\n    </tr>\n  </tbody>\n</table>\n</div>"
     },
     "execution_count": 8,
     "metadata": {},
     "output_type": "execute_result"
    }
   ],
   "source": [
    "publishers = df[['Publisher','Cites / Doc. (2years)']].groupby('Publisher', as_index = False).sum().sort_values('Cites / Doc. (2years)', ascending=False)[:16]\n",
    "\n",
    "publishers.drop('Cites / Doc. (2years)', axis=1, inplace = True)\n",
    "\n"
   ],
   "metadata": {
    "collapsed": false,
    "pycharm": {
     "name": "#%%\n"
    }
   }
  },
  {
   "cell_type": "code",
   "execution_count": 20,
   "outputs": [
    {
     "data": {
      "text/plain": "<seaborn.axisgrid.FacetGrid at 0x7fc52182f128>"
     },
     "execution_count": 20,
     "metadata": {},
     "output_type": "execute_result"
    },
    {
     "data": {
      "text/plain": "<Figure size 864x864 with 16 Axes>",
      "image/png": "[encoded data removed]"
     },
     "metadata": {
      "needs_background": "light"
     },
     "output_type": "display_data"
    }
   ],
   "source": [
    "o_df = publishers.merge(df)\n",
    "g = sns.FacetGrid(o_df, col=\"Publisher\", margin_titles=True, sharex=False, col_wrap=4) # this will create a grid\n",
    "g.map(plt.hist, 'Cites / Doc. (2years)', color=\"steelblue\")\n"
   ],
   "metadata": {
    "collapsed": false,
    "pycharm": {
     "name": "#%%\n"
    }
   }
  }
 ]
}