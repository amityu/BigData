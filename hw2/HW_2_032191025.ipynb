{
  "nbformat": 4,
  "nbformat_minor": 0,
  "metadata": {
    "kernelspec": {
      "display_name": "Python 3",
      "language": "python",
      "name": "python3"
    },
    "language_info": {
      "codemirror_mode": {
        "name": "ipython",
        "version": 3
      },
      "file_extension": ".py",
      "mimetype": "text/x-python",
      "name": "python",
      "nbconvert_exporter": "python",
      "pygments_lexer": "ipython3",
      "version": "3.6.7"
    },
    "colab": {
      "name": "HW 2.ipynb",
      "provenance": [],
      "include_colab_link": true
    },
    "widgets": {
      "application/vnd.jupyter.widget-state+json": {
        "d470ae3d4696436a99f8224df19cd5ab": {
          "model_module": "@jupyter-widgets/controls",
          "model_name": "HBoxModel",
          "model_module_version": "1.5.0",
          "state": {
            "_view_name": "HBoxView",
            "_dom_classes": [],
            "_model_name": "HBoxModel",
            "_view_module": "@jupyter-widgets/controls",
            "_model_module_version": "1.5.0",
            "_view_count": null,
            "_view_module_version": "1.5.0",
            "box_style": "",
            "layout": "IPY_MODEL_479a83a6e7794b64a1343809e2f42056",
            "_model_module": "@jupyter-widgets/controls",
            "children": [
              "IPY_MODEL_af1b9171e32a4517894b9b36ea44df96",
              "IPY_MODEL_b0b3b58b006b4773a973488d72734146",
              "IPY_MODEL_8fccdd96ea904de092fa95ffba046664"
            ]
          }
        },
        "479a83a6e7794b64a1343809e2f42056": {
          "model_module": "@jupyter-widgets/base",
          "model_name": "LayoutModel",
          "model_module_version": "1.2.0",
          "state": {
            "_view_name": "LayoutView",
            "grid_template_rows": null,
            "right": null,
            "justify_content": null,
            "_view_module": "@jupyter-widgets/base",
            "overflow": null,
            "_model_module_version": "1.2.0",
            "_view_count": null,
            "flex_flow": null,
            "width": null,
            "min_width": null,
            "border": null,
            "align_items": null,
            "bottom": null,
            "_model_module": "@jupyter-widgets/base",
            "top": null,
            "grid_column": null,
            "overflow_y": null,
            "overflow_x": null,
            "grid_auto_flow": null,
            "grid_area": null,
            "grid_template_columns": null,
            "flex": null,
            "_model_name": "LayoutModel",
            "justify_items": null,
            "grid_row": null,
            "max_height": null,
            "align_content": null,
            "visibility": null,
            "align_self": null,
            "height": null,
            "min_height": null,
            "padding": null,
            "grid_auto_rows": null,
            "grid_gap": null,
            "max_width": null,
            "order": null,
            "_view_module_version": "1.2.0",
            "grid_template_areas": null,
            "object_position": null,
            "object_fit": null,
            "grid_auto_columns": null,
            "margin": null,
            "display": null,
            "left": null
          }
        },
        "af1b9171e32a4517894b9b36ea44df96": {
          "model_module": "@jupyter-widgets/controls",
          "model_name": "HTMLModel",
          "model_module_version": "1.5.0",
          "state": {
            "_view_name": "HTMLView",
            "style": "IPY_MODEL_eecca034fb72480581fdab7fd1507ace",
            "_dom_classes": [],
            "description": "",
            "_model_name": "HTMLModel",
            "placeholder": "​",
            "_view_module": "@jupyter-widgets/controls",
            "_model_module_version": "1.5.0",
            "value": "",
            "_view_count": null,
            "_view_module_version": "1.5.0",
            "description_tooltip": null,
            "_model_module": "@jupyter-widgets/controls",
            "layout": "IPY_MODEL_4c5921342fda4852a6c539c0c9eef2ea"
          }
        },
        "b0b3b58b006b4773a973488d72734146": {
          "model_module": "@jupyter-widgets/controls",
          "model_name": "FloatProgressModel",
          "model_module_version": "1.5.0",
          "state": {
            "_view_name": "ProgressView",
            "style": "IPY_MODEL_5c45c98e6af541029187040f6f6b7a7f",
            "_dom_classes": [],
            "description": "",
            "_model_name": "FloatProgressModel",
            "bar_style": "success",
            "max": 1,
            "_view_module": "@jupyter-widgets/controls",
            "_model_module_version": "1.5.0",
            "value": 1,
            "_view_count": null,
            "_view_module_version": "1.5.0",
            "orientation": "horizontal",
            "min": 0,
            "description_tooltip": null,
            "_model_module": "@jupyter-widgets/controls",
            "layout": "IPY_MODEL_b5e1193abaa44c2f834b15bd891262e4"
          }
        },
        "8fccdd96ea904de092fa95ffba046664": {
          "model_module": "@jupyter-widgets/controls",
          "model_name": "HTMLModel",
          "model_module_version": "1.5.0",
          "state": {
            "_view_name": "HTMLView",
            "style": "IPY_MODEL_1906dfc985554de69bee5fad16c43c80",
            "_dom_classes": [],
            "description": "",
            "_model_name": "HTMLModel",
            "placeholder": "​",
            "_view_module": "@jupyter-widgets/controls",
            "_model_module_version": "1.5.0",
            "value": " 19090/? [00:04&lt;00:00, 5038.02it/s]",
            "_view_count": null,
            "_view_module_version": "1.5.0",
            "description_tooltip": null,
            "_model_module": "@jupyter-widgets/controls",
            "layout": "IPY_MODEL_87ab60581c01477da33e57ad331e35c3"
          }
        },
        "eecca034fb72480581fdab7fd1507ace": {
          "model_module": "@jupyter-widgets/controls",
          "model_name": "DescriptionStyleModel",
          "model_module_version": "1.5.0",
          "state": {
            "_view_name": "StyleView",
            "_model_name": "DescriptionStyleModel",
            "description_width": "",
            "_view_module": "@jupyter-widgets/base",
            "_model_module_version": "1.5.0",
            "_view_count": null,
            "_view_module_version": "1.2.0",
            "_model_module": "@jupyter-widgets/controls"
          }
        },
        "4c5921342fda4852a6c539c0c9eef2ea": {
          "model_module": "@jupyter-widgets/base",
          "model_name": "LayoutModel",
          "model_module_version": "1.2.0",
          "state": {
            "_view_name": "LayoutView",
            "grid_template_rows": null,
            "right": null,
            "justify_content": null,
            "_view_module": "@jupyter-widgets/base",
            "overflow": null,
            "_model_module_version": "1.2.0",
            "_view_count": null,
            "flex_flow": null,
            "width": null,
            "min_width": null,
            "border": null,
            "align_items": null,
            "bottom": null,
            "_model_module": "@jupyter-widgets/base",
            "top": null,
            "grid_column": null,
            "overflow_y": null,
            "overflow_x": null,
            "grid_auto_flow": null,
            "grid_area": null,
            "grid_template_columns": null,
            "flex": null,
            "_model_name": "LayoutModel",
            "justify_items": null,
            "grid_row": null,
            "max_height": null,
            "align_content": null,
            "visibility": null,
            "align_self": null,
            "height": null,
            "min_height": null,
            "padding": null,
            "grid_auto_rows": null,
            "grid_gap": null,
            "max_width": null,
            "order": null,
            "_view_module_version": "1.2.0",
            "grid_template_areas": null,
            "object_position": null,
            "object_fit": null,
            "grid_auto_columns": null,
            "margin": null,
            "display": null,
            "left": null
          }
        },
        "5c45c98e6af541029187040f6f6b7a7f": {
          "model_module": "@jupyter-widgets/controls",
          "model_name": "ProgressStyleModel",
          "model_module_version": "1.5.0",
          "state": {
            "_view_name": "StyleView",
            "_model_name": "ProgressStyleModel",
            "description_width": "",
            "_view_module": "@jupyter-widgets/base",
            "_model_module_version": "1.5.0",
            "_view_count": null,
            "_view_module_version": "1.2.0",
            "bar_color": null,
            "_model_module": "@jupyter-widgets/controls"
          }
        },
        "b5e1193abaa44c2f834b15bd891262e4": {
          "model_module": "@jupyter-widgets/base",
          "model_name": "LayoutModel",
          "model_module_version": "1.2.0",
          "state": {
            "_view_name": "LayoutView",
            "grid_template_rows": null,
            "right": null,
            "justify_content": null,
            "_view_module": "@jupyter-widgets/base",
            "overflow": null,
            "_model_module_version": "1.2.0",
            "_view_count": null,
            "flex_flow": null,
            "width": "20px",
            "min_width": null,
            "border": null,
            "align_items": null,
            "bottom": null,
            "_model_module": "@jupyter-widgets/base",
            "top": null,
            "grid_column": null,
            "overflow_y": null,
            "overflow_x": null,
            "grid_auto_flow": null,
            "grid_area": null,
            "grid_template_columns": null,
            "flex": null,
            "_model_name": "LayoutModel",
            "justify_items": null,
            "grid_row": null,
            "max_height": null,
            "align_content": null,
            "visibility": null,
            "align_self": null,
            "height": null,
            "min_height": null,
            "padding": null,
            "grid_auto_rows": null,
            "grid_gap": null,
            "max_width": null,
            "order": null,
            "_view_module_version": "1.2.0",
            "grid_template_areas": null,
            "object_position": null,
            "object_fit": null,
            "grid_auto_columns": null,
            "margin": null,
            "display": null,
            "left": null
          }
        },
        "1906dfc985554de69bee5fad16c43c80": {
          "model_module": "@jupyter-widgets/controls",
          "model_name": "DescriptionStyleModel",
          "model_module_version": "1.5.0",
          "state": {
            "_view_name": "StyleView",
            "_model_name": "DescriptionStyleModel",
            "description_width": "",
            "_view_module": "@jupyter-widgets/base",
            "_model_module_version": "1.5.0",
            "_view_count": null,
            "_view_module_version": "1.2.0",
            "_model_module": "@jupyter-widgets/controls"
          }
        },
        "87ab60581c01477da33e57ad331e35c3": {
          "model_module": "@jupyter-widgets/base",
          "model_name": "LayoutModel",
          "model_module_version": "1.2.0",
          "state": {
            "_view_name": "LayoutView",
            "grid_template_rows": null,
            "right": null,
            "justify_content": null,
            "_view_module": "@jupyter-widgets/base",
            "overflow": null,
            "_model_module_version": "1.2.0",
            "_view_count": null,
            "flex_flow": null,
            "width": null,
            "min_width": null,
            "border": null,
            "align_items": null,
            "bottom": null,
            "_model_module": "@jupyter-widgets/base",
            "top": null,
            "grid_column": null,
            "overflow_y": null,
            "overflow_x": null,
            "grid_auto_flow": null,
            "grid_area": null,
            "grid_template_columns": null,
            "flex": null,
            "_model_name": "LayoutModel",
            "justify_items": null,
            "grid_row": null,
            "max_height": null,
            "align_content": null,
            "visibility": null,
            "align_self": null,
            "height": null,
            "min_height": null,
            "padding": null,
            "grid_auto_rows": null,
            "grid_gap": null,
            "max_width": null,
            "order": null,
            "_view_module_version": "1.2.0",
            "grid_template_areas": null,
            "object_position": null,
            "object_fit": null,
            "grid_auto_columns": null,
            "margin": null,
            "display": null,
            "left": null
          }
        },
        "0ab69a4360b6474782327f14af2e8e75": {
          "model_module": "@jupyter-widgets/controls",
          "model_name": "HBoxModel",
          "model_module_version": "1.5.0",
          "state": {
            "_view_name": "HBoxView",
            "_dom_classes": [],
            "_model_name": "HBoxModel",
            "_view_module": "@jupyter-widgets/controls",
            "_model_module_version": "1.5.0",
            "_view_count": null,
            "_view_module_version": "1.5.0",
            "box_style": "",
            "layout": "IPY_MODEL_815a021c5a64469f85df65ce7378c11a",
            "_model_module": "@jupyter-widgets/controls",
            "children": [
              "IPY_MODEL_48edb1a421004e798a8b505694de0f5c",
              "IPY_MODEL_2b2b44c29e4544a49a2be57210ed1310",
              "IPY_MODEL_c43182ec4d1644e7982f203fb4ede09d"
            ]
          }
        },
        "815a021c5a64469f85df65ce7378c11a": {
          "model_module": "@jupyter-widgets/base",
          "model_name": "LayoutModel",
          "model_module_version": "1.2.0",
          "state": {
            "_view_name": "LayoutView",
            "grid_template_rows": null,
            "right": null,
            "justify_content": null,
            "_view_module": "@jupyter-widgets/base",
            "overflow": null,
            "_model_module_version": "1.2.0",
            "_view_count": null,
            "flex_flow": null,
            "width": null,
            "min_width": null,
            "border": null,
            "align_items": null,
            "bottom": null,
            "_model_module": "@jupyter-widgets/base",
            "top": null,
            "grid_column": null,
            "overflow_y": null,
            "overflow_x": null,
            "grid_auto_flow": null,
            "grid_area": null,
            "grid_template_columns": null,
            "flex": null,
            "_model_name": "LayoutModel",
            "justify_items": null,
            "grid_row": null,
            "max_height": null,
            "align_content": null,
            "visibility": null,
            "align_self": null,
            "height": null,
            "min_height": null,
            "padding": null,
            "grid_auto_rows": null,
            "grid_gap": null,
            "max_width": null,
            "order": null,
            "_view_module_version": "1.2.0",
            "grid_template_areas": null,
            "object_position": null,
            "object_fit": null,
            "grid_auto_columns": null,
            "margin": null,
            "display": null,
            "left": null
          }
        },
        "48edb1a421004e798a8b505694de0f5c": {
          "model_module": "@jupyter-widgets/controls",
          "model_name": "HTMLModel",
          "model_module_version": "1.5.0",
          "state": {
            "_view_name": "HTMLView",
            "style": "IPY_MODEL_1670c367a0eb4f0e93b6841f0f103a34",
            "_dom_classes": [],
            "description": "",
            "_model_name": "HTMLModel",
            "placeholder": "​",
            "_view_module": "@jupyter-widgets/controls",
            "_model_module_version": "1.5.0",
            "value": "",
            "_view_count": null,
            "_view_module_version": "1.5.0",
            "description_tooltip": null,
            "_model_module": "@jupyter-widgets/controls",
            "layout": "IPY_MODEL_195c9c9e5de2420a9f563a0dc2b6ba48"
          }
        },
        "2b2b44c29e4544a49a2be57210ed1310": {
          "model_module": "@jupyter-widgets/controls",
          "model_name": "FloatProgressModel",
          "model_module_version": "1.5.0",
          "state": {
            "_view_name": "ProgressView",
            "style": "IPY_MODEL_911ed500ba774d898eb2b2642dc08ca4",
            "_dom_classes": [],
            "description": "",
            "_model_name": "FloatProgressModel",
            "bar_style": "success",
            "max": 1,
            "_view_module": "@jupyter-widgets/controls",
            "_model_module_version": "1.5.0",
            "value": 1,
            "_view_count": null,
            "_view_module_version": "1.5.0",
            "orientation": "horizontal",
            "min": 0,
            "description_tooltip": null,
            "_model_module": "@jupyter-widgets/controls",
            "layout": "IPY_MODEL_991826d5bbb24d21b17305ce4954dd9a"
          }
        },
        "c43182ec4d1644e7982f203fb4ede09d": {
          "model_module": "@jupyter-widgets/controls",
          "model_name": "HTMLModel",
          "model_module_version": "1.5.0",
          "state": {
            "_view_name": "HTMLView",
            "style": "IPY_MODEL_ade559cddf2c45e6bef3e00c5191dfe9",
            "_dom_classes": [],
            "description": "",
            "_model_name": "HTMLModel",
            "placeholder": "​",
            "_view_module": "@jupyter-widgets/controls",
            "_model_module_version": "1.5.0",
            "value": " 96104/? [00:08&lt;00:00, 13045.56it/s]",
            "_view_count": null,
            "_view_module_version": "1.5.0",
            "description_tooltip": null,
            "_model_module": "@jupyter-widgets/controls",
            "layout": "IPY_MODEL_5836eb3c47d84dd4a6ffb160a818b5d0"
          }
        },
        "1670c367a0eb4f0e93b6841f0f103a34": {
          "model_module": "@jupyter-widgets/controls",
          "model_name": "DescriptionStyleModel",
          "model_module_version": "1.5.0",
          "state": {
            "_view_name": "StyleView",
            "_model_name": "DescriptionStyleModel",
            "description_width": "",
            "_view_module": "@jupyter-widgets/base",
            "_model_module_version": "1.5.0",
            "_view_count": null,
            "_view_module_version": "1.2.0",
            "_model_module": "@jupyter-widgets/controls"
          }
        },
        "195c9c9e5de2420a9f563a0dc2b6ba48": {
          "model_module": "@jupyter-widgets/base",
          "model_name": "LayoutModel",
          "model_module_version": "1.2.0",
          "state": {
            "_view_name": "LayoutView",
            "grid_template_rows": null,
            "right": null,
            "justify_content": null,
            "_view_module": "@jupyter-widgets/base",
            "overflow": null,
            "_model_module_version": "1.2.0",
            "_view_count": null,
            "flex_flow": null,
            "width": null,
            "min_width": null,
            "border": null,
            "align_items": null,
            "bottom": null,
            "_model_module": "@jupyter-widgets/base",
            "top": null,
            "grid_column": null,
            "overflow_y": null,
            "overflow_x": null,
            "grid_auto_flow": null,
            "grid_area": null,
            "grid_template_columns": null,
            "flex": null,
            "_model_name": "LayoutModel",
            "justify_items": null,
            "grid_row": null,
            "max_height": null,
            "align_content": null,
            "visibility": null,
            "align_self": null,
            "height": null,
            "min_height": null,
            "padding": null,
            "grid_auto_rows": null,
            "grid_gap": null,
            "max_width": null,
            "order": null,
            "_view_module_version": "1.2.0",
            "grid_template_areas": null,
            "object_position": null,
            "object_fit": null,
            "grid_auto_columns": null,
            "margin": null,
            "display": null,
            "left": null
          }
        },
        "911ed500ba774d898eb2b2642dc08ca4": {
          "model_module": "@jupyter-widgets/controls",
          "model_name": "ProgressStyleModel",
          "model_module_version": "1.5.0",
          "state": {
            "_view_name": "StyleView",
            "_model_name": "ProgressStyleModel",
            "description_width": "",
            "_view_module": "@jupyter-widgets/base",
            "_model_module_version": "1.5.0",
            "_view_count": null,
            "_view_module_version": "1.2.0",
            "bar_color": null,
            "_model_module": "@jupyter-widgets/controls"
          }
        },
        "991826d5bbb24d21b17305ce4954dd9a": {
          "model_module": "@jupyter-widgets/base",
          "model_name": "LayoutModel",
          "model_module_version": "1.2.0",
          "state": {
            "_view_name": "LayoutView",
            "grid_template_rows": null,
            "right": null,
            "justify_content": null,
            "_view_module": "@jupyter-widgets/base",
            "overflow": null,
            "_model_module_version": "1.2.0",
            "_view_count": null,
            "flex_flow": null,
            "width": "20px",
            "min_width": null,
            "border": null,
            "align_items": null,
            "bottom": null,
            "_model_module": "@jupyter-widgets/base",
            "top": null,
            "grid_column": null,
            "overflow_y": null,
            "overflow_x": null,
            "grid_auto_flow": null,
            "grid_area": null,
            "grid_template_columns": null,
            "flex": null,
            "_model_name": "LayoutModel",
            "justify_items": null,
            "grid_row": null,
            "max_height": null,
            "align_content": null,
            "visibility": null,
            "align_self": null,
            "height": null,
            "min_height": null,
            "padding": null,
            "grid_auto_rows": null,
            "grid_gap": null,
            "max_width": null,
            "order": null,
            "_view_module_version": "1.2.0",
            "grid_template_areas": null,
            "object_position": null,
            "object_fit": null,
            "grid_auto_columns": null,
            "margin": null,
            "display": null,
            "left": null
          }
        },
        "ade559cddf2c45e6bef3e00c5191dfe9": {
          "model_module": "@jupyter-widgets/controls",
          "model_name": "DescriptionStyleModel",
          "model_module_version": "1.5.0",
          "state": {
            "_view_name": "StyleView",
            "_model_name": "DescriptionStyleModel",
            "description_width": "",
            "_view_module": "@jupyter-widgets/base",
            "_model_module_version": "1.5.0",
            "_view_count": null,
            "_view_module_version": "1.2.0",
            "_model_module": "@jupyter-widgets/controls"
          }
        },
        "5836eb3c47d84dd4a6ffb160a818b5d0": {
          "model_module": "@jupyter-widgets/base",
          "model_name": "LayoutModel",
          "model_module_version": "1.2.0",
          "state": {
            "_view_name": "LayoutView",
            "grid_template_rows": null,
            "right": null,
            "justify_content": null,
            "_view_module": "@jupyter-widgets/base",
            "overflow": null,
            "_model_module_version": "1.2.0",
            "_view_count": null,
            "flex_flow": null,
            "width": null,
            "min_width": null,
            "border": null,
            "align_items": null,
            "bottom": null,
            "_model_module": "@jupyter-widgets/base",
            "top": null,
            "grid_column": null,
            "overflow_y": null,
            "overflow_x": null,
            "grid_auto_flow": null,
            "grid_area": null,
            "grid_template_columns": null,
            "flex": null,
            "_model_name": "LayoutModel",
            "justify_items": null,
            "grid_row": null,
            "max_height": null,
            "align_content": null,
            "visibility": null,
            "align_self": null,
            "height": null,
            "min_height": null,
            "padding": null,
            "grid_auto_rows": null,
            "grid_gap": null,
            "max_width": null,
            "order": null,
            "_view_module_version": "1.2.0",
            "grid_template_areas": null,
            "object_position": null,
            "object_fit": null,
            "grid_auto_columns": null,
            "margin": null,
            "display": null,
            "left": null
          }
        },
        "89502caa3a1a48b28a6e458170e86e31": {
          "model_module": "@jupyter-widgets/controls",
          "model_name": "HBoxModel",
          "model_module_version": "1.5.0",
          "state": {
            "_view_name": "HBoxView",
            "_dom_classes": [],
            "_model_name": "HBoxModel",
            "_view_module": "@jupyter-widgets/controls",
            "_model_module_version": "1.5.0",
            "_view_count": null,
            "_view_module_version": "1.5.0",
            "box_style": "",
            "layout": "IPY_MODEL_ef20f2a7c5a9443c9ba3e7ad74818555",
            "_model_module": "@jupyter-widgets/controls",
            "children": [
              "IPY_MODEL_f29b360c781b4482abe6468b81bcfcbc",
              "IPY_MODEL_5263868193b74c44a0f74ebf71cac77e",
              "IPY_MODEL_6b4d21e048614853b167307ce37bed14"
            ]
          }
        },
        "ef20f2a7c5a9443c9ba3e7ad74818555": {
          "model_module": "@jupyter-widgets/base",
          "model_name": "LayoutModel",
          "model_module_version": "1.2.0",
          "state": {
            "_view_name": "LayoutView",
            "grid_template_rows": null,
            "right": null,
            "justify_content": null,
            "_view_module": "@jupyter-widgets/base",
            "overflow": null,
            "_model_module_version": "1.2.0",
            "_view_count": null,
            "flex_flow": null,
            "width": null,
            "min_width": null,
            "border": null,
            "align_items": null,
            "bottom": null,
            "_model_module": "@jupyter-widgets/base",
            "top": null,
            "grid_column": null,
            "overflow_y": null,
            "overflow_x": null,
            "grid_auto_flow": null,
            "grid_area": null,
            "grid_template_columns": null,
            "flex": null,
            "_model_name": "LayoutModel",
            "justify_items": null,
            "grid_row": null,
            "max_height": null,
            "align_content": null,
            "visibility": null,
            "align_self": null,
            "height": null,
            "min_height": null,
            "padding": null,
            "grid_auto_rows": null,
            "grid_gap": null,
            "max_width": null,
            "order": null,
            "_view_module_version": "1.2.0",
            "grid_template_areas": null,
            "object_position": null,
            "object_fit": null,
            "grid_auto_columns": null,
            "margin": null,
            "display": null,
            "left": null
          }
        },
        "f29b360c781b4482abe6468b81bcfcbc": {
          "model_module": "@jupyter-widgets/controls",
          "model_name": "HTMLModel",
          "model_module_version": "1.5.0",
          "state": {
            "_view_name": "HTMLView",
            "style": "IPY_MODEL_e27ee1c778764ede87b8f650ab4bfe87",
            "_dom_classes": [],
            "description": "",
            "_model_name": "HTMLModel",
            "placeholder": "​",
            "_view_module": "@jupyter-widgets/controls",
            "_model_module_version": "1.5.0",
            "value": "",
            "_view_count": null,
            "_view_module_version": "1.5.0",
            "description_tooltip": null,
            "_model_module": "@jupyter-widgets/controls",
            "layout": "IPY_MODEL_0121fac6abd94d8e87cab77b13a3a09b"
          }
        },
        "5263868193b74c44a0f74ebf71cac77e": {
          "model_module": "@jupyter-widgets/controls",
          "model_name": "FloatProgressModel",
          "model_module_version": "1.5.0",
          "state": {
            "_view_name": "ProgressView",
            "style": "IPY_MODEL_39707ec3c8824c1a8e5d7da5a96d7e98",
            "_dom_classes": [],
            "description": "",
            "_model_name": "FloatProgressModel",
            "bar_style": "success",
            "max": 1,
            "_view_module": "@jupyter-widgets/controls",
            "_model_module_version": "1.5.0",
            "value": 1,
            "_view_count": null,
            "_view_module_version": "1.5.0",
            "orientation": "horizontal",
            "min": 0,
            "description_tooltip": null,
            "_model_module": "@jupyter-widgets/controls",
            "layout": "IPY_MODEL_1c56beed637c46efa63385216113ddbc"
          }
        },
        "6b4d21e048614853b167307ce37bed14": {
          "model_module": "@jupyter-widgets/controls",
          "model_name": "HTMLModel",
          "model_module_version": "1.5.0",
          "state": {
            "_view_name": "HTMLView",
            "style": "IPY_MODEL_708eeaf77ec042feaa95e461309b487e",
            "_dom_classes": [],
            "description": "",
            "_model_name": "HTMLModel",
            "placeholder": "​",
            "_view_module": "@jupyter-widgets/controls",
            "_model_module_version": "1.5.0",
            "value": " 574467/? [00:39&lt;00:00, 14382.00it/s]",
            "_view_count": null,
            "_view_module_version": "1.5.0",
            "description_tooltip": null,
            "_model_module": "@jupyter-widgets/controls",
            "layout": "IPY_MODEL_ce37c1a8e354443facbef8448ad11812"
          }
        },
        "e27ee1c778764ede87b8f650ab4bfe87": {
          "model_module": "@jupyter-widgets/controls",
          "model_name": "DescriptionStyleModel",
          "model_module_version": "1.5.0",
          "state": {
            "_view_name": "StyleView",
            "_model_name": "DescriptionStyleModel",
            "description_width": "",
            "_view_module": "@jupyter-widgets/base",
            "_model_module_version": "1.5.0",
            "_view_count": null,
            "_view_module_version": "1.2.0",
            "_model_module": "@jupyter-widgets/controls"
          }
        },
        "0121fac6abd94d8e87cab77b13a3a09b": {
          "model_module": "@jupyter-widgets/base",
          "model_name": "LayoutModel",
          "model_module_version": "1.2.0",
          "state": {
            "_view_name": "LayoutView",
            "grid_template_rows": null,
            "right": null,
            "justify_content": null,
            "_view_module": "@jupyter-widgets/base",
            "overflow": null,
            "_model_module_version": "1.2.0",
            "_view_count": null,
            "flex_flow": null,
            "width": null,
            "min_width": null,
            "border": null,
            "align_items": null,
            "bottom": null,
            "_model_module": "@jupyter-widgets/base",
            "top": null,
            "grid_column": null,
            "overflow_y": null,
            "overflow_x": null,
            "grid_auto_flow": null,
            "grid_area": null,
            "grid_template_columns": null,
            "flex": null,
            "_model_name": "LayoutModel",
            "justify_items": null,
            "grid_row": null,
            "max_height": null,
            "align_content": null,
            "visibility": null,
            "align_self": null,
            "height": null,
            "min_height": null,
            "padding": null,
            "grid_auto_rows": null,
            "grid_gap": null,
            "max_width": null,
            "order": null,
            "_view_module_version": "1.2.0",
            "grid_template_areas": null,
            "object_position": null,
            "object_fit": null,
            "grid_auto_columns": null,
            "margin": null,
            "display": null,
            "left": null
          }
        },
        "39707ec3c8824c1a8e5d7da5a96d7e98": {
          "model_module": "@jupyter-widgets/controls",
          "model_name": "ProgressStyleModel",
          "model_module_version": "1.5.0",
          "state": {
            "_view_name": "StyleView",
            "_model_name": "ProgressStyleModel",
            "description_width": "",
            "_view_module": "@jupyter-widgets/base",
            "_model_module_version": "1.5.0",
            "_view_count": null,
            "_view_module_version": "1.2.0",
            "bar_color": null,
            "_model_module": "@jupyter-widgets/controls"
          }
        },
        "1c56beed637c46efa63385216113ddbc": {
          "model_module": "@jupyter-widgets/base",
          "model_name": "LayoutModel",
          "model_module_version": "1.2.0",
          "state": {
            "_view_name": "LayoutView",
            "grid_template_rows": null,
            "right": null,
            "justify_content": null,
            "_view_module": "@jupyter-widgets/base",
            "overflow": null,
            "_model_module_version": "1.2.0",
            "_view_count": null,
            "flex_flow": null,
            "width": "20px",
            "min_width": null,
            "border": null,
            "align_items": null,
            "bottom": null,
            "_model_module": "@jupyter-widgets/base",
            "top": null,
            "grid_column": null,
            "overflow_y": null,
            "overflow_x": null,
            "grid_auto_flow": null,
            "grid_area": null,
            "grid_template_columns": null,
            "flex": null,
            "_model_name": "LayoutModel",
            "justify_items": null,
            "grid_row": null,
            "max_height": null,
            "align_content": null,
            "visibility": null,
            "align_self": null,
            "height": null,
            "min_height": null,
            "padding": null,
            "grid_auto_rows": null,
            "grid_gap": null,
            "max_width": null,
            "order": null,
            "_view_module_version": "1.2.0",
            "grid_template_areas": null,
            "object_position": null,
            "object_fit": null,
            "grid_auto_columns": null,
            "margin": null,
            "display": null,
            "left": null
          }
        },
        "708eeaf77ec042feaa95e461309b487e": {
          "model_module": "@jupyter-widgets/controls",
          "model_name": "DescriptionStyleModel",
          "model_module_version": "1.5.0",
          "state": {
            "_view_name": "StyleView",
            "_model_name": "DescriptionStyleModel",
            "description_width": "",
            "_view_module": "@jupyter-widgets/base",
            "_model_module_version": "1.5.0",
            "_view_count": null,
            "_view_module_version": "1.2.0",
            "_model_module": "@jupyter-widgets/controls"
          }
        },
        "ce37c1a8e354443facbef8448ad11812": {
          "model_module": "@jupyter-widgets/base",
          "model_name": "LayoutModel",
          "model_module_version": "1.2.0",
          "state": {
            "_view_name": "LayoutView",
            "grid_template_rows": null,
            "right": null,
            "justify_content": null,
            "_view_module": "@jupyter-widgets/base",
            "overflow": null,
            "_model_module_version": "1.2.0",
            "_view_count": null,
            "flex_flow": null,
            "width": null,
            "min_width": null,
            "border": null,
            "align_items": null,
            "bottom": null,
            "_model_module": "@jupyter-widgets/base",
            "top": null,
            "grid_column": null,
            "overflow_y": null,
            "overflow_x": null,
            "grid_auto_flow": null,
            "grid_area": null,
            "grid_template_columns": null,
            "flex": null,
            "_model_name": "LayoutModel",
            "justify_items": null,
            "grid_row": null,
            "max_height": null,
            "align_content": null,
            "visibility": null,
            "align_self": null,
            "height": null,
            "min_height": null,
            "padding": null,
            "grid_auto_rows": null,
            "grid_gap": null,
            "max_width": null,
            "order": null,
            "_view_module_version": "1.2.0",
            "grid_template_areas": null,
            "object_position": null,
            "object_fit": null,
            "grid_auto_columns": null,
            "margin": null,
            "display": null,
            "left": null
          }
        }
      }
    }
  },
  "cells": [
    {
      "cell_type": "markdown",
      "metadata": {
        "id": "view-in-github",
        "colab_type": "text"
      },
      "source": [
        "<a href=\"https://colab.research.google.com/github/amityu/BigData/blob/main/hw2/HW_2_032191025.ipynb\" target=\"_parent\"><img src=\"https://colab.research.google.com/assets/colab-badge.svg\" alt=\"Open In Colab\"/></a>"
      ]
    },
    {
      "cell_type": "markdown",
      "metadata": {
        "id": "DfUHKA19ifXX"
      },
      "source": [
        "# Homework Assignment 2\n",
        "### [The Art of Analyzing Big Data - The Data Scientist’s Toolbox](https://www.ise.bgu.ac.il/labs/fire/lectures.html)\n",
        "#### By Dr. Michael Fire "
      ]
    },
    {
      "cell_type": "code",
      "source": [
        "!mkdir /root/.kaggle/\n",
        "!pip install kaggle \n",
        "import json\n",
        "\n",
        "#Important Note: complete this with your own key - after running this for the first time remmember to **remove** your API_KEY\n",
        "api_token = {\"username\":\"amyuval\",\"key\":\"1c309b85bf5a7e1c79a431e672976a28\"}\n",
        "\n",
        "# creating kaggle.json file with the personal API-Key details \n",
        "# You can also put this file on your Google Drive\n",
        "with open('/root/.kaggle/kaggle.json', 'w') as file:\n",
        "  json.dump(api_token, file)\n",
        "!chmod 600 ~/.kaggle/kaggle.json\n",
        "!ls"
      ],
      "metadata": {
        "id": "Gf_Dmi3jLMn7",
        "outputId": "3c4ef1cf-9c1b-4413-f53b-7f6d21e84537",
        "colab": {
          "base_uri": "https://localhost:8080/"
        }
      },
      "execution_count": 13,
      "outputs": [
        {
          "metadata": {
            "tags": null
          },
          "name": "stdout",
          "output_type": "stream",
          "text": [
            "mkdir: cannot create directory ‘/root/.kaggle/’: File exists\n",
            "Requirement already satisfied: kaggle in /usr/local/lib/python3.7/dist-packages (1.5.12)\n",
            "Requirement already satisfied: six>=1.10 in /usr/local/lib/python3.7/dist-packages (from kaggle) (1.15.0)\n",
            "Requirement already satisfied: requests in /usr/local/lib/python3.7/dist-packages (from kaggle) (2.23.0)\n",
            "Requirement already satisfied: python-dateutil in /usr/local/lib/python3.7/dist-packages (from kaggle) (2.8.2)\n",
            "Requirement already satisfied: python-slugify in /usr/local/lib/python3.7/dist-packages (from kaggle) (6.1.1)\n",
            "Requirement already satisfied: tqdm in /usr/local/lib/python3.7/dist-packages (from kaggle) (4.63.0)\n",
            "Requirement already satisfied: urllib3 in /usr/local/lib/python3.7/dist-packages (from kaggle) (1.24.3)\n",
            "Requirement already satisfied: certifi in /usr/local/lib/python3.7/dist-packages (from kaggle) (2021.10.8)\n",
            "Requirement already satisfied: text-unidecode>=1.3 in /usr/local/lib/python3.7/dist-packages (from python-slugify->kaggle) (1.3)\n",
            "Requirement already satisfied: idna<3,>=2.5 in /usr/local/lib/python3.7/dist-packages (from requests->kaggle) (2.10)\n",
            "Requirement already satisfied: chardet<4,>=3.0.2 in /usr/local/lib/python3.7/dist-packages (from requests->kaggle) (3.0.4)\n",
            "datasets  sample_data\n"
          ]
        }
      ]
    },
    {
      "cell_type": "markdown",
      "metadata": {
        "id": "D9hGo7nXifXa"
      },
      "source": [
        "## Dataset Collecting"
      ]
    },
    {
      "cell_type": "markdown",
      "metadata": {
        "id": "D15-Sk2lifXc"
      },
      "source": [
        "**Question 1**: Write a function that collects all titles and number of votes for each title of a given [hacker news page](http://news.ycombinator.com) (15pt)\n"
      ]
    },
    {
      "cell_type": "code",
      "metadata": {
        "id": "dR0z-yztifXe",
        "outputId": "af2bc59c-400a-41e0-81a6-e6bef1e911b6",
        "colab": {
          "base_uri": "https://localhost:8080/"
        }
      },
      "source": [
        "import os\n",
        "\n",
        "from bs4 import BeautifulSoup\n",
        "import requests\n",
        "u = \"http://news.ycombinator.com\"\n",
        "html = requests.get(u).content.decode('utf-8')\n",
        "\n",
        "soup = BeautifulSoup(html, 'html.parser')\n",
        "titles = soup.findAll('tr', attrs={'class': \"athing\"})\n",
        "for title in titles:\n",
        "        link = title.findAll('a', attrs={'class': \"titlelink\"})\n",
        "        try:\n",
        "                votes = title.nextSibling.find('span', attrs={'class' : 'score'}).string\n",
        "        except:\n",
        "                votes = '0'\n",
        "        print(link[0].contents[0] + ' \\nvotes ' + votes)\n",
        "\n"
      ],
      "execution_count": 1,
      "outputs": [
        {
          "output_type": "stream",
          "name": "stdout",
          "text": [
            "Do It (2004) \n",
            "votes 174 points\n",
            "My lizard brain is no match for infinite scroll \n",
            "votes 614 points\n",
            "Freshmeat.net, 1997-2014 (2014) \n",
            "votes 16 points\n",
            "Zero rupee note (2015) \n",
            "votes 187 points\n",
            "Algorithms for Modern Hardware \n",
            "votes 178 points\n",
            "How to deploy software on a moving bus (2018) \n",
            "votes 11 points\n",
            "Show HN: Just 5 Top headlines of the world you need to start your day with \n",
            "votes 50 points\n",
            "Russia to Legalize Software Piracy \n",
            "votes 44 points\n",
            "Damn Cool Algorithms: Levenshtein Automata \n",
            "votes 148 points\n",
            "Introduction to GPUs with OpenGL \n",
            "votes 86 points\n",
            "A Monk’s-Eye View \n",
            "votes 8 points\n",
            "NaTakallam – High-quality language services and courses delivered by refugees \n",
            "votes 68 points\n",
            "The campaign to shut down YouTube-dl continues \n",
            "votes 461 points\n",
            "Yerka bike uses frame as lock \n",
            "votes 104 points\n",
            "Binary search with confidence \n",
            "votes 57 points\n",
            "I can no longer compile my first Flash game \n",
            "votes 141 points\n",
            "Escaping privileged containers for fun \n",
            "votes 61 points\n",
            "Cooklang – Managing Recipes in Git \n",
            "votes 83 points\n",
            "Calling all pirates: This US lawmaker wants you to seize Russian vessels \n",
            "votes 24 points\n",
            "Vitamin D supplements lower risk of autoimmune disease, researchers say \n",
            "votes 70 points\n",
            "Ask HN: How does one go about bringing a hardware product to market \n",
            "votes 7 points\n",
            "Words that seem related but aren't (2015) \n",
            "votes 44 points\n",
            "The vintage beauty of Soviet control rooms (2018) \n",
            "votes 117 points\n",
            "MicropolisJS: A JavaScript clone of the original SimCity \n",
            "votes 16 points\n",
            "Windows Defender is enough, if you harden it \n",
            "votes 482 points\n",
            "Unofficial yet comprehensive FAQ for LoongArch \n",
            "votes 32 points\n",
            "Linux from Scratch – LFS and BLFS Version 11.1 are released \n",
            "votes 68 points\n",
            "How the world's heaviest man lost it all (2017) \n",
            "votes 24 points\n",
            "The Einstein Telescope \n",
            "votes 70 points\n",
            "Loudness War \n",
            "votes 6 points\n"
          ]
        }
      ]
    },
    {
      "cell_type": "markdown",
      "metadata": {
        "id": "fpKRAkjtifXk"
      },
      "source": [
        "**Question 2**:  Write a function that collects data on four James Bond movies from [The Movie Database](https://www.themoviedb.org). You can use [tmdbv3api](https://pypi.org/project/tmdbv3api/) (15pt)"
      ]
    },
    {
      "cell_type": "code",
      "metadata": {
        "id": "32w2fs6JifXl"
      },
      "source": [
        "from bs4 import BeautifulSoup\n",
        "import requests\n",
        "u ='https://api.themoviedb.org/3/search/movie?api_key=59c27449a3531482fdbafc11b22fa914&query=James+Bond'\n",
        "#j = requests.get(u).content.decode('utf-8')\n",
        "j = requests.get(u).json()\n",
        "\n"
      ],
      "execution_count": 2,
      "outputs": []
    },
    {
      "cell_type": "code",
      "execution_count": 3,
      "outputs": [
        {
          "output_type": "stream",
          "name": "stdout",
          "text": [
            " --------------Being James Bond-------------------\n",
            "{'adult': False, 'backdrop_path': '/8Bcm0qBnS6yjwTFad8eI6thzRub.jpg', 'genre_ids': [99], 'id': 869250, 'original_language': 'en', 'original_title': 'Being James Bond', 'overview': 'Daniel Craig candidly reflects on his 15 year adventure as James Bond. Including never-before-seen archival footage from Casino Royale to the upcoming 25th film No Time To Die, Craig shares his personal memories in conversation with 007 producers, Michael G Wilson and Barbara Broccoli.', 'popularity': 10.792, 'poster_path': '/jLaAbwPDzHNbJfZ0Xj0CkeM56CO.jpg', 'release_date': '2021-08-29', 'title': 'Being James Bond', 'video': False, 'vote_average': 7.8, 'vote_count': 46}\n",
            " --------------James Bond: For Real-------------------\n",
            "{'adult': False, 'backdrop_path': '/Lz17qcjUuLAjHokrnmBAC1wasT.jpg', 'genre_ids': [99], 'id': 338749, 'original_language': 'en', 'original_title': 'James Bond: For Real', 'overview': \"The stunts and action set pieces for the the 2006 James Bond adventure 'Casino Royale'.\", 'popularity': 6.061, 'poster_path': '/vYNYCv3LrZjRvQaFTm5HnZVCIut.jpg', 'release_date': '2006-11-22', 'title': 'James Bond: For Real', 'video': True, 'vote_average': 7.3, 'vote_count': 4}\n",
            " --------------The James Bond Story-------------------\n",
            "{'adult': False, 'backdrop_path': None, 'genre_ids': [99], 'id': 44650, 'original_language': 'en', 'original_title': 'The James Bond Story', 'overview': 'Bond... James Bond! Perhaps the greatest fictional cinema icon ever. He first appeared on the big screen in 1962 in Dr. No and has remained the most powerful action hero ever since. The secret to his success is his adaptability. No matter what tight spots he finds himself in, he always appears to be suave, sophisticated and cool. This is the full story -- from the creation of the character, the men who played him, all the toys, and all the women. Everything you wanted to know about James Bond... and more.', 'popularity': 3.361, 'poster_path': '/wG1iksqapNCNNZuIneHuF6j9Sg0.jpg', 'release_date': '1999-10-09', 'title': 'The James Bond Story', 'video': False, 'vote_average': 6.5, 'vote_count': 11}\n",
            " --------------Jatt James Bond-------------------\n",
            "{'adult': False, 'backdrop_path': '/3zpR0XaPfXxmoh7inMDuim2Uc3S.jpg', 'genre_ids': [35, 18, 53], 'id': 266315, 'original_language': 'pa', 'original_title': 'Jatt James Bond', 'overview': 'Shinda was mistreated by his relatives therefore he finds other ways to have his love Laali. Shinda and his two other friends come up with a plan to solve all of their problems.', 'popularity': 2.187, 'poster_path': '/kgeAS28rBZJSEVypaKpEaI4wunn.jpg', 'release_date': '2014-04-25', 'title': 'Jatt James Bond', 'video': False, 'vote_average': 5.2, 'vote_count': 5}\n"
          ]
        }
      ],
      "source": [
        "for movie in j['results'][:4]:\n",
        "        print(' --------------%s-------------------'%movie['original_title'])\n",
        "        print (movie)\n",
        "       "
      ],
      "metadata": {
        "pycharm": {
          "name": "#%%\n"
        },
        "id": "InA6K6_tJ4oX",
        "outputId": "be54761e-29a3-4177-d8b7-0c27962c0584",
        "colab": {
          "base_uri": "https://localhost:8080/"
        }
      }
    },
    {
      "cell_type": "markdown",
      "metadata": {
        "id": "AUdAUefVifXo"
      },
      "source": [
        "## Kickstarter Projects Dataset"
      ]
    },
    {
      "cell_type": "markdown",
      "metadata": {
        "id": "zx58iFpDifXo"
      },
      "source": [
        "Using the [Kickstarter Projects Dataset](https://www.kaggle.com/kemical/kickstarter-projects#ks-projects-201801.csv) and Pandas, please answer one of following questions:"
      ]
    },
    {
      "cell_type": "markdown",
      "metadata": {
        "id": "9C5Pn9SkifXp"
      },
      "source": [
        "### <span style=\"color:red\"> Please answer only **one** of the following questions according to your (ID number + 1) (use the formula **<YOUR_ID> mod 3 +1**) </span>"
      ]
    },
    {
      "cell_type": "code",
      "execution_count": 10,
      "outputs": [
        {
          "output_type": "stream",
          "name": "stdout",
          "text": [
            "mkdir: cannot create directory ‘./datasets’: File exists\n"
          ]
        }
      ],
      "source": [
        "import os\n",
        "os.getcwd()\n",
        "!mkdir ./datasets\n",
        "!mkdir ./datasets/kick\n",
        "\n"
      ],
      "metadata": {
        "pycharm": {
          "name": "#%%\n"
        },
        "id": "qnmwiMIkJ4oa",
        "outputId": "4d8aaf44-be16-4543-bd91-5644de248492",
        "colab": {
          "base_uri": "https://localhost:8080/"
        }
      }
    },
    {
      "cell_type": "code",
      "execution_count": 14,
      "outputs": [
        {
          "output_type": "stream",
          "name": "stdout",
          "text": [
            "Downloading kickstarter-projects.zip to ./datasets/kick\n",
            " 87% 32.0M/36.8M [00:00<00:00, 62.2MB/s]\n",
            "100% 36.8M/36.8M [00:00<00:00, 74.9MB/s]\n",
            "Archive:  ./datasets/kick/kickstarter-projects.zip\n",
            "  inflating: ./datasets/kick/ks-projects-201612.csv  \n",
            "  inflating: ./datasets/kick/ks-projects-201801.csv  \n"
          ]
        }
      ],
      "source": [
        "!kaggle datasets download kemical/kickstarter-projects -p ./datasets/kick\n",
        "!unzip ./datasets/kick/* -d ./datasets/kick\n"
      ],
      "metadata": {
        "pycharm": {
          "name": "#%%\n"
        },
        "id": "X9qKWKxeJ4ob",
        "outputId": "adcf3fdf-f1a9-4de0-f3a7-27fdcd934953",
        "colab": {
          "base_uri": "https://localhost:8080/"
        }
      }
    },
    {
      "cell_type": "code",
      "metadata": {
        "id": "Nttgf82QifXq",
        "outputId": "c081262c-5b6b-4bb1-a7ca-db792ecbec9a",
        "colab": {
          "base_uri": "https://localhost:8080/"
        }
      },
      "source": [
        "# which question to answer - put your ID number and run the code \n",
        "your_id  = \"032191025\"\n",
        "q = (int(your_id) + 1) % 3 + 1\n",
        "print(\"You need to answer questions %s and 4\" % q)"
      ],
      "execution_count": 6,
      "outputs": [
        {
          "output_type": "stream",
          "name": "stdout",
          "text": [
            "You need to answer questions 1 and 4\n"
          ]
        }
      ]
    },
    {
      "cell_type": "markdown",
      "metadata": {
        "id": "po4uxd2tifXu"
      },
      "source": [
        "**Question 1:** On average which project category received the lowest number of backers? (15 pt)"
      ]
    },
    {
      "cell_type": "code",
      "execution_count": 15,
      "outputs": [
        {
          "output_type": "stream",
          "name": "stderr",
          "text": [
            "/usr/local/lib/python3.7/dist-packages/IPython/core/interactiveshell.py:2882: DtypeWarning: Columns (13,14,15) have mixed types.Specify dtype option on import or set low_memory=False.\n",
            "  exec(code_obj, self.user_global_ns, self.user_ns)\n"
          ]
        },
        {
          "output_type": "execute_result",
          "data": {
            "text/html": [
              "\n",
              "  <div id=\"df-8ebcecee-5090-4067-b3ce-0ec26e67e60c\">\n",
              "    <div class=\"colab-df-container\">\n",
              "      <div>\n",
              "<style scoped>\n",
              "    .dataframe tbody tr th:only-of-type {\n",
              "        vertical-align: middle;\n",
              "    }\n",
              "\n",
              "    .dataframe tbody tr th {\n",
              "        vertical-align: top;\n",
              "    }\n",
              "\n",
              "    .dataframe thead th {\n",
              "        text-align: right;\n",
              "    }\n",
              "</style>\n",
              "<table border=\"1\" class=\"dataframe\">\n",
              "  <thead>\n",
              "    <tr style=\"text-align: right;\">\n",
              "      <th></th>\n",
              "      <th>ID</th>\n",
              "      <th>name</th>\n",
              "      <th>category</th>\n",
              "      <th>main_category</th>\n",
              "      <th>currency</th>\n",
              "      <th>deadline</th>\n",
              "      <th>goal</th>\n",
              "      <th>launched</th>\n",
              "      <th>pledged</th>\n",
              "      <th>state</th>\n",
              "      <th>backers</th>\n",
              "      <th>country</th>\n",
              "      <th>usd pledged</th>\n",
              "      <th>Unnamed: 13</th>\n",
              "      <th>Unnamed: 14</th>\n",
              "      <th>Unnamed: 15</th>\n",
              "      <th>Unnamed: 16</th>\n",
              "    </tr>\n",
              "  </thead>\n",
              "  <tbody>\n",
              "    <tr>\n",
              "      <th>0</th>\n",
              "      <td>1000002330</td>\n",
              "      <td>The Songs of Adelaide &amp; Abullah</td>\n",
              "      <td>Poetry</td>\n",
              "      <td>Publishing</td>\n",
              "      <td>GBP</td>\n",
              "      <td>2015-10-09 11:36:00</td>\n",
              "      <td>1000</td>\n",
              "      <td>2015-08-11 12:12:28</td>\n",
              "      <td>0</td>\n",
              "      <td>failed</td>\n",
              "      <td>0</td>\n",
              "      <td>GB</td>\n",
              "      <td>0</td>\n",
              "      <td>NaN</td>\n",
              "      <td>NaN</td>\n",
              "      <td>NaN</td>\n",
              "      <td>NaN</td>\n",
              "    </tr>\n",
              "    <tr>\n",
              "      <th>1</th>\n",
              "      <td>1000004038</td>\n",
              "      <td>Where is Hank?</td>\n",
              "      <td>Narrative Film</td>\n",
              "      <td>Film &amp; Video</td>\n",
              "      <td>USD</td>\n",
              "      <td>2013-02-26 00:20:50</td>\n",
              "      <td>45000</td>\n",
              "      <td>2013-01-12 00:20:50</td>\n",
              "      <td>220</td>\n",
              "      <td>failed</td>\n",
              "      <td>3</td>\n",
              "      <td>US</td>\n",
              "      <td>220</td>\n",
              "      <td>NaN</td>\n",
              "      <td>NaN</td>\n",
              "      <td>NaN</td>\n",
              "      <td>NaN</td>\n",
              "    </tr>\n",
              "    <tr>\n",
              "      <th>2</th>\n",
              "      <td>1000007540</td>\n",
              "      <td>ToshiCapital Rekordz Needs Help to Complete Album</td>\n",
              "      <td>Music</td>\n",
              "      <td>Music</td>\n",
              "      <td>USD</td>\n",
              "      <td>2012-04-16 04:24:11</td>\n",
              "      <td>5000</td>\n",
              "      <td>2012-03-17 03:24:11</td>\n",
              "      <td>1</td>\n",
              "      <td>failed</td>\n",
              "      <td>1</td>\n",
              "      <td>US</td>\n",
              "      <td>1</td>\n",
              "      <td>NaN</td>\n",
              "      <td>NaN</td>\n",
              "      <td>NaN</td>\n",
              "      <td>NaN</td>\n",
              "    </tr>\n",
              "    <tr>\n",
              "      <th>3</th>\n",
              "      <td>1000011046</td>\n",
              "      <td>Community Film Project: The Art of Neighborhoo...</td>\n",
              "      <td>Film &amp; Video</td>\n",
              "      <td>Film &amp; Video</td>\n",
              "      <td>USD</td>\n",
              "      <td>2015-08-29 01:00:00</td>\n",
              "      <td>19500</td>\n",
              "      <td>2015-07-04 08:35:03</td>\n",
              "      <td>1283</td>\n",
              "      <td>canceled</td>\n",
              "      <td>14</td>\n",
              "      <td>US</td>\n",
              "      <td>1283</td>\n",
              "      <td>NaN</td>\n",
              "      <td>NaN</td>\n",
              "      <td>NaN</td>\n",
              "      <td>NaN</td>\n",
              "    </tr>\n",
              "    <tr>\n",
              "      <th>4</th>\n",
              "      <td>1000014025</td>\n",
              "      <td>Monarch Espresso Bar</td>\n",
              "      <td>Restaurants</td>\n",
              "      <td>Food</td>\n",
              "      <td>USD</td>\n",
              "      <td>2016-04-01 13:38:27</td>\n",
              "      <td>50000</td>\n",
              "      <td>2016-02-26 13:38:27</td>\n",
              "      <td>52375</td>\n",
              "      <td>successful</td>\n",
              "      <td>224</td>\n",
              "      <td>US</td>\n",
              "      <td>52375</td>\n",
              "      <td>NaN</td>\n",
              "      <td>NaN</td>\n",
              "      <td>NaN</td>\n",
              "      <td>NaN</td>\n",
              "    </tr>\n",
              "  </tbody>\n",
              "</table>\n",
              "</div>\n",
              "      <button class=\"colab-df-convert\" onclick=\"convertToInteractive('df-8ebcecee-5090-4067-b3ce-0ec26e67e60c')\"\n",
              "              title=\"Convert this dataframe to an interactive table.\"\n",
              "              style=\"display:none;\">\n",
              "        \n",
              "  <svg xmlns=\"http://www.w3.org/2000/svg\" height=\"24px\"viewBox=\"0 0 24 24\"\n",
              "       width=\"24px\">\n",
              "    <path d=\"M0 0h24v24H0V0z\" fill=\"none\"/>\n",
              "    <path d=\"M18.56 5.44l.94 2.06.94-2.06 2.06-.94-2.06-.94-.94-2.06-.94 2.06-2.06.94zm-11 1L8.5 8.5l.94-2.06 2.06-.94-2.06-.94L8.5 2.5l-.94 2.06-2.06.94zm10 10l.94 2.06.94-2.06 2.06-.94-2.06-.94-.94-2.06-.94 2.06-2.06.94z\"/><path d=\"M17.41 7.96l-1.37-1.37c-.4-.4-.92-.59-1.43-.59-.52 0-1.04.2-1.43.59L10.3 9.45l-7.72 7.72c-.78.78-.78 2.05 0 2.83L4 21.41c.39.39.9.59 1.41.59.51 0 1.02-.2 1.41-.59l7.78-7.78 2.81-2.81c.8-.78.8-2.07 0-2.86zM5.41 20L4 18.59l7.72-7.72 1.47 1.35L5.41 20z\"/>\n",
              "  </svg>\n",
              "      </button>\n",
              "      \n",
              "  <style>\n",
              "    .colab-df-container {\n",
              "      display:flex;\n",
              "      flex-wrap:wrap;\n",
              "      gap: 12px;\n",
              "    }\n",
              "\n",
              "    .colab-df-convert {\n",
              "      background-color: #E8F0FE;\n",
              "      border: none;\n",
              "      border-radius: 50%;\n",
              "      cursor: pointer;\n",
              "      display: none;\n",
              "      fill: #1967D2;\n",
              "      height: 32px;\n",
              "      padding: 0 0 0 0;\n",
              "      width: 32px;\n",
              "    }\n",
              "\n",
              "    .colab-df-convert:hover {\n",
              "      background-color: #E2EBFA;\n",
              "      box-shadow: 0px 1px 2px rgba(60, 64, 67, 0.3), 0px 1px 3px 1px rgba(60, 64, 67, 0.15);\n",
              "      fill: #174EA6;\n",
              "    }\n",
              "\n",
              "    [theme=dark] .colab-df-convert {\n",
              "      background-color: #3B4455;\n",
              "      fill: #D2E3FC;\n",
              "    }\n",
              "\n",
              "    [theme=dark] .colab-df-convert:hover {\n",
              "      background-color: #434B5C;\n",
              "      box-shadow: 0px 1px 3px 1px rgba(0, 0, 0, 0.15);\n",
              "      filter: drop-shadow(0px 1px 2px rgba(0, 0, 0, 0.3));\n",
              "      fill: #FFFFFF;\n",
              "    }\n",
              "  </style>\n",
              "\n",
              "      <script>\n",
              "        const buttonEl =\n",
              "          document.querySelector('#df-8ebcecee-5090-4067-b3ce-0ec26e67e60c button.colab-df-convert');\n",
              "        buttonEl.style.display =\n",
              "          google.colab.kernel.accessAllowed ? 'block' : 'none';\n",
              "\n",
              "        async function convertToInteractive(key) {\n",
              "          const element = document.querySelector('#df-8ebcecee-5090-4067-b3ce-0ec26e67e60c');\n",
              "          const dataTable =\n",
              "            await google.colab.kernel.invokeFunction('convertToInteractive',\n",
              "                                                     [key], {});\n",
              "          if (!dataTable) return;\n",
              "\n",
              "          const docLinkHtml = 'Like what you see? Visit the ' +\n",
              "            '<a target=\"_blank\" href=https://colab.research.google.com/notebooks/data_table.ipynb>data table notebook</a>'\n",
              "            + ' to learn more about interactive tables.';\n",
              "          element.innerHTML = '';\n",
              "          dataTable['output_type'] = 'display_data';\n",
              "          await google.colab.output.renderOutput(dataTable, element);\n",
              "          const docLink = document.createElement('div');\n",
              "          docLink.innerHTML = docLinkHtml;\n",
              "          element.appendChild(docLink);\n",
              "        }\n",
              "      </script>\n",
              "    </div>\n",
              "  </div>\n",
              "  "
            ],
            "text/plain": [
              "          ID                                               name   \\\n",
              "0  1000002330                    The Songs of Adelaide & Abullah   \n",
              "1  1000004038                                     Where is Hank?   \n",
              "2  1000007540  ToshiCapital Rekordz Needs Help to Complete Album   \n",
              "3  1000011046  Community Film Project: The Art of Neighborhoo...   \n",
              "4  1000014025                               Monarch Espresso Bar   \n",
              "\n",
              "        category  main_category  currency             deadline   goal   \\\n",
              "0          Poetry     Publishing       GBP  2015-10-09 11:36:00   1000   \n",
              "1  Narrative Film   Film & Video       USD  2013-02-26 00:20:50  45000   \n",
              "2           Music          Music       USD  2012-04-16 04:24:11   5000   \n",
              "3    Film & Video   Film & Video       USD  2015-08-29 01:00:00  19500   \n",
              "4     Restaurants           Food       USD  2016-04-01 13:38:27  50000   \n",
              "\n",
              "             launched  pledged       state  backers  country  usd pledged   \\\n",
              "0  2015-08-11 12:12:28        0      failed        0       GB            0   \n",
              "1  2013-01-12 00:20:50      220      failed        3       US          220   \n",
              "2  2012-03-17 03:24:11        1      failed        1       US            1   \n",
              "3  2015-07-04 08:35:03     1283    canceled       14       US         1283   \n",
              "4  2016-02-26 13:38:27    52375  successful      224       US        52375   \n",
              "\n",
              "  Unnamed: 13 Unnamed: 14 Unnamed: 15  Unnamed: 16  \n",
              "0         NaN         NaN         NaN          NaN  \n",
              "1         NaN         NaN         NaN          NaN  \n",
              "2         NaN         NaN         NaN          NaN  \n",
              "3         NaN         NaN         NaN          NaN  \n",
              "4         NaN         NaN         NaN          NaN  "
            ]
          },
          "metadata": {},
          "execution_count": 15
        }
      ],
      "source": [
        "import pandas as pd\n",
        "import os\n",
        "from tqdm.notebook import  tqdm\n",
        "# load the data into a Pandas DataFrame\n",
        "kick_df = pd.read_csv('./datasets/kick/ks-projects-201612.csv' ,encoding='cp1252')\n",
        "kick_df.head()"
      ],
      "metadata": {
        "pycharm": {
          "name": "#%%\n"
        },
        "id": "eI5OGxZDJ4od",
        "outputId": "913d442f-c5ed-4e9c-c2d7-b1909551ec98",
        "colab": {
          "base_uri": "https://localhost:8080/",
          "height": 615
        }
      }
    },
    {
      "cell_type": "code",
      "execution_count": 16,
      "outputs": [
        {
          "output_type": "stream",
          "name": "stderr",
          "text": [
            "/usr/local/lib/python3.7/dist-packages/IPython/core/interactiveshell.py:2882: DtypeWarning: Columns (13,14,15) have mixed types.Specify dtype option on import or set low_memory=False.\n",
            "  exec(code_obj, self.user_global_ns, self.user_ns)\n"
          ]
        },
        {
          "output_type": "stream",
          "name": "stdout",
          "text": [
            "Categories in ascending order, first row is the minimum\n",
            "                 backers \n",
            "category                 \n",
            " personalized    0.000000\n",
            " Path of Light   1.000000\n",
            " Wear Wisdom     1.000000\n",
            "Crochet          8.446970\n",
            "Embroidery      11.270588\n",
            "Places          11.705701\n",
            "Couture         12.064655\n",
            "Candles         12.324859\n",
            "Nature          15.785276\n",
            "Video           15.810089\n"
          ]
        }
      ],
      "source": [
        "import pandas as pd\n",
        "import os\n",
        "from tqdm.notebook import  tqdm\n",
        "# load the data into a Pandas DataFrame\n",
        "kick_df = pd.read_csv('./datasets/kick/ks-projects-201612.csv' ,encoding='cp1252')\n",
        "#kick_df.head()\n",
        "small_df = kick_df[['category ','backers ']][kick_df['backers '].apply(lambda x: x.isnumeric())]\n",
        "\n",
        "small_df['backers '].apply(lambda x:float(x))\n",
        "small_df['backers '] = small_df['backers '].astype(float)\n",
        "\n",
        "results = small_df.groupby(['category ']).mean().sort_values('backers ')[:10]\n",
        "print('Categories in ascending order, first row is the minimum')\n",
        "\n",
        "print(results)\n"
      ],
      "metadata": {
        "pycharm": {
          "name": "#%%\n"
        },
        "id": "pmdQotKhJ4oe",
        "outputId": "c095087a-2b54-4e02-aac9-7497a1f904b4",
        "colab": {
          "base_uri": "https://localhost:8080/"
        }
      }
    },
    {
      "cell_type": "code",
      "metadata": {
        "id": "7tWX81YeifXv"
      },
      "source": [
        ""
      ],
      "execution_count": null,
      "outputs": []
    },
    {
      "cell_type": "markdown",
      "metadata": {
        "id": "-5TYWzlxifXx"
      },
      "source": [
        "**Question 2:** On average which project category received the lowest pledged USD? (15 pt)"
      ]
    },
    {
      "cell_type": "code",
      "metadata": {
        "id": "PMYZplK9ifXy"
      },
      "source": [
        ""
      ],
      "execution_count": null,
      "outputs": []
    },
    {
      "cell_type": "markdown",
      "metadata": {
        "id": "O0sULSUlifX0"
      },
      "source": [
        "**Question 3:** In which month is there the lowest number of projects? (15 pt)"
      ]
    },
    {
      "cell_type": "code",
      "metadata": {
        "id": "EflUthvqifX1"
      },
      "source": [
        ""
      ],
      "execution_count": null,
      "outputs": []
    },
    {
      "cell_type": "markdown",
      "metadata": {
        "id": "jKZ19m4bifX3"
      },
      "source": [
        "**Question 4 (for all):** Visualize your answer using matplotlib or seaborn (15pt)"
      ]
    },
    {
      "cell_type": "code",
      "metadata": {
        "id": "01gCsLrqifX3",
        "outputId": "0b0c12bf-7667-4733-9a0b-96d5f468bfee",
        "colab": {
          "base_uri": "https://localhost:8080/",
          "height": 387
        }
      },
      "source": [
        "import seaborn as sns\n",
        "import matplotlib.pyplot as plt\n",
        "data = results.reset_index()\n",
        "ax = sns.barplot(x = 'category ', y=\"backers \", data=data)\n",
        "plt.xticks(rotation=70)\n"
      ],
      "execution_count": 17,
      "outputs": [
        {
          "output_type": "execute_result",
          "data": {
            "text/plain": [
              "(array([0, 1, 2, 3, 4, 5, 6, 7, 8, 9]),\n",
              " <a list of 10 Text major ticklabel objects>)"
            ]
          },
          "metadata": {},
          "execution_count": 17
        },
        {
          "output_type": "display_data",
          "data": {
            "image/png": "[encoded data removed]",
            "text/plain": [
              "<Figure size 432x288 with 1 Axes>"
            ]
          },
          "metadata": {
            "needs_background": "light"
          }
        }
      ]
    },
    {
      "cell_type": "markdown",
      "metadata": {
        "id": "PpjMJgB1ifX6"
      },
      "source": [
        "## The Marvel Universe Social Network"
      ]
    },
    {
      "cell_type": "markdown",
      "metadata": {
        "id": "oVRgZuN5ifX6"
      },
      "source": [
        "Using the [The Marvel Universe Social Network](https://www.kaggle.com/csanhueza/the-marvel-universe-social-network) and  Pandas, please answer the following questions:"
      ]
    },
    {
      "cell_type": "code",
      "execution_count": 18,
      "outputs": [
        {
          "output_type": "stream",
          "name": "stdout",
          "text": [
            "Downloading the-marvel-universe-social-network.zip to ./datasets/marvel\n",
            "\r  0% 0.00/2.72M [00:00<?, ?B/s]\n",
            "\r100% 2.72M/2.72M [00:00<00:00, 90.7MB/s]\n"
          ]
        }
      ],
      "source": [
        "!mkdir ./datasets/marvel\n",
        "!kaggle datasets download csanhueza/the-marvel-universe-social-network -p ./datasets/marvel\n"
      ],
      "metadata": {
        "pycharm": {
          "name": "#%%\n"
        },
        "id": "aKc7_nV8J4ok",
        "outputId": "53b4533b-61e2-4e24-c36d-85c8128a6530",
        "colab": {
          "base_uri": "https://localhost:8080/"
        }
      }
    },
    {
      "cell_type": "code",
      "execution_count": 19,
      "outputs": [
        {
          "output_type": "stream",
          "name": "stdout",
          "text": [
            "Archive:  ./datasets/marvel/the-marvel-universe-social-network.zip\n",
            "  inflating: ./datasets/marvel/edges.csv  \n",
            "  inflating: ./datasets/marvel/hero-network.csv  \n",
            "  inflating: ./datasets/marvel/nodes.csv  \n"
          ]
        }
      ],
      "source": [
        "!unzip ./datasets/marvel/* -d ./datasets/marvel\n"
      ],
      "metadata": {
        "pycharm": {
          "name": "#%%\n"
        },
        "id": "abIzjkYFJ4ol",
        "outputId": "ea851c05-0ab8-475d-c7a1-2418f0ec1655",
        "colab": {
          "base_uri": "https://localhost:8080/"
        }
      }
    },
    {
      "cell_type": "markdown",
      "metadata": {
        "id": "E91-E4ufifX7"
      },
      "source": [
        "**Question 1:** Write code which calculate the top-10 most friendly characters, i.e., characters with the \n",
        "    highest number of friends. Please use _hero_network.csv_ file (15pt). \n",
        "    \n",
        "**Note:** Not all the links in this dataset are symmetric."
      ]
    },
    {
      "cell_type": "code",
      "metadata": {
        "id": "gYIoTJNIifX8",
        "outputId": "c68c0d34-bada-44c3-8e11-8a445d3e7e49",
        "colab": {
          "base_uri": "https://localhost:8080/"
        }
      },
      "source": [
        "import pandas as pd\n",
        "df = pd.read_csv('./datasets/marvel/hero-network.csv')\n",
        "groups = df.groupby('hero1').count().reset_index()\n",
        "groups.sort_values(by = 'hero2',ascending=False, inplace = True)\n",
        "groups.columns = ['hero','friendliness']\n",
        "print('the most frindly heros are:')\n",
        "print(groups.iloc[0:10])\n",
        "#df['freinds'] = groups.apply(lambda row: len(row['hero2']) )\n"
      ],
      "execution_count": 20,
      "outputs": [
        {
          "output_type": "stream",
          "name": "stdout",
          "text": [
            "the most frindly heros are:\n",
            "                      hero  friendliness\n",
            "826        CAPTAIN AMERICA          8149\n",
            "5103  SPIDER-MAN/PETER PAR          6652\n",
            "2555  IRON MAN/TONY STARK           5850\n",
            "5520  THOR/DR. DONALD BLAK          5712\n",
            "5499  THING/BENJAMIN J. GR          5369\n",
            "6073      WOLVERINE/LOGAN           5230\n",
            "4717  SCARLET WITCH/WANDA           5184\n",
            "5836               VISION           5067\n",
            "2449  HUMAN TORCH/JOHNNY S          4970\n",
            "3666  MR. FANTASTIC/REED R          4788\n"
          ]
        }
      ]
    },
    {
      "cell_type": "markdown",
      "metadata": {
        "id": "EqcKzoUsifX-"
      },
      "source": [
        "**Question 2:** Using Pandas and Networkx create a graph object of The Marvel Universe Social Network with the 150 most \"friendly\" characters (10pt).\n",
        "    The vertices in that graph need to be relative to the size of each character's number of links (also referred to as the vertex degree) (10pt).\n",
        "Please color each node in the graph according to character type according to data in the *nodes.csv* file (5pt)"
      ]
    },
    {
      "cell_type": "code",
      "metadata": {
        "id": "_4650rgeifX_",
        "outputId": "c77e9123-5fc4-460e-cb21-2e1be3e14c1d",
        "colab": {
          "base_uri": "https://localhost:8080/",
          "height": 113,
          "referenced_widgets": [
            "d470ae3d4696436a99f8224df19cd5ab",
            "479a83a6e7794b64a1343809e2f42056",
            "af1b9171e32a4517894b9b36ea44df96",
            "b0b3b58b006b4773a973488d72734146",
            "8fccdd96ea904de092fa95ffba046664",
            "eecca034fb72480581fdab7fd1507ace",
            "4c5921342fda4852a6c539c0c9eef2ea",
            "5c45c98e6af541029187040f6f6b7a7f",
            "b5e1193abaa44c2f834b15bd891262e4",
            "1906dfc985554de69bee5fad16c43c80",
            "87ab60581c01477da33e57ad331e35c3",
            "0ab69a4360b6474782327f14af2e8e75",
            "815a021c5a64469f85df65ce7378c11a",
            "48edb1a421004e798a8b505694de0f5c",
            "2b2b44c29e4544a49a2be57210ed1310",
            "c43182ec4d1644e7982f203fb4ede09d",
            "1670c367a0eb4f0e93b6841f0f103a34",
            "195c9c9e5de2420a9f563a0dc2b6ba48",
            "911ed500ba774d898eb2b2642dc08ca4",
            "991826d5bbb24d21b17305ce4954dd9a",
            "ade559cddf2c45e6bef3e00c5191dfe9",
            "5836eb3c47d84dd4a6ffb160a818b5d0",
            "89502caa3a1a48b28a6e458170e86e31",
            "ef20f2a7c5a9443c9ba3e7ad74818555",
            "f29b360c781b4482abe6468b81bcfcbc",
            "5263868193b74c44a0f74ebf71cac77e",
            "6b4d21e048614853b167307ce37bed14",
            "e27ee1c778764ede87b8f650ab4bfe87",
            "0121fac6abd94d8e87cab77b13a3a09b",
            "39707ec3c8824c1a8e5d7da5a96d7e98",
            "1c56beed637c46efa63385216113ddbc",
            "708eeaf77ec042feaa95e461309b487e",
            "ce37c1a8e354443facbef8448ad11812"
          ]
        }
      },
      "source": [
        "from tqdm.notebook import  tqdm\n",
        "import pandas as pd\n",
        "import networkx as nx\n",
        "df = pd.read_csv('./datasets/marvel/hero-network.csv')\n",
        "nodes_df = pd.read_csv('./datasets/marvel/nodes.csv')\n",
        "edges_df = pd.read_csv('./datasets/marvel/edges.csv')\n",
        "#j_df = df.join(type_df, on='node')\n",
        "G=nx.DiGraph()\n",
        "for idx, row in tqdm(nodes_df.iterrows()):\n",
        "        G.add_node(row['node'], node_type = row['type'])\n",
        "\n",
        "for idx, row in tqdm(edges_df.iterrows()):\n",
        "        G.add_edge(row['hero'], row['comic'])\n",
        "        G.nodes[row['comic']]['node_type'] = 'comic'\n",
        "        G.nodes[row['hero']]['node_type'] = 'hero'\n",
        "\n",
        "\n",
        "for idx, row in tqdm(df.iterrows()):\n",
        "        G.add_edge(row['hero1'], row['hero2'])\n",
        "        G.nodes[row['hero2']]['node_type'] = 'hero'\n",
        "\n",
        "\n",
        "degree_list   =list(G.degree)\n"
      ],
      "execution_count": 21,
      "outputs": [
        {
          "output_type": "display_data",
          "data": {
            "application/vnd.jupyter.widget-view+json": {
              "model_id": "d470ae3d4696436a99f8224df19cd5ab",
              "version_minor": 0,
              "version_major": 2
            },
            "text/plain": [
              "0it [00:00, ?it/s]"
            ]
          },
          "metadata": {}
        },
        {
          "output_type": "display_data",
          "data": {
            "application/vnd.jupyter.widget-view+json": {
              "model_id": "0ab69a4360b6474782327f14af2e8e75",
              "version_minor": 0,
              "version_major": 2
            },
            "text/plain": [
              "0it [00:00, ?it/s]"
            ]
          },
          "metadata": {}
        },
        {
          "output_type": "display_data",
          "data": {
            "application/vnd.jupyter.widget-view+json": {
              "model_id": "89502caa3a1a48b28a6e458170e86e31",
              "version_minor": 0,
              "version_major": 2
            },
            "text/plain": [
              "0it [00:00, ?it/s]"
            ]
          },
          "metadata": {}
        }
      ]
    },
    {
      "cell_type": "code",
      "execution_count": 22,
      "outputs": [
        {
          "output_type": "execute_result",
          "data": {
            "text/plain": [
              "[('CAPTAIN AMERICA', 4188),\n",
              " ('THING/BENJAMIN J. GR', 2986),\n",
              " ('THOR/DR. DONALD BLAK', 2869),\n",
              " ('HUMAN TORCH/JOHNNY S', 2825),\n",
              " ('MR. FANTASTIC/REED R', 2812),\n",
              " ('SPIDER-MAN/PETER PAR', 2563),\n",
              " ('BEAST/HENRY &HANK& P', 2475),\n",
              " ('HULK/DR. ROBERT BRUC', 2406),\n",
              " ('HAWK', 2314),\n",
              " ('IRON MAN/TONY STARK ', 2238),\n",
              " ('CYCLOPS/SCOTT SUMMER', 2201),\n",
              " ('STORM/ORORO MUNROE S', 2104),\n",
              " ('ANT-MAN/DR. HENRY J.', 2074),\n",
              " ('WOLVERINE/LOGAN ', 2036),\n",
              " ('DAREDEVIL/MATT MURDO', 2023),\n",
              " ('ANGEL/WARREN KENNETH', 2007),\n",
              " ('COLOSSUS II/PETER RA', 1964),\n",
              " ('SUB-MARINER/NAMOR MA', 1961),\n",
              " ('SHE-HULK/JENNIFER WA', 1953),\n",
              " ('SCARLET WITCH/WANDA ', 1932),\n",
              " ('MARVEL GIRL/JEAN GRE', 1916),\n",
              " ('WONDER MAN/SIMON WIL', 1861),\n",
              " ('JAMESON, J. JONAH', 1845),\n",
              " ('VISION ', 1814),\n",
              " ('INVISIBLE WOMAN/SUE ', 1796),\n",
              " ('HERCULES [GREEK GOD]', 1762),\n",
              " ('NIGHTCRAWLER/KURT WA', 1711),\n",
              " ('QUICKSILVER/PIETRO M', 1604),\n",
              " ('SPIDER-MAN/PETER PARKER', 1577),\n",
              " ('WASP/JANET VAN DYNE ', 1557),\n",
              " ('ROGUE /', 1545),\n",
              " ('DR. STRANGE/STEPHEN ', 1530),\n",
              " ('PROFESSOR X/CHARLES ', 1516),\n",
              " ('ICEMAN/ROBERT BOBBY ', 1392),\n",
              " ('JARVIS, EDWIN ', 1340),\n",
              " (\"BLACK PANTHER/T'CHAL\", 1304),\n",
              " ('FURY, COL. NICHOLAS ', 1297),\n",
              " ('BLACK WIDOW/NATASHA ', 1285),\n",
              " ('ROBERTSON, JOE', 1278),\n",
              " ('CRYSTAL [INHUMAN]', 1275),\n",
              " ('SILVER SURFER/NORRIN', 1271),\n",
              " ('QUASAR III/WENDELL V', 1245),\n",
              " ('PSYLOCKE/ELISABETH B', 1238),\n",
              " ('CANNONBALL II/SAM GU', 1236),\n",
              " ('NOVA/RICHARD RIDER', 1197),\n",
              " ('RICHARDS, FRANKLIN B', 1151),\n",
              " ('IRON MAN/TONY STARK', 1150),\n",
              " ('HAVOK/ALEX SUMMERS ', 1143),\n",
              " ('WATSON-PARKER, MARY ', 1141),\n",
              " ('JONES, RICHARD MILHO', 1096),\n",
              " ('SUMMERS, NATHAN CHRI', 1093),\n",
              " ('CAGE, LUKE/CARL LUCA', 1083),\n",
              " ('BLACK KNIGHT V/DANE ', 1080),\n",
              " ('PARKER, MAY', 1060),\n",
              " ('FIRESTAR/ANGELICA JO', 1055),\n",
              " ('SHADOWCAT/KATHERINE ', 1037),\n",
              " ('POLARIS/LORNA DANE', 1032),\n",
              " ('NAMORITA/NITA PRENTI', 1030),\n",
              " ('USAGENT/CAPTAIN JOHN', 1028),\n",
              " ('WOLFSBANE/RAHNE SINC', 1023),\n",
              " ('FALCON/SAM WILSON', 995),\n",
              " ('MOONDRAGON/HEATHER D', 984),\n",
              " ('PUNISHER II/FRANK CA', 983),\n",
              " ('IRON FIST/DANIEL RAN', 979),\n",
              " ('SUNSPOT/ROBERTO DACO', 965),\n",
              " ('SERSI/SYLVIA', 963),\n",
              " ('NELSON, FRANKLIN FOG', 961),\n",
              " ('BANSHEE/SEAN CASSIDY', 952),\n",
              " ('ODIN [ASGARDIAN]', 940),\n",
              " ('CAPTAIN MARVEL II/MO', 935),\n",
              " ('BINARY/CAROL DANVERS', 928),\n",
              " ('CAPTAIN BRITAIN/BRIA', 928),\n",
              " ('DR. DOOM/VICTOR VON ', 921),\n",
              " ('THUNDERSTRIKE/ERIC K', 916),\n",
              " ('IRON MAN IV/JAMES R.', 914),\n",
              " ('GAMBIT/REMY LEBEAU ', 895),\n",
              " ('TIGRA/GREER NELSON', 889),\n",
              " ('KINGPIN/WILSON FISK', 888),\n",
              " ('DUGAN, TIMOTHY ALOYI', 884),\n",
              " ('LOKI [ASGARDIAN]', 870),\n",
              " ('MOCKINGBIRD/DR. BARB', 869),\n",
              " ('JUSTICE II/VANCE AST', 844),\n",
              " ('SPEEDBALL/ROBBIE BAL', 840),\n",
              " ('JUBILEE/JUBILATION L', 838),\n",
              " ('SASQUATCH/WALTER LAN', 837),\n",
              " ('COOPER, DR. VALERIE', 835),\n",
              " ('BOOMER/TABITHA SMITH', 831),\n",
              " ('FORGE', 825),\n",
              " ('LEEDS, BETTY BRANT', 824),\n",
              " ('MOON KNIGHT/MARC SPE', 819),\n",
              " ('WOLVERINE/LOGAN', 819),\n",
              " ('MACTAGGERT, MOIRA KI', 810),\n",
              " ('UATU', 810),\n",
              " ('MASTERS, ALICIA REIS', 799),\n",
              " ('MAGNETO/MAGNUS/ERIC ', 793),\n",
              " ('SIF', 792),\n",
              " ('HOGUN [ASGARDIAN]', 790),\n",
              " ('WONG', 789),\n",
              " ('MEDUSA/MEDUSALITH AM', 788),\n",
              " ('FANDRAL [ASGARDIAN]', 787),\n",
              " ('STARFOX/EROS', 783),\n",
              " ('BALDER [ASGARDIAN]', 778),\n",
              " ('NORRISS, SISTER BARB', 772),\n",
              " ('DR. DRUID/ANTHONY LU', 771),\n",
              " ('HUDSON, HEATHER', 767),\n",
              " ('INVISIBLE WOMAN/SUE', 762),\n",
              " ('BANNER, BETTY ROSS T', 760),\n",
              " ('GALACTUS/GALAN', 743),\n",
              " ('THOMPSON, EUGENE FLA', 741),\n",
              " ('THUNDERBIRD II/JAMES', 740),\n",
              " ('MIRAGE II/DANIELLE M', 739),\n",
              " ('SHAMAN/MICHAEL TWOYO', 737),\n",
              " ('KARNAK [INHUMAN]', 736),\n",
              " ('VOLSTAGG', 736),\n",
              " ('BLACK BOLT/BLACKANTO', 727),\n",
              " ('GORGON [INHUMAN]', 723),\n",
              " ('SPIDER-WOMAN II/JULI', 707),\n",
              " ('PHOENIX III/RACHEL S', 704),\n",
              " ('TRITON', 704),\n",
              " ('PUCK/EUGENE MILTON J', 691),\n",
              " ('DAZZLER II/ALLISON B', 689),\n",
              " ('URICH, BEN', 689),\n",
              " ('ANT-MAN II/SCOTT HAR', 688),\n",
              " ('SCREAMING MIMI/MELIS', 688),\n",
              " ('WHITE QUEEN/EMMA FRO', 684),\n",
              " ('BLOB/FRED J. DUKES', 680),\n",
              " ('SPIDER-MAN CLONE/BEN', 672),\n",
              " ('MEPHISTO', 671),\n",
              " ('POWER MAN/ERIK JOSTE', 669),\n",
              " ('HELLCAT/PATSY WALKER', 663),\n",
              " ('MOONSTONE II/KARLA S', 657),\n",
              " ('SANDMAN/WILLIAM BAKE', 652),\n",
              " ('MYSTIQUE/RAVEN DARKH', 651),\n",
              " ('PHARAOH RAMA-TUT', 645),\n",
              " ('SCARLET WITCH/WANDA', 643),\n",
              " ('LOCKJAW [INHUMAN]', 641),\n",
              " ('BISHOP /', 639),\n",
              " ('GYRICH, HENRY PETER', 638),\n",
              " ('THANOS', 634),\n",
              " ('DR. STRANGE/STEPHEN', 631),\n",
              " ('NIGHT THRASHER/DUANE', 623),\n",
              " ('SIRYN/THERESA ROURKE', 623),\n",
              " ('WATSON-PARKER, MARY', 622),\n",
              " ('KA-ZAR/KEVIN PLUNDER', 619),\n",
              " ('BEETLE/ABNER RONALD ', 610),\n",
              " ('VISION', 603),\n",
              " ('HUMAN TORCH ANDROID/', 600),\n",
              " ('NORTHSTAR/JEAN-PAUL ', 598),\n",
              " ('ENCHANTRESS/AMORA/HE', 593),\n",
              " ('LOCKHEED', 592)]"
            ]
          },
          "metadata": {},
          "execution_count": 22
        }
      ],
      "source": [
        "degree_list.sort(key = lambda tup:tup[1], reverse=True)\n",
        "friendly_nodes = degree_list[:150]\n",
        "friendly_nodes"
      ],
      "metadata": {
        "pycharm": {
          "name": "#%%\n"
        },
        "id": "rdsYb7HjJ4on",
        "outputId": "413632fb-5ddd-4fb2-9033-1f10ae60c856",
        "colab": {
          "base_uri": "https://localhost:8080/"
        }
      }
    },
    {
      "cell_type": "code",
      "execution_count": 23,
      "outputs": [
        {
          "output_type": "stream",
          "name": "stdout",
          "text": [
            "Big Graph\n",
            "nodes: 19233\n",
            "edges: 320282\n",
            "friendly Graph\n",
            "nodes: 150\n",
            "edges: 13491\n"
          ]
        }
      ],
      "source": [
        "print('Big Graph')\n",
        "print('nodes: %d' % len(list(G.nodes)))\n",
        "print('edges: %d' % len(list(G.edges)))\n",
        "print('friendly Graph')\n",
        "gf = nx.subgraph(G, [tup[0] for tup in friendly_nodes])\n",
        "print('nodes: %d' % len(list(gf.nodes)))\n",
        "print('edges: %d' % len(list(gf.edges)))\n"
      ],
      "metadata": {
        "pycharm": {
          "name": "#%%\n"
        },
        "id": "dxZlKerBJ4oo",
        "outputId": "28423d7e-2207-4f68-b7f9-c09ed9961d52",
        "colab": {
          "base_uri": "https://localhost:8080/"
        }
      }
    },
    {
      "cell_type": "code",
      "execution_count": 24,
      "outputs": [],
      "source": [
        "\n",
        "\n",
        "node_size = [tup[1] for tup in friendly_nodes]\n",
        "\n",
        "\n"
      ],
      "metadata": {
        "pycharm": {
          "name": "#%%\n"
        },
        "id": "ptx3T5yPJ4oo"
      }
    },
    {
      "cell_type": "code",
      "execution_count": 25,
      "outputs": [
        {
          "output_type": "display_data",
          "data": {
            "image/png": "[encoded data removed]",
            "text/plain": [
              "<Figure size 1008x1008 with 1 Axes>"
            ]
          },
          "metadata": {}
        }
      ],
      "source": [
        "import matplotlib.pyplot as plt\n",
        "%matplotlib inline\n",
        "node_colors = []\n",
        "# add node color by gender\n",
        "types = nx.get_node_attributes(gf, \"node_type\")\n",
        "for t in types:\n",
        "        if t =='comic':\n",
        "\n",
        "                node_colors.append('green')\n",
        "        else:\n",
        "                node_colors.append('blue')\n",
        "\n",
        "\n",
        "\n",
        "\n",
        "plt.figure(3,figsize=(14,14))\n",
        "nx.draw_networkx(gf, node_size = node_size, node_color= node_colors , alpha=0.2)\n"
      ],
      "metadata": {
        "pycharm": {
          "name": "#%%\n"
        },
        "id": "3jdKSIFhJ4op",
        "outputId": "08775f09-be65-4dd2-dbfc-f82888b210bf",
        "colab": {
          "base_uri": "https://localhost:8080/",
          "height": 792
        }
      }
    },
    {
      "cell_type": "markdown",
      "metadata": {
        "id": "ELLg4egiifYA"
      },
      "source": [
        "**Bonus:** Visualize the above network using [Cytoscape](https://cytoscape.org) or [Gephi](https://gephi.org) (10pt)"
      ]
    },
    {
      "cell_type": "code",
      "metadata": {
        "id": "TQvUWrqWifYB",
        "outputId": "28e519d7-5bab-41f5-f0ad-cd767667dac6"
      },
      "source": [
        "types"
      ],
      "execution_count": null,
      "outputs": [
        {
          "data": {
            "text/plain": "{'HUDSON, HEATHER': 'hero',\n 'HOGUN [ASGARDIAN]': 'hero',\n 'MOCKINGBIRD/DR. BARB': 'hero',\n 'PUNISHER II/FRANK CA': 'hero',\n 'NELSON, FRANKLIN FOG': 'hero',\n 'KA-ZAR/KEVIN PLUNDER': 'hero',\n 'THOMPSON, EUGENE FLA': 'hero',\n 'SHE-HULK/JENNIFER WA': 'hero',\n 'THOR/DR. DONALD BLAK': 'hero',\n 'ROGUE /': 'hero',\n 'GALACTUS/GALAN': 'hero',\n 'MACTAGGERT, MOIRA KI': 'hero',\n 'ANT-MAN/DR. HENRY J.': 'hero',\n 'HAVOK/ALEX SUMMERS ': 'hero',\n 'SUB-MARINER/NAMOR MA': 'hero',\n 'BEAST/HENRY &HANK& P': 'hero',\n 'PARKER, MAY': 'hero',\n 'MOON KNIGHT/MARC SPE': 'hero',\n 'NORRISS, SISTER BARB': 'hero',\n 'ROBERTSON, JOE': 'hero',\n 'QUICKSILVER/PIETRO M': 'hero',\n 'MEPHISTO': 'hero',\n 'USAGENT/CAPTAIN JOHN': 'hero',\n 'DUGAN, TIMOTHY ALOYI': 'hero',\n 'JARVIS, EDWIN ': 'hero',\n 'LOKI [ASGARDIAN]': 'hero',\n 'JAMESON, J. JONAH': 'hero',\n 'JUSTICE II/VANCE AST': 'hero',\n 'MEDUSA/MEDUSALITH AM': 'hero',\n 'THUNDERBIRD II/JAMES': 'hero',\n 'TIGRA/GREER NELSON': 'hero',\n 'WASP/JANET VAN DYNE ': 'hero',\n 'SASQUATCH/WALTER LAN': 'hero',\n 'POWER MAN/ERIK JOSTE': 'hero',\n 'URICH, BEN': 'hero',\n 'SIRYN/THERESA ROURKE': 'hero',\n 'IRON MAN IV/JAMES R.': 'hero',\n 'CYCLOPS/SCOTT SUMMER': 'hero',\n 'HUMAN TORCH/JOHNNY S': 'hero',\n 'BLOB/FRED J. DUKES': 'hero',\n 'FORGE': 'hero',\n 'PROFESSOR X/CHARLES ': 'hero',\n 'DR. DOOM/VICTOR VON ': 'hero',\n 'WATSON-PARKER, MARY': 'hero',\n 'BOOMER/TABITHA SMITH': 'hero',\n 'SANDMAN/WILLIAM BAKE': 'hero',\n 'SPIDER-WOMAN II/JULI': 'hero',\n 'BLACK WIDOW/NATASHA ': 'hero',\n 'VOLSTAGG': 'hero',\n 'INVISIBLE WOMAN/SUE ': 'hero',\n 'FIRESTAR/ANGELICA JO': 'hero',\n 'MIRAGE II/DANIELLE M': 'hero',\n 'JUBILEE/JUBILATION L': 'hero',\n 'TRITON': 'hero',\n 'BANNER, BETTY ROSS T': 'hero',\n 'HUMAN TORCH ANDROID/': 'hero',\n 'NAMORITA/NITA PRENTI': 'hero',\n 'SUNSPOT/ROBERTO DACO': 'hero',\n 'BINARY/CAROL DANVERS': 'hero',\n 'WOLFSBANE/RAHNE SINC': 'hero',\n 'NOVA/RICHARD RIDER': 'hero',\n 'THUNDERSTRIKE/ERIC K': 'hero',\n 'MAGNETO/MAGNUS/ERIC ': 'hero',\n 'HULK/DR. ROBERT BRUC': 'hero',\n 'JONES, RICHARD MILHO': 'hero',\n 'MARVEL GIRL/JEAN GRE': 'hero',\n 'SHAMAN/MICHAEL TWOYO': 'hero',\n 'PHOENIX III/RACHEL S': 'hero',\n 'ANT-MAN II/SCOTT HAR': 'hero',\n 'IRON MAN/TONY STARK': 'hero',\n 'SUMMERS, NATHAN CHRI': 'hero',\n 'BALDER [ASGARDIAN]': 'hero',\n 'CRYSTAL [INHUMAN]': 'hero',\n 'SCREAMING MIMI/MELIS': 'hero',\n 'NIGHT THRASHER/DUANE': 'hero',\n 'KINGPIN/WILSON FISK': 'hero',\n 'WONDER MAN/SIMON WIL': 'hero',\n 'PUCK/EUGENE MILTON J': 'hero',\n 'WONG': 'hero',\n 'SPIDER-MAN/PETER PAR': 'hero',\n 'BISHOP /': 'hero',\n 'IRON MAN/TONY STARK ': 'hero',\n 'SPEEDBALL/ROBBIE BAL': 'hero',\n 'FANDRAL [ASGARDIAN]': 'hero',\n 'GYRICH, HENRY PETER': 'hero',\n 'WATSON-PARKER, MARY ': 'hero',\n 'CANNONBALL II/SAM GU': 'hero',\n 'IRON FIST/DANIEL RAN': 'hero',\n \"BLACK PANTHER/T'CHAL\": 'hero',\n 'MOONSTONE II/KARLA S': 'hero',\n 'DAREDEVIL/MATT MURDO': 'hero',\n 'HAWK': 'hero',\n 'WOLVERINE/LOGAN ': 'hero',\n 'MASTERS, ALICIA REIS': 'hero',\n 'HELLCAT/PATSY WALKER': 'hero',\n 'INVISIBLE WOMAN/SUE': 'hero',\n 'DR. DRUID/ANTHONY LU': 'hero',\n 'CAPTAIN MARVEL II/MO': 'hero',\n 'MOONDRAGON/HEATHER D': 'hero',\n 'VISION ': 'hero',\n 'THING/BENJAMIN J. GR': 'hero',\n 'CAGE, LUKE/CARL LUCA': 'hero',\n 'FALCON/SAM WILSON': 'hero',\n 'KARNAK [INHUMAN]': 'hero',\n 'BLACK BOLT/BLACKANTO': 'hero',\n 'WHITE QUEEN/EMMA FRO': 'hero',\n 'HERCULES [GREEK GOD]': 'hero',\n 'LEEDS, BETTY BRANT': 'hero',\n 'SPIDER-MAN CLONE/BEN': 'hero',\n 'WOLVERINE/LOGAN': 'hero',\n 'FURY, COL. NICHOLAS ': 'hero',\n 'LOCKJAW [INHUMAN]': 'hero',\n 'DR. STRANGE/STEPHEN ': 'hero',\n 'SILVER SURFER/NORRIN': 'hero',\n 'MR. FANTASTIC/REED R': 'hero',\n 'DAZZLER II/ALLISON B': 'hero',\n 'THANOS': 'hero',\n 'SHADOWCAT/KATHERINE ': 'hero',\n 'COLOSSUS II/PETER RA': 'hero',\n 'SCARLET WITCH/WANDA': 'hero',\n 'STORM/ORORO MUNROE S': 'hero',\n 'QUASAR III/WENDELL V': 'hero',\n 'SIF': 'hero',\n 'SPIDER-MAN/PETER PARKER': 'hero',\n 'BANSHEE/SEAN CASSIDY': 'hero',\n 'ANGEL/WARREN KENNETH': 'hero',\n 'RICHARDS, FRANKLIN B': 'hero',\n 'CAPTAIN BRITAIN/BRIA': 'hero',\n 'BEETLE/ABNER RONALD ': 'hero',\n 'SERSI/SYLVIA': 'hero',\n 'LOCKHEED': 'hero',\n 'DR. STRANGE/STEPHEN': 'hero',\n 'ENCHANTRESS/AMORA/HE': 'hero',\n 'GORGON [INHUMAN]': 'hero',\n 'MYSTIQUE/RAVEN DARKH': 'hero',\n 'NIGHTCRAWLER/KURT WA': 'hero',\n 'NORTHSTAR/JEAN-PAUL ': 'hero',\n 'SCARLET WITCH/WANDA ': 'hero',\n 'VISION': 'hero',\n 'UATU': 'hero',\n 'BLACK KNIGHT V/DANE ': 'hero',\n 'CAPTAIN AMERICA': 'hero',\n 'ODIN [ASGARDIAN]': 'hero',\n 'ICEMAN/ROBERT BOBBY ': 'hero',\n 'PSYLOCKE/ELISABETH B': 'hero',\n 'PHARAOH RAMA-TUT': 'hero',\n 'COOPER, DR. VALERIE': 'hero',\n 'POLARIS/LORNA DANE': 'hero',\n 'GAMBIT/REMY LEBEAU ': 'hero',\n 'STARFOX/EROS': 'hero'}"
          },
          "execution_count": 46,
          "metadata": {},
          "output_type": "execute_result"
        }
      ]
    }
  ]
}