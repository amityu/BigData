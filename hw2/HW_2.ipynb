{
 "nbformat": 4,
 "nbformat_minor": 0,
 "metadata": {
  "kernelspec": {
   "display_name": "Python 3",
   "language": "python",
   "name": "python3"
  },
  "language_info": {
   "codemirror_mode": {
    "name": "ipython",
    "version": 3
   },
   "file_extension": ".py",
   "mimetype": "text/x-python",
   "name": "python",
   "nbconvert_exporter": "python",
   "pygments_lexer": "ipython3",
   "version": "3.6.7"
  },
  "colab": {
   "name": "HW 2.ipynb",
   "provenance": []
  }
 },
 "cells": [
  {
   "cell_type": "markdown",
   "metadata": {
    "id": "DfUHKA19ifXX"
   },
   "source": [
    "# Homework Assignment 2\n",
    "### [The Art of Analyzing Big Data - The Data Scientist’s Toolbox](https://www.ise.bgu.ac.il/labs/fire/lectures.html)\n",
    "#### By Dr. Michael Fire "
   ]
  },
  {
   "cell_type": "markdown",
   "metadata": {
    "id": "D9hGo7nXifXa"
   },
   "source": [
    "## Dataset Collecting"
   ]
  },
  {
   "cell_type": "markdown",
   "metadata": {
    "id": "D15-Sk2lifXc"
   },
   "source": [
    "**Question 1**: Write a function that collects all titles and number of votes for each title of a given [hacker news page](http://news.ycombinator.com) (15pt)\n"
   ]
  },
  {
   "cell_type": "code",
   "metadata": {
    "id": "dR0z-yztifXe"
   },
   "source": [
    "import os\n",
    "\n",
    "from bs4 import BeautifulSoup\n",
    "import requests\n",
    "u = \"http://news.ycombinator.com\"\n",
    "html = requests.get(u).content.decode('utf-8')\n",
    "\n",
    "soup = BeautifulSoup(html, 'html.parser')\n",
    "titles = soup.findAll('tr', attrs={'class': \"athing\"})\n",
    "for title in titles:\n",
    "        link = title.findAll('a', attrs={'class': \"titlelink\"})\n",
    "        try:\n",
    "                votes = title.nextSibling.find('span', attrs={'class' : 'score'}).string\n",
    "        except:\n",
    "                votes = '0'\n",
    "        print(link[0].contents[0] + ' \\nvotes ' + votes)\n",
    "\n"
   ],
   "execution_count": 24,
   "outputs": [
    {
     "name": "stdout",
     "output_type": "stream",
     "text": [
      "It's always been you, Canvas2D \n",
      "votes 77 points\n",
      "The Unlicense is an inferior license wrapped in an atrocious name \n",
      "votes 25 points\n",
      "Interslavic and Slovio (2017) \n",
      "votes 64 points\n",
      "The cold hard truth about electric vehicles in winter \n",
      "votes 29 points\n",
      "Google Docs New Feature: Pageless \n",
      "votes 130 points\n",
      "Cybercriminals who breached Nvidia issue one of the most unusual demands ever \n",
      "votes 379 points\n",
      "Interslavic Language \n",
      "votes 23 points\n",
      "Slovio, the international simplified Slavic language \n",
      "votes 130 points\n",
      "Alex Honnold: The Soloist VR \n",
      "votes 155 points\n",
      "AtoB (YC S20) is building Stripe for Transportation and hiring \n",
      "votes 0\n",
      "Analysing the AI of Super Mario 64 \n",
      "votes 38 points\n",
      "Fire at Ukrainian nuclear plant outside perimeter \n",
      "votes 891 points\n",
      "World's only An-225 destroyed by Russian airstrikes \n",
      "votes 141 points\n",
      "Duck DNS – free dynamic DNS hosted on AWS \n",
      "votes 90 points\n",
      "The Miseducation of Maria Montessori \n",
      "votes 131 points\n",
      "Samsung appears to be throttling 10k Android apps on Galaxy devices \n",
      "votes 30 points\n",
      "Chimpanzees observed applying and giving medicine \n",
      "votes 136 points\n",
      "Mathematicians Make Sense of Chaos \n",
      "votes 25 points\n",
      "World War III has already started – Gary Kasparov \n",
      "votes 13 points\n",
      "Leaflet was created 11yrs ago by Vladimir Agafonkin, a Ukrainian citizen in Kyiv \n",
      "votes 280 points\n",
      "How “latency numbers everybody should know” decreased from 1990–2020 \n",
      "votes 550 points\n",
      "Product Management 101: What is user testing? \n",
      "votes 15 points\n",
      "Tesla driver dies after his Model 3 stops on highway, gets hit by two other \n",
      "votes 107 points\n",
      "Ask HN: Do people still use Meetup? \n",
      "votes 13 points\n",
      "How the weak can win – A primer on protracted war \n",
      "votes 270 points\n",
      "Treatment for Tinnitus with Stimulation of Auditory and Non-Auditory Nerves \n",
      "votes 124 points\n",
      "Ask HN: Are GitHub pull-requests governed by the original repository license? \n",
      "votes 21 points\n",
      "DocBook 5.1: The Definitive Guide (2020) \n",
      "votes 51 points\n",
      "Launch HN: Requestly (YC W22) – Network debugging proxy for web and mobile \n",
      "votes 174 points\n",
      "New York Times tech workers vote to certify union \n",
      "votes 291 points\n"
     ]
    }
   ]
  },
  {
   "cell_type": "markdown",
   "metadata": {
    "id": "fpKRAkjtifXk"
   },
   "source": [
    "**Question 2**:  Write a function that collects data on four James Bond movies from [The Movie Database](https://www.themoviedb.org). You can use [tmdbv3api](https://pypi.org/project/tmdbv3api/) (15pt)"
   ]
  },
  {
   "cell_type": "code",
   "metadata": {
    "id": "32w2fs6JifXl"
   },
   "source": [
    "from bs4 import BeautifulSoup\n",
    "import requests\n",
    "u ='https://api.themoviedb.org/3/search/movie?api_key=59c27449a3531482fdbafc11b22fa914&query=James+Bond'\n",
    "#j = requests.get(u).content.decode('utf-8')\n",
    "j = requests.get(u).json()\n",
    "\n"
   ],
   "execution_count": 2,
   "outputs": []
  },
  {
   "cell_type": "code",
   "execution_count": 12,
   "outputs": [
    {
     "name": "stdout",
     "output_type": "stream",
     "text": [
      " --------------Being James Bond-------------------\n",
      "{'adult': False, 'backdrop_path': '/8Bcm0qBnS6yjwTFad8eI6thzRub.jpg', 'genre_ids': [99], 'id': 869250, 'original_language': 'en', 'original_title': 'Being James Bond', 'overview': 'Daniel Craig candidly reflects on his 15 year adventure as James Bond. Including never-before-seen archival footage from Casino Royale to the upcoming 25th film No Time To Die, Craig shares his personal memories in conversation with 007 producers, Michael G Wilson and Barbara Broccoli.', 'popularity': 11.285, 'poster_path': '/jLaAbwPDzHNbJfZ0Xj0CkeM56CO.jpg', 'release_date': '2021-08-29', 'title': 'Being James Bond', 'video': False, 'vote_average': 7.8, 'vote_count': 46}\n",
      " --------------James Bond: For Real-------------------\n",
      "{'adult': False, 'backdrop_path': '/Lz17qcjUuLAjHokrnmBAC1wasT.jpg', 'genre_ids': [99], 'id': 338749, 'original_language': 'en', 'original_title': 'James Bond: For Real', 'overview': \"The stunts and action set pieces for the the 2006 James Bond adventure 'Casino Royale'.\", 'popularity': 4.824, 'poster_path': '/vYNYCv3LrZjRvQaFTm5HnZVCIut.jpg', 'release_date': '2006-11-22', 'title': 'James Bond: For Real', 'video': True, 'vote_average': 7.3, 'vote_count': 4}\n",
      " --------------James Bond - 50th Anniversary: Bonus Features-------------------\n",
      "{'adult': False, 'backdrop_path': None, 'genre_ids': [28, 12, 10752], 'id': 582808, 'original_language': 'en', 'original_title': 'James Bond - 50th Anniversary: Bonus Features', 'overview': 'All the Bonds. All the girls. All the action. All in high-definition. Metro-Goldwyn-Mayer Studios and Twentieth Century Fox Home Entertainment mark James Bond’s monumental golden anniversary with the release of BOND 50, showcasing 22 of the classic Bond films on Blu-ray together for the first time ever, neatly packaged into one cool, sleek collectable box-set. The collection marks the debut of nine James Bond films previously unavailable in high definition Blu-ray and comes with a dossier of more than 122 hours of bonus features.', 'popularity': 3.698, 'poster_path': '/fu5O6WNC1Dg3Nsd7l8VskNTxr9y.jpg', 'release_date': '2012-01-01', 'title': 'James Bond - 50th Anniversary: Bonus Features', 'video': True, 'vote_average': 6.1, 'vote_count': 7}\n",
      " --------------The James Bond Story-------------------\n",
      "{'adult': False, 'backdrop_path': None, 'genre_ids': [99], 'id': 44650, 'original_language': 'en', 'original_title': 'The James Bond Story', 'overview': 'Bond... James Bond! Perhaps the greatest fictional cinema icon ever. He first appeared on the big screen in 1962 in Dr. No and has remained the most powerful action hero ever since. The secret to his success is his adaptability. No matter what tight spots he finds himself in, he always appears to be suave, sophisticated and cool. This is the full story -- from the creation of the character, the men who played him, all the toys, and all the women. Everything you wanted to know about James Bond... and more.', 'popularity': 2.13, 'poster_path': '/wG1iksqapNCNNZuIneHuF6j9Sg0.jpg', 'release_date': '1999-10-09', 'title': 'The James Bond Story', 'video': False, 'vote_average': 6.5, 'vote_count': 11}\n"
     ]
    }
   ],
   "source": [
    "for movie in j['results'][:4]:\n",
    "        print(' --------------%s-------------------'%movie['original_title'])\n",
    "        print (movie)\n",
    "        '''url = 'https://www.themoviedb.org/movie/%s-%s'%(movie['id'],movie['original_title'].replace(' ','-'))\n",
    "        print(url)\n",
    "        res = requests.get(url)\n",
    "        print(res.status_code)\n",
    "        continue\n",
    "        html = requests.get(url).content.decode('utf-8')\n",
    "        #print(str(html)[:100])\n",
    "        soup = BeautifulSoup(html, 'html.parser')\n",
    "        print ('---------------Cast --------------------')\n",
    "        casts = soup.findAll('img', attrs={'class': \"profile\"})\n",
    "        script = soup.findAll('script')\n",
    "\n",
    "        for cast in casts:\n",
    "                print(cast.alt)\n",
    "        '''"
   ],
   "metadata": {
    "collapsed": false,
    "pycharm": {
     "name": "#%%\n"
    }
   }
  },
  {
   "cell_type": "markdown",
   "metadata": {
    "id": "AUdAUefVifXo"
   },
   "source": [
    "## Kickstarter Projects Dataset"
   ]
  },
  {
   "cell_type": "markdown",
   "metadata": {
    "id": "zx58iFpDifXo"
   },
   "source": [
    "Using the [Kickstarter Projects Dataset](https://www.kaggle.com/kemical/kickstarter-projects#ks-projects-201801.csv) and Pandas, please answer one of following questions:"
   ]
  },
  {
   "cell_type": "markdown",
   "metadata": {
    "id": "9C5Pn9SkifXp"
   },
   "source": [
    "### <span style=\"color:red\"> Please answer only **one** of the following questions according to your (ID number + 1) (use the formula **<YOUR_ID> mod 3 +1**) </span>"
   ]
  },
  {
   "cell_type": "code",
   "execution_count": 14,
   "outputs": [
    {
     "data": {
      "text/plain": "'/home/amityu/code/BigData/hw2'"
     },
     "execution_count": 14,
     "metadata": {},
     "output_type": "execute_result"
    }
   ],
   "source": [
    "import os\n",
    "os.getcwd()\n",
    "!mkdir ./datasets/kick\n",
    "\n"
   ],
   "metadata": {
    "collapsed": false,
    "pycharm": {
     "name": "#%%\n"
    }
   }
  },
  {
   "cell_type": "code",
   "execution_count": 15,
   "outputs": [
    {
     "name": "stdout",
     "output_type": "stream",
     "text": [
      "Downloading kickstarter-projects.zip to ./datasets/kick\r\n",
      " 98%|█████████████████████████████████████▏| 36.0M/36.8M [00:01<00:00, 25.7MB/s]\r\n",
      "100%|██████████████████████████████████████| 36.8M/36.8M [00:01<00:00, 21.5MB/s]\r\n",
      "Archive:  ./datasets/kick/kickstarter-projects.zip\r\n",
      "  inflating: ./datasets/kick/ks-projects-201612.csv  \r\n",
      "  inflating: ./datasets/kick/ks-projects-201801.csv  \r\n"
     ]
    }
   ],
   "source": [
    "!kaggle datasets download kemical/kickstarter-projects -p ./datasets/kick\n",
    "!unzip ./datasets/kick/* -d ./datasets/kick\n"
   ],
   "metadata": {
    "collapsed": false,
    "pycharm": {
     "name": "#%%\n"
    }
   }
  },
  {
   "cell_type": "code",
   "metadata": {
    "id": "Nttgf82QifXq"
   },
   "source": [
    "# which question to answer - put your ID number and run the code \n",
    "your_id  = \"032191025\"\n",
    "q = (int(your_id) + 1) % 3 + 1\n",
    "print(\"You need to answer questions %s and 4\" % q)"
   ],
   "execution_count": 36,
   "outputs": [
    {
     "name": "stdout",
     "output_type": "stream",
     "text": [
      "You need to answer questions 1 and 4\n"
     ]
    }
   ]
  },
  {
   "cell_type": "markdown",
   "metadata": {
    "id": "po4uxd2tifXu"
   },
   "source": [
    "**Question 1:** On average which project category received the lowest number of backers? (15 pt)"
   ]
  },
  {
   "cell_type": "code",
   "execution_count": 24,
   "outputs": [
    {
     "name": "stderr",
     "output_type": "stream",
     "text": [
      "/home/amityu/code/BigData/turi_env/lib/python3.6/site-packages/IPython/core/interactiveshell.py:3072: DtypeWarning: Columns (13,14,15) have mixed types.Specify dtype option on import or set low_memory=False.\n",
      "  interactivity=interactivity, compiler=compiler, result=result)\n"
     ]
    },
    {
     "data": {
      "text/plain": "          ID                                               name   \\\n0  1000002330                    The Songs of Adelaide & Abullah   \n1  1000004038                                     Where is Hank?   \n2  1000007540  ToshiCapital Rekordz Needs Help to Complete Album   \n3  1000011046  Community Film Project: The Art of Neighborhoo...   \n4  1000014025                               Monarch Espresso Bar   \n\n        category  main_category  currency             deadline   goal   \\\n0          Poetry     Publishing       GBP  2015-10-09 11:36:00   1000   \n1  Narrative Film   Film & Video       USD  2013-02-26 00:20:50  45000   \n2           Music          Music       USD  2012-04-16 04:24:11   5000   \n3    Film & Video   Film & Video       USD  2015-08-29 01:00:00  19500   \n4     Restaurants           Food       USD  2016-04-01 13:38:27  50000   \n\n             launched  pledged       state  backers  country  usd pledged   \\\n0  2015-08-11 12:12:28        0      failed        0       GB            0   \n1  2013-01-12 00:20:50      220      failed        3       US          220   \n2  2012-03-17 03:24:11        1      failed        1       US            1   \n3  2015-07-04 08:35:03     1283    canceled       14       US         1283   \n4  2016-02-26 13:38:27    52375  successful      224       US        52375   \n\n  Unnamed: 13 Unnamed: 14 Unnamed: 15  Unnamed: 16  \n0         NaN         NaN         NaN          NaN  \n1         NaN         NaN         NaN          NaN  \n2         NaN         NaN         NaN          NaN  \n3         NaN         NaN         NaN          NaN  \n4         NaN         NaN         NaN          NaN  ",
      "text/html": "<div>\n<style scoped>\n    .dataframe tbody tr th:only-of-type {\n        vertical-align: middle;\n    }\n\n    .dataframe tbody tr th {\n        vertical-align: top;\n    }\n\n    .dataframe thead th {\n        text-align: right;\n    }\n</style>\n<table border=\"1\" class=\"dataframe\">\n  <thead>\n    <tr style=\"text-align: right;\">\n      <th></th>\n      <th>ID</th>\n      <th>name</th>\n      <th>category</th>\n      <th>main_category</th>\n      <th>currency</th>\n      <th>deadline</th>\n      <th>goal</th>\n      <th>launched</th>\n      <th>pledged</th>\n      <th>state</th>\n      <th>backers</th>\n      <th>country</th>\n      <th>usd pledged</th>\n      <th>Unnamed: 13</th>\n      <th>Unnamed: 14</th>\n      <th>Unnamed: 15</th>\n      <th>Unnamed: 16</th>\n    </tr>\n  </thead>\n  <tbody>\n    <tr>\n      <th>0</th>\n      <td>1000002330</td>\n      <td>The Songs of Adelaide &amp; Abullah</td>\n      <td>Poetry</td>\n      <td>Publishing</td>\n      <td>GBP</td>\n      <td>2015-10-09 11:36:00</td>\n      <td>1000</td>\n      <td>2015-08-11 12:12:28</td>\n      <td>0</td>\n      <td>failed</td>\n      <td>0</td>\n      <td>GB</td>\n      <td>0</td>\n      <td>NaN</td>\n      <td>NaN</td>\n      <td>NaN</td>\n      <td>NaN</td>\n    </tr>\n    <tr>\n      <th>1</th>\n      <td>1000004038</td>\n      <td>Where is Hank?</td>\n      <td>Narrative Film</td>\n      <td>Film &amp; Video</td>\n      <td>USD</td>\n      <td>2013-02-26 00:20:50</td>\n      <td>45000</td>\n      <td>2013-01-12 00:20:50</td>\n      <td>220</td>\n      <td>failed</td>\n      <td>3</td>\n      <td>US</td>\n      <td>220</td>\n      <td>NaN</td>\n      <td>NaN</td>\n      <td>NaN</td>\n      <td>NaN</td>\n    </tr>\n    <tr>\n      <th>2</th>\n      <td>1000007540</td>\n      <td>ToshiCapital Rekordz Needs Help to Complete Album</td>\n      <td>Music</td>\n      <td>Music</td>\n      <td>USD</td>\n      <td>2012-04-16 04:24:11</td>\n      <td>5000</td>\n      <td>2012-03-17 03:24:11</td>\n      <td>1</td>\n      <td>failed</td>\n      <td>1</td>\n      <td>US</td>\n      <td>1</td>\n      <td>NaN</td>\n      <td>NaN</td>\n      <td>NaN</td>\n      <td>NaN</td>\n    </tr>\n    <tr>\n      <th>3</th>\n      <td>1000011046</td>\n      <td>Community Film Project: The Art of Neighborhoo...</td>\n      <td>Film &amp; Video</td>\n      <td>Film &amp; Video</td>\n      <td>USD</td>\n      <td>2015-08-29 01:00:00</td>\n      <td>19500</td>\n      <td>2015-07-04 08:35:03</td>\n      <td>1283</td>\n      <td>canceled</td>\n      <td>14</td>\n      <td>US</td>\n      <td>1283</td>\n      <td>NaN</td>\n      <td>NaN</td>\n      <td>NaN</td>\n      <td>NaN</td>\n    </tr>\n    <tr>\n      <th>4</th>\n      <td>1000014025</td>\n      <td>Monarch Espresso Bar</td>\n      <td>Restaurants</td>\n      <td>Food</td>\n      <td>USD</td>\n      <td>2016-04-01 13:38:27</td>\n      <td>50000</td>\n      <td>2016-02-26 13:38:27</td>\n      <td>52375</td>\n      <td>successful</td>\n      <td>224</td>\n      <td>US</td>\n      <td>52375</td>\n      <td>NaN</td>\n      <td>NaN</td>\n      <td>NaN</td>\n      <td>NaN</td>\n    </tr>\n  </tbody>\n</table>\n</div>"
     },
     "execution_count": 24,
     "metadata": {},
     "output_type": "execute_result"
    }
   ],
   "source": [
    "import pandas as pd\n",
    "import os\n",
    "from tqdm.notebook import  tqdm\n",
    "# load the data into a Pandas DataFrame\n",
    "kick_df = pd.read_csv('./datasets/kick/ks-projects-201612.csv' ,encoding='cp1252')\n",
    "kick_df.head()"
   ],
   "metadata": {
    "collapsed": false,
    "pycharm": {
     "name": "#%%\n"
    }
   }
  },
  {
   "cell_type": "code",
   "execution_count": 11,
   "outputs": [
    {
     "name": "stderr",
     "output_type": "stream",
     "text": [
      "/home/amityu/code/BigData/turi_env/lib/python3.6/site-packages/IPython/core/interactiveshell.py:3072: DtypeWarning: Columns (13,14,15) have mixed types.Specify dtype option on import or set low_memory=False.\n",
      "  interactivity=interactivity, compiler=compiler, result=result)\n"
     ]
    },
    {
     "name": "stdout",
     "output_type": "stream",
     "text": [
      "Categories in ascending order, first row is the minimum\n",
      "                 backers \n",
      "category                 \n",
      " personalized    0.000000\n",
      " Path of Light   1.000000\n",
      " Wear Wisdom     1.000000\n",
      "Crochet          8.446970\n",
      "Embroidery      11.270588\n",
      "Places          11.705701\n",
      "Couture         12.064655\n",
      "Candles         12.324859\n",
      "Nature          15.785276\n",
      "Video           15.810089\n"
     ]
    }
   ],
   "source": [
    "import pandas as pd\n",
    "import os\n",
    "from tqdm.notebook import  tqdm\n",
    "# load the data into a Pandas DataFrame\n",
    "kick_df = pd.read_csv('./datasets/kick/ks-projects-201612.csv' ,encoding='cp1252')\n",
    "#kick_df.head()\n",
    "small_df = kick_df[['category ','backers ']][kick_df['backers '].apply(lambda x: x.isnumeric())]\n",
    "\n",
    "small_df['backers '].apply(lambda x:float(x))\n",
    "small_df['backers '] = small_df['backers '].astype(float)\n",
    "\n",
    "results = small_df.groupby(['category ']).mean().sort_values('backers ')[:10]\n",
    "print('Categories in ascending order, first row is the minimum')\n",
    "\n",
    "print(results)\n"
   ],
   "metadata": {
    "collapsed": false,
    "pycharm": {
     "name": "#%%\n"
    }
   }
  },
  {
   "cell_type": "code",
   "metadata": {
    "id": "7tWX81YeifXv"
   },
   "source": [],
   "execution_count": null,
   "outputs": []
  },
  {
   "cell_type": "markdown",
   "metadata": {
    "id": "-5TYWzlxifXx"
   },
   "source": [
    "**Question 2:** On average which project category received the lowest pledged USD? (15 pt)"
   ]
  },
  {
   "cell_type": "code",
   "metadata": {
    "id": "PMYZplK9ifXy"
   },
   "source": [],
   "execution_count": null,
   "outputs": []
  },
  {
   "cell_type": "markdown",
   "metadata": {
    "id": "O0sULSUlifX0"
   },
   "source": [
    "**Question 3:** In which month is there the lowest number of projects? (15 pt)"
   ]
  },
  {
   "cell_type": "code",
   "metadata": {
    "id": "EflUthvqifX1"
   },
   "source": [],
   "execution_count": null,
   "outputs": []
  },
  {
   "cell_type": "markdown",
   "metadata": {
    "id": "jKZ19m4bifX3"
   },
   "source": [
    "**Question 4 (for all):** Visualize your answer using matplotlib or seaborn (15pt)"
   ]
  },
  {
   "cell_type": "code",
   "metadata": {
    "id": "01gCsLrqifX3"
   },
   "source": [
    "import seaborn as sns\n",
    "import matplotlib.pyplot as plt\n",
    "data = results.reset_index()\n",
    "ax = sns.barplot(x = 'category ', y=\"backers \", data=data)\n",
    "plt.xticks(rotation=70)\n"
   ],
   "execution_count": 20,
   "outputs": [
    {
     "data": {
      "text/plain": "(array([0, 1, 2, 3, 4, 5, 6, 7, 8, 9]),\n [Text(0, 0, ' personalized'),\n  Text(1, 0, ' Path of Light'),\n  Text(2, 0, ' Wear Wisdom'),\n  Text(3, 0, 'Crochet'),\n  Text(4, 0, 'Embroidery'),\n  Text(5, 0, 'Places'),\n  Text(6, 0, 'Couture'),\n  Text(7, 0, 'Candles'),\n  Text(8, 0, 'Nature'),\n  Text(9, 0, 'Video')])"
     },
     "execution_count": 20,
     "metadata": {},
     "output_type": "execute_result"
    },
    {
     "data": {
      "text/plain": "<Figure size 432x288 with 1 Axes>",
      "image/png": "[encoded data removed]"
     },
     "metadata": {
      "needs_background": "light"
     },
     "output_type": "display_data"
    }
   ]
  },
  {
   "cell_type": "markdown",
   "metadata": {
    "id": "PpjMJgB1ifX6"
   },
   "source": [
    "## The Marvel Universe Social Network"
   ]
  },
  {
   "cell_type": "markdown",
   "metadata": {
    "id": "oVRgZuN5ifX6"
   },
   "source": [
    "Using the [The Marvel Universe Social Network](https://www.kaggle.com/csanhueza/the-marvel-universe-social-network) and  Pandas, please answer the following questions:"
   ]
  },
  {
   "cell_type": "code",
   "execution_count": 21,
   "outputs": [
    {
     "name": "stdout",
     "output_type": "stream",
     "text": [
      "Downloading the-marvel-universe-social-network.zip to ./datasets/marvel\r\n",
      "100%|██████████████████████████████████████| 2.72M/2.72M [00:00<00:00, 6.27MB/s]\r\n",
      "100%|██████████████████████████████████████| 2.72M/2.72M [00:00<00:00, 5.34MB/s]\r\n"
     ]
    }
   ],
   "source": [
    "!mkdir ./datasets/marvel\n",
    "!kaggle datasets download csanhueza/the-marvel-universe-social-network -p ./datasets/marvel\n"
   ],
   "metadata": {
    "collapsed": false,
    "pycharm": {
     "name": "#%%\n"
    }
   }
  },
  {
   "cell_type": "code",
   "execution_count": 22,
   "outputs": [
    {
     "name": "stdout",
     "output_type": "stream",
     "text": [
      "Archive:  ./datasets/marvel/the-marvel-universe-social-network.zip\r\n",
      "  inflating: ./datasets/marvel/edges.csv  \r\n",
      "  inflating: ./datasets/marvel/hero-network.csv  \r\n",
      "  inflating: ./datasets/marvel/nodes.csv  \r\n"
     ]
    }
   ],
   "source": [
    "!unzip ./datasets/marvel/* -d ./datasets/marvel\n"
   ],
   "metadata": {
    "collapsed": false,
    "pycharm": {
     "name": "#%%\n"
    }
   }
  },
  {
   "cell_type": "markdown",
   "metadata": {
    "id": "E91-E4ufifX7"
   },
   "source": [
    "**Question 1:** Write code which calculate the top-10 most friendly characters, i.e., characters with the \n",
    "    highest number of friends. Please use _hero_network.csv_ file (15pt). \n",
    "    \n",
    "**Note:** Not all the links in this dataset are symmetric."
   ]
  },
  {
   "cell_type": "code",
   "metadata": {
    "id": "gYIoTJNIifX8"
   },
   "source": [
    "import pandas as pd\n",
    "df = pd.read_csv('./datasets/marvel/hero-network.csv')\n",
    "groups = df.groupby('hero1').count().reset_index()\n",
    "groups.sort_values(by = 'hero2',ascending=False, inplace = True)\n",
    "groups.columns = ['hero','friendliness']\n",
    "print('the most frindly heros are:')\n",
    "print(groups.iloc[0:10])\n",
    "#df['freinds'] = groups.apply(lambda row: len(row['hero2']) )\n"
   ],
   "execution_count": 3,
   "outputs": [
    {
     "name": "stdout",
     "output_type": "stream",
     "text": [
      "the most frindly heros are:\n",
      "                      hero  friendliness\n",
      "826        CAPTAIN AMERICA          8149\n",
      "5103  SPIDER-MAN/PETER PAR          6652\n",
      "2555  IRON MAN/TONY STARK           5850\n",
      "5520  THOR/DR. DONALD BLAK          5712\n",
      "5499  THING/BENJAMIN J. GR          5369\n",
      "6073      WOLVERINE/LOGAN           5230\n",
      "4717  SCARLET WITCH/WANDA           5184\n",
      "5836               VISION           5067\n",
      "2449  HUMAN TORCH/JOHNNY S          4970\n",
      "3666  MR. FANTASTIC/REED R          4788\n"
     ]
    }
   ]
  },
  {
   "cell_type": "markdown",
   "metadata": {
    "id": "EqcKzoUsifX-"
   },
   "source": [
    "**Question 2:** Using Pandas and Networkx create a graph object of The Marvel Universe Social Network with the 150 most \"friendly\" characters (10pt).\n",
    "    The vertices in that graph need to be relative to the size of each character's number of links (also referred to as the vertex degree) (10pt).\n",
    "Please color each node in the graph according to character type according to data in the *nodes.csv* file (5pt)"
   ]
  },
  {
   "cell_type": "code",
   "metadata": {
    "id": "_4650rgeifX_"
   },
   "source": [
    "from tqdm.notebook import  tqdm\n",
    "import pandas as pd\n",
    "import networkx as nx\n",
    "df = pd.read_csv('./datasets/marvel/hero-network.csv')\n",
    "nodes_df = pd.read_csv('./datasets/marvel/nodes.csv')\n",
    "edges_df = pd.read_csv('./datasets/marvel/edges.csv')\n",
    "#j_df = df.join(type_df, on='node')\n",
    "G=nx.DiGraph()\n",
    "for idx, row in tqdm(nodes_df.iterrows()):\n",
    "        G.add_node(row['node'], node_type = row['type'])\n",
    "\n",
    "for idx, row in tqdm(edges_df.iterrows()):\n",
    "        G.add_edge(row['hero'], row['comic'])\n",
    "        G.nodes[row['comic']]['node_type'] = 'comic'\n",
    "        G.nodes[row['hero']]['node_type'] = 'hero'\n",
    "\n",
    "\n",
    "for idx, row in tqdm(df.iterrows()):\n",
    "        G.add_edge(row['hero1'], row['hero2'])\n",
    "        G.nodes[row['hero2']]['node_type'] = 'hero'\n",
    "\n",
    "\n",
    "degree_list   =list(G.degree)\n"
   ],
   "execution_count": 37,
   "outputs": [
    {
     "data": {
      "text/plain": "0it [00:00, ?it/s]",
      "application/vnd.jupyter.widget-view+json": {
       "version_major": 2,
       "version_minor": 0,
       "model_id": "b9677e3b28b545a4925d605780aec045"
      }
     },
     "metadata": {},
     "output_type": "display_data"
    },
    {
     "data": {
      "text/plain": "0it [00:00, ?it/s]",
      "application/vnd.jupyter.widget-view+json": {
       "version_major": 2,
       "version_minor": 0,
       "model_id": "7890a1aa686248d28a229ed17f4e890f"
      }
     },
     "metadata": {},
     "output_type": "display_data"
    },
    {
     "data": {
      "text/plain": "0it [00:00, ?it/s]",
      "application/vnd.jupyter.widget-view+json": {
       "version_major": 2,
       "version_minor": 0,
       "model_id": "b0f4b989b12c45cbac6bcc494e79ff4c"
      }
     },
     "metadata": {},
     "output_type": "display_data"
    }
   ]
  },
  {
   "cell_type": "code",
   "execution_count": 38,
   "outputs": [
    {
     "data": {
      "text/plain": "[('CAPTAIN AMERICA', 4188),\n ('THING/BENJAMIN J. GR', 2986),\n ('THOR/DR. DONALD BLAK', 2869),\n ('HUMAN TORCH/JOHNNY S', 2825),\n ('MR. FANTASTIC/REED R', 2812),\n ('SPIDER-MAN/PETER PAR', 2563),\n ('BEAST/HENRY &HANK& P', 2475),\n ('HULK/DR. ROBERT BRUC', 2406),\n ('HAWK', 2314),\n ('IRON MAN/TONY STARK ', 2238),\n ('CYCLOPS/SCOTT SUMMER', 2201),\n ('STORM/ORORO MUNROE S', 2104),\n ('ANT-MAN/DR. HENRY J.', 2074),\n ('WOLVERINE/LOGAN ', 2036),\n ('DAREDEVIL/MATT MURDO', 2023),\n ('ANGEL/WARREN KENNETH', 2007),\n ('COLOSSUS II/PETER RA', 1964),\n ('SUB-MARINER/NAMOR MA', 1961),\n ('SHE-HULK/JENNIFER WA', 1953),\n ('SCARLET WITCH/WANDA ', 1932),\n ('MARVEL GIRL/JEAN GRE', 1916),\n ('WONDER MAN/SIMON WIL', 1861),\n ('JAMESON, J. JONAH', 1845),\n ('VISION ', 1814),\n ('INVISIBLE WOMAN/SUE ', 1796),\n ('HERCULES [GREEK GOD]', 1762),\n ('NIGHTCRAWLER/KURT WA', 1711),\n ('QUICKSILVER/PIETRO M', 1604),\n ('SPIDER-MAN/PETER PARKER', 1577),\n ('WASP/JANET VAN DYNE ', 1557),\n ('ROGUE /', 1545),\n ('DR. STRANGE/STEPHEN ', 1530),\n ('PROFESSOR X/CHARLES ', 1516),\n ('ICEMAN/ROBERT BOBBY ', 1392),\n ('JARVIS, EDWIN ', 1340),\n (\"BLACK PANTHER/T'CHAL\", 1304),\n ('FURY, COL. NICHOLAS ', 1297),\n ('BLACK WIDOW/NATASHA ', 1285),\n ('ROBERTSON, JOE', 1278),\n ('CRYSTAL [INHUMAN]', 1275),\n ('SILVER SURFER/NORRIN', 1271),\n ('QUASAR III/WENDELL V', 1245),\n ('PSYLOCKE/ELISABETH B', 1238),\n ('CANNONBALL II/SAM GU', 1236),\n ('NOVA/RICHARD RIDER', 1197),\n ('RICHARDS, FRANKLIN B', 1151),\n ('IRON MAN/TONY STARK', 1150),\n ('HAVOK/ALEX SUMMERS ', 1143),\n ('WATSON-PARKER, MARY ', 1141),\n ('JONES, RICHARD MILHO', 1096),\n ('SUMMERS, NATHAN CHRI', 1093),\n ('CAGE, LUKE/CARL LUCA', 1083),\n ('BLACK KNIGHT V/DANE ', 1080),\n ('PARKER, MAY', 1060),\n ('FIRESTAR/ANGELICA JO', 1055),\n ('SHADOWCAT/KATHERINE ', 1037),\n ('POLARIS/LORNA DANE', 1032),\n ('NAMORITA/NITA PRENTI', 1030),\n ('USAGENT/CAPTAIN JOHN', 1028),\n ('WOLFSBANE/RAHNE SINC', 1023),\n ('FALCON/SAM WILSON', 995),\n ('MOONDRAGON/HEATHER D', 984),\n ('PUNISHER II/FRANK CA', 983),\n ('IRON FIST/DANIEL RAN', 979),\n ('SUNSPOT/ROBERTO DACO', 965),\n ('SERSI/SYLVIA', 963),\n ('NELSON, FRANKLIN FOG', 961),\n ('BANSHEE/SEAN CASSIDY', 952),\n ('ODIN [ASGARDIAN]', 940),\n ('CAPTAIN MARVEL II/MO', 935),\n ('BINARY/CAROL DANVERS', 928),\n ('CAPTAIN BRITAIN/BRIA', 928),\n ('DR. DOOM/VICTOR VON ', 921),\n ('THUNDERSTRIKE/ERIC K', 916),\n ('IRON MAN IV/JAMES R.', 914),\n ('GAMBIT/REMY LEBEAU ', 895),\n ('TIGRA/GREER NELSON', 889),\n ('KINGPIN/WILSON FISK', 888),\n ('DUGAN, TIMOTHY ALOYI', 884),\n ('LOKI [ASGARDIAN]', 870),\n ('MOCKINGBIRD/DR. BARB', 869),\n ('JUSTICE II/VANCE AST', 844),\n ('SPEEDBALL/ROBBIE BAL', 840),\n ('JUBILEE/JUBILATION L', 838),\n ('SASQUATCH/WALTER LAN', 837),\n ('COOPER, DR. VALERIE', 835),\n ('BOOMER/TABITHA SMITH', 831),\n ('FORGE', 825),\n ('LEEDS, BETTY BRANT', 824),\n ('MOON KNIGHT/MARC SPE', 819),\n ('WOLVERINE/LOGAN', 819),\n ('MACTAGGERT, MOIRA KI', 810),\n ('UATU', 810),\n ('MASTERS, ALICIA REIS', 799),\n ('MAGNETO/MAGNUS/ERIC ', 793),\n ('SIF', 792),\n ('HOGUN [ASGARDIAN]', 790),\n ('WONG', 789),\n ('MEDUSA/MEDUSALITH AM', 788),\n ('FANDRAL [ASGARDIAN]', 787),\n ('STARFOX/EROS', 783),\n ('BALDER [ASGARDIAN]', 778),\n ('NORRISS, SISTER BARB', 772),\n ('DR. DRUID/ANTHONY LU', 771),\n ('HUDSON, HEATHER', 767),\n ('INVISIBLE WOMAN/SUE', 762),\n ('BANNER, BETTY ROSS T', 760),\n ('GALACTUS/GALAN', 743),\n ('THOMPSON, EUGENE FLA', 741),\n ('THUNDERBIRD II/JAMES', 740),\n ('MIRAGE II/DANIELLE M', 739),\n ('SHAMAN/MICHAEL TWOYO', 737),\n ('KARNAK [INHUMAN]', 736),\n ('VOLSTAGG', 736),\n ('BLACK BOLT/BLACKANTO', 727),\n ('GORGON [INHUMAN]', 723),\n ('SPIDER-WOMAN II/JULI', 707),\n ('PHOENIX III/RACHEL S', 704),\n ('TRITON', 704),\n ('PUCK/EUGENE MILTON J', 691),\n ('DAZZLER II/ALLISON B', 689),\n ('URICH, BEN', 689),\n ('ANT-MAN II/SCOTT HAR', 688),\n ('SCREAMING MIMI/MELIS', 688),\n ('WHITE QUEEN/EMMA FRO', 684),\n ('BLOB/FRED J. DUKES', 680),\n ('SPIDER-MAN CLONE/BEN', 672),\n ('MEPHISTO', 671),\n ('POWER MAN/ERIK JOSTE', 669),\n ('HELLCAT/PATSY WALKER', 663),\n ('MOONSTONE II/KARLA S', 657),\n ('SANDMAN/WILLIAM BAKE', 652),\n ('MYSTIQUE/RAVEN DARKH', 651),\n ('PHARAOH RAMA-TUT', 645),\n ('SCARLET WITCH/WANDA', 643),\n ('LOCKJAW [INHUMAN]', 641),\n ('BISHOP /', 639),\n ('GYRICH, HENRY PETER', 638),\n ('THANOS', 634),\n ('DR. STRANGE/STEPHEN', 631),\n ('NIGHT THRASHER/DUANE', 623),\n ('SIRYN/THERESA ROURKE', 623),\n ('WATSON-PARKER, MARY', 622),\n ('KA-ZAR/KEVIN PLUNDER', 619),\n ('BEETLE/ABNER RONALD ', 610),\n ('VISION', 603),\n ('HUMAN TORCH ANDROID/', 600),\n ('NORTHSTAR/JEAN-PAUL ', 598),\n ('ENCHANTRESS/AMORA/HE', 593),\n ('LOCKHEED', 592)]"
     },
     "execution_count": 38,
     "metadata": {},
     "output_type": "execute_result"
    }
   ],
   "source": [
    "degree_list.sort(key = lambda tup:tup[1], reverse=True)\n",
    "friendly_nodes = degree_list[:150]\n",
    "friendly_nodes"
   ],
   "metadata": {
    "collapsed": false,
    "pycharm": {
     "name": "#%%\n"
    }
   }
  },
  {
   "cell_type": "code",
   "execution_count": 39,
   "outputs": [
    {
     "name": "stdout",
     "output_type": "stream",
     "text": [
      "Big Graph\n",
      "nodes: 19233\n",
      "edges: 320282\n",
      "friendly Graph\n",
      "nodes: 150\n",
      "edges: 13491\n"
     ]
    }
   ],
   "source": [
    "print('Big Graph')\n",
    "print('nodes: %d' % len(list(G.nodes)))\n",
    "print('edges: %d' % len(list(G.edges)))\n",
    "print('friendly Graph')\n",
    "gf = nx.subgraph(G, [tup[0] for tup in friendly_nodes])\n",
    "print('nodes: %d' % len(list(gf.nodes)))\n",
    "print('edges: %d' % len(list(gf.edges)))\n"
   ],
   "metadata": {
    "collapsed": false,
    "pycharm": {
     "name": "#%%\n"
    }
   }
  },
  {
   "cell_type": "code",
   "execution_count": 40,
   "outputs": [],
   "source": [
    "\n",
    "\n",
    "node_size = [tup[1] for tup in friendly_nodes]\n",
    "\n",
    "\n"
   ],
   "metadata": {
    "collapsed": false,
    "pycharm": {
     "name": "#%%\n"
    }
   }
  },
  {
   "cell_type": "code",
   "execution_count": 45,
   "outputs": [
    {
     "data": {
      "text/plain": "<Figure size 1008x1008 with 1 Axes>",
      "image/png": "[encoded data removed]"
     },
     "metadata": {},
     "output_type": "display_data"
    }
   ],
   "source": [
    "import matplotlib.pyplot as plt\n",
    "%matplotlib inline\n",
    "node_colors = []\n",
    "# add node color by gender\n",
    "types = nx.get_node_attributes(gf, \"node_type\")\n",
    "for t in types:\n",
    "        if t =='comic':\n",
    "\n",
    "                node_colors.append('green')\n",
    "        else:\n",
    "                node_colors.append('blue')\n",
    "\n",
    "\n",
    "\n",
    "plt.figure(3,figsize=(14,14))\n",
    "nx.draw_networkx(gf, node_size = node_size, node_color= node_colors , alpha=0.2)\n"
   ],
   "metadata": {
    "collapsed": false,
    "pycharm": {
     "name": "#%%\n"
    }
   }
  },
  {
   "cell_type": "markdown",
   "metadata": {
    "id": "ELLg4egiifYA"
   },
   "source": [
    "**Bonus:** Visualize the above network using [Cytoscape](https://cytoscape.org) or [Gephi](https://gephi.org) (10pt)"
   ]
  },
  {
   "cell_type": "code",
   "metadata": {
    "id": "TQvUWrqWifYB"
   },
   "source": [
    "types"
   ],
   "execution_count": 46,
   "outputs": [
    {
     "data": {
      "text/plain": "{'HUDSON, HEATHER': 'hero',\n 'HOGUN [ASGARDIAN]': 'hero',\n 'MOCKINGBIRD/DR. BARB': 'hero',\n 'PUNISHER II/FRANK CA': 'hero',\n 'NELSON, FRANKLIN FOG': 'hero',\n 'KA-ZAR/KEVIN PLUNDER': 'hero',\n 'THOMPSON, EUGENE FLA': 'hero',\n 'SHE-HULK/JENNIFER WA': 'hero',\n 'THOR/DR. DONALD BLAK': 'hero',\n 'ROGUE /': 'hero',\n 'GALACTUS/GALAN': 'hero',\n 'MACTAGGERT, MOIRA KI': 'hero',\n 'ANT-MAN/DR. HENRY J.': 'hero',\n 'HAVOK/ALEX SUMMERS ': 'hero',\n 'SUB-MARINER/NAMOR MA': 'hero',\n 'BEAST/HENRY &HANK& P': 'hero',\n 'PARKER, MAY': 'hero',\n 'MOON KNIGHT/MARC SPE': 'hero',\n 'NORRISS, SISTER BARB': 'hero',\n 'ROBERTSON, JOE': 'hero',\n 'QUICKSILVER/PIETRO M': 'hero',\n 'MEPHISTO': 'hero',\n 'USAGENT/CAPTAIN JOHN': 'hero',\n 'DUGAN, TIMOTHY ALOYI': 'hero',\n 'JARVIS, EDWIN ': 'hero',\n 'LOKI [ASGARDIAN]': 'hero',\n 'JAMESON, J. JONAH': 'hero',\n 'JUSTICE II/VANCE AST': 'hero',\n 'MEDUSA/MEDUSALITH AM': 'hero',\n 'THUNDERBIRD II/JAMES': 'hero',\n 'TIGRA/GREER NELSON': 'hero',\n 'WASP/JANET VAN DYNE ': 'hero',\n 'SASQUATCH/WALTER LAN': 'hero',\n 'POWER MAN/ERIK JOSTE': 'hero',\n 'URICH, BEN': 'hero',\n 'SIRYN/THERESA ROURKE': 'hero',\n 'IRON MAN IV/JAMES R.': 'hero',\n 'CYCLOPS/SCOTT SUMMER': 'hero',\n 'HUMAN TORCH/JOHNNY S': 'hero',\n 'BLOB/FRED J. DUKES': 'hero',\n 'FORGE': 'hero',\n 'PROFESSOR X/CHARLES ': 'hero',\n 'DR. DOOM/VICTOR VON ': 'hero',\n 'WATSON-PARKER, MARY': 'hero',\n 'BOOMER/TABITHA SMITH': 'hero',\n 'SANDMAN/WILLIAM BAKE': 'hero',\n 'SPIDER-WOMAN II/JULI': 'hero',\n 'BLACK WIDOW/NATASHA ': 'hero',\n 'VOLSTAGG': 'hero',\n 'INVISIBLE WOMAN/SUE ': 'hero',\n 'FIRESTAR/ANGELICA JO': 'hero',\n 'MIRAGE II/DANIELLE M': 'hero',\n 'JUBILEE/JUBILATION L': 'hero',\n 'TRITON': 'hero',\n 'BANNER, BETTY ROSS T': 'hero',\n 'HUMAN TORCH ANDROID/': 'hero',\n 'NAMORITA/NITA PRENTI': 'hero',\n 'SUNSPOT/ROBERTO DACO': 'hero',\n 'BINARY/CAROL DANVERS': 'hero',\n 'WOLFSBANE/RAHNE SINC': 'hero',\n 'NOVA/RICHARD RIDER': 'hero',\n 'THUNDERSTRIKE/ERIC K': 'hero',\n 'MAGNETO/MAGNUS/ERIC ': 'hero',\n 'HULK/DR. ROBERT BRUC': 'hero',\n 'JONES, RICHARD MILHO': 'hero',\n 'MARVEL GIRL/JEAN GRE': 'hero',\n 'SHAMAN/MICHAEL TWOYO': 'hero',\n 'PHOENIX III/RACHEL S': 'hero',\n 'ANT-MAN II/SCOTT HAR': 'hero',\n 'IRON MAN/TONY STARK': 'hero',\n 'SUMMERS, NATHAN CHRI': 'hero',\n 'BALDER [ASGARDIAN]': 'hero',\n 'CRYSTAL [INHUMAN]': 'hero',\n 'SCREAMING MIMI/MELIS': 'hero',\n 'NIGHT THRASHER/DUANE': 'hero',\n 'KINGPIN/WILSON FISK': 'hero',\n 'WONDER MAN/SIMON WIL': 'hero',\n 'PUCK/EUGENE MILTON J': 'hero',\n 'WONG': 'hero',\n 'SPIDER-MAN/PETER PAR': 'hero',\n 'BISHOP /': 'hero',\n 'IRON MAN/TONY STARK ': 'hero',\n 'SPEEDBALL/ROBBIE BAL': 'hero',\n 'FANDRAL [ASGARDIAN]': 'hero',\n 'GYRICH, HENRY PETER': 'hero',\n 'WATSON-PARKER, MARY ': 'hero',\n 'CANNONBALL II/SAM GU': 'hero',\n 'IRON FIST/DANIEL RAN': 'hero',\n \"BLACK PANTHER/T'CHAL\": 'hero',\n 'MOONSTONE II/KARLA S': 'hero',\n 'DAREDEVIL/MATT MURDO': 'hero',\n 'HAWK': 'hero',\n 'WOLVERINE/LOGAN ': 'hero',\n 'MASTERS, ALICIA REIS': 'hero',\n 'HELLCAT/PATSY WALKER': 'hero',\n 'INVISIBLE WOMAN/SUE': 'hero',\n 'DR. DRUID/ANTHONY LU': 'hero',\n 'CAPTAIN MARVEL II/MO': 'hero',\n 'MOONDRAGON/HEATHER D': 'hero',\n 'VISION ': 'hero',\n 'THING/BENJAMIN J. GR': 'hero',\n 'CAGE, LUKE/CARL LUCA': 'hero',\n 'FALCON/SAM WILSON': 'hero',\n 'KARNAK [INHUMAN]': 'hero',\n 'BLACK BOLT/BLACKANTO': 'hero',\n 'WHITE QUEEN/EMMA FRO': 'hero',\n 'HERCULES [GREEK GOD]': 'hero',\n 'LEEDS, BETTY BRANT': 'hero',\n 'SPIDER-MAN CLONE/BEN': 'hero',\n 'WOLVERINE/LOGAN': 'hero',\n 'FURY, COL. NICHOLAS ': 'hero',\n 'LOCKJAW [INHUMAN]': 'hero',\n 'DR. STRANGE/STEPHEN ': 'hero',\n 'SILVER SURFER/NORRIN': 'hero',\n 'MR. FANTASTIC/REED R': 'hero',\n 'DAZZLER II/ALLISON B': 'hero',\n 'THANOS': 'hero',\n 'SHADOWCAT/KATHERINE ': 'hero',\n 'COLOSSUS II/PETER RA': 'hero',\n 'SCARLET WITCH/WANDA': 'hero',\n 'STORM/ORORO MUNROE S': 'hero',\n 'QUASAR III/WENDELL V': 'hero',\n 'SIF': 'hero',\n 'SPIDER-MAN/PETER PARKER': 'hero',\n 'BANSHEE/SEAN CASSIDY': 'hero',\n 'ANGEL/WARREN KENNETH': 'hero',\n 'RICHARDS, FRANKLIN B': 'hero',\n 'CAPTAIN BRITAIN/BRIA': 'hero',\n 'BEETLE/ABNER RONALD ': 'hero',\n 'SERSI/SYLVIA': 'hero',\n 'LOCKHEED': 'hero',\n 'DR. STRANGE/STEPHEN': 'hero',\n 'ENCHANTRESS/AMORA/HE': 'hero',\n 'GORGON [INHUMAN]': 'hero',\n 'MYSTIQUE/RAVEN DARKH': 'hero',\n 'NIGHTCRAWLER/KURT WA': 'hero',\n 'NORTHSTAR/JEAN-PAUL ': 'hero',\n 'SCARLET WITCH/WANDA ': 'hero',\n 'VISION': 'hero',\n 'UATU': 'hero',\n 'BLACK KNIGHT V/DANE ': 'hero',\n 'CAPTAIN AMERICA': 'hero',\n 'ODIN [ASGARDIAN]': 'hero',\n 'ICEMAN/ROBERT BOBBY ': 'hero',\n 'PSYLOCKE/ELISABETH B': 'hero',\n 'PHARAOH RAMA-TUT': 'hero',\n 'COOPER, DR. VALERIE': 'hero',\n 'POLARIS/LORNA DANE': 'hero',\n 'GAMBIT/REMY LEBEAU ': 'hero',\n 'STARFOX/EROS': 'hero'}"
     },
     "execution_count": 46,
     "metadata": {},
     "output_type": "execute_result"
    }
   ]
  }
 ]
}