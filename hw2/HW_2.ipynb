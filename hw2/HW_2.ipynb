{
 "nbformat": 4,
 "nbformat_minor": 0,
 "metadata": {
  "kernelspec": {
   "display_name": "Python 3",
   "language": "python",
   "name": "python3"
  },
  "language_info": {
   "codemirror_mode": {
    "name": "ipython",
    "version": 3
   },
   "file_extension": ".py",
   "mimetype": "text/x-python",
   "name": "python",
   "nbconvert_exporter": "python",
   "pygments_lexer": "ipython3",
   "version": "3.6.7"
  },
  "colab": {
   "name": "HW 2.ipynb",
   "provenance": []
  }
 },
 "cells": [
  {
   "cell_type": "markdown",
   "metadata": {
    "id": "DfUHKA19ifXX"
   },
   "source": [
    "# Homework Assignment 2\n",
    "### [The Art of Analyzing Big Data - The Data Scientist’s Toolbox](https://www.ise.bgu.ac.il/labs/fire/lectures.html)\n",
    "#### By Dr. Michael Fire "
   ]
  },
  {
   "cell_type": "markdown",
   "metadata": {
    "id": "D9hGo7nXifXa"
   },
   "source": [
    "## Dataset Collecting"
   ]
  },
  {
   "cell_type": "markdown",
   "metadata": {
    "id": "D15-Sk2lifXc"
   },
   "source": [
    "**Question 1**: Write a function that collects all titles and number of votes for each title of a given [hacker news page](http://news.ycombinator.com) (15pt)\n"
   ]
  },
  {
   "cell_type": "code",
   "metadata": {
    "id": "dR0z-yztifXe"
   },
   "source": [
    "from bs4 import BeautifulSoup\n",
    "import requests\n",
    "u = \"http://news.ycombinator.com\"\n",
    "html = requests.get(u).content.decode('utf-8')\n",
    "\n",
    "soup = BeautifulSoup(html, 'html.parser')\n",
    "titles = soup.findAll('tr', attrs={'class': \"athing\"})\n",
    "for title in titles:\n",
    "        link = title.findAll('a', attrs={'class': \"titlelink\"})\n",
    "        try:\n",
    "                votes = title.nextSibling.find('span', attrs={'class' : 'score'}).string\n",
    "        except:\n",
    "                votes = '0'\n",
    "        print(link[0].contents[0] + ' \\nvotes ' + votes)\n",
    "\n"
   ],
   "execution_count": 24,
   "outputs": [
    {
     "name": "stdout",
     "output_type": "stream",
     "text": [
      "It's always been you, Canvas2D \n",
      "votes 77 points\n",
      "The Unlicense is an inferior license wrapped in an atrocious name \n",
      "votes 25 points\n",
      "Interslavic and Slovio (2017) \n",
      "votes 64 points\n",
      "The cold hard truth about electric vehicles in winter \n",
      "votes 29 points\n",
      "Google Docs New Feature: Pageless \n",
      "votes 130 points\n",
      "Cybercriminals who breached Nvidia issue one of the most unusual demands ever \n",
      "votes 379 points\n",
      "Interslavic Language \n",
      "votes 23 points\n",
      "Slovio, the international simplified Slavic language \n",
      "votes 130 points\n",
      "Alex Honnold: The Soloist VR \n",
      "votes 155 points\n",
      "AtoB (YC S20) is building Stripe for Transportation and hiring \n",
      "votes 0\n",
      "Analysing the AI of Super Mario 64 \n",
      "votes 38 points\n",
      "Fire at Ukrainian nuclear plant outside perimeter \n",
      "votes 891 points\n",
      "World's only An-225 destroyed by Russian airstrikes \n",
      "votes 141 points\n",
      "Duck DNS – free dynamic DNS hosted on AWS \n",
      "votes 90 points\n",
      "The Miseducation of Maria Montessori \n",
      "votes 131 points\n",
      "Samsung appears to be throttling 10k Android apps on Galaxy devices \n",
      "votes 30 points\n",
      "Chimpanzees observed applying and giving medicine \n",
      "votes 136 points\n",
      "Mathematicians Make Sense of Chaos \n",
      "votes 25 points\n",
      "World War III has already started – Gary Kasparov \n",
      "votes 13 points\n",
      "Leaflet was created 11yrs ago by Vladimir Agafonkin, a Ukrainian citizen in Kyiv \n",
      "votes 280 points\n",
      "How “latency numbers everybody should know” decreased from 1990–2020 \n",
      "votes 550 points\n",
      "Product Management 101: What is user testing? \n",
      "votes 15 points\n",
      "Tesla driver dies after his Model 3 stops on highway, gets hit by two other \n",
      "votes 107 points\n",
      "Ask HN: Do people still use Meetup? \n",
      "votes 13 points\n",
      "How the weak can win – A primer on protracted war \n",
      "votes 270 points\n",
      "Treatment for Tinnitus with Stimulation of Auditory and Non-Auditory Nerves \n",
      "votes 124 points\n",
      "Ask HN: Are GitHub pull-requests governed by the original repository license? \n",
      "votes 21 points\n",
      "DocBook 5.1: The Definitive Guide (2020) \n",
      "votes 51 points\n",
      "Launch HN: Requestly (YC W22) – Network debugging proxy for web and mobile \n",
      "votes 174 points\n",
      "New York Times tech workers vote to certify union \n",
      "votes 291 points\n"
     ]
    }
   ]
  },
  {
   "cell_type": "markdown",
   "metadata": {
    "id": "fpKRAkjtifXk"
   },
   "source": [
    "**Question 2**:  Write a function that collects data on four James Bond movies from [The Movie Database](https://www.themoviedb.org). You can use [tmdbv3api](https://pypi.org/project/tmdbv3api/) (15pt)"
   ]
  },
  {
   "cell_type": "code",
   "metadata": {
    "id": "32w2fs6JifXl"
   },
   "source": [
    "u ='https://api.themoviedb.org/3/search/movie?api_key=59c27449a3531482fdbafc11b22fa914&query=James+Bond'\n",
    "j = requests.get(u)\n"
   ],
   "execution_count": 25,
   "outputs": []
  },
  {
   "cell_type": "code",
   "execution_count": 33,
   "outputs": [
    {
     "name": "stdout",
     "output_type": "stream",
     "text": [
      " --------------Being James Bond-------------------\n",
      "{'adult': False, 'backdrop_path': '/8Bcm0qBnS6yjwTFad8eI6thzRub.jpg', 'genre_ids': [99], 'id': 869250, 'original_language': 'en', 'original_title': 'Being James Bond', 'overview': 'Daniel Craig candidly reflects on his 15 year adventure as James Bond. Including never-before-seen archival footage from Casino Royale to the upcoming 25th film No Time To Die, Craig shares his personal memories in conversation with 007 producers, Michael G Wilson and Barbara Broccoli.', 'popularity': 12.03, 'poster_path': '/jLaAbwPDzHNbJfZ0Xj0CkeM56CO.jpg', 'release_date': '2021-08-29', 'title': 'Being James Bond', 'video': False, 'vote_average': 7.8, 'vote_count': 46}\n",
      " --------------James Bond: For Real-------------------\n",
      "{'adult': False, 'backdrop_path': '/Lz17qcjUuLAjHokrnmBAC1wasT.jpg', 'genre_ids': [99], 'id': 338749, 'original_language': 'en', 'original_title': 'James Bond: For Real', 'overview': \"The stunts and action set pieces for the the 2006 James Bond adventure 'Casino Royale'.\", 'popularity': 4.681, 'poster_path': '/vYNYCv3LrZjRvQaFTm5HnZVCIut.jpg', 'release_date': '2006-11-22', 'title': 'James Bond: For Real', 'video': True, 'vote_average': 7.3, 'vote_count': 4}\n",
      " --------------The James Bond Story-------------------\n",
      "{'adult': False, 'backdrop_path': None, 'genre_ids': [99], 'id': 44650, 'original_language': 'en', 'original_title': 'The James Bond Story', 'overview': 'Bond... James Bond! Perhaps the greatest fictional cinema icon ever. He first appeared on the big screen in 1962 in Dr. No and has remained the most powerful action hero ever since. The secret to his success is his adaptability. No matter what tight spots he finds himself in, he always appears to be suave, sophisticated and cool. This is the full story -- from the creation of the character, the men who played him, all the toys, and all the women. Everything you wanted to know about James Bond... and more.', 'popularity': 3.55, 'poster_path': '/wG1iksqapNCNNZuIneHuF6j9Sg0.jpg', 'release_date': '1999-10-09', 'title': 'The James Bond Story', 'video': False, 'vote_average': 6.5, 'vote_count': 11}\n",
      " --------------Jatt James Bond-------------------\n",
      "{'adult': False, 'backdrop_path': '/3zpR0XaPfXxmoh7inMDuim2Uc3S.jpg', 'genre_ids': [35, 18, 53], 'id': 266315, 'original_language': 'pa', 'original_title': 'Jatt James Bond', 'overview': 'Shinda was mistreated by his relatives therefore he finds other ways to have his love Laali. Shinda and his two other friends come up with a plan to solve all of their problems.', 'popularity': 2.182, 'poster_path': '/kgeAS28rBZJSEVypaKpEaI4wunn.jpg', 'release_date': '2014-04-25', 'title': 'Jatt James Bond', 'video': False, 'vote_average': 5.2, 'vote_count': 5}\n"
     ]
    }
   ],
   "source": [
    "for movie in j['results'][:4]:\n",
    "        print(' --------------%s-------------------'%movie['original_title'])\n",
    "        print (movie)\n"
   ],
   "metadata": {
    "collapsed": false,
    "pycharm": {
     "name": "#%%\n"
    }
   }
  },
  {
   "cell_type": "markdown",
   "metadata": {
    "id": "AUdAUefVifXo"
   },
   "source": [
    "## Kickstarter Projects Dataset"
   ]
  },
  {
   "cell_type": "markdown",
   "metadata": {
    "id": "zx58iFpDifXo"
   },
   "source": [
    "Using the [Kickstarter Projects Dataset](https://www.kaggle.com/kemical/kickstarter-projects#ks-projects-201801.csv) and Pandas, please answer one of following questions:"
   ]
  },
  {
   "cell_type": "markdown",
   "metadata": {
    "id": "9C5Pn9SkifXp"
   },
   "source": [
    "### <span style=\"color:red\"> Please answer only **one** of the following questions according to your (ID number + 1) (use the formula **<YOUR_ID> mod 3 +1**) </span>"
   ]
  },
  {
   "cell_type": "code",
   "metadata": {
    "id": "Nttgf82QifXq"
   },
   "source": [
    "# which question to answer - put your ID number and run the code \n",
    "your_id  = \"032191025\"\n",
    "q = (int(your_id) + 1) % 3 + 1\n",
    "print(\"You need to answer questions %s and 4\" % q)"
   ],
   "execution_count": 36,
   "outputs": [
    {
     "name": "stdout",
     "output_type": "stream",
     "text": [
      "You need to answer questions 1 and 4\n"
     ]
    }
   ]
  },
  {
   "cell_type": "markdown",
   "metadata": {
    "id": "po4uxd2tifXu"
   },
   "source": [
    "**Question 1:** On average which project category received the lowest number of backers? (15 pt) "
   ]
  },
  {
   "cell_type": "code",
   "metadata": {
    "id": "7tWX81YeifXv"
   },
   "source": [
    ""
   ],
   "execution_count": null,
   "outputs": []
  },
  {
   "cell_type": "markdown",
   "metadata": {
    "id": "-5TYWzlxifXx"
   },
   "source": [
    "**Question 2:** On average which project category received the lowest pledged USD? (15 pt)"
   ]
  },
  {
   "cell_type": "code",
   "metadata": {
    "id": "PMYZplK9ifXy"
   },
   "source": [
    ""
   ],
   "execution_count": null,
   "outputs": []
  },
  {
   "cell_type": "markdown",
   "metadata": {
    "id": "O0sULSUlifX0"
   },
   "source": [
    "**Question 3:** In which month is there the lowest number of projects? (15 pt)"
   ]
  },
  {
   "cell_type": "code",
   "metadata": {
    "id": "EflUthvqifX1"
   },
   "source": [
    ""
   ],
   "execution_count": null,
   "outputs": []
  },
  {
   "cell_type": "markdown",
   "metadata": {
    "id": "jKZ19m4bifX3"
   },
   "source": [
    "**Question 4 (for all):** Visualize your answer using matplotlib or seaborn (15pt)"
   ]
  },
  {
   "cell_type": "code",
   "metadata": {
    "id": "01gCsLrqifX3"
   },
   "source": [
    ""
   ],
   "execution_count": null,
   "outputs": []
  },
  {
   "cell_type": "markdown",
   "metadata": {
    "id": "PpjMJgB1ifX6"
   },
   "source": [
    "## The Marvel Universe Social Network"
   ]
  },
  {
   "cell_type": "markdown",
   "metadata": {
    "id": "oVRgZuN5ifX6"
   },
   "source": [
    "Using the [The Marvel Universe Social Network](https://www.kaggle.com/csanhueza/the-marvel-universe-social-network) and  Pandas, please answer the following questions:"
   ]
  },
  {
   "cell_type": "markdown",
   "metadata": {
    "id": "E91-E4ufifX7"
   },
   "source": [
    "**Question 1:** Write code which calculate the top-10 most friendly characters, i.e., characters with the \n",
    "    highest number of friends. Please use _hero_network.csv_ file (15pt). \n",
    "    \n",
    "**Note:** Not all the links in this dataset are symmetric."
   ]
  },
  {
   "cell_type": "code",
   "metadata": {
    "id": "gYIoTJNIifX8"
   },
   "source": [
    ""
   ],
   "execution_count": null,
   "outputs": []
  },
  {
   "cell_type": "markdown",
   "metadata": {
    "id": "EqcKzoUsifX-"
   },
   "source": [
    "**Question 2:** Using Pandas and Networkx create a graph object of The Marvel Universe Social Network with the 150 most \"friendly\" characters (10pt).\n",
    "    The vertices in that graph need to be relative to the size of each character's number of links (also referred to as the vertex degree) (10pt).\n",
    "Please color each node in the graph according to character type according to data in the *nodes.csv* file (5pt)"
   ]
  },
  {
   "cell_type": "code",
   "metadata": {
    "id": "_4650rgeifX_"
   },
   "source": [
    ""
   ],
   "execution_count": null,
   "outputs": []
  },
  {
   "cell_type": "markdown",
   "metadata": {
    "id": "ELLg4egiifYA"
   },
   "source": [
    "**Bonus:** Visualize the above network using [Cytoscape](https://cytoscape.org) or [Gephi](https://gephi.org) (10pt)"
   ]
  },
  {
   "cell_type": "code",
   "metadata": {
    "id": "TQvUWrqWifYB"
   },
   "source": [
    ""
   ],
   "execution_count": null,
   "outputs": []
  }
 ]
}