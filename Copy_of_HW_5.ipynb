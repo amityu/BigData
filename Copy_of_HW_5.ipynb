{
  "nbformat": 4,
  "nbformat_minor": 0,
  "metadata": {
    "kernelspec": {
      "display_name": "Python 3",
      "language": "python",
      "name": "python3"
    },
    "language_info": {
      "codemirror_mode": {
        "name": "ipython",
        "version": 3
      },
      "file_extension": ".py",
      "mimetype": "text/x-python",
      "name": "python",
      "nbconvert_exporter": "python",
      "pygments_lexer": "ipython3",
      "version": "3.6.7"
    },
    "colab": {
      "name": "Copy of HW 5.ipynb",
      "provenance": [],
      "collapsed_sections": [],
      "include_colab_link": true
    }
  },
  "cells": [
    {
      "cell_type": "markdown",
      "metadata": {
        "id": "view-in-github",
        "colab_type": "text"
      },
      "source": [
        "<a href=\"https://colab.research.google.com/github/amityu/BigData/blob/main/Copy_of_HW_5.ipynb\" target=\"_parent\"><img src=\"https://colab.research.google.com/assets/colab-badge.svg\" alt=\"Open In Colab\"/></a>"
      ]
    },
    {
      "cell_type": "markdown",
      "metadata": {
        "id": "g4X6zuhyulUc"
      },
      "source": [
        "# Homework Assignment  5"
      ]
    },
    {
      "cell_type": "markdown",
      "metadata": {
        "id": "euP-mSdtulUg"
      },
      "source": [
        "**Question 1:** Select a directed network, and develop a simple\n",
        "    link prediction classifier based on the network's directed topology (40pt). \n",
        "    Use node or link embedding features and try to improve the classification (20pt)\n",
        "    \n",
        "**Bonus:** Evaluate the classifier's ability to predict future links (10pt)\n",
        "    \n",
        "** Note:** You can use [Reddit community networks](http://dynamics.cs.washington.edu/data.html), or search\n",
        "for networks using [The Colorado Index of Complex Networks](https://icon.colorado.edu/)."
      ]
    },
    {
      "cell_type": "code",
      "metadata": {
        "id": "kqqlq23sulUi",
        "colab": {
          "base_uri": "https://localhost:8080/"
        },
        "outputId": "0253c318-30a4-4902-cfd3-8403f3823be8"
      },
      "source": [
        "!mkdir ./datasets\n"
      ],
      "execution_count": null,
      "outputs": [
        {
          "output_type": "stream",
          "name": "stdout",
          "text": [
            "mkdir: cannot create directory ‘./datasets’: File exists\n"
          ]
        }
      ]
    },
    {
      "cell_type": "code",
      "source": [
        "!pip install turicreate"
      ],
      "metadata": {
        "id": "exSMYZzyVf-5",
        "outputId": "44e47bde-bae9-4d42-ea12-a13f8f221750",
        "colab": {
          "base_uri": "https://localhost:8080/",
          "height": 1000
        }
      },
      "execution_count": null,
      "outputs": [
        {
          "output_type": "stream",
          "name": "stdout",
          "text": [
            "Collecting turicreate\n",
            "  Downloading turicreate-6.4.1-cp37-cp37m-manylinux1_x86_64.whl (92.0 MB)\n",
            "\u001b[K     |████████████████████████████████| 92.0 MB 14 kB/s \n",
            "\u001b[?25hRequirement already satisfied: six>=1.10.0 in /usr/local/lib/python3.7/dist-packages (from turicreate) (1.15.0)\n",
            "Requirement already satisfied: requests>=2.9.1 in /usr/local/lib/python3.7/dist-packages (from turicreate) (2.23.0)\n",
            "Collecting numba<0.51.0\n",
            "  Downloading numba-0.50.1-cp37-cp37m-manylinux2014_x86_64.whl (3.6 MB)\n",
            "\u001b[K     |████████████████████████████████| 3.6 MB 45.7 MB/s \n",
            "\u001b[?25hCollecting resampy==0.2.1\n",
            "  Downloading resampy-0.2.1.tar.gz (322 kB)\n",
            "\u001b[K     |████████████████████████████████| 322 kB 44.3 MB/s \n",
            "\u001b[?25hRequirement already satisfied: pandas>=0.23.2 in /usr/local/lib/python3.7/dist-packages (from turicreate) (1.3.5)\n",
            "Requirement already satisfied: scipy>=1.1.0 in /usr/local/lib/python3.7/dist-packages (from turicreate) (1.4.1)\n",
            "Requirement already satisfied: decorator>=4.0.9 in /usr/local/lib/python3.7/dist-packages (from turicreate) (4.4.2)\n",
            "Collecting coremltools==3.3\n",
            "  Downloading coremltools-3.3-cp37-none-manylinux1_x86_64.whl (3.5 MB)\n",
            "\u001b[K     |████████████████████████████████| 3.5 MB 18.1 MB/s \n",
            "\u001b[?25hRequirement already satisfied: numpy in /usr/local/lib/python3.7/dist-packages (from turicreate) (1.21.5)\n",
            "Collecting prettytable==0.7.2\n",
            "  Downloading prettytable-0.7.2.zip (28 kB)\n",
            "Requirement already satisfied: pillow>=5.2.0 in /usr/local/lib/python3.7/dist-packages (from turicreate) (7.1.2)\n",
            "Collecting tensorflow<2.1.0,>=2.0.0\n",
            "  Downloading tensorflow-2.0.4-cp37-cp37m-manylinux2010_x86_64.whl (86.4 MB)\n",
            "\u001b[K     |████████████████████████████████| 86.4 MB 61 kB/s \n",
            "\u001b[?25hRequirement already satisfied: protobuf>=3.1.0 in /usr/local/lib/python3.7/dist-packages (from coremltools==3.3->turicreate) (3.17.3)\n",
            "Requirement already satisfied: setuptools in /usr/local/lib/python3.7/dist-packages (from numba<0.51.0->turicreate) (57.4.0)\n",
            "Collecting llvmlite<0.34,>=0.33.0.dev0\n",
            "  Downloading llvmlite-0.33.0-cp37-cp37m-manylinux1_x86_64.whl (18.3 MB)\n",
            "\u001b[K     |████████████████████████████████| 18.3 MB 1.7 MB/s \n",
            "\u001b[?25hRequirement already satisfied: python-dateutil>=2.7.3 in /usr/local/lib/python3.7/dist-packages (from pandas>=0.23.2->turicreate) (2.8.2)\n",
            "Requirement already satisfied: pytz>=2017.3 in /usr/local/lib/python3.7/dist-packages (from pandas>=0.23.2->turicreate) (2018.9)\n",
            "Requirement already satisfied: chardet<4,>=3.0.2 in /usr/local/lib/python3.7/dist-packages (from requests>=2.9.1->turicreate) (3.0.4)\n",
            "Requirement already satisfied: urllib3!=1.25.0,!=1.25.1,<1.26,>=1.21.1 in /usr/local/lib/python3.7/dist-packages (from requests>=2.9.1->turicreate) (1.24.3)\n",
            "Requirement already satisfied: certifi>=2017.4.17 in /usr/local/lib/python3.7/dist-packages (from requests>=2.9.1->turicreate) (2021.10.8)\n",
            "Requirement already satisfied: idna<3,>=2.5 in /usr/local/lib/python3.7/dist-packages (from requests>=2.9.1->turicreate) (2.10)\n",
            "Requirement already satisfied: wrapt>=1.11.1 in /usr/local/lib/python3.7/dist-packages (from tensorflow<2.1.0,>=2.0.0->turicreate) (1.14.0)\n",
            "Requirement already satisfied: keras-preprocessing>=1.0.5 in /usr/local/lib/python3.7/dist-packages (from tensorflow<2.1.0,>=2.0.0->turicreate) (1.1.2)\n",
            "Requirement already satisfied: opt-einsum>=2.3.2 in /usr/local/lib/python3.7/dist-packages (from tensorflow<2.1.0,>=2.0.0->turicreate) (3.3.0)\n",
            "Collecting tensorflow-estimator<2.1.0,>=2.0.0\n",
            "  Downloading tensorflow_estimator-2.0.1-py2.py3-none-any.whl (449 kB)\n",
            "\u001b[K     |████████████████████████████████| 449 kB 42.3 MB/s \n",
            "\u001b[?25hRequirement already satisfied: grpcio>=1.8.6 in /usr/local/lib/python3.7/dist-packages (from tensorflow<2.1.0,>=2.0.0->turicreate) (1.44.0)\n",
            "Collecting numpy\n",
            "  Downloading numpy-1.18.5-cp37-cp37m-manylinux1_x86_64.whl (20.1 MB)\n",
            "\u001b[K     |████████████████████████████████| 20.1 MB 13.0 MB/s \n",
            "\u001b[?25hRequirement already satisfied: absl-py>=0.7.0 in /usr/local/lib/python3.7/dist-packages (from tensorflow<2.1.0,>=2.0.0->turicreate) (1.0.0)\n",
            "Collecting gast==0.2.2\n",
            "  Downloading gast-0.2.2.tar.gz (10 kB)\n",
            "Collecting keras-applications>=1.0.8\n",
            "  Downloading Keras_Applications-1.0.8-py3-none-any.whl (50 kB)\n",
            "\u001b[K     |████████████████████████████████| 50 kB 6.7 MB/s \n",
            "\u001b[?25hRequirement already satisfied: termcolor>=1.1.0 in /usr/local/lib/python3.7/dist-packages (from tensorflow<2.1.0,>=2.0.0->turicreate) (1.1.0)\n",
            "Requirement already satisfied: astor>=0.6.0 in /usr/local/lib/python3.7/dist-packages (from tensorflow<2.1.0,>=2.0.0->turicreate) (0.8.1)\n",
            "Requirement already satisfied: wheel>=0.26 in /usr/local/lib/python3.7/dist-packages (from tensorflow<2.1.0,>=2.0.0->turicreate) (0.37.1)\n",
            "Requirement already satisfied: google-pasta>=0.1.6 in /usr/local/lib/python3.7/dist-packages (from tensorflow<2.1.0,>=2.0.0->turicreate) (0.2.0)\n",
            "Collecting tensorboard<2.1.0,>=2.0.0\n",
            "  Downloading tensorboard-2.0.2-py3-none-any.whl (3.8 MB)\n",
            "\u001b[K     |████████████████████████████████| 3.8 MB 39.3 MB/s \n",
            "\u001b[?25hCollecting h5py<=2.10.0\n",
            "  Downloading h5py-2.10.0-cp37-cp37m-manylinux1_x86_64.whl (2.9 MB)\n",
            "\u001b[K     |████████████████████████████████| 2.9 MB 43.9 MB/s \n",
            "\u001b[?25hRequirement already satisfied: werkzeug>=0.11.15 in /usr/local/lib/python3.7/dist-packages (from tensorboard<2.1.0,>=2.0.0->tensorflow<2.1.0,>=2.0.0->turicreate) (1.0.1)\n",
            "Requirement already satisfied: markdown>=2.6.8 in /usr/local/lib/python3.7/dist-packages (from tensorboard<2.1.0,>=2.0.0->tensorflow<2.1.0,>=2.0.0->turicreate) (3.3.6)\n",
            "Requirement already satisfied: google-auth<2,>=1.6.3 in /usr/local/lib/python3.7/dist-packages (from tensorboard<2.1.0,>=2.0.0->tensorflow<2.1.0,>=2.0.0->turicreate) (1.35.0)\n",
            "Requirement already satisfied: google-auth-oauthlib<0.5,>=0.4.1 in /usr/local/lib/python3.7/dist-packages (from tensorboard<2.1.0,>=2.0.0->tensorflow<2.1.0,>=2.0.0->turicreate) (0.4.6)\n",
            "Requirement already satisfied: pyasn1-modules>=0.2.1 in /usr/local/lib/python3.7/dist-packages (from google-auth<2,>=1.6.3->tensorboard<2.1.0,>=2.0.0->tensorflow<2.1.0,>=2.0.0->turicreate) (0.2.8)\n",
            "Requirement already satisfied: cachetools<5.0,>=2.0.0 in /usr/local/lib/python3.7/dist-packages (from google-auth<2,>=1.6.3->tensorboard<2.1.0,>=2.0.0->tensorflow<2.1.0,>=2.0.0->turicreate) (4.2.4)\n",
            "Requirement already satisfied: rsa<5,>=3.1.4 in /usr/local/lib/python3.7/dist-packages (from google-auth<2,>=1.6.3->tensorboard<2.1.0,>=2.0.0->tensorflow<2.1.0,>=2.0.0->turicreate) (4.8)\n",
            "Requirement already satisfied: requests-oauthlib>=0.7.0 in /usr/local/lib/python3.7/dist-packages (from google-auth-oauthlib<0.5,>=0.4.1->tensorboard<2.1.0,>=2.0.0->tensorflow<2.1.0,>=2.0.0->turicreate) (1.3.1)\n",
            "Requirement already satisfied: importlib-metadata>=4.4 in /usr/local/lib/python3.7/dist-packages (from markdown>=2.6.8->tensorboard<2.1.0,>=2.0.0->tensorflow<2.1.0,>=2.0.0->turicreate) (4.11.3)\n",
            "Requirement already satisfied: zipp>=0.5 in /usr/local/lib/python3.7/dist-packages (from importlib-metadata>=4.4->markdown>=2.6.8->tensorboard<2.1.0,>=2.0.0->tensorflow<2.1.0,>=2.0.0->turicreate) (3.7.0)\n",
            "Requirement already satisfied: typing-extensions>=3.6.4 in /usr/local/lib/python3.7/dist-packages (from importlib-metadata>=4.4->markdown>=2.6.8->tensorboard<2.1.0,>=2.0.0->tensorflow<2.1.0,>=2.0.0->turicreate) (3.10.0.2)\n",
            "Requirement already satisfied: pyasn1<0.5.0,>=0.4.6 in /usr/local/lib/python3.7/dist-packages (from pyasn1-modules>=0.2.1->google-auth<2,>=1.6.3->tensorboard<2.1.0,>=2.0.0->tensorflow<2.1.0,>=2.0.0->turicreate) (0.4.8)\n",
            "Requirement already satisfied: oauthlib>=3.0.0 in /usr/local/lib/python3.7/dist-packages (from requests-oauthlib>=0.7.0->google-auth-oauthlib<0.5,>=0.4.1->tensorboard<2.1.0,>=2.0.0->tensorflow<2.1.0,>=2.0.0->turicreate) (3.2.0)\n",
            "Building wheels for collected packages: prettytable, resampy, gast\n",
            "  Building wheel for prettytable (setup.py) ... \u001b[?25l\u001b[?25hdone\n",
            "  Created wheel for prettytable: filename=prettytable-0.7.2-py3-none-any.whl size=13714 sha256=a915d61a5afb9232b8b909a982b55128db0c578b2b85c1352f765dfa0e62e8ce\n",
            "  Stored in directory: /root/.cache/pip/wheels/b2/7f/f6/f180315b584f00445045ff1699b550fa895d09471337ce21c6\n",
            "  Building wheel for resampy (setup.py) ... \u001b[?25l\u001b[?25hdone\n",
            "  Created wheel for resampy: filename=resampy-0.2.1-py3-none-any.whl size=320859 sha256=794b36ef3a5e684c9fc4138020d7b5d49d5e5aa2369d9253da97bb5cf7ff9ba9\n",
            "  Stored in directory: /root/.cache/pip/wheels/71/74/53/d5ceb7c5ee7a168c7d106041863e71ac3273f4a4677743a284\n",
            "  Building wheel for gast (setup.py) ... \u001b[?25l\u001b[?25hdone\n",
            "  Created wheel for gast: filename=gast-0.2.2-py3-none-any.whl size=7554 sha256=d9b63a95305aaf4353e10ab861bac937ae2b996fa12d777ef51e03d9d079d385\n",
            "  Stored in directory: /root/.cache/pip/wheels/21/7f/02/420f32a803f7d0967b48dd823da3f558c5166991bfd204eef3\n",
            "Successfully built prettytable resampy gast\n",
            "Installing collected packages: numpy, llvmlite, h5py, tensorflow-estimator, tensorboard, numba, keras-applications, gast, tensorflow, resampy, prettytable, coremltools, turicreate\n",
            "  Attempting uninstall: numpy\n",
            "    Found existing installation: numpy 1.21.5\n",
            "    Uninstalling numpy-1.21.5:\n",
            "      Successfully uninstalled numpy-1.21.5\n",
            "  Attempting uninstall: llvmlite\n",
            "    Found existing installation: llvmlite 0.34.0\n",
            "    Uninstalling llvmlite-0.34.0:\n",
            "      Successfully uninstalled llvmlite-0.34.0\n",
            "  Attempting uninstall: h5py\n",
            "    Found existing installation: h5py 3.1.0\n",
            "    Uninstalling h5py-3.1.0:\n",
            "      Successfully uninstalled h5py-3.1.0\n",
            "  Attempting uninstall: tensorflow-estimator\n",
            "    Found existing installation: tensorflow-estimator 2.8.0\n",
            "    Uninstalling tensorflow-estimator-2.8.0:\n",
            "      Successfully uninstalled tensorflow-estimator-2.8.0\n",
            "  Attempting uninstall: tensorboard\n",
            "    Found existing installation: tensorboard 2.8.0\n",
            "    Uninstalling tensorboard-2.8.0:\n",
            "      Successfully uninstalled tensorboard-2.8.0\n",
            "  Attempting uninstall: numba\n",
            "    Found existing installation: numba 0.51.2\n",
            "    Uninstalling numba-0.51.2:\n",
            "      Successfully uninstalled numba-0.51.2\n",
            "  Attempting uninstall: gast\n",
            "    Found existing installation: gast 0.5.3\n",
            "    Uninstalling gast-0.5.3:\n",
            "      Successfully uninstalled gast-0.5.3\n",
            "  Attempting uninstall: tensorflow\n",
            "    Found existing installation: tensorflow 2.8.0\n",
            "    Uninstalling tensorflow-2.8.0:\n",
            "      Successfully uninstalled tensorflow-2.8.0\n",
            "  Attempting uninstall: resampy\n",
            "    Found existing installation: resampy 0.2.2\n",
            "    Uninstalling resampy-0.2.2:\n",
            "      Successfully uninstalled resampy-0.2.2\n",
            "  Attempting uninstall: prettytable\n",
            "    Found existing installation: prettytable 3.2.0\n",
            "    Uninstalling prettytable-3.2.0:\n",
            "      Successfully uninstalled prettytable-3.2.0\n",
            "\u001b[31mERROR: pip's dependency resolver does not currently take into account all the packages that are installed. This behaviour is the source of the following dependency conflicts.\n",
            "tensorflow-probability 0.16.0 requires gast>=0.3.2, but you have gast 0.2.2 which is incompatible.\n",
            "tables 3.7.0 requires numpy>=1.19.0, but you have numpy 1.18.5 which is incompatible.\n",
            "librosa 0.8.1 requires resampy>=0.2.2, but you have resampy 0.2.1 which is incompatible.\n",
            "jaxlib 0.3.2+cuda11.cudnn805 requires numpy>=1.19, but you have numpy 1.18.5 which is incompatible.\n",
            "jax 0.3.4 requires numpy>=1.19, but you have numpy 1.18.5 which is incompatible.\n",
            "datascience 0.10.6 requires folium==0.2.1, but you have folium 0.8.3 which is incompatible.\n",
            "albumentations 0.1.12 requires imgaug<0.2.7,>=0.2.5, but you have imgaug 0.2.9 which is incompatible.\u001b[0m\n",
            "Successfully installed coremltools-3.3 gast-0.2.2 h5py-2.10.0 keras-applications-1.0.8 llvmlite-0.33.0 numba-0.50.1 numpy-1.18.5 prettytable-0.7.2 resampy-0.2.1 tensorboard-2.0.2 tensorflow-2.0.4 tensorflow-estimator-2.0.1 turicreate-6.4.1\n"
          ]
        },
        {
          "output_type": "display_data",
          "data": {
            "application/vnd.colab-display-data+json": {
              "pip_warning": {
                "packages": [
                  "numpy"
                ]
              }
            }
          },
          "metadata": {}
        }
      ]
    },
    {
      "cell_type": "code",
      "execution_count": null,
      "outputs": [
        {
          "output_type": "stream",
          "name": "stdout",
          "text": [
            "--2022-04-11 09:34:55--  https://s3.amazonaws.com/connectome-graphs/cat/mixed.species_brain_1.graphml\n",
            "Resolving s3.amazonaws.com (s3.amazonaws.com)... 52.217.49.62\n",
            "Connecting to s3.amazonaws.com (s3.amazonaws.com)|52.217.49.62|:443... connected.\n",
            "HTTP request sent, awaiting response... 200 OK\n",
            "Length: 58516 (57K) [binary/octet-stream]\n",
            "Saving to: ‘./datasets/mixed.species_brain_1.graphml’\n",
            "\n",
            "./datasets/mixed.sp 100%[===================>]  57.14K   340KB/s    in 0.2s    \n",
            "\n",
            "2022-04-11 09:34:56 (340 KB/s) - ‘./datasets/mixed.species_brain_1.graphml’ saved [58516/58516]\n",
            "\n",
            "DiGraph with 65 nodes and 1139 edges\n"
          ]
        }
      ],
      "source": [
        "import networkx as nx\n",
        "import turicreate as tc\n",
        "!wget https://s3.amazonaws.com/connectome-graphs/cat/mixed.species_brain_1.graphml -O ./datasets/mixed.species_brain_1.graphml\n",
        "g =nx.read_graphml('./datasets/mixed.species_brain_1.graphml')\n",
        "print(nx.info(g))\n",
        "\n",
        "nx.write_gexf(g, \"./datasets/brain.gexf\")\n",
        "#nx.draw(g)\n"
      ],
      "metadata": {
        "pycharm": {
          "name": "#%%\n"
        },
        "id": "7Gu36hmMU4g4",
        "outputId": "dd5fb7ec-71a3-4dad-aa33-c1ab8f9ce902",
        "colab": {
          "base_uri": "https://localhost:8080/"
        }
      }
    },
    {
      "cell_type": "code",
      "metadata": {
        "id": "UQzWpvcfulUq",
        "outputId": "f29b6832-56c0-4725-fe1a-1dabd25d86f3",
        "colab": {
          "base_uri": "https://localhost:8080/"
        }
      },
      "source": [
        "import turicreate as tc\n",
        "import numpy as np\n",
        "def common_friends(g,u,v):\n",
        "    if not g.has_node(u) or not g.has_node(v):\n",
        "        return None\n",
        "    return set(g.neighbors(u)) & set(g.neighbors(v))\n",
        "import operator\n",
        "def find_friends_of_friends(g, v):\n",
        "    \"Returns a set with all the friends of friends of v that are not friends of v\"\n",
        "    friends_set = set(g.neighbors(v))\n",
        "    friends_of_friends_set = set()\n",
        "    for f in friends_set:\n",
        "        friends_of_friends_set |= set(g.neighbors(f))\n",
        "    friends_of_friends_set -= friends_set\n",
        "    friends_of_friends_set -= {v}\n",
        "    return friends_of_friends_set\n",
        "\n",
        "\n",
        "def rank_friends_of_friends(g, v):\n",
        "    rank_dict = {}\n",
        "    vertices_set = find_friends_of_friends(g, v)\n",
        "    for u in vertices_set:\n",
        "        rank_dict[u] = len(common_friends(g, v, u))\n",
        "    #3sorted_d = sorted(rank_dict.items(), key=operator.itemgetter(1), reverse=True)\n",
        "    #return sorted_d\n",
        "    return rank_dict\n",
        "\n",
        "#rank_friends_of_friends()\n",
        "sf = tc.SFrame()\n",
        "for node in g:\n",
        "    ranks = rank_friends_of_friends(g,node)\n",
        "    for out_v in ranks.keys():\n",
        "        row = {'in_v':[node], 'out_v': [out_v], 'rank':[ranks[out_v]]}\n",
        "        sf = sf.append(tc.SFrame(data = row))\n",
        "max_rank = sf['rank'].mean() + sf['rank'].std()*0.5\n",
        "print(max_rank)\n",
        "sf['class'] = sf.apply(lambda x:x['rank']>max_rank)\n",
        "src = [str(x) for (x,y) in g.edges()]\n",
        "dst =[str(y) for (x,y) in g.edges()]\n",
        "sf =sf.append(tc.SFrame({'in_v':src, 'out_v': dst, 'rank':np.ones(len(src),dtype=int),'class':np.ones(len(src),dtype=int)}))\n",
        "sf.print_rows(30)"
      ],
      "execution_count": null,
      "outputs": [
        {
          "output_type": "stream",
          "name": "stdout",
          "text": [
            "6.104774070832248\n",
            "+------+-------+------+-------+\n",
            "| in_v | out_v | rank | class |\n",
            "+------+-------+------+-------+\n",
            "|  n0  |  n40  |  5   |   0   |\n",
            "|  n0  |  n22  |  0   |   0   |\n",
            "|  n0  |  n60  |  0   |   0   |\n",
            "|  n0  |   n6  |  4   |   0   |\n",
            "|  n0  |  n14  |  7   |   1   |\n",
            "|  n0  |  n41  |  2   |   0   |\n",
            "|  n0  |  n50  |  3   |   0   |\n",
            "|  n0  |  n51  |  3   |   0   |\n",
            "|  n0  |  n52  |  3   |   0   |\n",
            "|  n0  |  n15  |  3   |   0   |\n",
            "|  n0  |   n7  |  6   |   0   |\n",
            "|  n0  |  n42  |  7   |   1   |\n",
            "|  n0  |  n61  |  0   |   0   |\n",
            "|  n0  |  n36  |  3   |   0   |\n",
            "|  n0  |  n64  |  0   |   0   |\n",
            "|  n0  |  n38  |  0   |   0   |\n",
            "|  n0  |  n48  |  1   |   0   |\n",
            "|  n0  |   n8  |  3   |   0   |\n",
            "|  n0  |  n12  |  3   |   0   |\n",
            "|  n0  |  n26  |  5   |   0   |\n",
            "|  n0  |  n16  |  2   |   0   |\n",
            "|  n0  |  n13  |  2   |   0   |\n",
            "|  n0  |  n21  |  0   |   0   |\n",
            "|  n0  |  n53  |  1   |   0   |\n",
            "|  n0  |  n62  |  0   |   0   |\n",
            "|  n0  |  n55  |  1   |   0   |\n",
            "|  n0  |  n47  |  2   |   0   |\n",
            "|  n0  |  n59  |  3   |   0   |\n",
            "|  n0  |  n17  |  1   |   0   |\n",
            "|  n0  |  n58  |  5   |   0   |\n",
            "+------+-------+------+-------+\n",
            "[3600 rows x 4 columns]\n",
            "\n"
          ]
        }
      ]
    },
    {
      "cell_type": "code",
      "execution_count": null,
      "outputs": [
        {
          "output_type": "stream",
          "name": "stdout",
          "text": [
            "PROGRESS: The following methods are available for this type of problem.\n",
            "PROGRESS: BoostedTreesClassifier, RandomForestClassifier, DecisionTreeClassifier, SVMClassifier, LogisticClassifier\n",
            "PROGRESS: The returned model will be chosen according to validation accuracy.\n"
          ]
        },
        {
          "output_type": "display_data",
          "data": {
            "text/plain": [
              "Boosted trees classifier:"
            ],
            "text/html": [
              "<pre>Boosted trees classifier:</pre>"
            ]
          },
          "metadata": {}
        },
        {
          "output_type": "display_data",
          "data": {
            "text/plain": [
              "--------------------------------------------------------"
            ],
            "text/html": [
              "<pre>--------------------------------------------------------</pre>"
            ]
          },
          "metadata": {}
        },
        {
          "output_type": "display_data",
          "data": {
            "text/plain": [
              "Number of examples          : 2540"
            ],
            "text/html": [
              "<pre>Number of examples          : 2540</pre>"
            ]
          },
          "metadata": {}
        },
        {
          "output_type": "display_data",
          "data": {
            "text/plain": [
              "Number of classes           : 2"
            ],
            "text/html": [
              "<pre>Number of classes           : 2</pre>"
            ]
          },
          "metadata": {}
        },
        {
          "output_type": "display_data",
          "data": {
            "text/plain": [
              "Number of feature columns   : 2"
            ],
            "text/html": [
              "<pre>Number of feature columns   : 2</pre>"
            ]
          },
          "metadata": {}
        },
        {
          "output_type": "display_data",
          "data": {
            "text/plain": [
              "Number of unpacked features : 2"
            ],
            "text/html": [
              "<pre>Number of unpacked features : 2</pre>"
            ]
          },
          "metadata": {}
        },
        {
          "output_type": "display_data",
          "data": {
            "text/plain": [
              "+-----------+--------------+-------------------+---------------------+-------------------+---------------------+"
            ],
            "text/html": [
              "<pre>+-----------+--------------+-------------------+---------------------+-------------------+---------------------+</pre>"
            ]
          },
          "metadata": {}
        },
        {
          "output_type": "display_data",
          "data": {
            "text/plain": [
              "| Iteration | Elapsed Time | Training Accuracy | Validation Accuracy | Training Log Loss | Validation Log Loss |"
            ],
            "text/html": [
              "<pre>| Iteration | Elapsed Time | Training Accuracy | Validation Accuracy | Training Log Loss | Validation Log Loss |</pre>"
            ]
          },
          "metadata": {}
        },
        {
          "output_type": "display_data",
          "data": {
            "text/plain": [
              "+-----------+--------------+-------------------+---------------------+-------------------+---------------------+"
            ],
            "text/html": [
              "<pre>+-----------+--------------+-------------------+---------------------+-------------------+---------------------+</pre>"
            ]
          },
          "metadata": {}
        },
        {
          "output_type": "display_data",
          "data": {
            "text/plain": [
              "| 1         | 0.003546     | 0.580709          | 0.594340            | 0.677059          | 0.682158            |"
            ],
            "text/html": [
              "<pre>| 1         | 0.003546     | 0.580709          | 0.594340            | 0.677059          | 0.682158            |</pre>"
            ]
          },
          "metadata": {}
        },
        {
          "output_type": "display_data",
          "data": {
            "text/plain": [
              "| 2         | 0.006390     | 0.628346          | 0.618868            | 0.663938          | 0.673385            |"
            ],
            "text/html": [
              "<pre>| 2         | 0.006390     | 0.628346          | 0.618868            | 0.663938          | 0.673385            |</pre>"
            ]
          },
          "metadata": {}
        },
        {
          "output_type": "display_data",
          "data": {
            "text/plain": [
              "| 3         | 0.010168     | 0.656299          | 0.626415            | 0.652171          | 0.668482            |"
            ],
            "text/html": [
              "<pre>| 3         | 0.010168     | 0.656299          | 0.626415            | 0.652171          | 0.668482            |</pre>"
            ]
          },
          "metadata": {}
        },
        {
          "output_type": "display_data",
          "data": {
            "text/plain": [
              "| 4         | 0.012960     | 0.660236          | 0.629245            | 0.640587          | 0.658412            |"
            ],
            "text/html": [
              "<pre>| 4         | 0.012960     | 0.660236          | 0.629245            | 0.640587          | 0.658412            |</pre>"
            ]
          },
          "metadata": {}
        },
        {
          "output_type": "display_data",
          "data": {
            "text/plain": [
              "| 5         | 0.016000     | 0.684646          | 0.643396            | 0.630477          | 0.652197            |"
            ],
            "text/html": [
              "<pre>| 5         | 0.016000     | 0.684646          | 0.643396            | 0.630477          | 0.652197            |</pre>"
            ]
          },
          "metadata": {}
        },
        {
          "output_type": "display_data",
          "data": {
            "text/plain": [
              "| 10        | 0.039854     | 0.722835          | 0.663208            | 0.587614          | 0.628465            |"
            ],
            "text/html": [
              "<pre>| 10        | 0.039854     | 0.722835          | 0.663208            | 0.587614          | 0.628465            |</pre>"
            ]
          },
          "metadata": {}
        },
        {
          "output_type": "display_data",
          "data": {
            "text/plain": [
              "+-----------+--------------+-------------------+---------------------+-------------------+---------------------+"
            ],
            "text/html": [
              "<pre>+-----------+--------------+-------------------+---------------------+-------------------+---------------------+</pre>"
            ]
          },
          "metadata": {}
        },
        {
          "output_type": "display_data",
          "data": {
            "text/plain": [
              "Random forest classifier:"
            ],
            "text/html": [
              "<pre>Random forest classifier:</pre>"
            ]
          },
          "metadata": {}
        },
        {
          "output_type": "display_data",
          "data": {
            "text/plain": [
              "--------------------------------------------------------"
            ],
            "text/html": [
              "<pre>--------------------------------------------------------</pre>"
            ]
          },
          "metadata": {}
        },
        {
          "output_type": "display_data",
          "data": {
            "text/plain": [
              "Number of examples          : 2540"
            ],
            "text/html": [
              "<pre>Number of examples          : 2540</pre>"
            ]
          },
          "metadata": {}
        },
        {
          "output_type": "display_data",
          "data": {
            "text/plain": [
              "Number of classes           : 2"
            ],
            "text/html": [
              "<pre>Number of classes           : 2</pre>"
            ]
          },
          "metadata": {}
        },
        {
          "output_type": "display_data",
          "data": {
            "text/plain": [
              "Number of feature columns   : 2"
            ],
            "text/html": [
              "<pre>Number of feature columns   : 2</pre>"
            ]
          },
          "metadata": {}
        },
        {
          "output_type": "display_data",
          "data": {
            "text/plain": [
              "Number of unpacked features : 2"
            ],
            "text/html": [
              "<pre>Number of unpacked features : 2</pre>"
            ]
          },
          "metadata": {}
        },
        {
          "output_type": "display_data",
          "data": {
            "text/plain": [
              "+-----------+--------------+-------------------+---------------------+-------------------+---------------------+"
            ],
            "text/html": [
              "<pre>+-----------+--------------+-------------------+---------------------+-------------------+---------------------+</pre>"
            ]
          },
          "metadata": {}
        },
        {
          "output_type": "display_data",
          "data": {
            "text/plain": [
              "| Iteration | Elapsed Time | Training Accuracy | Validation Accuracy | Training Log Loss | Validation Log Loss |"
            ],
            "text/html": [
              "<pre>| Iteration | Elapsed Time | Training Accuracy | Validation Accuracy | Training Log Loss | Validation Log Loss |</pre>"
            ]
          },
          "metadata": {}
        },
        {
          "output_type": "display_data",
          "data": {
            "text/plain": [
              "+-----------+--------------+-------------------+---------------------+-------------------+---------------------+"
            ],
            "text/html": [
              "<pre>+-----------+--------------+-------------------+---------------------+-------------------+---------------------+</pre>"
            ]
          },
          "metadata": {}
        },
        {
          "output_type": "display_data",
          "data": {
            "text/plain": [
              "| 1         | 0.003804     | 0.574803          | 0.595283            | 0.662834          | 0.675435            |"
            ],
            "text/html": [
              "<pre>| 1         | 0.003804     | 0.574803          | 0.595283            | 0.662834          | 0.675435            |</pre>"
            ]
          },
          "metadata": {}
        },
        {
          "output_type": "display_data",
          "data": {
            "text/plain": [
              "| 2         | 0.007158     | 0.606299          | 0.618868            | 0.654256          | 0.664430            |"
            ],
            "text/html": [
              "<pre>| 2         | 0.007158     | 0.606299          | 0.618868            | 0.654256          | 0.664430            |</pre>"
            ]
          },
          "metadata": {}
        },
        {
          "output_type": "display_data",
          "data": {
            "text/plain": [
              "| 3         | 0.010484     | 0.605512          | 0.618868            | 0.653319          | 0.664157            |"
            ],
            "text/html": [
              "<pre>| 3         | 0.010484     | 0.605512          | 0.618868            | 0.653319          | 0.664157            |</pre>"
            ]
          },
          "metadata": {}
        },
        {
          "output_type": "display_data",
          "data": {
            "text/plain": [
              "| 4         | 0.016238     | 0.605512          | 0.619811            | 0.651950          | 0.662256            |"
            ],
            "text/html": [
              "<pre>| 4         | 0.016238     | 0.605512          | 0.619811            | 0.651950          | 0.662256            |</pre>"
            ]
          },
          "metadata": {}
        },
        {
          "output_type": "display_data",
          "data": {
            "text/plain": [
              "| 5         | 0.019509     | 0.613780          | 0.627358            | 0.650302          | 0.660692            |"
            ],
            "text/html": [
              "<pre>| 5         | 0.019509     | 0.613780          | 0.627358            | 0.650302          | 0.660692            |</pre>"
            ]
          },
          "metadata": {}
        },
        {
          "output_type": "display_data",
          "data": {
            "text/plain": [
              "| 10        | 0.041963     | 0.635433          | 0.625472            | 0.649350          | 0.661431            |"
            ],
            "text/html": [
              "<pre>| 10        | 0.041963     | 0.635433          | 0.625472            | 0.649350          | 0.661431            |</pre>"
            ]
          },
          "metadata": {}
        },
        {
          "output_type": "display_data",
          "data": {
            "text/plain": [
              "+-----------+--------------+-------------------+---------------------+-------------------+---------------------+"
            ],
            "text/html": [
              "<pre>+-----------+--------------+-------------------+---------------------+-------------------+---------------------+</pre>"
            ]
          },
          "metadata": {}
        },
        {
          "output_type": "display_data",
          "data": {
            "text/plain": [
              "Decision tree classifier:"
            ],
            "text/html": [
              "<pre>Decision tree classifier:</pre>"
            ]
          },
          "metadata": {}
        },
        {
          "output_type": "display_data",
          "data": {
            "text/plain": [
              "--------------------------------------------------------"
            ],
            "text/html": [
              "<pre>--------------------------------------------------------</pre>"
            ]
          },
          "metadata": {}
        },
        {
          "output_type": "display_data",
          "data": {
            "text/plain": [
              "Number of examples          : 2540"
            ],
            "text/html": [
              "<pre>Number of examples          : 2540</pre>"
            ]
          },
          "metadata": {}
        },
        {
          "output_type": "display_data",
          "data": {
            "text/plain": [
              "Number of classes           : 2"
            ],
            "text/html": [
              "<pre>Number of classes           : 2</pre>"
            ]
          },
          "metadata": {}
        },
        {
          "output_type": "display_data",
          "data": {
            "text/plain": [
              "Number of feature columns   : 2"
            ],
            "text/html": [
              "<pre>Number of feature columns   : 2</pre>"
            ]
          },
          "metadata": {}
        },
        {
          "output_type": "display_data",
          "data": {
            "text/plain": [
              "Number of unpacked features : 2"
            ],
            "text/html": [
              "<pre>Number of unpacked features : 2</pre>"
            ]
          },
          "metadata": {}
        },
        {
          "output_type": "display_data",
          "data": {
            "text/plain": [
              "+-----------+--------------+-------------------+---------------------+-------------------+---------------------+"
            ],
            "text/html": [
              "<pre>+-----------+--------------+-------------------+---------------------+-------------------+---------------------+</pre>"
            ]
          },
          "metadata": {}
        },
        {
          "output_type": "display_data",
          "data": {
            "text/plain": [
              "| Iteration | Elapsed Time | Training Accuracy | Validation Accuracy | Training Log Loss | Validation Log Loss |"
            ],
            "text/html": [
              "<pre>| Iteration | Elapsed Time | Training Accuracy | Validation Accuracy | Training Log Loss | Validation Log Loss |</pre>"
            ]
          },
          "metadata": {}
        },
        {
          "output_type": "display_data",
          "data": {
            "text/plain": [
              "+-----------+--------------+-------------------+---------------------+-------------------+---------------------+"
            ],
            "text/html": [
              "<pre>+-----------+--------------+-------------------+---------------------+-------------------+---------------------+</pre>"
            ]
          },
          "metadata": {}
        },
        {
          "output_type": "display_data",
          "data": {
            "text/plain": [
              "| 1         | 0.015110     | 0.580709          | 0.594340            | 0.657083          | 0.674929            |"
            ],
            "text/html": [
              "<pre>| 1         | 0.015110     | 0.580709          | 0.594340            | 0.657083          | 0.674929            |</pre>"
            ]
          },
          "metadata": {}
        },
        {
          "output_type": "display_data",
          "data": {
            "text/plain": [
              "+-----------+--------------+-------------------+---------------------+-------------------+---------------------+"
            ],
            "text/html": [
              "<pre>+-----------+--------------+-------------------+---------------------+-------------------+---------------------+</pre>"
            ]
          },
          "metadata": {}
        },
        {
          "output_type": "display_data",
          "data": {
            "text/plain": [
              "SVM:"
            ],
            "text/html": [
              "<pre>SVM:</pre>"
            ]
          },
          "metadata": {}
        },
        {
          "output_type": "display_data",
          "data": {
            "text/plain": [
              "--------------------------------------------------------"
            ],
            "text/html": [
              "<pre>--------------------------------------------------------</pre>"
            ]
          },
          "metadata": {}
        },
        {
          "output_type": "display_data",
          "data": {
            "text/plain": [
              "Number of examples          : 2540"
            ],
            "text/html": [
              "<pre>Number of examples          : 2540</pre>"
            ]
          },
          "metadata": {}
        },
        {
          "output_type": "display_data",
          "data": {
            "text/plain": [
              "Number of classes           : 2"
            ],
            "text/html": [
              "<pre>Number of classes           : 2</pre>"
            ]
          },
          "metadata": {}
        },
        {
          "output_type": "display_data",
          "data": {
            "text/plain": [
              "Number of feature columns   : 2"
            ],
            "text/html": [
              "<pre>Number of feature columns   : 2</pre>"
            ]
          },
          "metadata": {}
        },
        {
          "output_type": "display_data",
          "data": {
            "text/plain": [
              "Number of unpacked features : 2"
            ],
            "text/html": [
              "<pre>Number of unpacked features : 2</pre>"
            ]
          },
          "metadata": {}
        },
        {
          "output_type": "display_data",
          "data": {
            "text/plain": [
              "Number of coefficients    : 129"
            ],
            "text/html": [
              "<pre>Number of coefficients    : 129</pre>"
            ]
          },
          "metadata": {}
        },
        {
          "output_type": "display_data",
          "data": {
            "text/plain": [
              "Starting L-BFGS"
            ],
            "text/html": [
              "<pre>Starting L-BFGS</pre>"
            ]
          },
          "metadata": {}
        },
        {
          "output_type": "display_data",
          "data": {
            "text/plain": [
              "--------------------------------------------------------"
            ],
            "text/html": [
              "<pre>--------------------------------------------------------</pre>"
            ]
          },
          "metadata": {}
        },
        {
          "output_type": "display_data",
          "data": {
            "text/plain": [
              "+-----------+----------+-----------+--------------+-------------------+---------------------+"
            ],
            "text/html": [
              "<pre>+-----------+----------+-----------+--------------+-------------------+---------------------+</pre>"
            ]
          },
          "metadata": {}
        },
        {
          "output_type": "display_data",
          "data": {
            "text/plain": [
              "| Iteration | Passes   | Step size | Elapsed Time | Training Accuracy | Validation Accuracy |"
            ],
            "text/html": [
              "<pre>| Iteration | Passes   | Step size | Elapsed Time | Training Accuracy | Validation Accuracy |</pre>"
            ]
          },
          "metadata": {}
        },
        {
          "output_type": "display_data",
          "data": {
            "text/plain": [
              "+-----------+----------+-----------+--------------+-------------------+---------------------+"
            ],
            "text/html": [
              "<pre>+-----------+----------+-----------+--------------+-------------------+---------------------+</pre>"
            ]
          },
          "metadata": {}
        },
        {
          "output_type": "display_data",
          "data": {
            "text/plain": [
              "| 0         | 3        | 5.000000  | 0.005909     | 0.784252          | 0.748113            |"
            ],
            "text/html": [
              "<pre>| 0         | 3        | 5.000000  | 0.005909     | 0.784252          | 0.748113            |</pre>"
            ]
          },
          "metadata": {}
        },
        {
          "output_type": "display_data",
          "data": {
            "text/plain": [
              "| 1         | 8        | 0.618811  | 0.016258     | 0.792520          | 0.750943            |"
            ],
            "text/html": [
              "<pre>| 1         | 8        | 0.618811  | 0.016258     | 0.792520          | 0.750943            |</pre>"
            ]
          },
          "metadata": {}
        },
        {
          "output_type": "display_data",
          "data": {
            "text/plain": [
              "| 2         | 10       | 0.766843  | 0.034456     | 0.798031          | 0.755660            |"
            ],
            "text/html": [
              "<pre>| 2         | 10       | 0.766843  | 0.034456     | 0.798031          | 0.755660            |</pre>"
            ]
          },
          "metadata": {}
        },
        {
          "output_type": "display_data",
          "data": {
            "text/plain": [
              "| 3         | 11       | 0.958554  | 0.044461     | 0.746850          | 0.718868            |"
            ],
            "text/html": [
              "<pre>| 3         | 11       | 0.958554  | 0.044461     | 0.746850          | 0.718868            |</pre>"
            ]
          },
          "metadata": {}
        },
        {
          "output_type": "display_data",
          "data": {
            "text/plain": [
              "| 4         | 13       | 0.434600  | 0.061577     | 0.803543          | 0.764151            |"
            ],
            "text/html": [
              "<pre>| 4         | 13       | 0.434600  | 0.061577     | 0.803543          | 0.764151            |</pre>"
            ]
          },
          "metadata": {}
        },
        {
          "output_type": "display_data",
          "data": {
            "text/plain": [
              "| 9         | 19       | 0.779511  | 0.087045     | 0.784252          | 0.761321            |"
            ],
            "text/html": [
              "<pre>| 9         | 19       | 0.779511  | 0.087045     | 0.784252          | 0.761321            |</pre>"
            ]
          },
          "metadata": {}
        },
        {
          "output_type": "display_data",
          "data": {
            "text/plain": [
              "+-----------+----------+-----------+--------------+-------------------+---------------------+"
            ],
            "text/html": [
              "<pre>+-----------+----------+-----------+--------------+-------------------+---------------------+</pre>"
            ]
          },
          "metadata": {}
        },
        {
          "output_type": "display_data",
          "data": {
            "text/plain": [
              "Logistic regression:"
            ],
            "text/html": [
              "<pre>Logistic regression:</pre>"
            ]
          },
          "metadata": {}
        },
        {
          "output_type": "display_data",
          "data": {
            "text/plain": [
              "--------------------------------------------------------"
            ],
            "text/html": [
              "<pre>--------------------------------------------------------</pre>"
            ]
          },
          "metadata": {}
        },
        {
          "output_type": "display_data",
          "data": {
            "text/plain": [
              "Number of examples          : 2540"
            ],
            "text/html": [
              "<pre>Number of examples          : 2540</pre>"
            ]
          },
          "metadata": {}
        },
        {
          "output_type": "display_data",
          "data": {
            "text/plain": [
              "Number of classes           : 2"
            ],
            "text/html": [
              "<pre>Number of classes           : 2</pre>"
            ]
          },
          "metadata": {}
        },
        {
          "output_type": "display_data",
          "data": {
            "text/plain": [
              "Number of feature columns   : 2"
            ],
            "text/html": [
              "<pre>Number of feature columns   : 2</pre>"
            ]
          },
          "metadata": {}
        },
        {
          "output_type": "display_data",
          "data": {
            "text/plain": [
              "Number of unpacked features : 2"
            ],
            "text/html": [
              "<pre>Number of unpacked features : 2</pre>"
            ]
          },
          "metadata": {}
        },
        {
          "output_type": "display_data",
          "data": {
            "text/plain": [
              "Number of coefficients      : 129"
            ],
            "text/html": [
              "<pre>Number of coefficients      : 129</pre>"
            ]
          },
          "metadata": {}
        },
        {
          "output_type": "display_data",
          "data": {
            "text/plain": [
              "Starting Newton Method"
            ],
            "text/html": [
              "<pre>Starting Newton Method</pre>"
            ]
          },
          "metadata": {}
        },
        {
          "output_type": "display_data",
          "data": {
            "text/plain": [
              "--------------------------------------------------------"
            ],
            "text/html": [
              "<pre>--------------------------------------------------------</pre>"
            ]
          },
          "metadata": {}
        },
        {
          "output_type": "display_data",
          "data": {
            "text/plain": [
              "+-----------+----------+--------------+-------------------+---------------------+"
            ],
            "text/html": [
              "<pre>+-----------+----------+--------------+-------------------+---------------------+</pre>"
            ]
          },
          "metadata": {}
        },
        {
          "output_type": "display_data",
          "data": {
            "text/plain": [
              "| Iteration | Passes   | Elapsed Time | Training Accuracy | Validation Accuracy |"
            ],
            "text/html": [
              "<pre>| Iteration | Passes   | Elapsed Time | Training Accuracy | Validation Accuracy |</pre>"
            ]
          },
          "metadata": {}
        },
        {
          "output_type": "display_data",
          "data": {
            "text/plain": [
              "+-----------+----------+--------------+-------------------+---------------------+"
            ],
            "text/html": [
              "<pre>+-----------+----------+--------------+-------------------+---------------------+</pre>"
            ]
          },
          "metadata": {}
        },
        {
          "output_type": "display_data",
          "data": {
            "text/plain": [
              "| 1         | 2        | 0.012117     | 0.795669          | 0.743396            |"
            ],
            "text/html": [
              "<pre>| 1         | 2        | 0.012117     | 0.795669          | 0.743396            |</pre>"
            ]
          },
          "metadata": {}
        },
        {
          "output_type": "display_data",
          "data": {
            "text/plain": [
              "| 2         | 3        | 0.022035     | 0.793701          | 0.743396            |"
            ],
            "text/html": [
              "<pre>| 2         | 3        | 0.022035     | 0.793701          | 0.743396            |</pre>"
            ]
          },
          "metadata": {}
        },
        {
          "output_type": "display_data",
          "data": {
            "text/plain": [
              "| 3         | 4        | 0.033060     | 0.794094          | 0.748113            |"
            ],
            "text/html": [
              "<pre>| 3         | 4        | 0.033060     | 0.794094          | 0.748113            |</pre>"
            ]
          },
          "metadata": {}
        },
        {
          "output_type": "display_data",
          "data": {
            "text/plain": [
              "| 4         | 5        | 0.041021     | 0.794094          | 0.748113            |"
            ],
            "text/html": [
              "<pre>| 4         | 5        | 0.041021     | 0.794094          | 0.748113            |</pre>"
            ]
          },
          "metadata": {}
        },
        {
          "output_type": "display_data",
          "data": {
            "text/plain": [
              "| 5         | 6        | 0.049830     | 0.794094          | 0.748113            |"
            ],
            "text/html": [
              "<pre>| 5         | 6        | 0.049830     | 0.794094          | 0.748113            |</pre>"
            ]
          },
          "metadata": {}
        },
        {
          "output_type": "display_data",
          "data": {
            "text/plain": [
              "| 9         | 10       | 0.085451     | 0.794094          | 0.748113            |"
            ],
            "text/html": [
              "<pre>| 9         | 10       | 0.085451     | 0.794094          | 0.748113            |</pre>"
            ]
          },
          "metadata": {}
        },
        {
          "output_type": "display_data",
          "data": {
            "text/plain": [
              "+-----------+----------+--------------+-------------------+---------------------+"
            ],
            "text/html": [
              "<pre>+-----------+----------+--------------+-------------------+---------------------+</pre>"
            ]
          },
          "metadata": {}
        },
        {
          "output_type": "display_data",
          "data": {
            "text/plain": [
              "SUCCESS: Optimal solution found."
            ],
            "text/html": [
              "<pre>SUCCESS: Optimal solution found.</pre>"
            ]
          },
          "metadata": {}
        },
        {
          "output_type": "display_data",
          "data": {
            "text/plain": [
              ""
            ],
            "text/html": [
              "<pre></pre>"
            ]
          },
          "metadata": {}
        },
        {
          "output_type": "stream",
          "name": "stdout",
          "text": [
            "PROGRESS: Model selection based on validation accuracy:\n",
            "PROGRESS: ---------------------------------------------\n",
            "PROGRESS: BoostedTreesClassifier          : 0.6632075471698113\n",
            "PROGRESS: RandomForestClassifier          : 0.6254716981132076\n",
            "PROGRESS: DecisionTreeClassifier          : 0.5943396226415094\n",
            "PROGRESS: SVMClassifier                   : 0.7613207547169811\n",
            "PROGRESS: LogisticClassifier              : 0.7481132075471698\n",
            "PROGRESS: ---------------------------------------------\n",
            "PROGRESS: Selecting SVMClassifier based on validation set performance.\n"
          ]
        }
      ],
      "source": [
        "\n",
        "train_set,valid_set = sf.remove_column('rank').random_split(0.7)\n",
        "\n",
        "model = tc.classifier.create(train_set, validation_set=valid_set, target='class')\n"
      ],
      "metadata": {
        "pycharm": {
          "name": "#%%\n"
        },
        "id": "Xi6l_QcsU4g8",
        "outputId": "548acac7-e5d3-40f2-fafc-037e7638c727",
        "colab": {
          "base_uri": "https://localhost:8080/",
          "height": 1000
        }
      }
    },
    {
      "cell_type": "code",
      "execution_count": null,
      "outputs": [
        {
          "output_type": "stream",
          "name": "stdout",
          "text": [
            "Collecting karateclub\n",
            "  Downloading karateclub-1.2.3.tar.gz (62 kB)\n",
            "\u001b[K     |████████████████████████████████| 62 kB 531 kB/s \n",
            "\u001b[?25hRequirement already satisfied: numpy in /usr/local/lib/python3.7/dist-packages (from karateclub) (1.18.5)\n",
            "Requirement already satisfied: networkx in /usr/local/lib/python3.7/dist-packages (from karateclub) (2.6.3)\n",
            "Requirement already satisfied: decorator==4.4.2 in /usr/local/lib/python3.7/dist-packages (from karateclub) (4.4.2)\n",
            "Requirement already satisfied: tqdm in /usr/local/lib/python3.7/dist-packages (from karateclub) (4.63.0)\n",
            "Requirement already satisfied: python-louvain in /usr/local/lib/python3.7/dist-packages (from karateclub) (0.16)\n",
            "Requirement already satisfied: scikit-learn in /usr/local/lib/python3.7/dist-packages (from karateclub) (1.0.2)\n",
            "Requirement already satisfied: scipy in /usr/local/lib/python3.7/dist-packages (from karateclub) (1.4.1)\n",
            "Collecting pygsp\n",
            "  Downloading PyGSP-0.5.1-py2.py3-none-any.whl (1.8 MB)\n",
            "\u001b[K     |████████████████████████████████| 1.8 MB 22.5 MB/s \n",
            "\u001b[?25hCollecting gensim>=4.0.0\n",
            "  Downloading gensim-4.1.2-cp37-cp37m-manylinux_2_12_x86_64.manylinux2010_x86_64.whl (24.1 MB)\n",
            "\u001b[K     |████████████████████████████████| 24.1 MB 1.2 MB/s \n",
            "\u001b[?25hRequirement already satisfied: pandas<=1.3.5 in /usr/local/lib/python3.7/dist-packages (from karateclub) (1.3.5)\n",
            "Requirement already satisfied: six in /usr/local/lib/python3.7/dist-packages (from karateclub) (1.15.0)\n",
            "Collecting python-Levenshtein\n",
            "  Downloading python-Levenshtein-0.12.2.tar.gz (50 kB)\n",
            "\u001b[K     |████████████████████████████████| 50 kB 5.4 MB/s \n",
            "\u001b[?25hRequirement already satisfied: smart-open>=1.8.1 in /usr/local/lib/python3.7/dist-packages (from gensim>=4.0.0->karateclub) (5.2.1)\n",
            "Requirement already satisfied: python-dateutil>=2.7.3 in /usr/local/lib/python3.7/dist-packages (from pandas<=1.3.5->karateclub) (2.8.2)\n",
            "Requirement already satisfied: pytz>=2017.3 in /usr/local/lib/python3.7/dist-packages (from pandas<=1.3.5->karateclub) (2018.9)\n",
            "Requirement already satisfied: setuptools in /usr/local/lib/python3.7/dist-packages (from python-Levenshtein->karateclub) (57.4.0)\n",
            "Requirement already satisfied: joblib>=0.11 in /usr/local/lib/python3.7/dist-packages (from scikit-learn->karateclub) (1.1.0)\n",
            "Requirement already satisfied: threadpoolctl>=2.0.0 in /usr/local/lib/python3.7/dist-packages (from scikit-learn->karateclub) (3.1.0)\n",
            "Building wheels for collected packages: karateclub, python-Levenshtein\n",
            "  Building wheel for karateclub (setup.py) ... \u001b[?25l\u001b[?25hdone\n",
            "  Created wheel for karateclub: filename=karateclub-1.2.3-py3-none-any.whl size=97754 sha256=f73aea2a373a69b3a2aea92bbe61bb876c69b8a6c1c2253593eff5c7779065e4\n",
            "  Stored in directory: /root/.cache/pip/wheels/7a/09/80/0d50455fd4e297e88f8f38a711c6f4849e6bd1a330000dde3d\n",
            "  Building wheel for python-Levenshtein (setup.py) ... \u001b[?25l\u001b[?25hdone\n",
            "  Created wheel for python-Levenshtein: filename=python_Levenshtein-0.12.2-cp37-cp37m-linux_x86_64.whl size=149859 sha256=e52675c3a28d810d45ae049b647d6ceff3e7112ba10822c036b329cc20de8cfc\n",
            "  Stored in directory: /root/.cache/pip/wheels/05/5f/ca/7c4367734892581bb5ff896f15027a932c551080b2abd3e00d\n",
            "Successfully built karateclub python-Levenshtein\n",
            "Installing collected packages: python-Levenshtein, pygsp, gensim, karateclub\n",
            "  Attempting uninstall: gensim\n",
            "    Found existing installation: gensim 3.6.0\n",
            "    Uninstalling gensim-3.6.0:\n",
            "      Successfully uninstalled gensim-3.6.0\n",
            "Successfully installed gensim-4.1.2 karateclub-1.2.3 pygsp-0.5.1 python-Levenshtein-0.12.2\n"
          ]
        }
      ],
      "source": [
        "!pip install karateclub\n"
      ],
      "metadata": {
        "pycharm": {
          "name": "#%%\n"
        },
        "id": "DnMZUBp2U4g-",
        "outputId": "311813bd-57a2-429a-998e-f9dfa939de79",
        "colab": {
          "base_uri": "https://localhost:8080/"
        }
      }
    },
    {
      "cell_type": "code",
      "source": [
        "l =  zip(g.nodes(), range(len(g.nodes())))\n",
        "l = list(l)\n",
        "l[:10]\n",
        "nodes_dict = dict(l)\n",
        "r_node_dict = {v:k for k,v in nodes_dict.items()}\n",
        "list(r_node_dict.items())[:10]\n",
        "h = nx.DiGraph()\n",
        "for e1,e2 in g.edges():\n",
        "  h.add_edge(nodes_dict[e1], nodes_dict[e2])\n",
        "print(nx.info(g))\n",
        "print(nx.info(h))"
      ],
      "metadata": {
        "id": "AbjwEvILWqJK",
        "outputId": "68927a7a-d008-446e-9693-0cd203fc736d",
        "colab": {
          "base_uri": "https://localhost:8080/"
        }
      },
      "execution_count": null,
      "outputs": [
        {
          "output_type": "stream",
          "name": "stdout",
          "text": [
            "DiGraph with 65 nodes and 1139 edges\n",
            "DiGraph with 65 nodes and 1139 edges\n"
          ]
        }
      ]
    },
    {
      "cell_type": "code",
      "execution_count": null,
      "outputs": [
        {
          "output_type": "execute_result",
          "data": {
            "text/plain": [
              "array([[ 0.04342456, -0.35779825, -0.02488151, ...,  0.13921341,\n",
              "        -0.00553207, -0.08360373],\n",
              "       [ 0.05939575, -0.42100945, -0.02117867, ...,  0.17904215,\n",
              "        -0.00107634, -0.08703545],\n",
              "       [ 0.0726785 , -0.32127833, -0.08016414, ...,  0.09420169,\n",
              "        -0.03104287, -0.03222221],\n",
              "       ...,\n",
              "       [ 0.08099975,  0.21005458, -0.08827299, ..., -0.16905013,\n",
              "         0.06432527,  0.26549736],\n",
              "       [ 0.07256632,  0.12786517, -0.07281025, ..., -0.10636756,\n",
              "         0.04811159,  0.21275268],\n",
              "       [ 0.09208704,  0.17691678, -0.08069841, ..., -0.15049672,\n",
              "         0.04752911,  0.2410348 ]], dtype=float32)"
            ]
          },
          "metadata": {},
          "execution_count": 7
        }
      ],
      "source": [
        "import karateclub\n",
        "\n",
        "model = karateclub.DeepWalk()\n",
        "\n",
        "model.fit(h)\n",
        "embedding = model.get_embedding()\n",
        "embedding"
      ],
      "metadata": {
        "pycharm": {
          "name": "#%%\n"
        },
        "id": "l0jnUqA3U4hA",
        "outputId": "66c543b6-9fb5-48b2-f109-efb0fa69cc27",
        "colab": {
          "base_uri": "https://localhost:8080/"
        }
      }
    },
    {
      "cell_type": "code",
      "source": [
        "def enter_embedding(row):\n",
        "  return list(embedding[nodes_dict[row['in_v']]]) +list(embedding[nodes_dict[row['out_v']]])\n",
        "  \n",
        "sf['embedding'] = sf.apply(enter_embedding)\n",
        "\n",
        "  \n",
        "sf"
      ],
      "metadata": {
        "colab": {
          "base_uri": "https://localhost:8080/",
          "height": 576
        },
        "id": "gR2ZeEFa-6T_",
        "outputId": "01a1a471-70db-420f-de6f-57bb61465afd"
      },
      "execution_count": null,
      "outputs": [
        {
          "output_type": "execute_result",
          "data": {
            "text/plain": [
              "Columns:\n",
              "\tin_v\tstr\n",
              "\tout_v\tstr\n",
              "\trank\tint\n",
              "\tclass\tint\n",
              "\tembedding\tarray\n",
              "\n",
              "Rows: 3600\n",
              "\n",
              "Data:\n",
              "+------+-------+------+-------+-------------------------------+\n",
              "| in_v | out_v | rank | class |           embedding           |\n",
              "+------+-------+------+-------+-------------------------------+\n",
              "|  n0  |  n40  |  5   |   0   | [0.04342455789446831, -0.3... |\n",
              "|  n0  |  n22  |  0   |   0   | [0.04342455789446831, -0.3... |\n",
              "|  n0  |  n60  |  0   |   0   | [0.04342455789446831, -0.3... |\n",
              "|  n0  |   n6  |  4   |   0   | [0.04342455789446831, -0.3... |\n",
              "|  n0  |  n14  |  7   |   1   | [0.04342455789446831, -0.3... |\n",
              "|  n0  |  n41  |  2   |   0   | [0.04342455789446831, -0.3... |\n",
              "|  n0  |  n50  |  3   |   0   | [0.04342455789446831, -0.3... |\n",
              "|  n0  |  n51  |  3   |   0   | [0.04342455789446831, -0.3... |\n",
              "|  n0  |  n52  |  3   |   0   | [0.04342455789446831, -0.3... |\n",
              "|  n0  |  n15  |  3   |   0   | [0.04342455789446831, -0.3... |\n",
              "+------+-------+------+-------+-------------------------------+\n",
              "[3600 rows x 5 columns]\n",
              "Note: Only the head of the SFrame is printed.\n",
              "You can use print_rows(num_rows=m, num_columns=n) to print more rows and columns."
            ],
            "text/html": [
              "<div style=\"max-height:1000px;max-width:1500px;overflow:auto;\"><table frame=\"box\" rules=\"cols\">\n",
              "    <tr>\n",
              "        <th style=\"padding-left: 1em; padding-right: 1em; text-align: center\">in_v</th>\n",
              "        <th style=\"padding-left: 1em; padding-right: 1em; text-align: center\">out_v</th>\n",
              "        <th style=\"padding-left: 1em; padding-right: 1em; text-align: center\">rank</th>\n",
              "        <th style=\"padding-left: 1em; padding-right: 1em; text-align: center\">class</th>\n",
              "        <th style=\"padding-left: 1em; padding-right: 1em; text-align: center\">embedding</th>\n",
              "    </tr>\n",
              "    <tr>\n",
              "        <td style=\"padding-left: 1em; padding-right: 1em; text-align: center; vertical-align: top\">n0</td>\n",
              "        <td style=\"padding-left: 1em; padding-right: 1em; text-align: center; vertical-align: top\">n40</td>\n",
              "        <td style=\"padding-left: 1em; padding-right: 1em; text-align: center; vertical-align: top\">5</td>\n",
              "        <td style=\"padding-left: 1em; padding-right: 1em; text-align: center; vertical-align: top\">0</td>\n",
              "        <td style=\"padding-left: 1em; padding-right: 1em; text-align: center; vertical-align: top\">[0.04342455789446831,<br>-0.3577982485294342, ...</td>\n",
              "    </tr>\n",
              "    <tr>\n",
              "        <td style=\"padding-left: 1em; padding-right: 1em; text-align: center; vertical-align: top\">n0</td>\n",
              "        <td style=\"padding-left: 1em; padding-right: 1em; text-align: center; vertical-align: top\">n22</td>\n",
              "        <td style=\"padding-left: 1em; padding-right: 1em; text-align: center; vertical-align: top\">0</td>\n",
              "        <td style=\"padding-left: 1em; padding-right: 1em; text-align: center; vertical-align: top\">0</td>\n",
              "        <td style=\"padding-left: 1em; padding-right: 1em; text-align: center; vertical-align: top\">[0.04342455789446831,<br>-0.3577982485294342, ...</td>\n",
              "    </tr>\n",
              "    <tr>\n",
              "        <td style=\"padding-left: 1em; padding-right: 1em; text-align: center; vertical-align: top\">n0</td>\n",
              "        <td style=\"padding-left: 1em; padding-right: 1em; text-align: center; vertical-align: top\">n60</td>\n",
              "        <td style=\"padding-left: 1em; padding-right: 1em; text-align: center; vertical-align: top\">0</td>\n",
              "        <td style=\"padding-left: 1em; padding-right: 1em; text-align: center; vertical-align: top\">0</td>\n",
              "        <td style=\"padding-left: 1em; padding-right: 1em; text-align: center; vertical-align: top\">[0.04342455789446831,<br>-0.3577982485294342, ...</td>\n",
              "    </tr>\n",
              "    <tr>\n",
              "        <td style=\"padding-left: 1em; padding-right: 1em; text-align: center; vertical-align: top\">n0</td>\n",
              "        <td style=\"padding-left: 1em; padding-right: 1em; text-align: center; vertical-align: top\">n6</td>\n",
              "        <td style=\"padding-left: 1em; padding-right: 1em; text-align: center; vertical-align: top\">4</td>\n",
              "        <td style=\"padding-left: 1em; padding-right: 1em; text-align: center; vertical-align: top\">0</td>\n",
              "        <td style=\"padding-left: 1em; padding-right: 1em; text-align: center; vertical-align: top\">[0.04342455789446831,<br>-0.3577982485294342, ...</td>\n",
              "    </tr>\n",
              "    <tr>\n",
              "        <td style=\"padding-left: 1em; padding-right: 1em; text-align: center; vertical-align: top\">n0</td>\n",
              "        <td style=\"padding-left: 1em; padding-right: 1em; text-align: center; vertical-align: top\">n14</td>\n",
              "        <td style=\"padding-left: 1em; padding-right: 1em; text-align: center; vertical-align: top\">7</td>\n",
              "        <td style=\"padding-left: 1em; padding-right: 1em; text-align: center; vertical-align: top\">1</td>\n",
              "        <td style=\"padding-left: 1em; padding-right: 1em; text-align: center; vertical-align: top\">[0.04342455789446831,<br>-0.3577982485294342, ...</td>\n",
              "    </tr>\n",
              "    <tr>\n",
              "        <td style=\"padding-left: 1em; padding-right: 1em; text-align: center; vertical-align: top\">n0</td>\n",
              "        <td style=\"padding-left: 1em; padding-right: 1em; text-align: center; vertical-align: top\">n41</td>\n",
              "        <td style=\"padding-left: 1em; padding-right: 1em; text-align: center; vertical-align: top\">2</td>\n",
              "        <td style=\"padding-left: 1em; padding-right: 1em; text-align: center; vertical-align: top\">0</td>\n",
              "        <td style=\"padding-left: 1em; padding-right: 1em; text-align: center; vertical-align: top\">[0.04342455789446831,<br>-0.3577982485294342, ...</td>\n",
              "    </tr>\n",
              "    <tr>\n",
              "        <td style=\"padding-left: 1em; padding-right: 1em; text-align: center; vertical-align: top\">n0</td>\n",
              "        <td style=\"padding-left: 1em; padding-right: 1em; text-align: center; vertical-align: top\">n50</td>\n",
              "        <td style=\"padding-left: 1em; padding-right: 1em; text-align: center; vertical-align: top\">3</td>\n",
              "        <td style=\"padding-left: 1em; padding-right: 1em; text-align: center; vertical-align: top\">0</td>\n",
              "        <td style=\"padding-left: 1em; padding-right: 1em; text-align: center; vertical-align: top\">[0.04342455789446831,<br>-0.3577982485294342, ...</td>\n",
              "    </tr>\n",
              "    <tr>\n",
              "        <td style=\"padding-left: 1em; padding-right: 1em; text-align: center; vertical-align: top\">n0</td>\n",
              "        <td style=\"padding-left: 1em; padding-right: 1em; text-align: center; vertical-align: top\">n51</td>\n",
              "        <td style=\"padding-left: 1em; padding-right: 1em; text-align: center; vertical-align: top\">3</td>\n",
              "        <td style=\"padding-left: 1em; padding-right: 1em; text-align: center; vertical-align: top\">0</td>\n",
              "        <td style=\"padding-left: 1em; padding-right: 1em; text-align: center; vertical-align: top\">[0.04342455789446831,<br>-0.3577982485294342, ...</td>\n",
              "    </tr>\n",
              "    <tr>\n",
              "        <td style=\"padding-left: 1em; padding-right: 1em; text-align: center; vertical-align: top\">n0</td>\n",
              "        <td style=\"padding-left: 1em; padding-right: 1em; text-align: center; vertical-align: top\">n52</td>\n",
              "        <td style=\"padding-left: 1em; padding-right: 1em; text-align: center; vertical-align: top\">3</td>\n",
              "        <td style=\"padding-left: 1em; padding-right: 1em; text-align: center; vertical-align: top\">0</td>\n",
              "        <td style=\"padding-left: 1em; padding-right: 1em; text-align: center; vertical-align: top\">[0.04342455789446831,<br>-0.3577982485294342, ...</td>\n",
              "    </tr>\n",
              "    <tr>\n",
              "        <td style=\"padding-left: 1em; padding-right: 1em; text-align: center; vertical-align: top\">n0</td>\n",
              "        <td style=\"padding-left: 1em; padding-right: 1em; text-align: center; vertical-align: top\">n15</td>\n",
              "        <td style=\"padding-left: 1em; padding-right: 1em; text-align: center; vertical-align: top\">3</td>\n",
              "        <td style=\"padding-left: 1em; padding-right: 1em; text-align: center; vertical-align: top\">0</td>\n",
              "        <td style=\"padding-left: 1em; padding-right: 1em; text-align: center; vertical-align: top\">[0.04342455789446831,<br>-0.3577982485294342, ...</td>\n",
              "    </tr>\n",
              "</table>\n",
              "[3600 rows x 5 columns]<br/>Note: Only the head of the SFrame is printed.<br/>You can use print_rows(num_rows=m, num_columns=n) to print more rows and columns.\n",
              "</div>"
            ]
          },
          "metadata": {},
          "execution_count": 17
        }
      ]
    },
    {
      "cell_type": "code",
      "source": [
        "sf = sf.unpack('embedding')\n",
        "sf"
      ],
      "metadata": {
        "colab": {
          "base_uri": "https://localhost:8080/",
          "height": 1000
        },
        "id": "OU7u1bHBDkbo",
        "outputId": "ef34a7c8-b5f9-4300-ee94-3e42113fbccc"
      },
      "execution_count": null,
      "outputs": [
        {
          "output_type": "execute_result",
          "data": {
            "text/plain": [
              "Columns:\n",
              "\tin_v\tstr\n",
              "\tout_v\tstr\n",
              "\trank\tint\n",
              "\tclass\tint\n",
              "\tembedding.0\tfloat\n",
              "\tembedding.1\tfloat\n",
              "\tembedding.2\tfloat\n",
              "\tembedding.3\tfloat\n",
              "\tembedding.4\tfloat\n",
              "\tembedding.5\tfloat\n",
              "\tembedding.6\tfloat\n",
              "\tembedding.7\tfloat\n",
              "\tembedding.8\tfloat\n",
              "\tembedding.9\tfloat\n",
              "\tembedding.10\tfloat\n",
              "\tembedding.11\tfloat\n",
              "\tembedding.12\tfloat\n",
              "\tembedding.13\tfloat\n",
              "\tembedding.14\tfloat\n",
              "\tembedding.15\tfloat\n",
              "\tembedding.16\tfloat\n",
              "\tembedding.17\tfloat\n",
              "\tembedding.18\tfloat\n",
              "\tembedding.19\tfloat\n",
              "\tembedding.20\tfloat\n",
              "\tembedding.21\tfloat\n",
              "\tembedding.22\tfloat\n",
              "\tembedding.23\tfloat\n",
              "\tembedding.24\tfloat\n",
              "\tembedding.25\tfloat\n",
              "\tembedding.26\tfloat\n",
              "\tembedding.27\tfloat\n",
              "\tembedding.28\tfloat\n",
              "\tembedding.29\tfloat\n",
              "\tembedding.30\tfloat\n",
              "\tembedding.31\tfloat\n",
              "\tembedding.32\tfloat\n",
              "\tembedding.33\tfloat\n",
              "\tembedding.34\tfloat\n",
              "\tembedding.35\tfloat\n",
              "\tembedding.36\tfloat\n",
              "\tembedding.37\tfloat\n",
              "\tembedding.38\tfloat\n",
              "\tembedding.39\tfloat\n",
              "\tembedding.40\tfloat\n",
              "\tembedding.41\tfloat\n",
              "\tembedding.42\tfloat\n",
              "\tembedding.43\tfloat\n",
              "\tembedding.44\tfloat\n",
              "\tembedding.45\tfloat\n",
              "\tembedding.46\tfloat\n",
              "\tembedding.47\tfloat\n",
              "\tembedding.48\tfloat\n",
              "\tembedding.49\tfloat\n",
              "\tembedding.50\tfloat\n",
              "\tembedding.51\tfloat\n",
              "\tembedding.52\tfloat\n",
              "\tembedding.53\tfloat\n",
              "\tembedding.54\tfloat\n",
              "\tembedding.55\tfloat\n",
              "\tembedding.56\tfloat\n",
              "\tembedding.57\tfloat\n",
              "\tembedding.58\tfloat\n",
              "\tembedding.59\tfloat\n",
              "\tembedding.60\tfloat\n",
              "\tembedding.61\tfloat\n",
              "\tembedding.62\tfloat\n",
              "\tembedding.63\tfloat\n",
              "\tembedding.64\tfloat\n",
              "\tembedding.65\tfloat\n",
              "\tembedding.66\tfloat\n",
              "\tembedding.67\tfloat\n",
              "\tembedding.68\tfloat\n",
              "\tembedding.69\tfloat\n",
              "\tembedding.70\tfloat\n",
              "\tembedding.71\tfloat\n",
              "\tembedding.72\tfloat\n",
              "\tembedding.73\tfloat\n",
              "\tembedding.74\tfloat\n",
              "\tembedding.75\tfloat\n",
              "\tembedding.76\tfloat\n",
              "\tembedding.77\tfloat\n",
              "\tembedding.78\tfloat\n",
              "\tembedding.79\tfloat\n",
              "\tembedding.80\tfloat\n",
              "\tembedding.81\tfloat\n",
              "\tembedding.82\tfloat\n",
              "\tembedding.83\tfloat\n",
              "\tembedding.84\tfloat\n",
              "\tembedding.85\tfloat\n",
              "\tembedding.86\tfloat\n",
              "\tembedding.87\tfloat\n",
              "\tembedding.88\tfloat\n",
              "\tembedding.89\tfloat\n",
              "\tembedding.90\tfloat\n",
              "\tembedding.91\tfloat\n",
              "\tembedding.92\tfloat\n",
              "\tembedding.93\tfloat\n",
              "\tembedding.94\tfloat\n",
              "\tembedding.95\tfloat\n",
              "\tembedding.96\tfloat\n",
              "\tembedding.97\tfloat\n",
              "\tembedding.98\tfloat\n",
              "\tembedding.99\tfloat\n",
              "\tembedding.100\tfloat\n",
              "\tembedding.101\tfloat\n",
              "\tembedding.102\tfloat\n",
              "\tembedding.103\tfloat\n",
              "\tembedding.104\tfloat\n",
              "\tembedding.105\tfloat\n",
              "\tembedding.106\tfloat\n",
              "\tembedding.107\tfloat\n",
              "\tembedding.108\tfloat\n",
              "\tembedding.109\tfloat\n",
              "\tembedding.110\tfloat\n",
              "\tembedding.111\tfloat\n",
              "\tembedding.112\tfloat\n",
              "\tembedding.113\tfloat\n",
              "\tembedding.114\tfloat\n",
              "\tembedding.115\tfloat\n",
              "\tembedding.116\tfloat\n",
              "\tembedding.117\tfloat\n",
              "\tembedding.118\tfloat\n",
              "\tembedding.119\tfloat\n",
              "\tembedding.120\tfloat\n",
              "\tembedding.121\tfloat\n",
              "\tembedding.122\tfloat\n",
              "\tembedding.123\tfloat\n",
              "\tembedding.124\tfloat\n",
              "\tembedding.125\tfloat\n",
              "\tembedding.126\tfloat\n",
              "\tembedding.127\tfloat\n",
              "\tembedding.128\tfloat\n",
              "\tembedding.129\tfloat\n",
              "\tembedding.130\tfloat\n",
              "\tembedding.131\tfloat\n",
              "\tembedding.132\tfloat\n",
              "\tembedding.133\tfloat\n",
              "\tembedding.134\tfloat\n",
              "\tembedding.135\tfloat\n",
              "\tembedding.136\tfloat\n",
              "\tembedding.137\tfloat\n",
              "\tembedding.138\tfloat\n",
              "\tembedding.139\tfloat\n",
              "\tembedding.140\tfloat\n",
              "\tembedding.141\tfloat\n",
              "\tembedding.142\tfloat\n",
              "\tembedding.143\tfloat\n",
              "\tembedding.144\tfloat\n",
              "\tembedding.145\tfloat\n",
              "\tembedding.146\tfloat\n",
              "\tembedding.147\tfloat\n",
              "\tembedding.148\tfloat\n",
              "\tembedding.149\tfloat\n",
              "\tembedding.150\tfloat\n",
              "\tembedding.151\tfloat\n",
              "\tembedding.152\tfloat\n",
              "\tembedding.153\tfloat\n",
              "\tembedding.154\tfloat\n",
              "\tembedding.155\tfloat\n",
              "\tembedding.156\tfloat\n",
              "\tembedding.157\tfloat\n",
              "\tembedding.158\tfloat\n",
              "\tembedding.159\tfloat\n",
              "\tembedding.160\tfloat\n",
              "\tembedding.161\tfloat\n",
              "\tembedding.162\tfloat\n",
              "\tembedding.163\tfloat\n",
              "\tembedding.164\tfloat\n",
              "\tembedding.165\tfloat\n",
              "\tembedding.166\tfloat\n",
              "\tembedding.167\tfloat\n",
              "\tembedding.168\tfloat\n",
              "\tembedding.169\tfloat\n",
              "\tembedding.170\tfloat\n",
              "\tembedding.171\tfloat\n",
              "\tembedding.172\tfloat\n",
              "\tembedding.173\tfloat\n",
              "\tembedding.174\tfloat\n",
              "\tembedding.175\tfloat\n",
              "\tembedding.176\tfloat\n",
              "\tembedding.177\tfloat\n",
              "\tembedding.178\tfloat\n",
              "\tembedding.179\tfloat\n",
              "\tembedding.180\tfloat\n",
              "\tembedding.181\tfloat\n",
              "\tembedding.182\tfloat\n",
              "\tembedding.183\tfloat\n",
              "\tembedding.184\tfloat\n",
              "\tembedding.185\tfloat\n",
              "\tembedding.186\tfloat\n",
              "\tembedding.187\tfloat\n",
              "\tembedding.188\tfloat\n",
              "\tembedding.189\tfloat\n",
              "\tembedding.190\tfloat\n",
              "\tembedding.191\tfloat\n",
              "\tembedding.192\tfloat\n",
              "\tembedding.193\tfloat\n",
              "\tembedding.194\tfloat\n",
              "\tembedding.195\tfloat\n",
              "\tembedding.196\tfloat\n",
              "\tembedding.197\tfloat\n",
              "\tembedding.198\tfloat\n",
              "\tembedding.199\tfloat\n",
              "\tembedding.200\tfloat\n",
              "\tembedding.201\tfloat\n",
              "\tembedding.202\tfloat\n",
              "\tembedding.203\tfloat\n",
              "\tembedding.204\tfloat\n",
              "\tembedding.205\tfloat\n",
              "\tembedding.206\tfloat\n",
              "\tembedding.207\tfloat\n",
              "\tembedding.208\tfloat\n",
              "\tembedding.209\tfloat\n",
              "\tembedding.210\tfloat\n",
              "\tembedding.211\tfloat\n",
              "\tembedding.212\tfloat\n",
              "\tembedding.213\tfloat\n",
              "\tembedding.214\tfloat\n",
              "\tembedding.215\tfloat\n",
              "\tembedding.216\tfloat\n",
              "\tembedding.217\tfloat\n",
              "\tembedding.218\tfloat\n",
              "\tembedding.219\tfloat\n",
              "\tembedding.220\tfloat\n",
              "\tembedding.221\tfloat\n",
              "\tembedding.222\tfloat\n",
              "\tembedding.223\tfloat\n",
              "\tembedding.224\tfloat\n",
              "\tembedding.225\tfloat\n",
              "\tembedding.226\tfloat\n",
              "\tembedding.227\tfloat\n",
              "\tembedding.228\tfloat\n",
              "\tembedding.229\tfloat\n",
              "\tembedding.230\tfloat\n",
              "\tembedding.231\tfloat\n",
              "\tembedding.232\tfloat\n",
              "\tembedding.233\tfloat\n",
              "\tembedding.234\tfloat\n",
              "\tembedding.235\tfloat\n",
              "\tembedding.236\tfloat\n",
              "\tembedding.237\tfloat\n",
              "\tembedding.238\tfloat\n",
              "\tembedding.239\tfloat\n",
              "\tembedding.240\tfloat\n",
              "\tembedding.241\tfloat\n",
              "\tembedding.242\tfloat\n",
              "\tembedding.243\tfloat\n",
              "\tembedding.244\tfloat\n",
              "\tembedding.245\tfloat\n",
              "\tembedding.246\tfloat\n",
              "\tembedding.247\tfloat\n",
              "\tembedding.248\tfloat\n",
              "\tembedding.249\tfloat\n",
              "\tembedding.250\tfloat\n",
              "\tembedding.251\tfloat\n",
              "\tembedding.252\tfloat\n",
              "\tembedding.253\tfloat\n",
              "\tembedding.254\tfloat\n",
              "\tembedding.255\tfloat\n",
              "\n",
              "Rows: 3600\n",
              "\n",
              "Data:\n",
              "+------+-------+------+-------+---------------------+---------------------+\n",
              "| in_v | out_v | rank | class |     embedding.0     |     embedding.1     |\n",
              "+------+-------+------+-------+---------------------+---------------------+\n",
              "|  n0  |  n40  |  5   |   0   | 0.04342455789446831 | -0.3577982485294342 |\n",
              "|  n0  |  n22  |  0   |   0   | 0.04342455789446831 | -0.3577982485294342 |\n",
              "|  n0  |  n60  |  0   |   0   | 0.04342455789446831 | -0.3577982485294342 |\n",
              "|  n0  |   n6  |  4   |   0   | 0.04342455789446831 | -0.3577982485294342 |\n",
              "|  n0  |  n14  |  7   |   1   | 0.04342455789446831 | -0.3577982485294342 |\n",
              "|  n0  |  n41  |  2   |   0   | 0.04342455789446831 | -0.3577982485294342 |\n",
              "|  n0  |  n50  |  3   |   0   | 0.04342455789446831 | -0.3577982485294342 |\n",
              "|  n0  |  n51  |  3   |   0   | 0.04342455789446831 | -0.3577982485294342 |\n",
              "|  n0  |  n52  |  3   |   0   | 0.04342455789446831 | -0.3577982485294342 |\n",
              "|  n0  |  n15  |  3   |   0   | 0.04342455789446831 | -0.3577982485294342 |\n",
              "+------+-------+------+-------+---------------------+---------------------+\n",
              "+--------------------+---------------------+---------------------+\n",
              "|    embedding.2     |     embedding.3     |     embedding.4     |\n",
              "+--------------------+---------------------+---------------------+\n",
              "| -0.024881511926651 | 0.19348105788230896 | -0.1692042201757431 |\n",
              "| -0.024881511926651 | 0.19348105788230896 | -0.1692042201757431 |\n",
              "| -0.024881511926651 | 0.19348105788230896 | -0.1692042201757431 |\n",
              "| -0.024881511926651 | 0.19348105788230896 | -0.1692042201757431 |\n",
              "| -0.024881511926651 | 0.19348105788230896 | -0.1692042201757431 |\n",
              "| -0.024881511926651 | 0.19348105788230896 | -0.1692042201757431 |\n",
              "| -0.024881511926651 | 0.19348105788230896 | -0.1692042201757431 |\n",
              "| -0.024881511926651 | 0.19348105788230896 | -0.1692042201757431 |\n",
              "| -0.024881511926651 | 0.19348105788230896 | -0.1692042201757431 |\n",
              "| -0.024881511926651 | 0.19348105788230896 | -0.1692042201757431 |\n",
              "+--------------------+---------------------+---------------------+\n",
              "+---------------------+----------------------+----------------------+\n",
              "|     embedding.5     |     embedding.6      |     embedding.7      |\n",
              "+---------------------+----------------------+----------------------+\n",
              "| 0.06639043986797333 | -0.13767309486865997 | -0.03639746457338333 |\n",
              "| 0.06639043986797333 | -0.13767309486865997 | -0.03639746457338333 |\n",
              "| 0.06639043986797333 | -0.13767309486865997 | -0.03639746457338333 |\n",
              "| 0.06639043986797333 | -0.13767309486865997 | -0.03639746457338333 |\n",
              "| 0.06639043986797333 | -0.13767309486865997 | -0.03639746457338333 |\n",
              "| 0.06639043986797333 | -0.13767309486865997 | -0.03639746457338333 |\n",
              "| 0.06639043986797333 | -0.13767309486865997 | -0.03639746457338333 |\n",
              "| 0.06639043986797333 | -0.13767309486865997 | -0.03639746457338333 |\n",
              "| 0.06639043986797333 | -0.13767309486865997 | -0.03639746457338333 |\n",
              "| 0.06639043986797333 | -0.13767309486865997 | -0.03639746457338333 |\n",
              "+---------------------+----------------------+----------------------+\n",
              "+---------------------+---------------------+----------------------+\n",
              "|     embedding.8     |     embedding.9     |     embedding.10     |\n",
              "+---------------------+---------------------+----------------------+\n",
              "| -0.5105703473091125 | 0.27729615569114685 | -0.02775050699710846 |\n",
              "| -0.5105703473091125 | 0.27729615569114685 | -0.02775050699710846 |\n",
              "| -0.5105703473091125 | 0.27729615569114685 | -0.02775050699710846 |\n",
              "| -0.5105703473091125 | 0.27729615569114685 | -0.02775050699710846 |\n",
              "| -0.5105703473091125 | 0.27729615569114685 | -0.02775050699710846 |\n",
              "| -0.5105703473091125 | 0.27729615569114685 | -0.02775050699710846 |\n",
              "| -0.5105703473091125 | 0.27729615569114685 | -0.02775050699710846 |\n",
              "| -0.5105703473091125 | 0.27729615569114685 | -0.02775050699710846 |\n",
              "| -0.5105703473091125 | 0.27729615569114685 | -0.02775050699710846 |\n",
              "| -0.5105703473091125 | 0.27729615569114685 | -0.02775050699710846 |\n",
              "+---------------------+---------------------+----------------------+\n",
              "+---------------------+---------------------+----------------------+\n",
              "|     embedding.11    |     embedding.12    |     embedding.13     |\n",
              "+---------------------+---------------------+----------------------+\n",
              "| 0.23222021758556366 | 0.11150173097848892 | -0.35423019528388977 |\n",
              "| 0.23222021758556366 | 0.11150173097848892 | -0.35423019528388977 |\n",
              "| 0.23222021758556366 | 0.11150173097848892 | -0.35423019528388977 |\n",
              "| 0.23222021758556366 | 0.11150173097848892 | -0.35423019528388977 |\n",
              "| 0.23222021758556366 | 0.11150173097848892 | -0.35423019528388977 |\n",
              "| 0.23222021758556366 | 0.11150173097848892 | -0.35423019528388977 |\n",
              "| 0.23222021758556366 | 0.11150173097848892 | -0.35423019528388977 |\n",
              "| 0.23222021758556366 | 0.11150173097848892 | -0.35423019528388977 |\n",
              "| 0.23222021758556366 | 0.11150173097848892 | -0.35423019528388977 |\n",
              "| 0.23222021758556366 | 0.11150173097848892 | -0.35423019528388977 |\n",
              "+---------------------+---------------------+----------------------+\n",
              "+--------------------+--------------------+-----+\n",
              "|    embedding.14    |    embedding.15    | ... |\n",
              "+--------------------+--------------------+-----+\n",
              "| -0.636806309223175 | 0.0778755247592926 | ... |\n",
              "| -0.636806309223175 | 0.0778755247592926 | ... |\n",
              "| -0.636806309223175 | 0.0778755247592926 | ... |\n",
              "| -0.636806309223175 | 0.0778755247592926 | ... |\n",
              "| -0.636806309223175 | 0.0778755247592926 | ... |\n",
              "| -0.636806309223175 | 0.0778755247592926 | ... |\n",
              "| -0.636806309223175 | 0.0778755247592926 | ... |\n",
              "| -0.636806309223175 | 0.0778755247592926 | ... |\n",
              "| -0.636806309223175 | 0.0778755247592926 | ... |\n",
              "| -0.636806309223175 | 0.0778755247592926 | ... |\n",
              "+--------------------+--------------------+-----+\n",
              "[3600 rows x 260 columns]\n",
              "Note: Only the head of the SFrame is printed.\n",
              "You can use print_rows(num_rows=m, num_columns=n) to print more rows and columns."
            ],
            "text/html": [
              "<div style=\"max-height:1000px;max-width:1500px;overflow:auto;\"><table frame=\"box\" rules=\"cols\">\n",
              "    <tr>\n",
              "        <th style=\"padding-left: 1em; padding-right: 1em; text-align: center\">in_v</th>\n",
              "        <th style=\"padding-left: 1em; padding-right: 1em; text-align: center\">out_v</th>\n",
              "        <th style=\"padding-left: 1em; padding-right: 1em; text-align: center\">rank</th>\n",
              "        <th style=\"padding-left: 1em; padding-right: 1em; text-align: center\">class</th>\n",
              "        <th style=\"padding-left: 1em; padding-right: 1em; text-align: center\">embedding.0</th>\n",
              "        <th style=\"padding-left: 1em; padding-right: 1em; text-align: center\">embedding.1</th>\n",
              "        <th style=\"padding-left: 1em; padding-right: 1em; text-align: center\">embedding.2</th>\n",
              "        <th style=\"padding-left: 1em; padding-right: 1em; text-align: center\">embedding.3</th>\n",
              "    </tr>\n",
              "    <tr>\n",
              "        <td style=\"padding-left: 1em; padding-right: 1em; text-align: center; vertical-align: top\">n0</td>\n",
              "        <td style=\"padding-left: 1em; padding-right: 1em; text-align: center; vertical-align: top\">n40</td>\n",
              "        <td style=\"padding-left: 1em; padding-right: 1em; text-align: center; vertical-align: top\">5</td>\n",
              "        <td style=\"padding-left: 1em; padding-right: 1em; text-align: center; vertical-align: top\">0</td>\n",
              "        <td style=\"padding-left: 1em; padding-right: 1em; text-align: center; vertical-align: top\">0.04342455789446831</td>\n",
              "        <td style=\"padding-left: 1em; padding-right: 1em; text-align: center; vertical-align: top\">-0.3577982485294342</td>\n",
              "        <td style=\"padding-left: 1em; padding-right: 1em; text-align: center; vertical-align: top\">-0.024881511926651</td>\n",
              "        <td style=\"padding-left: 1em; padding-right: 1em; text-align: center; vertical-align: top\">0.19348105788230896</td>\n",
              "    </tr>\n",
              "    <tr>\n",
              "        <td style=\"padding-left: 1em; padding-right: 1em; text-align: center; vertical-align: top\">n0</td>\n",
              "        <td style=\"padding-left: 1em; padding-right: 1em; text-align: center; vertical-align: top\">n22</td>\n",
              "        <td style=\"padding-left: 1em; padding-right: 1em; text-align: center; vertical-align: top\">0</td>\n",
              "        <td style=\"padding-left: 1em; padding-right: 1em; text-align: center; vertical-align: top\">0</td>\n",
              "        <td style=\"padding-left: 1em; padding-right: 1em; text-align: center; vertical-align: top\">0.04342455789446831</td>\n",
              "        <td style=\"padding-left: 1em; padding-right: 1em; text-align: center; vertical-align: top\">-0.3577982485294342</td>\n",
              "        <td style=\"padding-left: 1em; padding-right: 1em; text-align: center; vertical-align: top\">-0.024881511926651</td>\n",
              "        <td style=\"padding-left: 1em; padding-right: 1em; text-align: center; vertical-align: top\">0.19348105788230896</td>\n",
              "    </tr>\n",
              "    <tr>\n",
              "        <td style=\"padding-left: 1em; padding-right: 1em; text-align: center; vertical-align: top\">n0</td>\n",
              "        <td style=\"padding-left: 1em; padding-right: 1em; text-align: center; vertical-align: top\">n60</td>\n",
              "        <td style=\"padding-left: 1em; padding-right: 1em; text-align: center; vertical-align: top\">0</td>\n",
              "        <td style=\"padding-left: 1em; padding-right: 1em; text-align: center; vertical-align: top\">0</td>\n",
              "        <td style=\"padding-left: 1em; padding-right: 1em; text-align: center; vertical-align: top\">0.04342455789446831</td>\n",
              "        <td style=\"padding-left: 1em; padding-right: 1em; text-align: center; vertical-align: top\">-0.3577982485294342</td>\n",
              "        <td style=\"padding-left: 1em; padding-right: 1em; text-align: center; vertical-align: top\">-0.024881511926651</td>\n",
              "        <td style=\"padding-left: 1em; padding-right: 1em; text-align: center; vertical-align: top\">0.19348105788230896</td>\n",
              "    </tr>\n",
              "    <tr>\n",
              "        <td style=\"padding-left: 1em; padding-right: 1em; text-align: center; vertical-align: top\">n0</td>\n",
              "        <td style=\"padding-left: 1em; padding-right: 1em; text-align: center; vertical-align: top\">n6</td>\n",
              "        <td style=\"padding-left: 1em; padding-right: 1em; text-align: center; vertical-align: top\">4</td>\n",
              "        <td style=\"padding-left: 1em; padding-right: 1em; text-align: center; vertical-align: top\">0</td>\n",
              "        <td style=\"padding-left: 1em; padding-right: 1em; text-align: center; vertical-align: top\">0.04342455789446831</td>\n",
              "        <td style=\"padding-left: 1em; padding-right: 1em; text-align: center; vertical-align: top\">-0.3577982485294342</td>\n",
              "        <td style=\"padding-left: 1em; padding-right: 1em; text-align: center; vertical-align: top\">-0.024881511926651</td>\n",
              "        <td style=\"padding-left: 1em; padding-right: 1em; text-align: center; vertical-align: top\">0.19348105788230896</td>\n",
              "    </tr>\n",
              "    <tr>\n",
              "        <td style=\"padding-left: 1em; padding-right: 1em; text-align: center; vertical-align: top\">n0</td>\n",
              "        <td style=\"padding-left: 1em; padding-right: 1em; text-align: center; vertical-align: top\">n14</td>\n",
              "        <td style=\"padding-left: 1em; padding-right: 1em; text-align: center; vertical-align: top\">7</td>\n",
              "        <td style=\"padding-left: 1em; padding-right: 1em; text-align: center; vertical-align: top\">1</td>\n",
              "        <td style=\"padding-left: 1em; padding-right: 1em; text-align: center; vertical-align: top\">0.04342455789446831</td>\n",
              "        <td style=\"padding-left: 1em; padding-right: 1em; text-align: center; vertical-align: top\">-0.3577982485294342</td>\n",
              "        <td style=\"padding-left: 1em; padding-right: 1em; text-align: center; vertical-align: top\">-0.024881511926651</td>\n",
              "        <td style=\"padding-left: 1em; padding-right: 1em; text-align: center; vertical-align: top\">0.19348105788230896</td>\n",
              "    </tr>\n",
              "    <tr>\n",
              "        <td style=\"padding-left: 1em; padding-right: 1em; text-align: center; vertical-align: top\">n0</td>\n",
              "        <td style=\"padding-left: 1em; padding-right: 1em; text-align: center; vertical-align: top\">n41</td>\n",
              "        <td style=\"padding-left: 1em; padding-right: 1em; text-align: center; vertical-align: top\">2</td>\n",
              "        <td style=\"padding-left: 1em; padding-right: 1em; text-align: center; vertical-align: top\">0</td>\n",
              "        <td style=\"padding-left: 1em; padding-right: 1em; text-align: center; vertical-align: top\">0.04342455789446831</td>\n",
              "        <td style=\"padding-left: 1em; padding-right: 1em; text-align: center; vertical-align: top\">-0.3577982485294342</td>\n",
              "        <td style=\"padding-left: 1em; padding-right: 1em; text-align: center; vertical-align: top\">-0.024881511926651</td>\n",
              "        <td style=\"padding-left: 1em; padding-right: 1em; text-align: center; vertical-align: top\">0.19348105788230896</td>\n",
              "    </tr>\n",
              "    <tr>\n",
              "        <td style=\"padding-left: 1em; padding-right: 1em; text-align: center; vertical-align: top\">n0</td>\n",
              "        <td style=\"padding-left: 1em; padding-right: 1em; text-align: center; vertical-align: top\">n50</td>\n",
              "        <td style=\"padding-left: 1em; padding-right: 1em; text-align: center; vertical-align: top\">3</td>\n",
              "        <td style=\"padding-left: 1em; padding-right: 1em; text-align: center; vertical-align: top\">0</td>\n",
              "        <td style=\"padding-left: 1em; padding-right: 1em; text-align: center; vertical-align: top\">0.04342455789446831</td>\n",
              "        <td style=\"padding-left: 1em; padding-right: 1em; text-align: center; vertical-align: top\">-0.3577982485294342</td>\n",
              "        <td style=\"padding-left: 1em; padding-right: 1em; text-align: center; vertical-align: top\">-0.024881511926651</td>\n",
              "        <td style=\"padding-left: 1em; padding-right: 1em; text-align: center; vertical-align: top\">0.19348105788230896</td>\n",
              "    </tr>\n",
              "    <tr>\n",
              "        <td style=\"padding-left: 1em; padding-right: 1em; text-align: center; vertical-align: top\">n0</td>\n",
              "        <td style=\"padding-left: 1em; padding-right: 1em; text-align: center; vertical-align: top\">n51</td>\n",
              "        <td style=\"padding-left: 1em; padding-right: 1em; text-align: center; vertical-align: top\">3</td>\n",
              "        <td style=\"padding-left: 1em; padding-right: 1em; text-align: center; vertical-align: top\">0</td>\n",
              "        <td style=\"padding-left: 1em; padding-right: 1em; text-align: center; vertical-align: top\">0.04342455789446831</td>\n",
              "        <td style=\"padding-left: 1em; padding-right: 1em; text-align: center; vertical-align: top\">-0.3577982485294342</td>\n",
              "        <td style=\"padding-left: 1em; padding-right: 1em; text-align: center; vertical-align: top\">-0.024881511926651</td>\n",
              "        <td style=\"padding-left: 1em; padding-right: 1em; text-align: center; vertical-align: top\">0.19348105788230896</td>\n",
              "    </tr>\n",
              "    <tr>\n",
              "        <td style=\"padding-left: 1em; padding-right: 1em; text-align: center; vertical-align: top\">n0</td>\n",
              "        <td style=\"padding-left: 1em; padding-right: 1em; text-align: center; vertical-align: top\">n52</td>\n",
              "        <td style=\"padding-left: 1em; padding-right: 1em; text-align: center; vertical-align: top\">3</td>\n",
              "        <td style=\"padding-left: 1em; padding-right: 1em; text-align: center; vertical-align: top\">0</td>\n",
              "        <td style=\"padding-left: 1em; padding-right: 1em; text-align: center; vertical-align: top\">0.04342455789446831</td>\n",
              "        <td style=\"padding-left: 1em; padding-right: 1em; text-align: center; vertical-align: top\">-0.3577982485294342</td>\n",
              "        <td style=\"padding-left: 1em; padding-right: 1em; text-align: center; vertical-align: top\">-0.024881511926651</td>\n",
              "        <td style=\"padding-left: 1em; padding-right: 1em; text-align: center; vertical-align: top\">0.19348105788230896</td>\n",
              "    </tr>\n",
              "    <tr>\n",
              "        <td style=\"padding-left: 1em; padding-right: 1em; text-align: center; vertical-align: top\">n0</td>\n",
              "        <td style=\"padding-left: 1em; padding-right: 1em; text-align: center; vertical-align: top\">n15</td>\n",
              "        <td style=\"padding-left: 1em; padding-right: 1em; text-align: center; vertical-align: top\">3</td>\n",
              "        <td style=\"padding-left: 1em; padding-right: 1em; text-align: center; vertical-align: top\">0</td>\n",
              "        <td style=\"padding-left: 1em; padding-right: 1em; text-align: center; vertical-align: top\">0.04342455789446831</td>\n",
              "        <td style=\"padding-left: 1em; padding-right: 1em; text-align: center; vertical-align: top\">-0.3577982485294342</td>\n",
              "        <td style=\"padding-left: 1em; padding-right: 1em; text-align: center; vertical-align: top\">-0.024881511926651</td>\n",
              "        <td style=\"padding-left: 1em; padding-right: 1em; text-align: center; vertical-align: top\">0.19348105788230896</td>\n",
              "    </tr>\n",
              "</table>\n",
              "<table frame=\"box\" rules=\"cols\">\n",
              "    <tr>\n",
              "        <th style=\"padding-left: 1em; padding-right: 1em; text-align: center\">embedding.4</th>\n",
              "        <th style=\"padding-left: 1em; padding-right: 1em; text-align: center\">embedding.5</th>\n",
              "        <th style=\"padding-left: 1em; padding-right: 1em; text-align: center\">embedding.6</th>\n",
              "        <th style=\"padding-left: 1em; padding-right: 1em; text-align: center\">embedding.7</th>\n",
              "        <th style=\"padding-left: 1em; padding-right: 1em; text-align: center\">embedding.8</th>\n",
              "    </tr>\n",
              "    <tr>\n",
              "        <td style=\"padding-left: 1em; padding-right: 1em; text-align: center; vertical-align: top\">-0.1692042201757431</td>\n",
              "        <td style=\"padding-left: 1em; padding-right: 1em; text-align: center; vertical-align: top\">0.06639043986797333</td>\n",
              "        <td style=\"padding-left: 1em; padding-right: 1em; text-align: center; vertical-align: top\">-0.13767309486865997</td>\n",
              "        <td style=\"padding-left: 1em; padding-right: 1em; text-align: center; vertical-align: top\">-0.03639746457338333</td>\n",
              "        <td style=\"padding-left: 1em; padding-right: 1em; text-align: center; vertical-align: top\">-0.5105703473091125</td>\n",
              "    </tr>\n",
              "    <tr>\n",
              "        <td style=\"padding-left: 1em; padding-right: 1em; text-align: center; vertical-align: top\">-0.1692042201757431</td>\n",
              "        <td style=\"padding-left: 1em; padding-right: 1em; text-align: center; vertical-align: top\">0.06639043986797333</td>\n",
              "        <td style=\"padding-left: 1em; padding-right: 1em; text-align: center; vertical-align: top\">-0.13767309486865997</td>\n",
              "        <td style=\"padding-left: 1em; padding-right: 1em; text-align: center; vertical-align: top\">-0.03639746457338333</td>\n",
              "        <td style=\"padding-left: 1em; padding-right: 1em; text-align: center; vertical-align: top\">-0.5105703473091125</td>\n",
              "    </tr>\n",
              "    <tr>\n",
              "        <td style=\"padding-left: 1em; padding-right: 1em; text-align: center; vertical-align: top\">-0.1692042201757431</td>\n",
              "        <td style=\"padding-left: 1em; padding-right: 1em; text-align: center; vertical-align: top\">0.06639043986797333</td>\n",
              "        <td style=\"padding-left: 1em; padding-right: 1em; text-align: center; vertical-align: top\">-0.13767309486865997</td>\n",
              "        <td style=\"padding-left: 1em; padding-right: 1em; text-align: center; vertical-align: top\">-0.03639746457338333</td>\n",
              "        <td style=\"padding-left: 1em; padding-right: 1em; text-align: center; vertical-align: top\">-0.5105703473091125</td>\n",
              "    </tr>\n",
              "    <tr>\n",
              "        <td style=\"padding-left: 1em; padding-right: 1em; text-align: center; vertical-align: top\">-0.1692042201757431</td>\n",
              "        <td style=\"padding-left: 1em; padding-right: 1em; text-align: center; vertical-align: top\">0.06639043986797333</td>\n",
              "        <td style=\"padding-left: 1em; padding-right: 1em; text-align: center; vertical-align: top\">-0.13767309486865997</td>\n",
              "        <td style=\"padding-left: 1em; padding-right: 1em; text-align: center; vertical-align: top\">-0.03639746457338333</td>\n",
              "        <td style=\"padding-left: 1em; padding-right: 1em; text-align: center; vertical-align: top\">-0.5105703473091125</td>\n",
              "    </tr>\n",
              "    <tr>\n",
              "        <td style=\"padding-left: 1em; padding-right: 1em; text-align: center; vertical-align: top\">-0.1692042201757431</td>\n",
              "        <td style=\"padding-left: 1em; padding-right: 1em; text-align: center; vertical-align: top\">0.06639043986797333</td>\n",
              "        <td style=\"padding-left: 1em; padding-right: 1em; text-align: center; vertical-align: top\">-0.13767309486865997</td>\n",
              "        <td style=\"padding-left: 1em; padding-right: 1em; text-align: center; vertical-align: top\">-0.03639746457338333</td>\n",
              "        <td style=\"padding-left: 1em; padding-right: 1em; text-align: center; vertical-align: top\">-0.5105703473091125</td>\n",
              "    </tr>\n",
              "    <tr>\n",
              "        <td style=\"padding-left: 1em; padding-right: 1em; text-align: center; vertical-align: top\">-0.1692042201757431</td>\n",
              "        <td style=\"padding-left: 1em; padding-right: 1em; text-align: center; vertical-align: top\">0.06639043986797333</td>\n",
              "        <td style=\"padding-left: 1em; padding-right: 1em; text-align: center; vertical-align: top\">-0.13767309486865997</td>\n",
              "        <td style=\"padding-left: 1em; padding-right: 1em; text-align: center; vertical-align: top\">-0.03639746457338333</td>\n",
              "        <td style=\"padding-left: 1em; padding-right: 1em; text-align: center; vertical-align: top\">-0.5105703473091125</td>\n",
              "    </tr>\n",
              "    <tr>\n",
              "        <td style=\"padding-left: 1em; padding-right: 1em; text-align: center; vertical-align: top\">-0.1692042201757431</td>\n",
              "        <td style=\"padding-left: 1em; padding-right: 1em; text-align: center; vertical-align: top\">0.06639043986797333</td>\n",
              "        <td style=\"padding-left: 1em; padding-right: 1em; text-align: center; vertical-align: top\">-0.13767309486865997</td>\n",
              "        <td style=\"padding-left: 1em; padding-right: 1em; text-align: center; vertical-align: top\">-0.03639746457338333</td>\n",
              "        <td style=\"padding-left: 1em; padding-right: 1em; text-align: center; vertical-align: top\">-0.5105703473091125</td>\n",
              "    </tr>\n",
              "    <tr>\n",
              "        <td style=\"padding-left: 1em; padding-right: 1em; text-align: center; vertical-align: top\">-0.1692042201757431</td>\n",
              "        <td style=\"padding-left: 1em; padding-right: 1em; text-align: center; vertical-align: top\">0.06639043986797333</td>\n",
              "        <td style=\"padding-left: 1em; padding-right: 1em; text-align: center; vertical-align: top\">-0.13767309486865997</td>\n",
              "        <td style=\"padding-left: 1em; padding-right: 1em; text-align: center; vertical-align: top\">-0.03639746457338333</td>\n",
              "        <td style=\"padding-left: 1em; padding-right: 1em; text-align: center; vertical-align: top\">-0.5105703473091125</td>\n",
              "    </tr>\n",
              "    <tr>\n",
              "        <td style=\"padding-left: 1em; padding-right: 1em; text-align: center; vertical-align: top\">-0.1692042201757431</td>\n",
              "        <td style=\"padding-left: 1em; padding-right: 1em; text-align: center; vertical-align: top\">0.06639043986797333</td>\n",
              "        <td style=\"padding-left: 1em; padding-right: 1em; text-align: center; vertical-align: top\">-0.13767309486865997</td>\n",
              "        <td style=\"padding-left: 1em; padding-right: 1em; text-align: center; vertical-align: top\">-0.03639746457338333</td>\n",
              "        <td style=\"padding-left: 1em; padding-right: 1em; text-align: center; vertical-align: top\">-0.5105703473091125</td>\n",
              "    </tr>\n",
              "    <tr>\n",
              "        <td style=\"padding-left: 1em; padding-right: 1em; text-align: center; vertical-align: top\">-0.1692042201757431</td>\n",
              "        <td style=\"padding-left: 1em; padding-right: 1em; text-align: center; vertical-align: top\">0.06639043986797333</td>\n",
              "        <td style=\"padding-left: 1em; padding-right: 1em; text-align: center; vertical-align: top\">-0.13767309486865997</td>\n",
              "        <td style=\"padding-left: 1em; padding-right: 1em; text-align: center; vertical-align: top\">-0.03639746457338333</td>\n",
              "        <td style=\"padding-left: 1em; padding-right: 1em; text-align: center; vertical-align: top\">-0.5105703473091125</td>\n",
              "    </tr>\n",
              "</table>\n",
              "<table frame=\"box\" rules=\"cols\">\n",
              "    <tr>\n",
              "        <th style=\"padding-left: 1em; padding-right: 1em; text-align: center\">embedding.9</th>\n",
              "        <th style=\"padding-left: 1em; padding-right: 1em; text-align: center\">embedding.10</th>\n",
              "        <th style=\"padding-left: 1em; padding-right: 1em; text-align: center\">embedding.11</th>\n",
              "        <th style=\"padding-left: 1em; padding-right: 1em; text-align: center\">embedding.12</th>\n",
              "        <th style=\"padding-left: 1em; padding-right: 1em; text-align: center\">embedding.13</th>\n",
              "    </tr>\n",
              "    <tr>\n",
              "        <td style=\"padding-left: 1em; padding-right: 1em; text-align: center; vertical-align: top\">0.27729615569114685</td>\n",
              "        <td style=\"padding-left: 1em; padding-right: 1em; text-align: center; vertical-align: top\">-0.02775050699710846</td>\n",
              "        <td style=\"padding-left: 1em; padding-right: 1em; text-align: center; vertical-align: top\">0.23222021758556366</td>\n",
              "        <td style=\"padding-left: 1em; padding-right: 1em; text-align: center; vertical-align: top\">0.11150173097848892</td>\n",
              "        <td style=\"padding-left: 1em; padding-right: 1em; text-align: center; vertical-align: top\">-0.35423019528388977</td>\n",
              "    </tr>\n",
              "    <tr>\n",
              "        <td style=\"padding-left: 1em; padding-right: 1em; text-align: center; vertical-align: top\">0.27729615569114685</td>\n",
              "        <td style=\"padding-left: 1em; padding-right: 1em; text-align: center; vertical-align: top\">-0.02775050699710846</td>\n",
              "        <td style=\"padding-left: 1em; padding-right: 1em; text-align: center; vertical-align: top\">0.23222021758556366</td>\n",
              "        <td style=\"padding-left: 1em; padding-right: 1em; text-align: center; vertical-align: top\">0.11150173097848892</td>\n",
              "        <td style=\"padding-left: 1em; padding-right: 1em; text-align: center; vertical-align: top\">-0.35423019528388977</td>\n",
              "    </tr>\n",
              "    <tr>\n",
              "        <td style=\"padding-left: 1em; padding-right: 1em; text-align: center; vertical-align: top\">0.27729615569114685</td>\n",
              "        <td style=\"padding-left: 1em; padding-right: 1em; text-align: center; vertical-align: top\">-0.02775050699710846</td>\n",
              "        <td style=\"padding-left: 1em; padding-right: 1em; text-align: center; vertical-align: top\">0.23222021758556366</td>\n",
              "        <td style=\"padding-left: 1em; padding-right: 1em; text-align: center; vertical-align: top\">0.11150173097848892</td>\n",
              "        <td style=\"padding-left: 1em; padding-right: 1em; text-align: center; vertical-align: top\">-0.35423019528388977</td>\n",
              "    </tr>\n",
              "    <tr>\n",
              "        <td style=\"padding-left: 1em; padding-right: 1em; text-align: center; vertical-align: top\">0.27729615569114685</td>\n",
              "        <td style=\"padding-left: 1em; padding-right: 1em; text-align: center; vertical-align: top\">-0.02775050699710846</td>\n",
              "        <td style=\"padding-left: 1em; padding-right: 1em; text-align: center; vertical-align: top\">0.23222021758556366</td>\n",
              "        <td style=\"padding-left: 1em; padding-right: 1em; text-align: center; vertical-align: top\">0.11150173097848892</td>\n",
              "        <td style=\"padding-left: 1em; padding-right: 1em; text-align: center; vertical-align: top\">-0.35423019528388977</td>\n",
              "    </tr>\n",
              "    <tr>\n",
              "        <td style=\"padding-left: 1em; padding-right: 1em; text-align: center; vertical-align: top\">0.27729615569114685</td>\n",
              "        <td style=\"padding-left: 1em; padding-right: 1em; text-align: center; vertical-align: top\">-0.02775050699710846</td>\n",
              "        <td style=\"padding-left: 1em; padding-right: 1em; text-align: center; vertical-align: top\">0.23222021758556366</td>\n",
              "        <td style=\"padding-left: 1em; padding-right: 1em; text-align: center; vertical-align: top\">0.11150173097848892</td>\n",
              "        <td style=\"padding-left: 1em; padding-right: 1em; text-align: center; vertical-align: top\">-0.35423019528388977</td>\n",
              "    </tr>\n",
              "    <tr>\n",
              "        <td style=\"padding-left: 1em; padding-right: 1em; text-align: center; vertical-align: top\">0.27729615569114685</td>\n",
              "        <td style=\"padding-left: 1em; padding-right: 1em; text-align: center; vertical-align: top\">-0.02775050699710846</td>\n",
              "        <td style=\"padding-left: 1em; padding-right: 1em; text-align: center; vertical-align: top\">0.23222021758556366</td>\n",
              "        <td style=\"padding-left: 1em; padding-right: 1em; text-align: center; vertical-align: top\">0.11150173097848892</td>\n",
              "        <td style=\"padding-left: 1em; padding-right: 1em; text-align: center; vertical-align: top\">-0.35423019528388977</td>\n",
              "    </tr>\n",
              "    <tr>\n",
              "        <td style=\"padding-left: 1em; padding-right: 1em; text-align: center; vertical-align: top\">0.27729615569114685</td>\n",
              "        <td style=\"padding-left: 1em; padding-right: 1em; text-align: center; vertical-align: top\">-0.02775050699710846</td>\n",
              "        <td style=\"padding-left: 1em; padding-right: 1em; text-align: center; vertical-align: top\">0.23222021758556366</td>\n",
              "        <td style=\"padding-left: 1em; padding-right: 1em; text-align: center; vertical-align: top\">0.11150173097848892</td>\n",
              "        <td style=\"padding-left: 1em; padding-right: 1em; text-align: center; vertical-align: top\">-0.35423019528388977</td>\n",
              "    </tr>\n",
              "    <tr>\n",
              "        <td style=\"padding-left: 1em; padding-right: 1em; text-align: center; vertical-align: top\">0.27729615569114685</td>\n",
              "        <td style=\"padding-left: 1em; padding-right: 1em; text-align: center; vertical-align: top\">-0.02775050699710846</td>\n",
              "        <td style=\"padding-left: 1em; padding-right: 1em; text-align: center; vertical-align: top\">0.23222021758556366</td>\n",
              "        <td style=\"padding-left: 1em; padding-right: 1em; text-align: center; vertical-align: top\">0.11150173097848892</td>\n",
              "        <td style=\"padding-left: 1em; padding-right: 1em; text-align: center; vertical-align: top\">-0.35423019528388977</td>\n",
              "    </tr>\n",
              "    <tr>\n",
              "        <td style=\"padding-left: 1em; padding-right: 1em; text-align: center; vertical-align: top\">0.27729615569114685</td>\n",
              "        <td style=\"padding-left: 1em; padding-right: 1em; text-align: center; vertical-align: top\">-0.02775050699710846</td>\n",
              "        <td style=\"padding-left: 1em; padding-right: 1em; text-align: center; vertical-align: top\">0.23222021758556366</td>\n",
              "        <td style=\"padding-left: 1em; padding-right: 1em; text-align: center; vertical-align: top\">0.11150173097848892</td>\n",
              "        <td style=\"padding-left: 1em; padding-right: 1em; text-align: center; vertical-align: top\">-0.35423019528388977</td>\n",
              "    </tr>\n",
              "    <tr>\n",
              "        <td style=\"padding-left: 1em; padding-right: 1em; text-align: center; vertical-align: top\">0.27729615569114685</td>\n",
              "        <td style=\"padding-left: 1em; padding-right: 1em; text-align: center; vertical-align: top\">-0.02775050699710846</td>\n",
              "        <td style=\"padding-left: 1em; padding-right: 1em; text-align: center; vertical-align: top\">0.23222021758556366</td>\n",
              "        <td style=\"padding-left: 1em; padding-right: 1em; text-align: center; vertical-align: top\">0.11150173097848892</td>\n",
              "        <td style=\"padding-left: 1em; padding-right: 1em; text-align: center; vertical-align: top\">-0.35423019528388977</td>\n",
              "    </tr>\n",
              "</table>\n",
              "<table frame=\"box\" rules=\"cols\">\n",
              "    <tr>\n",
              "        <th style=\"padding-left: 1em; padding-right: 1em; text-align: center\">embedding.14</th>\n",
              "        <th style=\"padding-left: 1em; padding-right: 1em; text-align: center\">embedding.15</th>\n",
              "        <th style=\"padding-left: 1em; padding-right: 1em; text-align: center\">embedding.16</th>\n",
              "        <th style=\"padding-left: 1em; padding-right: 1em; text-align: center\">embedding.17</th>\n",
              "        <th style=\"padding-left: 1em; padding-right: 1em; text-align: center\">embedding.18</th>\n",
              "    </tr>\n",
              "    <tr>\n",
              "        <td style=\"padding-left: 1em; padding-right: 1em; text-align: center; vertical-align: top\">-0.636806309223175</td>\n",
              "        <td style=\"padding-left: 1em; padding-right: 1em; text-align: center; vertical-align: top\">0.0778755247592926</td>\n",
              "        <td style=\"padding-left: 1em; padding-right: 1em; text-align: center; vertical-align: top\">0.12758566439151764</td>\n",
              "        <td style=\"padding-left: 1em; padding-right: 1em; text-align: center; vertical-align: top\">0.4105011522769928</td>\n",
              "        <td style=\"padding-left: 1em; padding-right: 1em; text-align: center; vertical-align: top\">-0.0434698760509491</td>\n",
              "    </tr>\n",
              "    <tr>\n",
              "        <td style=\"padding-left: 1em; padding-right: 1em; text-align: center; vertical-align: top\">-0.636806309223175</td>\n",
              "        <td style=\"padding-left: 1em; padding-right: 1em; text-align: center; vertical-align: top\">0.0778755247592926</td>\n",
              "        <td style=\"padding-left: 1em; padding-right: 1em; text-align: center; vertical-align: top\">0.12758566439151764</td>\n",
              "        <td style=\"padding-left: 1em; padding-right: 1em; text-align: center; vertical-align: top\">0.4105011522769928</td>\n",
              "        <td style=\"padding-left: 1em; padding-right: 1em; text-align: center; vertical-align: top\">-0.0434698760509491</td>\n",
              "    </tr>\n",
              "    <tr>\n",
              "        <td style=\"padding-left: 1em; padding-right: 1em; text-align: center; vertical-align: top\">-0.636806309223175</td>\n",
              "        <td style=\"padding-left: 1em; padding-right: 1em; text-align: center; vertical-align: top\">0.0778755247592926</td>\n",
              "        <td style=\"padding-left: 1em; padding-right: 1em; text-align: center; vertical-align: top\">0.12758566439151764</td>\n",
              "        <td style=\"padding-left: 1em; padding-right: 1em; text-align: center; vertical-align: top\">0.4105011522769928</td>\n",
              "        <td style=\"padding-left: 1em; padding-right: 1em; text-align: center; vertical-align: top\">-0.0434698760509491</td>\n",
              "    </tr>\n",
              "    <tr>\n",
              "        <td style=\"padding-left: 1em; padding-right: 1em; text-align: center; vertical-align: top\">-0.636806309223175</td>\n",
              "        <td style=\"padding-left: 1em; padding-right: 1em; text-align: center; vertical-align: top\">0.0778755247592926</td>\n",
              "        <td style=\"padding-left: 1em; padding-right: 1em; text-align: center; vertical-align: top\">0.12758566439151764</td>\n",
              "        <td style=\"padding-left: 1em; padding-right: 1em; text-align: center; vertical-align: top\">0.4105011522769928</td>\n",
              "        <td style=\"padding-left: 1em; padding-right: 1em; text-align: center; vertical-align: top\">-0.0434698760509491</td>\n",
              "    </tr>\n",
              "    <tr>\n",
              "        <td style=\"padding-left: 1em; padding-right: 1em; text-align: center; vertical-align: top\">-0.636806309223175</td>\n",
              "        <td style=\"padding-left: 1em; padding-right: 1em; text-align: center; vertical-align: top\">0.0778755247592926</td>\n",
              "        <td style=\"padding-left: 1em; padding-right: 1em; text-align: center; vertical-align: top\">0.12758566439151764</td>\n",
              "        <td style=\"padding-left: 1em; padding-right: 1em; text-align: center; vertical-align: top\">0.4105011522769928</td>\n",
              "        <td style=\"padding-left: 1em; padding-right: 1em; text-align: center; vertical-align: top\">-0.0434698760509491</td>\n",
              "    </tr>\n",
              "    <tr>\n",
              "        <td style=\"padding-left: 1em; padding-right: 1em; text-align: center; vertical-align: top\">-0.636806309223175</td>\n",
              "        <td style=\"padding-left: 1em; padding-right: 1em; text-align: center; vertical-align: top\">0.0778755247592926</td>\n",
              "        <td style=\"padding-left: 1em; padding-right: 1em; text-align: center; vertical-align: top\">0.12758566439151764</td>\n",
              "        <td style=\"padding-left: 1em; padding-right: 1em; text-align: center; vertical-align: top\">0.4105011522769928</td>\n",
              "        <td style=\"padding-left: 1em; padding-right: 1em; text-align: center; vertical-align: top\">-0.0434698760509491</td>\n",
              "    </tr>\n",
              "    <tr>\n",
              "        <td style=\"padding-left: 1em; padding-right: 1em; text-align: center; vertical-align: top\">-0.636806309223175</td>\n",
              "        <td style=\"padding-left: 1em; padding-right: 1em; text-align: center; vertical-align: top\">0.0778755247592926</td>\n",
              "        <td style=\"padding-left: 1em; padding-right: 1em; text-align: center; vertical-align: top\">0.12758566439151764</td>\n",
              "        <td style=\"padding-left: 1em; padding-right: 1em; text-align: center; vertical-align: top\">0.4105011522769928</td>\n",
              "        <td style=\"padding-left: 1em; padding-right: 1em; text-align: center; vertical-align: top\">-0.0434698760509491</td>\n",
              "    </tr>\n",
              "    <tr>\n",
              "        <td style=\"padding-left: 1em; padding-right: 1em; text-align: center; vertical-align: top\">-0.636806309223175</td>\n",
              "        <td style=\"padding-left: 1em; padding-right: 1em; text-align: center; vertical-align: top\">0.0778755247592926</td>\n",
              "        <td style=\"padding-left: 1em; padding-right: 1em; text-align: center; vertical-align: top\">0.12758566439151764</td>\n",
              "        <td style=\"padding-left: 1em; padding-right: 1em; text-align: center; vertical-align: top\">0.4105011522769928</td>\n",
              "        <td style=\"padding-left: 1em; padding-right: 1em; text-align: center; vertical-align: top\">-0.0434698760509491</td>\n",
              "    </tr>\n",
              "    <tr>\n",
              "        <td style=\"padding-left: 1em; padding-right: 1em; text-align: center; vertical-align: top\">-0.636806309223175</td>\n",
              "        <td style=\"padding-left: 1em; padding-right: 1em; text-align: center; vertical-align: top\">0.0778755247592926</td>\n",
              "        <td style=\"padding-left: 1em; padding-right: 1em; text-align: center; vertical-align: top\">0.12758566439151764</td>\n",
              "        <td style=\"padding-left: 1em; padding-right: 1em; text-align: center; vertical-align: top\">0.4105011522769928</td>\n",
              "        <td style=\"padding-left: 1em; padding-right: 1em; text-align: center; vertical-align: top\">-0.0434698760509491</td>\n",
              "    </tr>\n",
              "    <tr>\n",
              "        <td style=\"padding-left: 1em; padding-right: 1em; text-align: center; vertical-align: top\">-0.636806309223175</td>\n",
              "        <td style=\"padding-left: 1em; padding-right: 1em; text-align: center; vertical-align: top\">0.0778755247592926</td>\n",
              "        <td style=\"padding-left: 1em; padding-right: 1em; text-align: center; vertical-align: top\">0.12758566439151764</td>\n",
              "        <td style=\"padding-left: 1em; padding-right: 1em; text-align: center; vertical-align: top\">0.4105011522769928</td>\n",
              "        <td style=\"padding-left: 1em; padding-right: 1em; text-align: center; vertical-align: top\">-0.0434698760509491</td>\n",
              "    </tr>\n",
              "</table>\n",
              "<table frame=\"box\" rules=\"cols\">\n",
              "    <tr>\n",
              "        <th style=\"padding-left: 1em; padding-right: 1em; text-align: center\">embedding.19</th>\n",
              "        <th style=\"padding-left: 1em; padding-right: 1em; text-align: center\">embedding.20</th>\n",
              "        <th style=\"padding-left: 1em; padding-right: 1em; text-align: center\">embedding.21</th>\n",
              "        <th style=\"padding-left: 1em; padding-right: 1em; text-align: center\">embedding.22</th>\n",
              "        <th style=\"padding-left: 1em; padding-right: 1em; text-align: center\">embedding.23</th>\n",
              "    </tr>\n",
              "    <tr>\n",
              "        <td style=\"padding-left: 1em; padding-right: 1em; text-align: center; vertical-align: top\">0.10940682888031006</td>\n",
              "        <td style=\"padding-left: 1em; padding-right: 1em; text-align: center; vertical-align: top\">0.08311957865953445</td>\n",
              "        <td style=\"padding-left: 1em; padding-right: 1em; text-align: center; vertical-align: top\">-0.2128213495016098</td>\n",
              "        <td style=\"padding-left: 1em; padding-right: 1em; text-align: center; vertical-align: top\">-0.051974233239889145</td>\n",
              "        <td style=\"padding-left: 1em; padding-right: 1em; text-align: center; vertical-align: top\">-0.025508703663945198</td>\n",
              "    </tr>\n",
              "    <tr>\n",
              "        <td style=\"padding-left: 1em; padding-right: 1em; text-align: center; vertical-align: top\">0.10940682888031006</td>\n",
              "        <td style=\"padding-left: 1em; padding-right: 1em; text-align: center; vertical-align: top\">0.08311957865953445</td>\n",
              "        <td style=\"padding-left: 1em; padding-right: 1em; text-align: center; vertical-align: top\">-0.2128213495016098</td>\n",
              "        <td style=\"padding-left: 1em; padding-right: 1em; text-align: center; vertical-align: top\">-0.051974233239889145</td>\n",
              "        <td style=\"padding-left: 1em; padding-right: 1em; text-align: center; vertical-align: top\">-0.025508703663945198</td>\n",
              "    </tr>\n",
              "    <tr>\n",
              "        <td style=\"padding-left: 1em; padding-right: 1em; text-align: center; vertical-align: top\">0.10940682888031006</td>\n",
              "        <td style=\"padding-left: 1em; padding-right: 1em; text-align: center; vertical-align: top\">0.08311957865953445</td>\n",
              "        <td style=\"padding-left: 1em; padding-right: 1em; text-align: center; vertical-align: top\">-0.2128213495016098</td>\n",
              "        <td style=\"padding-left: 1em; padding-right: 1em; text-align: center; vertical-align: top\">-0.051974233239889145</td>\n",
              "        <td style=\"padding-left: 1em; padding-right: 1em; text-align: center; vertical-align: top\">-0.025508703663945198</td>\n",
              "    </tr>\n",
              "    <tr>\n",
              "        <td style=\"padding-left: 1em; padding-right: 1em; text-align: center; vertical-align: top\">0.10940682888031006</td>\n",
              "        <td style=\"padding-left: 1em; padding-right: 1em; text-align: center; vertical-align: top\">0.08311957865953445</td>\n",
              "        <td style=\"padding-left: 1em; padding-right: 1em; text-align: center; vertical-align: top\">-0.2128213495016098</td>\n",
              "        <td style=\"padding-left: 1em; padding-right: 1em; text-align: center; vertical-align: top\">-0.051974233239889145</td>\n",
              "        <td style=\"padding-left: 1em; padding-right: 1em; text-align: center; vertical-align: top\">-0.025508703663945198</td>\n",
              "    </tr>\n",
              "    <tr>\n",
              "        <td style=\"padding-left: 1em; padding-right: 1em; text-align: center; vertical-align: top\">0.10940682888031006</td>\n",
              "        <td style=\"padding-left: 1em; padding-right: 1em; text-align: center; vertical-align: top\">0.08311957865953445</td>\n",
              "        <td style=\"padding-left: 1em; padding-right: 1em; text-align: center; vertical-align: top\">-0.2128213495016098</td>\n",
              "        <td style=\"padding-left: 1em; padding-right: 1em; text-align: center; vertical-align: top\">-0.051974233239889145</td>\n",
              "        <td style=\"padding-left: 1em; padding-right: 1em; text-align: center; vertical-align: top\">-0.025508703663945198</td>\n",
              "    </tr>\n",
              "    <tr>\n",
              "        <td style=\"padding-left: 1em; padding-right: 1em; text-align: center; vertical-align: top\">0.10940682888031006</td>\n",
              "        <td style=\"padding-left: 1em; padding-right: 1em; text-align: center; vertical-align: top\">0.08311957865953445</td>\n",
              "        <td style=\"padding-left: 1em; padding-right: 1em; text-align: center; vertical-align: top\">-0.2128213495016098</td>\n",
              "        <td style=\"padding-left: 1em; padding-right: 1em; text-align: center; vertical-align: top\">-0.051974233239889145</td>\n",
              "        <td style=\"padding-left: 1em; padding-right: 1em; text-align: center; vertical-align: top\">-0.025508703663945198</td>\n",
              "    </tr>\n",
              "    <tr>\n",
              "        <td style=\"padding-left: 1em; padding-right: 1em; text-align: center; vertical-align: top\">0.10940682888031006</td>\n",
              "        <td style=\"padding-left: 1em; padding-right: 1em; text-align: center; vertical-align: top\">0.08311957865953445</td>\n",
              "        <td style=\"padding-left: 1em; padding-right: 1em; text-align: center; vertical-align: top\">-0.2128213495016098</td>\n",
              "        <td style=\"padding-left: 1em; padding-right: 1em; text-align: center; vertical-align: top\">-0.051974233239889145</td>\n",
              "        <td style=\"padding-left: 1em; padding-right: 1em; text-align: center; vertical-align: top\">-0.025508703663945198</td>\n",
              "    </tr>\n",
              "    <tr>\n",
              "        <td style=\"padding-left: 1em; padding-right: 1em; text-align: center; vertical-align: top\">0.10940682888031006</td>\n",
              "        <td style=\"padding-left: 1em; padding-right: 1em; text-align: center; vertical-align: top\">0.08311957865953445</td>\n",
              "        <td style=\"padding-left: 1em; padding-right: 1em; text-align: center; vertical-align: top\">-0.2128213495016098</td>\n",
              "        <td style=\"padding-left: 1em; padding-right: 1em; text-align: center; vertical-align: top\">-0.051974233239889145</td>\n",
              "        <td style=\"padding-left: 1em; padding-right: 1em; text-align: center; vertical-align: top\">-0.025508703663945198</td>\n",
              "    </tr>\n",
              "    <tr>\n",
              "        <td style=\"padding-left: 1em; padding-right: 1em; text-align: center; vertical-align: top\">0.10940682888031006</td>\n",
              "        <td style=\"padding-left: 1em; padding-right: 1em; text-align: center; vertical-align: top\">0.08311957865953445</td>\n",
              "        <td style=\"padding-left: 1em; padding-right: 1em; text-align: center; vertical-align: top\">-0.2128213495016098</td>\n",
              "        <td style=\"padding-left: 1em; padding-right: 1em; text-align: center; vertical-align: top\">-0.051974233239889145</td>\n",
              "        <td style=\"padding-left: 1em; padding-right: 1em; text-align: center; vertical-align: top\">-0.025508703663945198</td>\n",
              "    </tr>\n",
              "    <tr>\n",
              "        <td style=\"padding-left: 1em; padding-right: 1em; text-align: center; vertical-align: top\">0.10940682888031006</td>\n",
              "        <td style=\"padding-left: 1em; padding-right: 1em; text-align: center; vertical-align: top\">0.08311957865953445</td>\n",
              "        <td style=\"padding-left: 1em; padding-right: 1em; text-align: center; vertical-align: top\">-0.2128213495016098</td>\n",
              "        <td style=\"padding-left: 1em; padding-right: 1em; text-align: center; vertical-align: top\">-0.051974233239889145</td>\n",
              "        <td style=\"padding-left: 1em; padding-right: 1em; text-align: center; vertical-align: top\">-0.025508703663945198</td>\n",
              "    </tr>\n",
              "</table>\n",
              "<table frame=\"box\" rules=\"cols\">\n",
              "    <tr>\n",
              "        <th style=\"padding-left: 1em; padding-right: 1em; text-align: center\">embedding.24</th>\n",
              "        <th style=\"padding-left: 1em; padding-right: 1em; text-align: center\">embedding.25</th>\n",
              "        <th style=\"padding-left: 1em; padding-right: 1em; text-align: center\">embedding.26</th>\n",
              "        <th style=\"padding-left: 1em; padding-right: 1em; text-align: center\">embedding.27</th>\n",
              "        <th style=\"padding-left: 1em; padding-right: 1em; text-align: center\">embedding.28</th>\n",
              "    </tr>\n",
              "    <tr>\n",
              "        <td style=\"padding-left: 1em; padding-right: 1em; text-align: center; vertical-align: top\">0.15113011002540588</td>\n",
              "        <td style=\"padding-left: 1em; padding-right: 1em; text-align: center; vertical-align: top\">-0.15196441113948822</td>\n",
              "        <td style=\"padding-left: 1em; padding-right: 1em; text-align: center; vertical-align: top\">0.12624531984329224</td>\n",
              "        <td style=\"padding-left: 1em; padding-right: 1em; text-align: center; vertical-align: top\">-0.4343486428260803</td>\n",
              "        <td style=\"padding-left: 1em; padding-right: 1em; text-align: center; vertical-align: top\">-0.01970130205154419</td>\n",
              "    </tr>\n",
              "    <tr>\n",
              "        <td style=\"padding-left: 1em; padding-right: 1em; text-align: center; vertical-align: top\">0.15113011002540588</td>\n",
              "        <td style=\"padding-left: 1em; padding-right: 1em; text-align: center; vertical-align: top\">-0.15196441113948822</td>\n",
              "        <td style=\"padding-left: 1em; padding-right: 1em; text-align: center; vertical-align: top\">0.12624531984329224</td>\n",
              "        <td style=\"padding-left: 1em; padding-right: 1em; text-align: center; vertical-align: top\">-0.4343486428260803</td>\n",
              "        <td style=\"padding-left: 1em; padding-right: 1em; text-align: center; vertical-align: top\">-0.01970130205154419</td>\n",
              "    </tr>\n",
              "    <tr>\n",
              "        <td style=\"padding-left: 1em; padding-right: 1em; text-align: center; vertical-align: top\">0.15113011002540588</td>\n",
              "        <td style=\"padding-left: 1em; padding-right: 1em; text-align: center; vertical-align: top\">-0.15196441113948822</td>\n",
              "        <td style=\"padding-left: 1em; padding-right: 1em; text-align: center; vertical-align: top\">0.12624531984329224</td>\n",
              "        <td style=\"padding-left: 1em; padding-right: 1em; text-align: center; vertical-align: top\">-0.4343486428260803</td>\n",
              "        <td style=\"padding-left: 1em; padding-right: 1em; text-align: center; vertical-align: top\">-0.01970130205154419</td>\n",
              "    </tr>\n",
              "    <tr>\n",
              "        <td style=\"padding-left: 1em; padding-right: 1em; text-align: center; vertical-align: top\">0.15113011002540588</td>\n",
              "        <td style=\"padding-left: 1em; padding-right: 1em; text-align: center; vertical-align: top\">-0.15196441113948822</td>\n",
              "        <td style=\"padding-left: 1em; padding-right: 1em; text-align: center; vertical-align: top\">0.12624531984329224</td>\n",
              "        <td style=\"padding-left: 1em; padding-right: 1em; text-align: center; vertical-align: top\">-0.4343486428260803</td>\n",
              "        <td style=\"padding-left: 1em; padding-right: 1em; text-align: center; vertical-align: top\">-0.01970130205154419</td>\n",
              "    </tr>\n",
              "    <tr>\n",
              "        <td style=\"padding-left: 1em; padding-right: 1em; text-align: center; vertical-align: top\">0.15113011002540588</td>\n",
              "        <td style=\"padding-left: 1em; padding-right: 1em; text-align: center; vertical-align: top\">-0.15196441113948822</td>\n",
              "        <td style=\"padding-left: 1em; padding-right: 1em; text-align: center; vertical-align: top\">0.12624531984329224</td>\n",
              "        <td style=\"padding-left: 1em; padding-right: 1em; text-align: center; vertical-align: top\">-0.4343486428260803</td>\n",
              "        <td style=\"padding-left: 1em; padding-right: 1em; text-align: center; vertical-align: top\">-0.01970130205154419</td>\n",
              "    </tr>\n",
              "    <tr>\n",
              "        <td style=\"padding-left: 1em; padding-right: 1em; text-align: center; vertical-align: top\">0.15113011002540588</td>\n",
              "        <td style=\"padding-left: 1em; padding-right: 1em; text-align: center; vertical-align: top\">-0.15196441113948822</td>\n",
              "        <td style=\"padding-left: 1em; padding-right: 1em; text-align: center; vertical-align: top\">0.12624531984329224</td>\n",
              "        <td style=\"padding-left: 1em; padding-right: 1em; text-align: center; vertical-align: top\">-0.4343486428260803</td>\n",
              "        <td style=\"padding-left: 1em; padding-right: 1em; text-align: center; vertical-align: top\">-0.01970130205154419</td>\n",
              "    </tr>\n",
              "    <tr>\n",
              "        <td style=\"padding-left: 1em; padding-right: 1em; text-align: center; vertical-align: top\">0.15113011002540588</td>\n",
              "        <td style=\"padding-left: 1em; padding-right: 1em; text-align: center; vertical-align: top\">-0.15196441113948822</td>\n",
              "        <td style=\"padding-left: 1em; padding-right: 1em; text-align: center; vertical-align: top\">0.12624531984329224</td>\n",
              "        <td style=\"padding-left: 1em; padding-right: 1em; text-align: center; vertical-align: top\">-0.4343486428260803</td>\n",
              "        <td style=\"padding-left: 1em; padding-right: 1em; text-align: center; vertical-align: top\">-0.01970130205154419</td>\n",
              "    </tr>\n",
              "    <tr>\n",
              "        <td style=\"padding-left: 1em; padding-right: 1em; text-align: center; vertical-align: top\">0.15113011002540588</td>\n",
              "        <td style=\"padding-left: 1em; padding-right: 1em; text-align: center; vertical-align: top\">-0.15196441113948822</td>\n",
              "        <td style=\"padding-left: 1em; padding-right: 1em; text-align: center; vertical-align: top\">0.12624531984329224</td>\n",
              "        <td style=\"padding-left: 1em; padding-right: 1em; text-align: center; vertical-align: top\">-0.4343486428260803</td>\n",
              "        <td style=\"padding-left: 1em; padding-right: 1em; text-align: center; vertical-align: top\">-0.01970130205154419</td>\n",
              "    </tr>\n",
              "    <tr>\n",
              "        <td style=\"padding-left: 1em; padding-right: 1em; text-align: center; vertical-align: top\">0.15113011002540588</td>\n",
              "        <td style=\"padding-left: 1em; padding-right: 1em; text-align: center; vertical-align: top\">-0.15196441113948822</td>\n",
              "        <td style=\"padding-left: 1em; padding-right: 1em; text-align: center; vertical-align: top\">0.12624531984329224</td>\n",
              "        <td style=\"padding-left: 1em; padding-right: 1em; text-align: center; vertical-align: top\">-0.4343486428260803</td>\n",
              "        <td style=\"padding-left: 1em; padding-right: 1em; text-align: center; vertical-align: top\">-0.01970130205154419</td>\n",
              "    </tr>\n",
              "    <tr>\n",
              "        <td style=\"padding-left: 1em; padding-right: 1em; text-align: center; vertical-align: top\">0.15113011002540588</td>\n",
              "        <td style=\"padding-left: 1em; padding-right: 1em; text-align: center; vertical-align: top\">-0.15196441113948822</td>\n",
              "        <td style=\"padding-left: 1em; padding-right: 1em; text-align: center; vertical-align: top\">0.12624531984329224</td>\n",
              "        <td style=\"padding-left: 1em; padding-right: 1em; text-align: center; vertical-align: top\">-0.4343486428260803</td>\n",
              "        <td style=\"padding-left: 1em; padding-right: 1em; text-align: center; vertical-align: top\">-0.01970130205154419</td>\n",
              "    </tr>\n",
              "</table>\n",
              "<table frame=\"box\" rules=\"cols\">\n",
              "    <tr>\n",
              "        <th style=\"padding-left: 1em; padding-right: 1em; text-align: center\">embedding.29</th>\n",
              "        <th style=\"padding-left: 1em; padding-right: 1em; text-align: center\">embedding.30</th>\n",
              "        <th style=\"padding-left: 1em; padding-right: 1em; text-align: center\">embedding.31</th>\n",
              "        <th style=\"padding-left: 1em; padding-right: 1em; text-align: center\">embedding.32</th>\n",
              "        <th style=\"padding-left: 1em; padding-right: 1em; text-align: center\">embedding.33</th>\n",
              "    </tr>\n",
              "    <tr>\n",
              "        <td style=\"padding-left: 1em; padding-right: 1em; text-align: center; vertical-align: top\">-0.0479477234184742</td>\n",
              "        <td style=\"padding-left: 1em; padding-right: 1em; text-align: center; vertical-align: top\">-0.2459874004125595</td>\n",
              "        <td style=\"padding-left: 1em; padding-right: 1em; text-align: center; vertical-align: top\">-0.013466699048876762</td>\n",
              "        <td style=\"padding-left: 1em; padding-right: 1em; text-align: center; vertical-align: top\">0.1646823287010193</td>\n",
              "        <td style=\"padding-left: 1em; padding-right: 1em; text-align: center; vertical-align: top\">0.1488516479730606</td>\n",
              "    </tr>\n",
              "    <tr>\n",
              "        <td style=\"padding-left: 1em; padding-right: 1em; text-align: center; vertical-align: top\">-0.0479477234184742</td>\n",
              "        <td style=\"padding-left: 1em; padding-right: 1em; text-align: center; vertical-align: top\">-0.2459874004125595</td>\n",
              "        <td style=\"padding-left: 1em; padding-right: 1em; text-align: center; vertical-align: top\">-0.013466699048876762</td>\n",
              "        <td style=\"padding-left: 1em; padding-right: 1em; text-align: center; vertical-align: top\">0.1646823287010193</td>\n",
              "        <td style=\"padding-left: 1em; padding-right: 1em; text-align: center; vertical-align: top\">0.1488516479730606</td>\n",
              "    </tr>\n",
              "    <tr>\n",
              "        <td style=\"padding-left: 1em; padding-right: 1em; text-align: center; vertical-align: top\">-0.0479477234184742</td>\n",
              "        <td style=\"padding-left: 1em; padding-right: 1em; text-align: center; vertical-align: top\">-0.2459874004125595</td>\n",
              "        <td style=\"padding-left: 1em; padding-right: 1em; text-align: center; vertical-align: top\">-0.013466699048876762</td>\n",
              "        <td style=\"padding-left: 1em; padding-right: 1em; text-align: center; vertical-align: top\">0.1646823287010193</td>\n",
              "        <td style=\"padding-left: 1em; padding-right: 1em; text-align: center; vertical-align: top\">0.1488516479730606</td>\n",
              "    </tr>\n",
              "    <tr>\n",
              "        <td style=\"padding-left: 1em; padding-right: 1em; text-align: center; vertical-align: top\">-0.0479477234184742</td>\n",
              "        <td style=\"padding-left: 1em; padding-right: 1em; text-align: center; vertical-align: top\">-0.2459874004125595</td>\n",
              "        <td style=\"padding-left: 1em; padding-right: 1em; text-align: center; vertical-align: top\">-0.013466699048876762</td>\n",
              "        <td style=\"padding-left: 1em; padding-right: 1em; text-align: center; vertical-align: top\">0.1646823287010193</td>\n",
              "        <td style=\"padding-left: 1em; padding-right: 1em; text-align: center; vertical-align: top\">0.1488516479730606</td>\n",
              "    </tr>\n",
              "    <tr>\n",
              "        <td style=\"padding-left: 1em; padding-right: 1em; text-align: center; vertical-align: top\">-0.0479477234184742</td>\n",
              "        <td style=\"padding-left: 1em; padding-right: 1em; text-align: center; vertical-align: top\">-0.2459874004125595</td>\n",
              "        <td style=\"padding-left: 1em; padding-right: 1em; text-align: center; vertical-align: top\">-0.013466699048876762</td>\n",
              "        <td style=\"padding-left: 1em; padding-right: 1em; text-align: center; vertical-align: top\">0.1646823287010193</td>\n",
              "        <td style=\"padding-left: 1em; padding-right: 1em; text-align: center; vertical-align: top\">0.1488516479730606</td>\n",
              "    </tr>\n",
              "    <tr>\n",
              "        <td style=\"padding-left: 1em; padding-right: 1em; text-align: center; vertical-align: top\">-0.0479477234184742</td>\n",
              "        <td style=\"padding-left: 1em; padding-right: 1em; text-align: center; vertical-align: top\">-0.2459874004125595</td>\n",
              "        <td style=\"padding-left: 1em; padding-right: 1em; text-align: center; vertical-align: top\">-0.013466699048876762</td>\n",
              "        <td style=\"padding-left: 1em; padding-right: 1em; text-align: center; vertical-align: top\">0.1646823287010193</td>\n",
              "        <td style=\"padding-left: 1em; padding-right: 1em; text-align: center; vertical-align: top\">0.1488516479730606</td>\n",
              "    </tr>\n",
              "    <tr>\n",
              "        <td style=\"padding-left: 1em; padding-right: 1em; text-align: center; vertical-align: top\">-0.0479477234184742</td>\n",
              "        <td style=\"padding-left: 1em; padding-right: 1em; text-align: center; vertical-align: top\">-0.2459874004125595</td>\n",
              "        <td style=\"padding-left: 1em; padding-right: 1em; text-align: center; vertical-align: top\">-0.013466699048876762</td>\n",
              "        <td style=\"padding-left: 1em; padding-right: 1em; text-align: center; vertical-align: top\">0.1646823287010193</td>\n",
              "        <td style=\"padding-left: 1em; padding-right: 1em; text-align: center; vertical-align: top\">0.1488516479730606</td>\n",
              "    </tr>\n",
              "    <tr>\n",
              "        <td style=\"padding-left: 1em; padding-right: 1em; text-align: center; vertical-align: top\">-0.0479477234184742</td>\n",
              "        <td style=\"padding-left: 1em; padding-right: 1em; text-align: center; vertical-align: top\">-0.2459874004125595</td>\n",
              "        <td style=\"padding-left: 1em; padding-right: 1em; text-align: center; vertical-align: top\">-0.013466699048876762</td>\n",
              "        <td style=\"padding-left: 1em; padding-right: 1em; text-align: center; vertical-align: top\">0.1646823287010193</td>\n",
              "        <td style=\"padding-left: 1em; padding-right: 1em; text-align: center; vertical-align: top\">0.1488516479730606</td>\n",
              "    </tr>\n",
              "    <tr>\n",
              "        <td style=\"padding-left: 1em; padding-right: 1em; text-align: center; vertical-align: top\">-0.0479477234184742</td>\n",
              "        <td style=\"padding-left: 1em; padding-right: 1em; text-align: center; vertical-align: top\">-0.2459874004125595</td>\n",
              "        <td style=\"padding-left: 1em; padding-right: 1em; text-align: center; vertical-align: top\">-0.013466699048876762</td>\n",
              "        <td style=\"padding-left: 1em; padding-right: 1em; text-align: center; vertical-align: top\">0.1646823287010193</td>\n",
              "        <td style=\"padding-left: 1em; padding-right: 1em; text-align: center; vertical-align: top\">0.1488516479730606</td>\n",
              "    </tr>\n",
              "    <tr>\n",
              "        <td style=\"padding-left: 1em; padding-right: 1em; text-align: center; vertical-align: top\">-0.0479477234184742</td>\n",
              "        <td style=\"padding-left: 1em; padding-right: 1em; text-align: center; vertical-align: top\">-0.2459874004125595</td>\n",
              "        <td style=\"padding-left: 1em; padding-right: 1em; text-align: center; vertical-align: top\">-0.013466699048876762</td>\n",
              "        <td style=\"padding-left: 1em; padding-right: 1em; text-align: center; vertical-align: top\">0.1646823287010193</td>\n",
              "        <td style=\"padding-left: 1em; padding-right: 1em; text-align: center; vertical-align: top\">0.1488516479730606</td>\n",
              "    </tr>\n",
              "</table>\n",
              "<table frame=\"box\" rules=\"cols\">\n",
              "    <tr>\n",
              "        <th style=\"padding-left: 1em; padding-right: 1em; text-align: center\">embedding.34</th>\n",
              "        <th style=\"padding-left: 1em; padding-right: 1em; text-align: center\">embedding.35</th>\n",
              "        <th style=\"padding-left: 1em; padding-right: 1em; text-align: center\">...</th>\n",
              "    </tr>\n",
              "    <tr>\n",
              "        <td style=\"padding-left: 1em; padding-right: 1em; text-align: center; vertical-align: top\">-0.43021830916404724</td>\n",
              "        <td style=\"padding-left: 1em; padding-right: 1em; text-align: center; vertical-align: top\">0.35740676522254944</td>\n",
              "        <td style=\"padding-left: 1em; padding-right: 1em; text-align: center; vertical-align: top\">...</td>\n",
              "    </tr>\n",
              "    <tr>\n",
              "        <td style=\"padding-left: 1em; padding-right: 1em; text-align: center; vertical-align: top\">-0.43021830916404724</td>\n",
              "        <td style=\"padding-left: 1em; padding-right: 1em; text-align: center; vertical-align: top\">0.35740676522254944</td>\n",
              "        <td style=\"padding-left: 1em; padding-right: 1em; text-align: center; vertical-align: top\">...</td>\n",
              "    </tr>\n",
              "    <tr>\n",
              "        <td style=\"padding-left: 1em; padding-right: 1em; text-align: center; vertical-align: top\">-0.43021830916404724</td>\n",
              "        <td style=\"padding-left: 1em; padding-right: 1em; text-align: center; vertical-align: top\">0.35740676522254944</td>\n",
              "        <td style=\"padding-left: 1em; padding-right: 1em; text-align: center; vertical-align: top\">...</td>\n",
              "    </tr>\n",
              "    <tr>\n",
              "        <td style=\"padding-left: 1em; padding-right: 1em; text-align: center; vertical-align: top\">-0.43021830916404724</td>\n",
              "        <td style=\"padding-left: 1em; padding-right: 1em; text-align: center; vertical-align: top\">0.35740676522254944</td>\n",
              "        <td style=\"padding-left: 1em; padding-right: 1em; text-align: center; vertical-align: top\">...</td>\n",
              "    </tr>\n",
              "    <tr>\n",
              "        <td style=\"padding-left: 1em; padding-right: 1em; text-align: center; vertical-align: top\">-0.43021830916404724</td>\n",
              "        <td style=\"padding-left: 1em; padding-right: 1em; text-align: center; vertical-align: top\">0.35740676522254944</td>\n",
              "        <td style=\"padding-left: 1em; padding-right: 1em; text-align: center; vertical-align: top\">...</td>\n",
              "    </tr>\n",
              "    <tr>\n",
              "        <td style=\"padding-left: 1em; padding-right: 1em; text-align: center; vertical-align: top\">-0.43021830916404724</td>\n",
              "        <td style=\"padding-left: 1em; padding-right: 1em; text-align: center; vertical-align: top\">0.35740676522254944</td>\n",
              "        <td style=\"padding-left: 1em; padding-right: 1em; text-align: center; vertical-align: top\">...</td>\n",
              "    </tr>\n",
              "    <tr>\n",
              "        <td style=\"padding-left: 1em; padding-right: 1em; text-align: center; vertical-align: top\">-0.43021830916404724</td>\n",
              "        <td style=\"padding-left: 1em; padding-right: 1em; text-align: center; vertical-align: top\">0.35740676522254944</td>\n",
              "        <td style=\"padding-left: 1em; padding-right: 1em; text-align: center; vertical-align: top\">...</td>\n",
              "    </tr>\n",
              "    <tr>\n",
              "        <td style=\"padding-left: 1em; padding-right: 1em; text-align: center; vertical-align: top\">-0.43021830916404724</td>\n",
              "        <td style=\"padding-left: 1em; padding-right: 1em; text-align: center; vertical-align: top\">0.35740676522254944</td>\n",
              "        <td style=\"padding-left: 1em; padding-right: 1em; text-align: center; vertical-align: top\">...</td>\n",
              "    </tr>\n",
              "    <tr>\n",
              "        <td style=\"padding-left: 1em; padding-right: 1em; text-align: center; vertical-align: top\">-0.43021830916404724</td>\n",
              "        <td style=\"padding-left: 1em; padding-right: 1em; text-align: center; vertical-align: top\">0.35740676522254944</td>\n",
              "        <td style=\"padding-left: 1em; padding-right: 1em; text-align: center; vertical-align: top\">...</td>\n",
              "    </tr>\n",
              "    <tr>\n",
              "        <td style=\"padding-left: 1em; padding-right: 1em; text-align: center; vertical-align: top\">-0.43021830916404724</td>\n",
              "        <td style=\"padding-left: 1em; padding-right: 1em; text-align: center; vertical-align: top\">0.35740676522254944</td>\n",
              "        <td style=\"padding-left: 1em; padding-right: 1em; text-align: center; vertical-align: top\">...</td>\n",
              "    </tr>\n",
              "</table>\n",
              "[3600 rows x 260 columns]<br/>Note: Only the head of the SFrame is printed.<br/>You can use print_rows(num_rows=m, num_columns=n) to print more rows and columns.\n",
              "</div>"
            ]
          },
          "metadata": {},
          "execution_count": 20
        }
      ]
    },
    {
      "cell_type": "code",
      "source": [
        "train_set,valid_set = sf.remove_column('rank').random_split(0.7)\n",
        "\n",
        "model = tc.random_forest_classifier.create(train_set, validation_set=valid_set, metric = \"accuracy\",target='class')"
      ],
      "metadata": {
        "colab": {
          "base_uri": "https://localhost:8080/",
          "height": 374
        },
        "id": "tRZssUDSDDt7",
        "outputId": "a6d3691b-f41e-42ff-da0a-ea457351a8e5"
      },
      "execution_count": null,
      "outputs": [
        {
          "output_type": "display_data",
          "data": {
            "text/plain": [
              "Random forest classifier:"
            ],
            "text/html": [
              "<pre>Random forest classifier:</pre>"
            ]
          },
          "metadata": {}
        },
        {
          "output_type": "display_data",
          "data": {
            "text/plain": [
              "--------------------------------------------------------"
            ],
            "text/html": [
              "<pre>--------------------------------------------------------</pre>"
            ]
          },
          "metadata": {}
        },
        {
          "output_type": "display_data",
          "data": {
            "text/plain": [
              "Number of examples          : 2476"
            ],
            "text/html": [
              "<pre>Number of examples          : 2476</pre>"
            ]
          },
          "metadata": {}
        },
        {
          "output_type": "display_data",
          "data": {
            "text/plain": [
              "Number of classes           : 2"
            ],
            "text/html": [
              "<pre>Number of classes           : 2</pre>"
            ]
          },
          "metadata": {}
        },
        {
          "output_type": "display_data",
          "data": {
            "text/plain": [
              "Number of feature columns   : 258"
            ],
            "text/html": [
              "<pre>Number of feature columns   : 258</pre>"
            ]
          },
          "metadata": {}
        },
        {
          "output_type": "display_data",
          "data": {
            "text/plain": [
              "Number of unpacked features : 258"
            ],
            "text/html": [
              "<pre>Number of unpacked features : 258</pre>"
            ]
          },
          "metadata": {}
        },
        {
          "output_type": "display_data",
          "data": {
            "text/plain": [
              "+-----------+--------------+-------------------+---------------------+"
            ],
            "text/html": [
              "<pre>+-----------+--------------+-------------------+---------------------+</pre>"
            ]
          },
          "metadata": {}
        },
        {
          "output_type": "display_data",
          "data": {
            "text/plain": [
              "| Iteration | Elapsed Time | Training Accuracy | Validation Accuracy |"
            ],
            "text/html": [
              "<pre>| Iteration | Elapsed Time | Training Accuracy | Validation Accuracy |</pre>"
            ]
          },
          "metadata": {}
        },
        {
          "output_type": "display_data",
          "data": {
            "text/plain": [
              "+-----------+--------------+-------------------+---------------------+"
            ],
            "text/html": [
              "<pre>+-----------+--------------+-------------------+---------------------+</pre>"
            ]
          },
          "metadata": {}
        },
        {
          "output_type": "display_data",
          "data": {
            "text/plain": [
              "| 1         | 0.051794     | 0.801292          | 0.750890            |"
            ],
            "text/html": [
              "<pre>| 1         | 0.051794     | 0.801292          | 0.750890            |</pre>"
            ]
          },
          "metadata": {}
        },
        {
          "output_type": "display_data",
          "data": {
            "text/plain": [
              "| 2         | 0.093258     | 0.842084          | 0.802491            |"
            ],
            "text/html": [
              "<pre>| 2         | 0.093258     | 0.842084          | 0.802491            |</pre>"
            ]
          },
          "metadata": {}
        },
        {
          "output_type": "display_data",
          "data": {
            "text/plain": [
              "| 3         | 0.132573     | 0.848546          | 0.790036            |"
            ],
            "text/html": [
              "<pre>| 3         | 0.132573     | 0.848546          | 0.790036            |</pre>"
            ]
          },
          "metadata": {}
        },
        {
          "output_type": "display_data",
          "data": {
            "text/plain": [
              "| 4         | 0.172164     | 0.849354          | 0.800712            |"
            ],
            "text/html": [
              "<pre>| 4         | 0.172164     | 0.849354          | 0.800712            |</pre>"
            ]
          },
          "metadata": {}
        },
        {
          "output_type": "display_data",
          "data": {
            "text/plain": [
              "| 5         | 0.215240     | 0.845719          | 0.790036            |"
            ],
            "text/html": [
              "<pre>| 5         | 0.215240     | 0.845719          | 0.790036            |</pre>"
            ]
          },
          "metadata": {}
        },
        {
          "output_type": "display_data",
          "data": {
            "text/plain": [
              "| 10        | 0.397777     | 0.858643          | 0.799822            |"
            ],
            "text/html": [
              "<pre>| 10        | 0.397777     | 0.858643          | 0.799822            |</pre>"
            ]
          },
          "metadata": {}
        },
        {
          "output_type": "display_data",
          "data": {
            "text/plain": [
              "+-----------+--------------+-------------------+---------------------+"
            ],
            "text/html": [
              "<pre>+-----------+--------------+-------------------+---------------------+</pre>"
            ]
          },
          "metadata": {}
        }
      ]
    },
    {
      "cell_type": "code",
      "source": [
        "sf"
      ],
      "metadata": {
        "colab": {
          "base_uri": "https://localhost:8080/",
          "height": 1000
        },
        "id": "Qju5vP3vHugb",
        "outputId": "131c68f5-c4d4-4518-c7b9-ba95c874cb47"
      },
      "execution_count": null,
      "outputs": [
        {
          "output_type": "execute_result",
          "data": {
            "text/plain": [
              "Columns:\n",
              "\tin_v\tstr\n",
              "\tout_v\tstr\n",
              "\trank\tint\n",
              "\tclass\tint\n",
              "\tembedding.0\tfloat\n",
              "\tembedding.1\tfloat\n",
              "\tembedding.2\tfloat\n",
              "\tembedding.3\tfloat\n",
              "\tembedding.4\tfloat\n",
              "\tembedding.5\tfloat\n",
              "\tembedding.6\tfloat\n",
              "\tembedding.7\tfloat\n",
              "\tembedding.8\tfloat\n",
              "\tembedding.9\tfloat\n",
              "\tembedding.10\tfloat\n",
              "\tembedding.11\tfloat\n",
              "\tembedding.12\tfloat\n",
              "\tembedding.13\tfloat\n",
              "\tembedding.14\tfloat\n",
              "\tembedding.15\tfloat\n",
              "\tembedding.16\tfloat\n",
              "\tembedding.17\tfloat\n",
              "\tembedding.18\tfloat\n",
              "\tembedding.19\tfloat\n",
              "\tembedding.20\tfloat\n",
              "\tembedding.21\tfloat\n",
              "\tembedding.22\tfloat\n",
              "\tembedding.23\tfloat\n",
              "\tembedding.24\tfloat\n",
              "\tembedding.25\tfloat\n",
              "\tembedding.26\tfloat\n",
              "\tembedding.27\tfloat\n",
              "\tembedding.28\tfloat\n",
              "\tembedding.29\tfloat\n",
              "\tembedding.30\tfloat\n",
              "\tembedding.31\tfloat\n",
              "\tembedding.32\tfloat\n",
              "\tembedding.33\tfloat\n",
              "\tembedding.34\tfloat\n",
              "\tembedding.35\tfloat\n",
              "\tembedding.36\tfloat\n",
              "\tembedding.37\tfloat\n",
              "\tembedding.38\tfloat\n",
              "\tembedding.39\tfloat\n",
              "\tembedding.40\tfloat\n",
              "\tembedding.41\tfloat\n",
              "\tembedding.42\tfloat\n",
              "\tembedding.43\tfloat\n",
              "\tembedding.44\tfloat\n",
              "\tembedding.45\tfloat\n",
              "\tembedding.46\tfloat\n",
              "\tembedding.47\tfloat\n",
              "\tembedding.48\tfloat\n",
              "\tembedding.49\tfloat\n",
              "\tembedding.50\tfloat\n",
              "\tembedding.51\tfloat\n",
              "\tembedding.52\tfloat\n",
              "\tembedding.53\tfloat\n",
              "\tembedding.54\tfloat\n",
              "\tembedding.55\tfloat\n",
              "\tembedding.56\tfloat\n",
              "\tembedding.57\tfloat\n",
              "\tembedding.58\tfloat\n",
              "\tembedding.59\tfloat\n",
              "\tembedding.60\tfloat\n",
              "\tembedding.61\tfloat\n",
              "\tembedding.62\tfloat\n",
              "\tembedding.63\tfloat\n",
              "\tembedding.64\tfloat\n",
              "\tembedding.65\tfloat\n",
              "\tembedding.66\tfloat\n",
              "\tembedding.67\tfloat\n",
              "\tembedding.68\tfloat\n",
              "\tembedding.69\tfloat\n",
              "\tembedding.70\tfloat\n",
              "\tembedding.71\tfloat\n",
              "\tembedding.72\tfloat\n",
              "\tembedding.73\tfloat\n",
              "\tembedding.74\tfloat\n",
              "\tembedding.75\tfloat\n",
              "\tembedding.76\tfloat\n",
              "\tembedding.77\tfloat\n",
              "\tembedding.78\tfloat\n",
              "\tembedding.79\tfloat\n",
              "\tembedding.80\tfloat\n",
              "\tembedding.81\tfloat\n",
              "\tembedding.82\tfloat\n",
              "\tembedding.83\tfloat\n",
              "\tembedding.84\tfloat\n",
              "\tembedding.85\tfloat\n",
              "\tembedding.86\tfloat\n",
              "\tembedding.87\tfloat\n",
              "\tembedding.88\tfloat\n",
              "\tembedding.89\tfloat\n",
              "\tembedding.90\tfloat\n",
              "\tembedding.91\tfloat\n",
              "\tembedding.92\tfloat\n",
              "\tembedding.93\tfloat\n",
              "\tembedding.94\tfloat\n",
              "\tembedding.95\tfloat\n",
              "\tembedding.96\tfloat\n",
              "\tembedding.97\tfloat\n",
              "\tembedding.98\tfloat\n",
              "\tembedding.99\tfloat\n",
              "\tembedding.100\tfloat\n",
              "\tembedding.101\tfloat\n",
              "\tembedding.102\tfloat\n",
              "\tembedding.103\tfloat\n",
              "\tembedding.104\tfloat\n",
              "\tembedding.105\tfloat\n",
              "\tembedding.106\tfloat\n",
              "\tembedding.107\tfloat\n",
              "\tembedding.108\tfloat\n",
              "\tembedding.109\tfloat\n",
              "\tembedding.110\tfloat\n",
              "\tembedding.111\tfloat\n",
              "\tembedding.112\tfloat\n",
              "\tembedding.113\tfloat\n",
              "\tembedding.114\tfloat\n",
              "\tembedding.115\tfloat\n",
              "\tembedding.116\tfloat\n",
              "\tembedding.117\tfloat\n",
              "\tembedding.118\tfloat\n",
              "\tembedding.119\tfloat\n",
              "\tembedding.120\tfloat\n",
              "\tembedding.121\tfloat\n",
              "\tembedding.122\tfloat\n",
              "\tembedding.123\tfloat\n",
              "\tembedding.124\tfloat\n",
              "\tembedding.125\tfloat\n",
              "\tembedding.126\tfloat\n",
              "\tembedding.127\tfloat\n",
              "\tembedding.128\tfloat\n",
              "\tembedding.129\tfloat\n",
              "\tembedding.130\tfloat\n",
              "\tembedding.131\tfloat\n",
              "\tembedding.132\tfloat\n",
              "\tembedding.133\tfloat\n",
              "\tembedding.134\tfloat\n",
              "\tembedding.135\tfloat\n",
              "\tembedding.136\tfloat\n",
              "\tembedding.137\tfloat\n",
              "\tembedding.138\tfloat\n",
              "\tembedding.139\tfloat\n",
              "\tembedding.140\tfloat\n",
              "\tembedding.141\tfloat\n",
              "\tembedding.142\tfloat\n",
              "\tembedding.143\tfloat\n",
              "\tembedding.144\tfloat\n",
              "\tembedding.145\tfloat\n",
              "\tembedding.146\tfloat\n",
              "\tembedding.147\tfloat\n",
              "\tembedding.148\tfloat\n",
              "\tembedding.149\tfloat\n",
              "\tembedding.150\tfloat\n",
              "\tembedding.151\tfloat\n",
              "\tembedding.152\tfloat\n",
              "\tembedding.153\tfloat\n",
              "\tembedding.154\tfloat\n",
              "\tembedding.155\tfloat\n",
              "\tembedding.156\tfloat\n",
              "\tembedding.157\tfloat\n",
              "\tembedding.158\tfloat\n",
              "\tembedding.159\tfloat\n",
              "\tembedding.160\tfloat\n",
              "\tembedding.161\tfloat\n",
              "\tembedding.162\tfloat\n",
              "\tembedding.163\tfloat\n",
              "\tembedding.164\tfloat\n",
              "\tembedding.165\tfloat\n",
              "\tembedding.166\tfloat\n",
              "\tembedding.167\tfloat\n",
              "\tembedding.168\tfloat\n",
              "\tembedding.169\tfloat\n",
              "\tembedding.170\tfloat\n",
              "\tembedding.171\tfloat\n",
              "\tembedding.172\tfloat\n",
              "\tembedding.173\tfloat\n",
              "\tembedding.174\tfloat\n",
              "\tembedding.175\tfloat\n",
              "\tembedding.176\tfloat\n",
              "\tembedding.177\tfloat\n",
              "\tembedding.178\tfloat\n",
              "\tembedding.179\tfloat\n",
              "\tembedding.180\tfloat\n",
              "\tembedding.181\tfloat\n",
              "\tembedding.182\tfloat\n",
              "\tembedding.183\tfloat\n",
              "\tembedding.184\tfloat\n",
              "\tembedding.185\tfloat\n",
              "\tembedding.186\tfloat\n",
              "\tembedding.187\tfloat\n",
              "\tembedding.188\tfloat\n",
              "\tembedding.189\tfloat\n",
              "\tembedding.190\tfloat\n",
              "\tembedding.191\tfloat\n",
              "\tembedding.192\tfloat\n",
              "\tembedding.193\tfloat\n",
              "\tembedding.194\tfloat\n",
              "\tembedding.195\tfloat\n",
              "\tembedding.196\tfloat\n",
              "\tembedding.197\tfloat\n",
              "\tembedding.198\tfloat\n",
              "\tembedding.199\tfloat\n",
              "\tembedding.200\tfloat\n",
              "\tembedding.201\tfloat\n",
              "\tembedding.202\tfloat\n",
              "\tembedding.203\tfloat\n",
              "\tembedding.204\tfloat\n",
              "\tembedding.205\tfloat\n",
              "\tembedding.206\tfloat\n",
              "\tembedding.207\tfloat\n",
              "\tembedding.208\tfloat\n",
              "\tembedding.209\tfloat\n",
              "\tembedding.210\tfloat\n",
              "\tembedding.211\tfloat\n",
              "\tembedding.212\tfloat\n",
              "\tembedding.213\tfloat\n",
              "\tembedding.214\tfloat\n",
              "\tembedding.215\tfloat\n",
              "\tembedding.216\tfloat\n",
              "\tembedding.217\tfloat\n",
              "\tembedding.218\tfloat\n",
              "\tembedding.219\tfloat\n",
              "\tembedding.220\tfloat\n",
              "\tembedding.221\tfloat\n",
              "\tembedding.222\tfloat\n",
              "\tembedding.223\tfloat\n",
              "\tembedding.224\tfloat\n",
              "\tembedding.225\tfloat\n",
              "\tembedding.226\tfloat\n",
              "\tembedding.227\tfloat\n",
              "\tembedding.228\tfloat\n",
              "\tembedding.229\tfloat\n",
              "\tembedding.230\tfloat\n",
              "\tembedding.231\tfloat\n",
              "\tembedding.232\tfloat\n",
              "\tembedding.233\tfloat\n",
              "\tembedding.234\tfloat\n",
              "\tembedding.235\tfloat\n",
              "\tembedding.236\tfloat\n",
              "\tembedding.237\tfloat\n",
              "\tembedding.238\tfloat\n",
              "\tembedding.239\tfloat\n",
              "\tembedding.240\tfloat\n",
              "\tembedding.241\tfloat\n",
              "\tembedding.242\tfloat\n",
              "\tembedding.243\tfloat\n",
              "\tembedding.244\tfloat\n",
              "\tembedding.245\tfloat\n",
              "\tembedding.246\tfloat\n",
              "\tembedding.247\tfloat\n",
              "\tembedding.248\tfloat\n",
              "\tembedding.249\tfloat\n",
              "\tembedding.250\tfloat\n",
              "\tembedding.251\tfloat\n",
              "\tembedding.252\tfloat\n",
              "\tembedding.253\tfloat\n",
              "\tembedding.254\tfloat\n",
              "\tembedding.255\tfloat\n",
              "\n",
              "Rows: 3600\n",
              "\n",
              "Data:\n",
              "+------+-------+------+-------+---------------------+---------------------+\n",
              "| in_v | out_v | rank | class |     embedding.0     |     embedding.1     |\n",
              "+------+-------+------+-------+---------------------+---------------------+\n",
              "|  n0  |  n40  |  5   |   0   | 0.04342455789446831 | -0.3577982485294342 |\n",
              "|  n0  |  n22  |  0   |   0   | 0.04342455789446831 | -0.3577982485294342 |\n",
              "|  n0  |  n60  |  0   |   0   | 0.04342455789446831 | -0.3577982485294342 |\n",
              "|  n0  |   n6  |  4   |   0   | 0.04342455789446831 | -0.3577982485294342 |\n",
              "|  n0  |  n14  |  7   |   1   | 0.04342455789446831 | -0.3577982485294342 |\n",
              "|  n0  |  n41  |  2   |   0   | 0.04342455789446831 | -0.3577982485294342 |\n",
              "|  n0  |  n50  |  3   |   0   | 0.04342455789446831 | -0.3577982485294342 |\n",
              "|  n0  |  n51  |  3   |   0   | 0.04342455789446831 | -0.3577982485294342 |\n",
              "|  n0  |  n52  |  3   |   0   | 0.04342455789446831 | -0.3577982485294342 |\n",
              "|  n0  |  n15  |  3   |   0   | 0.04342455789446831 | -0.3577982485294342 |\n",
              "+------+-------+------+-------+---------------------+---------------------+\n",
              "+--------------------+---------------------+---------------------+\n",
              "|    embedding.2     |     embedding.3     |     embedding.4     |\n",
              "+--------------------+---------------------+---------------------+\n",
              "| -0.024881511926651 | 0.19348105788230896 | -0.1692042201757431 |\n",
              "| -0.024881511926651 | 0.19348105788230896 | -0.1692042201757431 |\n",
              "| -0.024881511926651 | 0.19348105788230896 | -0.1692042201757431 |\n",
              "| -0.024881511926651 | 0.19348105788230896 | -0.1692042201757431 |\n",
              "| -0.024881511926651 | 0.19348105788230896 | -0.1692042201757431 |\n",
              "| -0.024881511926651 | 0.19348105788230896 | -0.1692042201757431 |\n",
              "| -0.024881511926651 | 0.19348105788230896 | -0.1692042201757431 |\n",
              "| -0.024881511926651 | 0.19348105788230896 | -0.1692042201757431 |\n",
              "| -0.024881511926651 | 0.19348105788230896 | -0.1692042201757431 |\n",
              "| -0.024881511926651 | 0.19348105788230896 | -0.1692042201757431 |\n",
              "+--------------------+---------------------+---------------------+\n",
              "+---------------------+----------------------+----------------------+\n",
              "|     embedding.5     |     embedding.6      |     embedding.7      |\n",
              "+---------------------+----------------------+----------------------+\n",
              "| 0.06639043986797333 | -0.13767309486865997 | -0.03639746457338333 |\n",
              "| 0.06639043986797333 | -0.13767309486865997 | -0.03639746457338333 |\n",
              "| 0.06639043986797333 | -0.13767309486865997 | -0.03639746457338333 |\n",
              "| 0.06639043986797333 | -0.13767309486865997 | -0.03639746457338333 |\n",
              "| 0.06639043986797333 | -0.13767309486865997 | -0.03639746457338333 |\n",
              "| 0.06639043986797333 | -0.13767309486865997 | -0.03639746457338333 |\n",
              "| 0.06639043986797333 | -0.13767309486865997 | -0.03639746457338333 |\n",
              "| 0.06639043986797333 | -0.13767309486865997 | -0.03639746457338333 |\n",
              "| 0.06639043986797333 | -0.13767309486865997 | -0.03639746457338333 |\n",
              "| 0.06639043986797333 | -0.13767309486865997 | -0.03639746457338333 |\n",
              "+---------------------+----------------------+----------------------+\n",
              "+---------------------+---------------------+----------------------+\n",
              "|     embedding.8     |     embedding.9     |     embedding.10     |\n",
              "+---------------------+---------------------+----------------------+\n",
              "| -0.5105703473091125 | 0.27729615569114685 | -0.02775050699710846 |\n",
              "| -0.5105703473091125 | 0.27729615569114685 | -0.02775050699710846 |\n",
              "| -0.5105703473091125 | 0.27729615569114685 | -0.02775050699710846 |\n",
              "| -0.5105703473091125 | 0.27729615569114685 | -0.02775050699710846 |\n",
              "| -0.5105703473091125 | 0.27729615569114685 | -0.02775050699710846 |\n",
              "| -0.5105703473091125 | 0.27729615569114685 | -0.02775050699710846 |\n",
              "| -0.5105703473091125 | 0.27729615569114685 | -0.02775050699710846 |\n",
              "| -0.5105703473091125 | 0.27729615569114685 | -0.02775050699710846 |\n",
              "| -0.5105703473091125 | 0.27729615569114685 | -0.02775050699710846 |\n",
              "| -0.5105703473091125 | 0.27729615569114685 | -0.02775050699710846 |\n",
              "+---------------------+---------------------+----------------------+\n",
              "+---------------------+---------------------+----------------------+\n",
              "|     embedding.11    |     embedding.12    |     embedding.13     |\n",
              "+---------------------+---------------------+----------------------+\n",
              "| 0.23222021758556366 | 0.11150173097848892 | -0.35423019528388977 |\n",
              "| 0.23222021758556366 | 0.11150173097848892 | -0.35423019528388977 |\n",
              "| 0.23222021758556366 | 0.11150173097848892 | -0.35423019528388977 |\n",
              "| 0.23222021758556366 | 0.11150173097848892 | -0.35423019528388977 |\n",
              "| 0.23222021758556366 | 0.11150173097848892 | -0.35423019528388977 |\n",
              "| 0.23222021758556366 | 0.11150173097848892 | -0.35423019528388977 |\n",
              "| 0.23222021758556366 | 0.11150173097848892 | -0.35423019528388977 |\n",
              "| 0.23222021758556366 | 0.11150173097848892 | -0.35423019528388977 |\n",
              "| 0.23222021758556366 | 0.11150173097848892 | -0.35423019528388977 |\n",
              "| 0.23222021758556366 | 0.11150173097848892 | -0.35423019528388977 |\n",
              "+---------------------+---------------------+----------------------+\n",
              "+--------------------+--------------------+-----+\n",
              "|    embedding.14    |    embedding.15    | ... |\n",
              "+--------------------+--------------------+-----+\n",
              "| -0.636806309223175 | 0.0778755247592926 | ... |\n",
              "| -0.636806309223175 | 0.0778755247592926 | ... |\n",
              "| -0.636806309223175 | 0.0778755247592926 | ... |\n",
              "| -0.636806309223175 | 0.0778755247592926 | ... |\n",
              "| -0.636806309223175 | 0.0778755247592926 | ... |\n",
              "| -0.636806309223175 | 0.0778755247592926 | ... |\n",
              "| -0.636806309223175 | 0.0778755247592926 | ... |\n",
              "| -0.636806309223175 | 0.0778755247592926 | ... |\n",
              "| -0.636806309223175 | 0.0778755247592926 | ... |\n",
              "| -0.636806309223175 | 0.0778755247592926 | ... |\n",
              "+--------------------+--------------------+-----+\n",
              "[3600 rows x 260 columns]\n",
              "Note: Only the head of the SFrame is printed.\n",
              "You can use print_rows(num_rows=m, num_columns=n) to print more rows and columns."
            ],
            "text/html": [
              "<div style=\"max-height:1000px;max-width:1500px;overflow:auto;\"><table frame=\"box\" rules=\"cols\">\n",
              "    <tr>\n",
              "        <th style=\"padding-left: 1em; padding-right: 1em; text-align: center\">in_v</th>\n",
              "        <th style=\"padding-left: 1em; padding-right: 1em; text-align: center\">out_v</th>\n",
              "        <th style=\"padding-left: 1em; padding-right: 1em; text-align: center\">rank</th>\n",
              "        <th style=\"padding-left: 1em; padding-right: 1em; text-align: center\">class</th>\n",
              "        <th style=\"padding-left: 1em; padding-right: 1em; text-align: center\">embedding.0</th>\n",
              "        <th style=\"padding-left: 1em; padding-right: 1em; text-align: center\">embedding.1</th>\n",
              "        <th style=\"padding-left: 1em; padding-right: 1em; text-align: center\">embedding.2</th>\n",
              "        <th style=\"padding-left: 1em; padding-right: 1em; text-align: center\">embedding.3</th>\n",
              "    </tr>\n",
              "    <tr>\n",
              "        <td style=\"padding-left: 1em; padding-right: 1em; text-align: center; vertical-align: top\">n0</td>\n",
              "        <td style=\"padding-left: 1em; padding-right: 1em; text-align: center; vertical-align: top\">n40</td>\n",
              "        <td style=\"padding-left: 1em; padding-right: 1em; text-align: center; vertical-align: top\">5</td>\n",
              "        <td style=\"padding-left: 1em; padding-right: 1em; text-align: center; vertical-align: top\">0</td>\n",
              "        <td style=\"padding-left: 1em; padding-right: 1em; text-align: center; vertical-align: top\">0.04342455789446831</td>\n",
              "        <td style=\"padding-left: 1em; padding-right: 1em; text-align: center; vertical-align: top\">-0.3577982485294342</td>\n",
              "        <td style=\"padding-left: 1em; padding-right: 1em; text-align: center; vertical-align: top\">-0.024881511926651</td>\n",
              "        <td style=\"padding-left: 1em; padding-right: 1em; text-align: center; vertical-align: top\">0.19348105788230896</td>\n",
              "    </tr>\n",
              "    <tr>\n",
              "        <td style=\"padding-left: 1em; padding-right: 1em; text-align: center; vertical-align: top\">n0</td>\n",
              "        <td style=\"padding-left: 1em; padding-right: 1em; text-align: center; vertical-align: top\">n22</td>\n",
              "        <td style=\"padding-left: 1em; padding-right: 1em; text-align: center; vertical-align: top\">0</td>\n",
              "        <td style=\"padding-left: 1em; padding-right: 1em; text-align: center; vertical-align: top\">0</td>\n",
              "        <td style=\"padding-left: 1em; padding-right: 1em; text-align: center; vertical-align: top\">0.04342455789446831</td>\n",
              "        <td style=\"padding-left: 1em; padding-right: 1em; text-align: center; vertical-align: top\">-0.3577982485294342</td>\n",
              "        <td style=\"padding-left: 1em; padding-right: 1em; text-align: center; vertical-align: top\">-0.024881511926651</td>\n",
              "        <td style=\"padding-left: 1em; padding-right: 1em; text-align: center; vertical-align: top\">0.19348105788230896</td>\n",
              "    </tr>\n",
              "    <tr>\n",
              "        <td style=\"padding-left: 1em; padding-right: 1em; text-align: center; vertical-align: top\">n0</td>\n",
              "        <td style=\"padding-left: 1em; padding-right: 1em; text-align: center; vertical-align: top\">n60</td>\n",
              "        <td style=\"padding-left: 1em; padding-right: 1em; text-align: center; vertical-align: top\">0</td>\n",
              "        <td style=\"padding-left: 1em; padding-right: 1em; text-align: center; vertical-align: top\">0</td>\n",
              "        <td style=\"padding-left: 1em; padding-right: 1em; text-align: center; vertical-align: top\">0.04342455789446831</td>\n",
              "        <td style=\"padding-left: 1em; padding-right: 1em; text-align: center; vertical-align: top\">-0.3577982485294342</td>\n",
              "        <td style=\"padding-left: 1em; padding-right: 1em; text-align: center; vertical-align: top\">-0.024881511926651</td>\n",
              "        <td style=\"padding-left: 1em; padding-right: 1em; text-align: center; vertical-align: top\">0.19348105788230896</td>\n",
              "    </tr>\n",
              "    <tr>\n",
              "        <td style=\"padding-left: 1em; padding-right: 1em; text-align: center; vertical-align: top\">n0</td>\n",
              "        <td style=\"padding-left: 1em; padding-right: 1em; text-align: center; vertical-align: top\">n6</td>\n",
              "        <td style=\"padding-left: 1em; padding-right: 1em; text-align: center; vertical-align: top\">4</td>\n",
              "        <td style=\"padding-left: 1em; padding-right: 1em; text-align: center; vertical-align: top\">0</td>\n",
              "        <td style=\"padding-left: 1em; padding-right: 1em; text-align: center; vertical-align: top\">0.04342455789446831</td>\n",
              "        <td style=\"padding-left: 1em; padding-right: 1em; text-align: center; vertical-align: top\">-0.3577982485294342</td>\n",
              "        <td style=\"padding-left: 1em; padding-right: 1em; text-align: center; vertical-align: top\">-0.024881511926651</td>\n",
              "        <td style=\"padding-left: 1em; padding-right: 1em; text-align: center; vertical-align: top\">0.19348105788230896</td>\n",
              "    </tr>\n",
              "    <tr>\n",
              "        <td style=\"padding-left: 1em; padding-right: 1em; text-align: center; vertical-align: top\">n0</td>\n",
              "        <td style=\"padding-left: 1em; padding-right: 1em; text-align: center; vertical-align: top\">n14</td>\n",
              "        <td style=\"padding-left: 1em; padding-right: 1em; text-align: center; vertical-align: top\">7</td>\n",
              "        <td style=\"padding-left: 1em; padding-right: 1em; text-align: center; vertical-align: top\">1</td>\n",
              "        <td style=\"padding-left: 1em; padding-right: 1em; text-align: center; vertical-align: top\">0.04342455789446831</td>\n",
              "        <td style=\"padding-left: 1em; padding-right: 1em; text-align: center; vertical-align: top\">-0.3577982485294342</td>\n",
              "        <td style=\"padding-left: 1em; padding-right: 1em; text-align: center; vertical-align: top\">-0.024881511926651</td>\n",
              "        <td style=\"padding-left: 1em; padding-right: 1em; text-align: center; vertical-align: top\">0.19348105788230896</td>\n",
              "    </tr>\n",
              "    <tr>\n",
              "        <td style=\"padding-left: 1em; padding-right: 1em; text-align: center; vertical-align: top\">n0</td>\n",
              "        <td style=\"padding-left: 1em; padding-right: 1em; text-align: center; vertical-align: top\">n41</td>\n",
              "        <td style=\"padding-left: 1em; padding-right: 1em; text-align: center; vertical-align: top\">2</td>\n",
              "        <td style=\"padding-left: 1em; padding-right: 1em; text-align: center; vertical-align: top\">0</td>\n",
              "        <td style=\"padding-left: 1em; padding-right: 1em; text-align: center; vertical-align: top\">0.04342455789446831</td>\n",
              "        <td style=\"padding-left: 1em; padding-right: 1em; text-align: center; vertical-align: top\">-0.3577982485294342</td>\n",
              "        <td style=\"padding-left: 1em; padding-right: 1em; text-align: center; vertical-align: top\">-0.024881511926651</td>\n",
              "        <td style=\"padding-left: 1em; padding-right: 1em; text-align: center; vertical-align: top\">0.19348105788230896</td>\n",
              "    </tr>\n",
              "    <tr>\n",
              "        <td style=\"padding-left: 1em; padding-right: 1em; text-align: center; vertical-align: top\">n0</td>\n",
              "        <td style=\"padding-left: 1em; padding-right: 1em; text-align: center; vertical-align: top\">n50</td>\n",
              "        <td style=\"padding-left: 1em; padding-right: 1em; text-align: center; vertical-align: top\">3</td>\n",
              "        <td style=\"padding-left: 1em; padding-right: 1em; text-align: center; vertical-align: top\">0</td>\n",
              "        <td style=\"padding-left: 1em; padding-right: 1em; text-align: center; vertical-align: top\">0.04342455789446831</td>\n",
              "        <td style=\"padding-left: 1em; padding-right: 1em; text-align: center; vertical-align: top\">-0.3577982485294342</td>\n",
              "        <td style=\"padding-left: 1em; padding-right: 1em; text-align: center; vertical-align: top\">-0.024881511926651</td>\n",
              "        <td style=\"padding-left: 1em; padding-right: 1em; text-align: center; vertical-align: top\">0.19348105788230896</td>\n",
              "    </tr>\n",
              "    <tr>\n",
              "        <td style=\"padding-left: 1em; padding-right: 1em; text-align: center; vertical-align: top\">n0</td>\n",
              "        <td style=\"padding-left: 1em; padding-right: 1em; text-align: center; vertical-align: top\">n51</td>\n",
              "        <td style=\"padding-left: 1em; padding-right: 1em; text-align: center; vertical-align: top\">3</td>\n",
              "        <td style=\"padding-left: 1em; padding-right: 1em; text-align: center; vertical-align: top\">0</td>\n",
              "        <td style=\"padding-left: 1em; padding-right: 1em; text-align: center; vertical-align: top\">0.04342455789446831</td>\n",
              "        <td style=\"padding-left: 1em; padding-right: 1em; text-align: center; vertical-align: top\">-0.3577982485294342</td>\n",
              "        <td style=\"padding-left: 1em; padding-right: 1em; text-align: center; vertical-align: top\">-0.024881511926651</td>\n",
              "        <td style=\"padding-left: 1em; padding-right: 1em; text-align: center; vertical-align: top\">0.19348105788230896</td>\n",
              "    </tr>\n",
              "    <tr>\n",
              "        <td style=\"padding-left: 1em; padding-right: 1em; text-align: center; vertical-align: top\">n0</td>\n",
              "        <td style=\"padding-left: 1em; padding-right: 1em; text-align: center; vertical-align: top\">n52</td>\n",
              "        <td style=\"padding-left: 1em; padding-right: 1em; text-align: center; vertical-align: top\">3</td>\n",
              "        <td style=\"padding-left: 1em; padding-right: 1em; text-align: center; vertical-align: top\">0</td>\n",
              "        <td style=\"padding-left: 1em; padding-right: 1em; text-align: center; vertical-align: top\">0.04342455789446831</td>\n",
              "        <td style=\"padding-left: 1em; padding-right: 1em; text-align: center; vertical-align: top\">-0.3577982485294342</td>\n",
              "        <td style=\"padding-left: 1em; padding-right: 1em; text-align: center; vertical-align: top\">-0.024881511926651</td>\n",
              "        <td style=\"padding-left: 1em; padding-right: 1em; text-align: center; vertical-align: top\">0.19348105788230896</td>\n",
              "    </tr>\n",
              "    <tr>\n",
              "        <td style=\"padding-left: 1em; padding-right: 1em; text-align: center; vertical-align: top\">n0</td>\n",
              "        <td style=\"padding-left: 1em; padding-right: 1em; text-align: center; vertical-align: top\">n15</td>\n",
              "        <td style=\"padding-left: 1em; padding-right: 1em; text-align: center; vertical-align: top\">3</td>\n",
              "        <td style=\"padding-left: 1em; padding-right: 1em; text-align: center; vertical-align: top\">0</td>\n",
              "        <td style=\"padding-left: 1em; padding-right: 1em; text-align: center; vertical-align: top\">0.04342455789446831</td>\n",
              "        <td style=\"padding-left: 1em; padding-right: 1em; text-align: center; vertical-align: top\">-0.3577982485294342</td>\n",
              "        <td style=\"padding-left: 1em; padding-right: 1em; text-align: center; vertical-align: top\">-0.024881511926651</td>\n",
              "        <td style=\"padding-left: 1em; padding-right: 1em; text-align: center; vertical-align: top\">0.19348105788230896</td>\n",
              "    </tr>\n",
              "</table>\n",
              "<table frame=\"box\" rules=\"cols\">\n",
              "    <tr>\n",
              "        <th style=\"padding-left: 1em; padding-right: 1em; text-align: center\">embedding.4</th>\n",
              "        <th style=\"padding-left: 1em; padding-right: 1em; text-align: center\">embedding.5</th>\n",
              "        <th style=\"padding-left: 1em; padding-right: 1em; text-align: center\">embedding.6</th>\n",
              "        <th style=\"padding-left: 1em; padding-right: 1em; text-align: center\">embedding.7</th>\n",
              "        <th style=\"padding-left: 1em; padding-right: 1em; text-align: center\">embedding.8</th>\n",
              "    </tr>\n",
              "    <tr>\n",
              "        <td style=\"padding-left: 1em; padding-right: 1em; text-align: center; vertical-align: top\">-0.1692042201757431</td>\n",
              "        <td style=\"padding-left: 1em; padding-right: 1em; text-align: center; vertical-align: top\">0.06639043986797333</td>\n",
              "        <td style=\"padding-left: 1em; padding-right: 1em; text-align: center; vertical-align: top\">-0.13767309486865997</td>\n",
              "        <td style=\"padding-left: 1em; padding-right: 1em; text-align: center; vertical-align: top\">-0.03639746457338333</td>\n",
              "        <td style=\"padding-left: 1em; padding-right: 1em; text-align: center; vertical-align: top\">-0.5105703473091125</td>\n",
              "    </tr>\n",
              "    <tr>\n",
              "        <td style=\"padding-left: 1em; padding-right: 1em; text-align: center; vertical-align: top\">-0.1692042201757431</td>\n",
              "        <td style=\"padding-left: 1em; padding-right: 1em; text-align: center; vertical-align: top\">0.06639043986797333</td>\n",
              "        <td style=\"padding-left: 1em; padding-right: 1em; text-align: center; vertical-align: top\">-0.13767309486865997</td>\n",
              "        <td style=\"padding-left: 1em; padding-right: 1em; text-align: center; vertical-align: top\">-0.03639746457338333</td>\n",
              "        <td style=\"padding-left: 1em; padding-right: 1em; text-align: center; vertical-align: top\">-0.5105703473091125</td>\n",
              "    </tr>\n",
              "    <tr>\n",
              "        <td style=\"padding-left: 1em; padding-right: 1em; text-align: center; vertical-align: top\">-0.1692042201757431</td>\n",
              "        <td style=\"padding-left: 1em; padding-right: 1em; text-align: center; vertical-align: top\">0.06639043986797333</td>\n",
              "        <td style=\"padding-left: 1em; padding-right: 1em; text-align: center; vertical-align: top\">-0.13767309486865997</td>\n",
              "        <td style=\"padding-left: 1em; padding-right: 1em; text-align: center; vertical-align: top\">-0.03639746457338333</td>\n",
              "        <td style=\"padding-left: 1em; padding-right: 1em; text-align: center; vertical-align: top\">-0.5105703473091125</td>\n",
              "    </tr>\n",
              "    <tr>\n",
              "        <td style=\"padding-left: 1em; padding-right: 1em; text-align: center; vertical-align: top\">-0.1692042201757431</td>\n",
              "        <td style=\"padding-left: 1em; padding-right: 1em; text-align: center; vertical-align: top\">0.06639043986797333</td>\n",
              "        <td style=\"padding-left: 1em; padding-right: 1em; text-align: center; vertical-align: top\">-0.13767309486865997</td>\n",
              "        <td style=\"padding-left: 1em; padding-right: 1em; text-align: center; vertical-align: top\">-0.03639746457338333</td>\n",
              "        <td style=\"padding-left: 1em; padding-right: 1em; text-align: center; vertical-align: top\">-0.5105703473091125</td>\n",
              "    </tr>\n",
              "    <tr>\n",
              "        <td style=\"padding-left: 1em; padding-right: 1em; text-align: center; vertical-align: top\">-0.1692042201757431</td>\n",
              "        <td style=\"padding-left: 1em; padding-right: 1em; text-align: center; vertical-align: top\">0.06639043986797333</td>\n",
              "        <td style=\"padding-left: 1em; padding-right: 1em; text-align: center; vertical-align: top\">-0.13767309486865997</td>\n",
              "        <td style=\"padding-left: 1em; padding-right: 1em; text-align: center; vertical-align: top\">-0.03639746457338333</td>\n",
              "        <td style=\"padding-left: 1em; padding-right: 1em; text-align: center; vertical-align: top\">-0.5105703473091125</td>\n",
              "    </tr>\n",
              "    <tr>\n",
              "        <td style=\"padding-left: 1em; padding-right: 1em; text-align: center; vertical-align: top\">-0.1692042201757431</td>\n",
              "        <td style=\"padding-left: 1em; padding-right: 1em; text-align: center; vertical-align: top\">0.06639043986797333</td>\n",
              "        <td style=\"padding-left: 1em; padding-right: 1em; text-align: center; vertical-align: top\">-0.13767309486865997</td>\n",
              "        <td style=\"padding-left: 1em; padding-right: 1em; text-align: center; vertical-align: top\">-0.03639746457338333</td>\n",
              "        <td style=\"padding-left: 1em; padding-right: 1em; text-align: center; vertical-align: top\">-0.5105703473091125</td>\n",
              "    </tr>\n",
              "    <tr>\n",
              "        <td style=\"padding-left: 1em; padding-right: 1em; text-align: center; vertical-align: top\">-0.1692042201757431</td>\n",
              "        <td style=\"padding-left: 1em; padding-right: 1em; text-align: center; vertical-align: top\">0.06639043986797333</td>\n",
              "        <td style=\"padding-left: 1em; padding-right: 1em; text-align: center; vertical-align: top\">-0.13767309486865997</td>\n",
              "        <td style=\"padding-left: 1em; padding-right: 1em; text-align: center; vertical-align: top\">-0.03639746457338333</td>\n",
              "        <td style=\"padding-left: 1em; padding-right: 1em; text-align: center; vertical-align: top\">-0.5105703473091125</td>\n",
              "    </tr>\n",
              "    <tr>\n",
              "        <td style=\"padding-left: 1em; padding-right: 1em; text-align: center; vertical-align: top\">-0.1692042201757431</td>\n",
              "        <td style=\"padding-left: 1em; padding-right: 1em; text-align: center; vertical-align: top\">0.06639043986797333</td>\n",
              "        <td style=\"padding-left: 1em; padding-right: 1em; text-align: center; vertical-align: top\">-0.13767309486865997</td>\n",
              "        <td style=\"padding-left: 1em; padding-right: 1em; text-align: center; vertical-align: top\">-0.03639746457338333</td>\n",
              "        <td style=\"padding-left: 1em; padding-right: 1em; text-align: center; vertical-align: top\">-0.5105703473091125</td>\n",
              "    </tr>\n",
              "    <tr>\n",
              "        <td style=\"padding-left: 1em; padding-right: 1em; text-align: center; vertical-align: top\">-0.1692042201757431</td>\n",
              "        <td style=\"padding-left: 1em; padding-right: 1em; text-align: center; vertical-align: top\">0.06639043986797333</td>\n",
              "        <td style=\"padding-left: 1em; padding-right: 1em; text-align: center; vertical-align: top\">-0.13767309486865997</td>\n",
              "        <td style=\"padding-left: 1em; padding-right: 1em; text-align: center; vertical-align: top\">-0.03639746457338333</td>\n",
              "        <td style=\"padding-left: 1em; padding-right: 1em; text-align: center; vertical-align: top\">-0.5105703473091125</td>\n",
              "    </tr>\n",
              "    <tr>\n",
              "        <td style=\"padding-left: 1em; padding-right: 1em; text-align: center; vertical-align: top\">-0.1692042201757431</td>\n",
              "        <td style=\"padding-left: 1em; padding-right: 1em; text-align: center; vertical-align: top\">0.06639043986797333</td>\n",
              "        <td style=\"padding-left: 1em; padding-right: 1em; text-align: center; vertical-align: top\">-0.13767309486865997</td>\n",
              "        <td style=\"padding-left: 1em; padding-right: 1em; text-align: center; vertical-align: top\">-0.03639746457338333</td>\n",
              "        <td style=\"padding-left: 1em; padding-right: 1em; text-align: center; vertical-align: top\">-0.5105703473091125</td>\n",
              "    </tr>\n",
              "</table>\n",
              "<table frame=\"box\" rules=\"cols\">\n",
              "    <tr>\n",
              "        <th style=\"padding-left: 1em; padding-right: 1em; text-align: center\">embedding.9</th>\n",
              "        <th style=\"padding-left: 1em; padding-right: 1em; text-align: center\">embedding.10</th>\n",
              "        <th style=\"padding-left: 1em; padding-right: 1em; text-align: center\">embedding.11</th>\n",
              "        <th style=\"padding-left: 1em; padding-right: 1em; text-align: center\">embedding.12</th>\n",
              "        <th style=\"padding-left: 1em; padding-right: 1em; text-align: center\">embedding.13</th>\n",
              "    </tr>\n",
              "    <tr>\n",
              "        <td style=\"padding-left: 1em; padding-right: 1em; text-align: center; vertical-align: top\">0.27729615569114685</td>\n",
              "        <td style=\"padding-left: 1em; padding-right: 1em; text-align: center; vertical-align: top\">-0.02775050699710846</td>\n",
              "        <td style=\"padding-left: 1em; padding-right: 1em; text-align: center; vertical-align: top\">0.23222021758556366</td>\n",
              "        <td style=\"padding-left: 1em; padding-right: 1em; text-align: center; vertical-align: top\">0.11150173097848892</td>\n",
              "        <td style=\"padding-left: 1em; padding-right: 1em; text-align: center; vertical-align: top\">-0.35423019528388977</td>\n",
              "    </tr>\n",
              "    <tr>\n",
              "        <td style=\"padding-left: 1em; padding-right: 1em; text-align: center; vertical-align: top\">0.27729615569114685</td>\n",
              "        <td style=\"padding-left: 1em; padding-right: 1em; text-align: center; vertical-align: top\">-0.02775050699710846</td>\n",
              "        <td style=\"padding-left: 1em; padding-right: 1em; text-align: center; vertical-align: top\">0.23222021758556366</td>\n",
              "        <td style=\"padding-left: 1em; padding-right: 1em; text-align: center; vertical-align: top\">0.11150173097848892</td>\n",
              "        <td style=\"padding-left: 1em; padding-right: 1em; text-align: center; vertical-align: top\">-0.35423019528388977</td>\n",
              "    </tr>\n",
              "    <tr>\n",
              "        <td style=\"padding-left: 1em; padding-right: 1em; text-align: center; vertical-align: top\">0.27729615569114685</td>\n",
              "        <td style=\"padding-left: 1em; padding-right: 1em; text-align: center; vertical-align: top\">-0.02775050699710846</td>\n",
              "        <td style=\"padding-left: 1em; padding-right: 1em; text-align: center; vertical-align: top\">0.23222021758556366</td>\n",
              "        <td style=\"padding-left: 1em; padding-right: 1em; text-align: center; vertical-align: top\">0.11150173097848892</td>\n",
              "        <td style=\"padding-left: 1em; padding-right: 1em; text-align: center; vertical-align: top\">-0.35423019528388977</td>\n",
              "    </tr>\n",
              "    <tr>\n",
              "        <td style=\"padding-left: 1em; padding-right: 1em; text-align: center; vertical-align: top\">0.27729615569114685</td>\n",
              "        <td style=\"padding-left: 1em; padding-right: 1em; text-align: center; vertical-align: top\">-0.02775050699710846</td>\n",
              "        <td style=\"padding-left: 1em; padding-right: 1em; text-align: center; vertical-align: top\">0.23222021758556366</td>\n",
              "        <td style=\"padding-left: 1em; padding-right: 1em; text-align: center; vertical-align: top\">0.11150173097848892</td>\n",
              "        <td style=\"padding-left: 1em; padding-right: 1em; text-align: center; vertical-align: top\">-0.35423019528388977</td>\n",
              "    </tr>\n",
              "    <tr>\n",
              "        <td style=\"padding-left: 1em; padding-right: 1em; text-align: center; vertical-align: top\">0.27729615569114685</td>\n",
              "        <td style=\"padding-left: 1em; padding-right: 1em; text-align: center; vertical-align: top\">-0.02775050699710846</td>\n",
              "        <td style=\"padding-left: 1em; padding-right: 1em; text-align: center; vertical-align: top\">0.23222021758556366</td>\n",
              "        <td style=\"padding-left: 1em; padding-right: 1em; text-align: center; vertical-align: top\">0.11150173097848892</td>\n",
              "        <td style=\"padding-left: 1em; padding-right: 1em; text-align: center; vertical-align: top\">-0.35423019528388977</td>\n",
              "    </tr>\n",
              "    <tr>\n",
              "        <td style=\"padding-left: 1em; padding-right: 1em; text-align: center; vertical-align: top\">0.27729615569114685</td>\n",
              "        <td style=\"padding-left: 1em; padding-right: 1em; text-align: center; vertical-align: top\">-0.02775050699710846</td>\n",
              "        <td style=\"padding-left: 1em; padding-right: 1em; text-align: center; vertical-align: top\">0.23222021758556366</td>\n",
              "        <td style=\"padding-left: 1em; padding-right: 1em; text-align: center; vertical-align: top\">0.11150173097848892</td>\n",
              "        <td style=\"padding-left: 1em; padding-right: 1em; text-align: center; vertical-align: top\">-0.35423019528388977</td>\n",
              "    </tr>\n",
              "    <tr>\n",
              "        <td style=\"padding-left: 1em; padding-right: 1em; text-align: center; vertical-align: top\">0.27729615569114685</td>\n",
              "        <td style=\"padding-left: 1em; padding-right: 1em; text-align: center; vertical-align: top\">-0.02775050699710846</td>\n",
              "        <td style=\"padding-left: 1em; padding-right: 1em; text-align: center; vertical-align: top\">0.23222021758556366</td>\n",
              "        <td style=\"padding-left: 1em; padding-right: 1em; text-align: center; vertical-align: top\">0.11150173097848892</td>\n",
              "        <td style=\"padding-left: 1em; padding-right: 1em; text-align: center; vertical-align: top\">-0.35423019528388977</td>\n",
              "    </tr>\n",
              "    <tr>\n",
              "        <td style=\"padding-left: 1em; padding-right: 1em; text-align: center; vertical-align: top\">0.27729615569114685</td>\n",
              "        <td style=\"padding-left: 1em; padding-right: 1em; text-align: center; vertical-align: top\">-0.02775050699710846</td>\n",
              "        <td style=\"padding-left: 1em; padding-right: 1em; text-align: center; vertical-align: top\">0.23222021758556366</td>\n",
              "        <td style=\"padding-left: 1em; padding-right: 1em; text-align: center; vertical-align: top\">0.11150173097848892</td>\n",
              "        <td style=\"padding-left: 1em; padding-right: 1em; text-align: center; vertical-align: top\">-0.35423019528388977</td>\n",
              "    </tr>\n",
              "    <tr>\n",
              "        <td style=\"padding-left: 1em; padding-right: 1em; text-align: center; vertical-align: top\">0.27729615569114685</td>\n",
              "        <td style=\"padding-left: 1em; padding-right: 1em; text-align: center; vertical-align: top\">-0.02775050699710846</td>\n",
              "        <td style=\"padding-left: 1em; padding-right: 1em; text-align: center; vertical-align: top\">0.23222021758556366</td>\n",
              "        <td style=\"padding-left: 1em; padding-right: 1em; text-align: center; vertical-align: top\">0.11150173097848892</td>\n",
              "        <td style=\"padding-left: 1em; padding-right: 1em; text-align: center; vertical-align: top\">-0.35423019528388977</td>\n",
              "    </tr>\n",
              "    <tr>\n",
              "        <td style=\"padding-left: 1em; padding-right: 1em; text-align: center; vertical-align: top\">0.27729615569114685</td>\n",
              "        <td style=\"padding-left: 1em; padding-right: 1em; text-align: center; vertical-align: top\">-0.02775050699710846</td>\n",
              "        <td style=\"padding-left: 1em; padding-right: 1em; text-align: center; vertical-align: top\">0.23222021758556366</td>\n",
              "        <td style=\"padding-left: 1em; padding-right: 1em; text-align: center; vertical-align: top\">0.11150173097848892</td>\n",
              "        <td style=\"padding-left: 1em; padding-right: 1em; text-align: center; vertical-align: top\">-0.35423019528388977</td>\n",
              "    </tr>\n",
              "</table>\n",
              "<table frame=\"box\" rules=\"cols\">\n",
              "    <tr>\n",
              "        <th style=\"padding-left: 1em; padding-right: 1em; text-align: center\">embedding.14</th>\n",
              "        <th style=\"padding-left: 1em; padding-right: 1em; text-align: center\">embedding.15</th>\n",
              "        <th style=\"padding-left: 1em; padding-right: 1em; text-align: center\">embedding.16</th>\n",
              "        <th style=\"padding-left: 1em; padding-right: 1em; text-align: center\">embedding.17</th>\n",
              "        <th style=\"padding-left: 1em; padding-right: 1em; text-align: center\">embedding.18</th>\n",
              "    </tr>\n",
              "    <tr>\n",
              "        <td style=\"padding-left: 1em; padding-right: 1em; text-align: center; vertical-align: top\">-0.636806309223175</td>\n",
              "        <td style=\"padding-left: 1em; padding-right: 1em; text-align: center; vertical-align: top\">0.0778755247592926</td>\n",
              "        <td style=\"padding-left: 1em; padding-right: 1em; text-align: center; vertical-align: top\">0.12758566439151764</td>\n",
              "        <td style=\"padding-left: 1em; padding-right: 1em; text-align: center; vertical-align: top\">0.4105011522769928</td>\n",
              "        <td style=\"padding-left: 1em; padding-right: 1em; text-align: center; vertical-align: top\">-0.0434698760509491</td>\n",
              "    </tr>\n",
              "    <tr>\n",
              "        <td style=\"padding-left: 1em; padding-right: 1em; text-align: center; vertical-align: top\">-0.636806309223175</td>\n",
              "        <td style=\"padding-left: 1em; padding-right: 1em; text-align: center; vertical-align: top\">0.0778755247592926</td>\n",
              "        <td style=\"padding-left: 1em; padding-right: 1em; text-align: center; vertical-align: top\">0.12758566439151764</td>\n",
              "        <td style=\"padding-left: 1em; padding-right: 1em; text-align: center; vertical-align: top\">0.4105011522769928</td>\n",
              "        <td style=\"padding-left: 1em; padding-right: 1em; text-align: center; vertical-align: top\">-0.0434698760509491</td>\n",
              "    </tr>\n",
              "    <tr>\n",
              "        <td style=\"padding-left: 1em; padding-right: 1em; text-align: center; vertical-align: top\">-0.636806309223175</td>\n",
              "        <td style=\"padding-left: 1em; padding-right: 1em; text-align: center; vertical-align: top\">0.0778755247592926</td>\n",
              "        <td style=\"padding-left: 1em; padding-right: 1em; text-align: center; vertical-align: top\">0.12758566439151764</td>\n",
              "        <td style=\"padding-left: 1em; padding-right: 1em; text-align: center; vertical-align: top\">0.4105011522769928</td>\n",
              "        <td style=\"padding-left: 1em; padding-right: 1em; text-align: center; vertical-align: top\">-0.0434698760509491</td>\n",
              "    </tr>\n",
              "    <tr>\n",
              "        <td style=\"padding-left: 1em; padding-right: 1em; text-align: center; vertical-align: top\">-0.636806309223175</td>\n",
              "        <td style=\"padding-left: 1em; padding-right: 1em; text-align: center; vertical-align: top\">0.0778755247592926</td>\n",
              "        <td style=\"padding-left: 1em; padding-right: 1em; text-align: center; vertical-align: top\">0.12758566439151764</td>\n",
              "        <td style=\"padding-left: 1em; padding-right: 1em; text-align: center; vertical-align: top\">0.4105011522769928</td>\n",
              "        <td style=\"padding-left: 1em; padding-right: 1em; text-align: center; vertical-align: top\">-0.0434698760509491</td>\n",
              "    </tr>\n",
              "    <tr>\n",
              "        <td style=\"padding-left: 1em; padding-right: 1em; text-align: center; vertical-align: top\">-0.636806309223175</td>\n",
              "        <td style=\"padding-left: 1em; padding-right: 1em; text-align: center; vertical-align: top\">0.0778755247592926</td>\n",
              "        <td style=\"padding-left: 1em; padding-right: 1em; text-align: center; vertical-align: top\">0.12758566439151764</td>\n",
              "        <td style=\"padding-left: 1em; padding-right: 1em; text-align: center; vertical-align: top\">0.4105011522769928</td>\n",
              "        <td style=\"padding-left: 1em; padding-right: 1em; text-align: center; vertical-align: top\">-0.0434698760509491</td>\n",
              "    </tr>\n",
              "    <tr>\n",
              "        <td style=\"padding-left: 1em; padding-right: 1em; text-align: center; vertical-align: top\">-0.636806309223175</td>\n",
              "        <td style=\"padding-left: 1em; padding-right: 1em; text-align: center; vertical-align: top\">0.0778755247592926</td>\n",
              "        <td style=\"padding-left: 1em; padding-right: 1em; text-align: center; vertical-align: top\">0.12758566439151764</td>\n",
              "        <td style=\"padding-left: 1em; padding-right: 1em; text-align: center; vertical-align: top\">0.4105011522769928</td>\n",
              "        <td style=\"padding-left: 1em; padding-right: 1em; text-align: center; vertical-align: top\">-0.0434698760509491</td>\n",
              "    </tr>\n",
              "    <tr>\n",
              "        <td style=\"padding-left: 1em; padding-right: 1em; text-align: center; vertical-align: top\">-0.636806309223175</td>\n",
              "        <td style=\"padding-left: 1em; padding-right: 1em; text-align: center; vertical-align: top\">0.0778755247592926</td>\n",
              "        <td style=\"padding-left: 1em; padding-right: 1em; text-align: center; vertical-align: top\">0.12758566439151764</td>\n",
              "        <td style=\"padding-left: 1em; padding-right: 1em; text-align: center; vertical-align: top\">0.4105011522769928</td>\n",
              "        <td style=\"padding-left: 1em; padding-right: 1em; text-align: center; vertical-align: top\">-0.0434698760509491</td>\n",
              "    </tr>\n",
              "    <tr>\n",
              "        <td style=\"padding-left: 1em; padding-right: 1em; text-align: center; vertical-align: top\">-0.636806309223175</td>\n",
              "        <td style=\"padding-left: 1em; padding-right: 1em; text-align: center; vertical-align: top\">0.0778755247592926</td>\n",
              "        <td style=\"padding-left: 1em; padding-right: 1em; text-align: center; vertical-align: top\">0.12758566439151764</td>\n",
              "        <td style=\"padding-left: 1em; padding-right: 1em; text-align: center; vertical-align: top\">0.4105011522769928</td>\n",
              "        <td style=\"padding-left: 1em; padding-right: 1em; text-align: center; vertical-align: top\">-0.0434698760509491</td>\n",
              "    </tr>\n",
              "    <tr>\n",
              "        <td style=\"padding-left: 1em; padding-right: 1em; text-align: center; vertical-align: top\">-0.636806309223175</td>\n",
              "        <td style=\"padding-left: 1em; padding-right: 1em; text-align: center; vertical-align: top\">0.0778755247592926</td>\n",
              "        <td style=\"padding-left: 1em; padding-right: 1em; text-align: center; vertical-align: top\">0.12758566439151764</td>\n",
              "        <td style=\"padding-left: 1em; padding-right: 1em; text-align: center; vertical-align: top\">0.4105011522769928</td>\n",
              "        <td style=\"padding-left: 1em; padding-right: 1em; text-align: center; vertical-align: top\">-0.0434698760509491</td>\n",
              "    </tr>\n",
              "    <tr>\n",
              "        <td style=\"padding-left: 1em; padding-right: 1em; text-align: center; vertical-align: top\">-0.636806309223175</td>\n",
              "        <td style=\"padding-left: 1em; padding-right: 1em; text-align: center; vertical-align: top\">0.0778755247592926</td>\n",
              "        <td style=\"padding-left: 1em; padding-right: 1em; text-align: center; vertical-align: top\">0.12758566439151764</td>\n",
              "        <td style=\"padding-left: 1em; padding-right: 1em; text-align: center; vertical-align: top\">0.4105011522769928</td>\n",
              "        <td style=\"padding-left: 1em; padding-right: 1em; text-align: center; vertical-align: top\">-0.0434698760509491</td>\n",
              "    </tr>\n",
              "</table>\n",
              "<table frame=\"box\" rules=\"cols\">\n",
              "    <tr>\n",
              "        <th style=\"padding-left: 1em; padding-right: 1em; text-align: center\">embedding.19</th>\n",
              "        <th style=\"padding-left: 1em; padding-right: 1em; text-align: center\">embedding.20</th>\n",
              "        <th style=\"padding-left: 1em; padding-right: 1em; text-align: center\">embedding.21</th>\n",
              "        <th style=\"padding-left: 1em; padding-right: 1em; text-align: center\">embedding.22</th>\n",
              "        <th style=\"padding-left: 1em; padding-right: 1em; text-align: center\">embedding.23</th>\n",
              "    </tr>\n",
              "    <tr>\n",
              "        <td style=\"padding-left: 1em; padding-right: 1em; text-align: center; vertical-align: top\">0.10940682888031006</td>\n",
              "        <td style=\"padding-left: 1em; padding-right: 1em; text-align: center; vertical-align: top\">0.08311957865953445</td>\n",
              "        <td style=\"padding-left: 1em; padding-right: 1em; text-align: center; vertical-align: top\">-0.2128213495016098</td>\n",
              "        <td style=\"padding-left: 1em; padding-right: 1em; text-align: center; vertical-align: top\">-0.051974233239889145</td>\n",
              "        <td style=\"padding-left: 1em; padding-right: 1em; text-align: center; vertical-align: top\">-0.025508703663945198</td>\n",
              "    </tr>\n",
              "    <tr>\n",
              "        <td style=\"padding-left: 1em; padding-right: 1em; text-align: center; vertical-align: top\">0.10940682888031006</td>\n",
              "        <td style=\"padding-left: 1em; padding-right: 1em; text-align: center; vertical-align: top\">0.08311957865953445</td>\n",
              "        <td style=\"padding-left: 1em; padding-right: 1em; text-align: center; vertical-align: top\">-0.2128213495016098</td>\n",
              "        <td style=\"padding-left: 1em; padding-right: 1em; text-align: center; vertical-align: top\">-0.051974233239889145</td>\n",
              "        <td style=\"padding-left: 1em; padding-right: 1em; text-align: center; vertical-align: top\">-0.025508703663945198</td>\n",
              "    </tr>\n",
              "    <tr>\n",
              "        <td style=\"padding-left: 1em; padding-right: 1em; text-align: center; vertical-align: top\">0.10940682888031006</td>\n",
              "        <td style=\"padding-left: 1em; padding-right: 1em; text-align: center; vertical-align: top\">0.08311957865953445</td>\n",
              "        <td style=\"padding-left: 1em; padding-right: 1em; text-align: center; vertical-align: top\">-0.2128213495016098</td>\n",
              "        <td style=\"padding-left: 1em; padding-right: 1em; text-align: center; vertical-align: top\">-0.051974233239889145</td>\n",
              "        <td style=\"padding-left: 1em; padding-right: 1em; text-align: center; vertical-align: top\">-0.025508703663945198</td>\n",
              "    </tr>\n",
              "    <tr>\n",
              "        <td style=\"padding-left: 1em; padding-right: 1em; text-align: center; vertical-align: top\">0.10940682888031006</td>\n",
              "        <td style=\"padding-left: 1em; padding-right: 1em; text-align: center; vertical-align: top\">0.08311957865953445</td>\n",
              "        <td style=\"padding-left: 1em; padding-right: 1em; text-align: center; vertical-align: top\">-0.2128213495016098</td>\n",
              "        <td style=\"padding-left: 1em; padding-right: 1em; text-align: center; vertical-align: top\">-0.051974233239889145</td>\n",
              "        <td style=\"padding-left: 1em; padding-right: 1em; text-align: center; vertical-align: top\">-0.025508703663945198</td>\n",
              "    </tr>\n",
              "    <tr>\n",
              "        <td style=\"padding-left: 1em; padding-right: 1em; text-align: center; vertical-align: top\">0.10940682888031006</td>\n",
              "        <td style=\"padding-left: 1em; padding-right: 1em; text-align: center; vertical-align: top\">0.08311957865953445</td>\n",
              "        <td style=\"padding-left: 1em; padding-right: 1em; text-align: center; vertical-align: top\">-0.2128213495016098</td>\n",
              "        <td style=\"padding-left: 1em; padding-right: 1em; text-align: center; vertical-align: top\">-0.051974233239889145</td>\n",
              "        <td style=\"padding-left: 1em; padding-right: 1em; text-align: center; vertical-align: top\">-0.025508703663945198</td>\n",
              "    </tr>\n",
              "    <tr>\n",
              "        <td style=\"padding-left: 1em; padding-right: 1em; text-align: center; vertical-align: top\">0.10940682888031006</td>\n",
              "        <td style=\"padding-left: 1em; padding-right: 1em; text-align: center; vertical-align: top\">0.08311957865953445</td>\n",
              "        <td style=\"padding-left: 1em; padding-right: 1em; text-align: center; vertical-align: top\">-0.2128213495016098</td>\n",
              "        <td style=\"padding-left: 1em; padding-right: 1em; text-align: center; vertical-align: top\">-0.051974233239889145</td>\n",
              "        <td style=\"padding-left: 1em; padding-right: 1em; text-align: center; vertical-align: top\">-0.025508703663945198</td>\n",
              "    </tr>\n",
              "    <tr>\n",
              "        <td style=\"padding-left: 1em; padding-right: 1em; text-align: center; vertical-align: top\">0.10940682888031006</td>\n",
              "        <td style=\"padding-left: 1em; padding-right: 1em; text-align: center; vertical-align: top\">0.08311957865953445</td>\n",
              "        <td style=\"padding-left: 1em; padding-right: 1em; text-align: center; vertical-align: top\">-0.2128213495016098</td>\n",
              "        <td style=\"padding-left: 1em; padding-right: 1em; text-align: center; vertical-align: top\">-0.051974233239889145</td>\n",
              "        <td style=\"padding-left: 1em; padding-right: 1em; text-align: center; vertical-align: top\">-0.025508703663945198</td>\n",
              "    </tr>\n",
              "    <tr>\n",
              "        <td style=\"padding-left: 1em; padding-right: 1em; text-align: center; vertical-align: top\">0.10940682888031006</td>\n",
              "        <td style=\"padding-left: 1em; padding-right: 1em; text-align: center; vertical-align: top\">0.08311957865953445</td>\n",
              "        <td style=\"padding-left: 1em; padding-right: 1em; text-align: center; vertical-align: top\">-0.2128213495016098</td>\n",
              "        <td style=\"padding-left: 1em; padding-right: 1em; text-align: center; vertical-align: top\">-0.051974233239889145</td>\n",
              "        <td style=\"padding-left: 1em; padding-right: 1em; text-align: center; vertical-align: top\">-0.025508703663945198</td>\n",
              "    </tr>\n",
              "    <tr>\n",
              "        <td style=\"padding-left: 1em; padding-right: 1em; text-align: center; vertical-align: top\">0.10940682888031006</td>\n",
              "        <td style=\"padding-left: 1em; padding-right: 1em; text-align: center; vertical-align: top\">0.08311957865953445</td>\n",
              "        <td style=\"padding-left: 1em; padding-right: 1em; text-align: center; vertical-align: top\">-0.2128213495016098</td>\n",
              "        <td style=\"padding-left: 1em; padding-right: 1em; text-align: center; vertical-align: top\">-0.051974233239889145</td>\n",
              "        <td style=\"padding-left: 1em; padding-right: 1em; text-align: center; vertical-align: top\">-0.025508703663945198</td>\n",
              "    </tr>\n",
              "    <tr>\n",
              "        <td style=\"padding-left: 1em; padding-right: 1em; text-align: center; vertical-align: top\">0.10940682888031006</td>\n",
              "        <td style=\"padding-left: 1em; padding-right: 1em; text-align: center; vertical-align: top\">0.08311957865953445</td>\n",
              "        <td style=\"padding-left: 1em; padding-right: 1em; text-align: center; vertical-align: top\">-0.2128213495016098</td>\n",
              "        <td style=\"padding-left: 1em; padding-right: 1em; text-align: center; vertical-align: top\">-0.051974233239889145</td>\n",
              "        <td style=\"padding-left: 1em; padding-right: 1em; text-align: center; vertical-align: top\">-0.025508703663945198</td>\n",
              "    </tr>\n",
              "</table>\n",
              "<table frame=\"box\" rules=\"cols\">\n",
              "    <tr>\n",
              "        <th style=\"padding-left: 1em; padding-right: 1em; text-align: center\">embedding.24</th>\n",
              "        <th style=\"padding-left: 1em; padding-right: 1em; text-align: center\">embedding.25</th>\n",
              "        <th style=\"padding-left: 1em; padding-right: 1em; text-align: center\">embedding.26</th>\n",
              "        <th style=\"padding-left: 1em; padding-right: 1em; text-align: center\">embedding.27</th>\n",
              "        <th style=\"padding-left: 1em; padding-right: 1em; text-align: center\">embedding.28</th>\n",
              "    </tr>\n",
              "    <tr>\n",
              "        <td style=\"padding-left: 1em; padding-right: 1em; text-align: center; vertical-align: top\">0.15113011002540588</td>\n",
              "        <td style=\"padding-left: 1em; padding-right: 1em; text-align: center; vertical-align: top\">-0.15196441113948822</td>\n",
              "        <td style=\"padding-left: 1em; padding-right: 1em; text-align: center; vertical-align: top\">0.12624531984329224</td>\n",
              "        <td style=\"padding-left: 1em; padding-right: 1em; text-align: center; vertical-align: top\">-0.4343486428260803</td>\n",
              "        <td style=\"padding-left: 1em; padding-right: 1em; text-align: center; vertical-align: top\">-0.01970130205154419</td>\n",
              "    </tr>\n",
              "    <tr>\n",
              "        <td style=\"padding-left: 1em; padding-right: 1em; text-align: center; vertical-align: top\">0.15113011002540588</td>\n",
              "        <td style=\"padding-left: 1em; padding-right: 1em; text-align: center; vertical-align: top\">-0.15196441113948822</td>\n",
              "        <td style=\"padding-left: 1em; padding-right: 1em; text-align: center; vertical-align: top\">0.12624531984329224</td>\n",
              "        <td style=\"padding-left: 1em; padding-right: 1em; text-align: center; vertical-align: top\">-0.4343486428260803</td>\n",
              "        <td style=\"padding-left: 1em; padding-right: 1em; text-align: center; vertical-align: top\">-0.01970130205154419</td>\n",
              "    </tr>\n",
              "    <tr>\n",
              "        <td style=\"padding-left: 1em; padding-right: 1em; text-align: center; vertical-align: top\">0.15113011002540588</td>\n",
              "        <td style=\"padding-left: 1em; padding-right: 1em; text-align: center; vertical-align: top\">-0.15196441113948822</td>\n",
              "        <td style=\"padding-left: 1em; padding-right: 1em; text-align: center; vertical-align: top\">0.12624531984329224</td>\n",
              "        <td style=\"padding-left: 1em; padding-right: 1em; text-align: center; vertical-align: top\">-0.4343486428260803</td>\n",
              "        <td style=\"padding-left: 1em; padding-right: 1em; text-align: center; vertical-align: top\">-0.01970130205154419</td>\n",
              "    </tr>\n",
              "    <tr>\n",
              "        <td style=\"padding-left: 1em; padding-right: 1em; text-align: center; vertical-align: top\">0.15113011002540588</td>\n",
              "        <td style=\"padding-left: 1em; padding-right: 1em; text-align: center; vertical-align: top\">-0.15196441113948822</td>\n",
              "        <td style=\"padding-left: 1em; padding-right: 1em; text-align: center; vertical-align: top\">0.12624531984329224</td>\n",
              "        <td style=\"padding-left: 1em; padding-right: 1em; text-align: center; vertical-align: top\">-0.4343486428260803</td>\n",
              "        <td style=\"padding-left: 1em; padding-right: 1em; text-align: center; vertical-align: top\">-0.01970130205154419</td>\n",
              "    </tr>\n",
              "    <tr>\n",
              "        <td style=\"padding-left: 1em; padding-right: 1em; text-align: center; vertical-align: top\">0.15113011002540588</td>\n",
              "        <td style=\"padding-left: 1em; padding-right: 1em; text-align: center; vertical-align: top\">-0.15196441113948822</td>\n",
              "        <td style=\"padding-left: 1em; padding-right: 1em; text-align: center; vertical-align: top\">0.12624531984329224</td>\n",
              "        <td style=\"padding-left: 1em; padding-right: 1em; text-align: center; vertical-align: top\">-0.4343486428260803</td>\n",
              "        <td style=\"padding-left: 1em; padding-right: 1em; text-align: center; vertical-align: top\">-0.01970130205154419</td>\n",
              "    </tr>\n",
              "    <tr>\n",
              "        <td style=\"padding-left: 1em; padding-right: 1em; text-align: center; vertical-align: top\">0.15113011002540588</td>\n",
              "        <td style=\"padding-left: 1em; padding-right: 1em; text-align: center; vertical-align: top\">-0.15196441113948822</td>\n",
              "        <td style=\"padding-left: 1em; padding-right: 1em; text-align: center; vertical-align: top\">0.12624531984329224</td>\n",
              "        <td style=\"padding-left: 1em; padding-right: 1em; text-align: center; vertical-align: top\">-0.4343486428260803</td>\n",
              "        <td style=\"padding-left: 1em; padding-right: 1em; text-align: center; vertical-align: top\">-0.01970130205154419</td>\n",
              "    </tr>\n",
              "    <tr>\n",
              "        <td style=\"padding-left: 1em; padding-right: 1em; text-align: center; vertical-align: top\">0.15113011002540588</td>\n",
              "        <td style=\"padding-left: 1em; padding-right: 1em; text-align: center; vertical-align: top\">-0.15196441113948822</td>\n",
              "        <td style=\"padding-left: 1em; padding-right: 1em; text-align: center; vertical-align: top\">0.12624531984329224</td>\n",
              "        <td style=\"padding-left: 1em; padding-right: 1em; text-align: center; vertical-align: top\">-0.4343486428260803</td>\n",
              "        <td style=\"padding-left: 1em; padding-right: 1em; text-align: center; vertical-align: top\">-0.01970130205154419</td>\n",
              "    </tr>\n",
              "    <tr>\n",
              "        <td style=\"padding-left: 1em; padding-right: 1em; text-align: center; vertical-align: top\">0.15113011002540588</td>\n",
              "        <td style=\"padding-left: 1em; padding-right: 1em; text-align: center; vertical-align: top\">-0.15196441113948822</td>\n",
              "        <td style=\"padding-left: 1em; padding-right: 1em; text-align: center; vertical-align: top\">0.12624531984329224</td>\n",
              "        <td style=\"padding-left: 1em; padding-right: 1em; text-align: center; vertical-align: top\">-0.4343486428260803</td>\n",
              "        <td style=\"padding-left: 1em; padding-right: 1em; text-align: center; vertical-align: top\">-0.01970130205154419</td>\n",
              "    </tr>\n",
              "    <tr>\n",
              "        <td style=\"padding-left: 1em; padding-right: 1em; text-align: center; vertical-align: top\">0.15113011002540588</td>\n",
              "        <td style=\"padding-left: 1em; padding-right: 1em; text-align: center; vertical-align: top\">-0.15196441113948822</td>\n",
              "        <td style=\"padding-left: 1em; padding-right: 1em; text-align: center; vertical-align: top\">0.12624531984329224</td>\n",
              "        <td style=\"padding-left: 1em; padding-right: 1em; text-align: center; vertical-align: top\">-0.4343486428260803</td>\n",
              "        <td style=\"padding-left: 1em; padding-right: 1em; text-align: center; vertical-align: top\">-0.01970130205154419</td>\n",
              "    </tr>\n",
              "    <tr>\n",
              "        <td style=\"padding-left: 1em; padding-right: 1em; text-align: center; vertical-align: top\">0.15113011002540588</td>\n",
              "        <td style=\"padding-left: 1em; padding-right: 1em; text-align: center; vertical-align: top\">-0.15196441113948822</td>\n",
              "        <td style=\"padding-left: 1em; padding-right: 1em; text-align: center; vertical-align: top\">0.12624531984329224</td>\n",
              "        <td style=\"padding-left: 1em; padding-right: 1em; text-align: center; vertical-align: top\">-0.4343486428260803</td>\n",
              "        <td style=\"padding-left: 1em; padding-right: 1em; text-align: center; vertical-align: top\">-0.01970130205154419</td>\n",
              "    </tr>\n",
              "</table>\n",
              "<table frame=\"box\" rules=\"cols\">\n",
              "    <tr>\n",
              "        <th style=\"padding-left: 1em; padding-right: 1em; text-align: center\">embedding.29</th>\n",
              "        <th style=\"padding-left: 1em; padding-right: 1em; text-align: center\">embedding.30</th>\n",
              "        <th style=\"padding-left: 1em; padding-right: 1em; text-align: center\">embedding.31</th>\n",
              "        <th style=\"padding-left: 1em; padding-right: 1em; text-align: center\">embedding.32</th>\n",
              "        <th style=\"padding-left: 1em; padding-right: 1em; text-align: center\">embedding.33</th>\n",
              "    </tr>\n",
              "    <tr>\n",
              "        <td style=\"padding-left: 1em; padding-right: 1em; text-align: center; vertical-align: top\">-0.0479477234184742</td>\n",
              "        <td style=\"padding-left: 1em; padding-right: 1em; text-align: center; vertical-align: top\">-0.2459874004125595</td>\n",
              "        <td style=\"padding-left: 1em; padding-right: 1em; text-align: center; vertical-align: top\">-0.013466699048876762</td>\n",
              "        <td style=\"padding-left: 1em; padding-right: 1em; text-align: center; vertical-align: top\">0.1646823287010193</td>\n",
              "        <td style=\"padding-left: 1em; padding-right: 1em; text-align: center; vertical-align: top\">0.1488516479730606</td>\n",
              "    </tr>\n",
              "    <tr>\n",
              "        <td style=\"padding-left: 1em; padding-right: 1em; text-align: center; vertical-align: top\">-0.0479477234184742</td>\n",
              "        <td style=\"padding-left: 1em; padding-right: 1em; text-align: center; vertical-align: top\">-0.2459874004125595</td>\n",
              "        <td style=\"padding-left: 1em; padding-right: 1em; text-align: center; vertical-align: top\">-0.013466699048876762</td>\n",
              "        <td style=\"padding-left: 1em; padding-right: 1em; text-align: center; vertical-align: top\">0.1646823287010193</td>\n",
              "        <td style=\"padding-left: 1em; padding-right: 1em; text-align: center; vertical-align: top\">0.1488516479730606</td>\n",
              "    </tr>\n",
              "    <tr>\n",
              "        <td style=\"padding-left: 1em; padding-right: 1em; text-align: center; vertical-align: top\">-0.0479477234184742</td>\n",
              "        <td style=\"padding-left: 1em; padding-right: 1em; text-align: center; vertical-align: top\">-0.2459874004125595</td>\n",
              "        <td style=\"padding-left: 1em; padding-right: 1em; text-align: center; vertical-align: top\">-0.013466699048876762</td>\n",
              "        <td style=\"padding-left: 1em; padding-right: 1em; text-align: center; vertical-align: top\">0.1646823287010193</td>\n",
              "        <td style=\"padding-left: 1em; padding-right: 1em; text-align: center; vertical-align: top\">0.1488516479730606</td>\n",
              "    </tr>\n",
              "    <tr>\n",
              "        <td style=\"padding-left: 1em; padding-right: 1em; text-align: center; vertical-align: top\">-0.0479477234184742</td>\n",
              "        <td style=\"padding-left: 1em; padding-right: 1em; text-align: center; vertical-align: top\">-0.2459874004125595</td>\n",
              "        <td style=\"padding-left: 1em; padding-right: 1em; text-align: center; vertical-align: top\">-0.013466699048876762</td>\n",
              "        <td style=\"padding-left: 1em; padding-right: 1em; text-align: center; vertical-align: top\">0.1646823287010193</td>\n",
              "        <td style=\"padding-left: 1em; padding-right: 1em; text-align: center; vertical-align: top\">0.1488516479730606</td>\n",
              "    </tr>\n",
              "    <tr>\n",
              "        <td style=\"padding-left: 1em; padding-right: 1em; text-align: center; vertical-align: top\">-0.0479477234184742</td>\n",
              "        <td style=\"padding-left: 1em; padding-right: 1em; text-align: center; vertical-align: top\">-0.2459874004125595</td>\n",
              "        <td style=\"padding-left: 1em; padding-right: 1em; text-align: center; vertical-align: top\">-0.013466699048876762</td>\n",
              "        <td style=\"padding-left: 1em; padding-right: 1em; text-align: center; vertical-align: top\">0.1646823287010193</td>\n",
              "        <td style=\"padding-left: 1em; padding-right: 1em; text-align: center; vertical-align: top\">0.1488516479730606</td>\n",
              "    </tr>\n",
              "    <tr>\n",
              "        <td style=\"padding-left: 1em; padding-right: 1em; text-align: center; vertical-align: top\">-0.0479477234184742</td>\n",
              "        <td style=\"padding-left: 1em; padding-right: 1em; text-align: center; vertical-align: top\">-0.2459874004125595</td>\n",
              "        <td style=\"padding-left: 1em; padding-right: 1em; text-align: center; vertical-align: top\">-0.013466699048876762</td>\n",
              "        <td style=\"padding-left: 1em; padding-right: 1em; text-align: center; vertical-align: top\">0.1646823287010193</td>\n",
              "        <td style=\"padding-left: 1em; padding-right: 1em; text-align: center; vertical-align: top\">0.1488516479730606</td>\n",
              "    </tr>\n",
              "    <tr>\n",
              "        <td style=\"padding-left: 1em; padding-right: 1em; text-align: center; vertical-align: top\">-0.0479477234184742</td>\n",
              "        <td style=\"padding-left: 1em; padding-right: 1em; text-align: center; vertical-align: top\">-0.2459874004125595</td>\n",
              "        <td style=\"padding-left: 1em; padding-right: 1em; text-align: center; vertical-align: top\">-0.013466699048876762</td>\n",
              "        <td style=\"padding-left: 1em; padding-right: 1em; text-align: center; vertical-align: top\">0.1646823287010193</td>\n",
              "        <td style=\"padding-left: 1em; padding-right: 1em; text-align: center; vertical-align: top\">0.1488516479730606</td>\n",
              "    </tr>\n",
              "    <tr>\n",
              "        <td style=\"padding-left: 1em; padding-right: 1em; text-align: center; vertical-align: top\">-0.0479477234184742</td>\n",
              "        <td style=\"padding-left: 1em; padding-right: 1em; text-align: center; vertical-align: top\">-0.2459874004125595</td>\n",
              "        <td style=\"padding-left: 1em; padding-right: 1em; text-align: center; vertical-align: top\">-0.013466699048876762</td>\n",
              "        <td style=\"padding-left: 1em; padding-right: 1em; text-align: center; vertical-align: top\">0.1646823287010193</td>\n",
              "        <td style=\"padding-left: 1em; padding-right: 1em; text-align: center; vertical-align: top\">0.1488516479730606</td>\n",
              "    </tr>\n",
              "    <tr>\n",
              "        <td style=\"padding-left: 1em; padding-right: 1em; text-align: center; vertical-align: top\">-0.0479477234184742</td>\n",
              "        <td style=\"padding-left: 1em; padding-right: 1em; text-align: center; vertical-align: top\">-0.2459874004125595</td>\n",
              "        <td style=\"padding-left: 1em; padding-right: 1em; text-align: center; vertical-align: top\">-0.013466699048876762</td>\n",
              "        <td style=\"padding-left: 1em; padding-right: 1em; text-align: center; vertical-align: top\">0.1646823287010193</td>\n",
              "        <td style=\"padding-left: 1em; padding-right: 1em; text-align: center; vertical-align: top\">0.1488516479730606</td>\n",
              "    </tr>\n",
              "    <tr>\n",
              "        <td style=\"padding-left: 1em; padding-right: 1em; text-align: center; vertical-align: top\">-0.0479477234184742</td>\n",
              "        <td style=\"padding-left: 1em; padding-right: 1em; text-align: center; vertical-align: top\">-0.2459874004125595</td>\n",
              "        <td style=\"padding-left: 1em; padding-right: 1em; text-align: center; vertical-align: top\">-0.013466699048876762</td>\n",
              "        <td style=\"padding-left: 1em; padding-right: 1em; text-align: center; vertical-align: top\">0.1646823287010193</td>\n",
              "        <td style=\"padding-left: 1em; padding-right: 1em; text-align: center; vertical-align: top\">0.1488516479730606</td>\n",
              "    </tr>\n",
              "</table>\n",
              "<table frame=\"box\" rules=\"cols\">\n",
              "    <tr>\n",
              "        <th style=\"padding-left: 1em; padding-right: 1em; text-align: center\">embedding.34</th>\n",
              "        <th style=\"padding-left: 1em; padding-right: 1em; text-align: center\">embedding.35</th>\n",
              "        <th style=\"padding-left: 1em; padding-right: 1em; text-align: center\">...</th>\n",
              "    </tr>\n",
              "    <tr>\n",
              "        <td style=\"padding-left: 1em; padding-right: 1em; text-align: center; vertical-align: top\">-0.43021830916404724</td>\n",
              "        <td style=\"padding-left: 1em; padding-right: 1em; text-align: center; vertical-align: top\">0.35740676522254944</td>\n",
              "        <td style=\"padding-left: 1em; padding-right: 1em; text-align: center; vertical-align: top\">...</td>\n",
              "    </tr>\n",
              "    <tr>\n",
              "        <td style=\"padding-left: 1em; padding-right: 1em; text-align: center; vertical-align: top\">-0.43021830916404724</td>\n",
              "        <td style=\"padding-left: 1em; padding-right: 1em; text-align: center; vertical-align: top\">0.35740676522254944</td>\n",
              "        <td style=\"padding-left: 1em; padding-right: 1em; text-align: center; vertical-align: top\">...</td>\n",
              "    </tr>\n",
              "    <tr>\n",
              "        <td style=\"padding-left: 1em; padding-right: 1em; text-align: center; vertical-align: top\">-0.43021830916404724</td>\n",
              "        <td style=\"padding-left: 1em; padding-right: 1em; text-align: center; vertical-align: top\">0.35740676522254944</td>\n",
              "        <td style=\"padding-left: 1em; padding-right: 1em; text-align: center; vertical-align: top\">...</td>\n",
              "    </tr>\n",
              "    <tr>\n",
              "        <td style=\"padding-left: 1em; padding-right: 1em; text-align: center; vertical-align: top\">-0.43021830916404724</td>\n",
              "        <td style=\"padding-left: 1em; padding-right: 1em; text-align: center; vertical-align: top\">0.35740676522254944</td>\n",
              "        <td style=\"padding-left: 1em; padding-right: 1em; text-align: center; vertical-align: top\">...</td>\n",
              "    </tr>\n",
              "    <tr>\n",
              "        <td style=\"padding-left: 1em; padding-right: 1em; text-align: center; vertical-align: top\">-0.43021830916404724</td>\n",
              "        <td style=\"padding-left: 1em; padding-right: 1em; text-align: center; vertical-align: top\">0.35740676522254944</td>\n",
              "        <td style=\"padding-left: 1em; padding-right: 1em; text-align: center; vertical-align: top\">...</td>\n",
              "    </tr>\n",
              "    <tr>\n",
              "        <td style=\"padding-left: 1em; padding-right: 1em; text-align: center; vertical-align: top\">-0.43021830916404724</td>\n",
              "        <td style=\"padding-left: 1em; padding-right: 1em; text-align: center; vertical-align: top\">0.35740676522254944</td>\n",
              "        <td style=\"padding-left: 1em; padding-right: 1em; text-align: center; vertical-align: top\">...</td>\n",
              "    </tr>\n",
              "    <tr>\n",
              "        <td style=\"padding-left: 1em; padding-right: 1em; text-align: center; vertical-align: top\">-0.43021830916404724</td>\n",
              "        <td style=\"padding-left: 1em; padding-right: 1em; text-align: center; vertical-align: top\">0.35740676522254944</td>\n",
              "        <td style=\"padding-left: 1em; padding-right: 1em; text-align: center; vertical-align: top\">...</td>\n",
              "    </tr>\n",
              "    <tr>\n",
              "        <td style=\"padding-left: 1em; padding-right: 1em; text-align: center; vertical-align: top\">-0.43021830916404724</td>\n",
              "        <td style=\"padding-left: 1em; padding-right: 1em; text-align: center; vertical-align: top\">0.35740676522254944</td>\n",
              "        <td style=\"padding-left: 1em; padding-right: 1em; text-align: center; vertical-align: top\">...</td>\n",
              "    </tr>\n",
              "    <tr>\n",
              "        <td style=\"padding-left: 1em; padding-right: 1em; text-align: center; vertical-align: top\">-0.43021830916404724</td>\n",
              "        <td style=\"padding-left: 1em; padding-right: 1em; text-align: center; vertical-align: top\">0.35740676522254944</td>\n",
              "        <td style=\"padding-left: 1em; padding-right: 1em; text-align: center; vertical-align: top\">...</td>\n",
              "    </tr>\n",
              "    <tr>\n",
              "        <td style=\"padding-left: 1em; padding-right: 1em; text-align: center; vertical-align: top\">-0.43021830916404724</td>\n",
              "        <td style=\"padding-left: 1em; padding-right: 1em; text-align: center; vertical-align: top\">0.35740676522254944</td>\n",
              "        <td style=\"padding-left: 1em; padding-right: 1em; text-align: center; vertical-align: top\">...</td>\n",
              "    </tr>\n",
              "</table>\n",
              "[3600 rows x 260 columns]<br/>Note: Only the head of the SFrame is printed.<br/>You can use print_rows(num_rows=m, num_columns=n) to print more rows and columns.\n",
              "</div>"
            ]
          },
          "metadata": {},
          "execution_count": 22
        }
      ]
    },
    {
      "cell_type": "markdown",
      "source": [
        "**Question 2:** Use three different centrality algorithms to identify managers at Enron.\n",
        "    Evaluate the precision@10 of the algorithms, i.e. how many managers attained the top-10 highest ranks (30pt). Draw\n",
        "    the network and visualize one of the centrality measures (10pt)\n"
      ],
      "metadata": {
        "collapsed": false,
        "id": "3IGZvQ9xU4g_"
      }
    },
    {
      "cell_type": "code",
      "source": [
        "!mkdir /root/.kaggle/\n",
        "!pip install kaggle \n",
        "!mkdir datasets\n",
        "import json\n",
        "\n",
        "#Important Note: complete this with your own key - after running this for the first time remmember to **remove** your API_KEY\n",
        "api_token = {\"username\":\"amyuval\",\"key\":\"1c309b85bf5a7e1c79a431e672976a28\"}\n",
        "\n",
        "# creating kaggle.json file with the personal API-Key details \n",
        "# You can also put this file on your Google Drive\n",
        "with open('/root/.kaggle/kaggle.json', 'w') as file:\n",
        "  json.dump(api_token, file)\n",
        "!chmod 600 ~/.kaggle/kaggle.json\n",
        "!ls"
      ],
      "metadata": {
        "colab": {
          "base_uri": "https://localhost:8080/"
        },
        "id": "xP_WVbt-sh4c",
        "outputId": "82f28141-30ab-45a5-b91b-e646800e954d"
      },
      "execution_count": null,
      "outputs": [
        {
          "output_type": "stream",
          "name": "stdout",
          "text": [
            "mkdir: cannot create directory ‘/root/.kaggle/’: File exists\n",
            "Requirement already satisfied: kaggle in /usr/local/lib/python3.7/dist-packages (1.5.12)\n",
            "Requirement already satisfied: python-dateutil in /usr/local/lib/python3.7/dist-packages (from kaggle) (2.8.2)\n",
            "Requirement already satisfied: urllib3 in /usr/local/lib/python3.7/dist-packages (from kaggle) (1.24.3)\n",
            "Requirement already satisfied: python-slugify in /usr/local/lib/python3.7/dist-packages (from kaggle) (6.1.1)\n",
            "Requirement already satisfied: certifi in /usr/local/lib/python3.7/dist-packages (from kaggle) (2021.10.8)\n",
            "Requirement already satisfied: six>=1.10 in /usr/local/lib/python3.7/dist-packages (from kaggle) (1.15.0)\n",
            "Requirement already satisfied: tqdm in /usr/local/lib/python3.7/dist-packages (from kaggle) (4.63.0)\n",
            "Requirement already satisfied: requests in /usr/local/lib/python3.7/dist-packages (from kaggle) (2.23.0)\n",
            "Requirement already satisfied: text-unidecode>=1.3 in /usr/local/lib/python3.7/dist-packages (from python-slugify->kaggle) (1.3)\n",
            "Requirement already satisfied: idna<3,>=2.5 in /usr/local/lib/python3.7/dist-packages (from requests->kaggle) (2.10)\n",
            "Requirement already satisfied: chardet<4,>=3.0.2 in /usr/local/lib/python3.7/dist-packages (from requests->kaggle) (3.0.4)\n",
            "datasets  sample_data\n"
          ]
        }
      ]
    },
    {
      "cell_type": "code",
      "source": [
        "!kaggle datasets download wcukierski/enron-email-dataset -p ./datasets --unzip"
      ],
      "metadata": {
        "id": "dBHytMgNsI7b",
        "colab": {
          "base_uri": "https://localhost:8080/"
        },
        "outputId": "491a23b8-ea7d-4366-bd29-5f352463a940"
      },
      "execution_count": null,
      "outputs": [
        {
          "output_type": "stream",
          "name": "stdout",
          "text": [
            "Downloading enron-email-dataset.zip to ./datasets\n",
            " 99% 353M/358M [00:06<00:00, 56.3MB/s]\n",
            "100% 358M/358M [00:06<00:00, 56.0MB/s]\n"
          ]
        }
      ]
    },
    {
      "cell_type": "code",
      "source": [
        "import networkx as nx\n",
        "import pandas as pd\n",
        "df = pd.read_csv('./datasets/emails.csv')\n",
        "df\n"
      ],
      "metadata": {
        "colab": {
          "base_uri": "https://localhost:8080/",
          "height": 488
        },
        "id": "e1xCa6ZDsQAR",
        "outputId": "5e4fe6ed-073e-4e2e-a7c3-9e68d55110ca"
      },
      "execution_count": null,
      "outputs": [
        {
          "output_type": "execute_result",
          "data": {
            "text/plain": [
              "                             file  \\\n",
              "0           allen-p/_sent_mail/1.   \n",
              "1          allen-p/_sent_mail/10.   \n",
              "2         allen-p/_sent_mail/100.   \n",
              "3        allen-p/_sent_mail/1000.   \n",
              "4        allen-p/_sent_mail/1001.   \n",
              "...                           ...   \n",
              "517396  zufferli-j/sent_items/95.   \n",
              "517397  zufferli-j/sent_items/96.   \n",
              "517398  zufferli-j/sent_items/97.   \n",
              "517399  zufferli-j/sent_items/98.   \n",
              "517400  zufferli-j/sent_items/99.   \n",
              "\n",
              "                                                  message  \n",
              "0       Message-ID: <18782981.1075855378110.JavaMail.e...  \n",
              "1       Message-ID: <15464986.1075855378456.JavaMail.e...  \n",
              "2       Message-ID: <24216240.1075855687451.JavaMail.e...  \n",
              "3       Message-ID: <13505866.1075863688222.JavaMail.e...  \n",
              "4       Message-ID: <30922949.1075863688243.JavaMail.e...  \n",
              "...                                                   ...  \n",
              "517396  Message-ID: <26807948.1075842029936.JavaMail.e...  \n",
              "517397  Message-ID: <25835861.1075842029959.JavaMail.e...  \n",
              "517398  Message-ID: <28979867.1075842029988.JavaMail.e...  \n",
              "517399  Message-ID: <22052556.1075842030013.JavaMail.e...  \n",
              "517400  Message-ID: <28618979.1075842030037.JavaMail.e...  \n",
              "\n",
              "[517401 rows x 2 columns]"
            ],
            "text/html": [
              "\n",
              "  <div id=\"df-bcbd8ea2-76fd-493c-aca9-4cd27b9c1b83\">\n",
              "    <div class=\"colab-df-container\">\n",
              "      <div>\n",
              "<style scoped>\n",
              "    .dataframe tbody tr th:only-of-type {\n",
              "        vertical-align: middle;\n",
              "    }\n",
              "\n",
              "    .dataframe tbody tr th {\n",
              "        vertical-align: top;\n",
              "    }\n",
              "\n",
              "    .dataframe thead th {\n",
              "        text-align: right;\n",
              "    }\n",
              "</style>\n",
              "<table border=\"1\" class=\"dataframe\">\n",
              "  <thead>\n",
              "    <tr style=\"text-align: right;\">\n",
              "      <th></th>\n",
              "      <th>file</th>\n",
              "      <th>message</th>\n",
              "    </tr>\n",
              "  </thead>\n",
              "  <tbody>\n",
              "    <tr>\n",
              "      <th>0</th>\n",
              "      <td>allen-p/_sent_mail/1.</td>\n",
              "      <td>Message-ID: &lt;18782981.1075855378110.JavaMail.e...</td>\n",
              "    </tr>\n",
              "    <tr>\n",
              "      <th>1</th>\n",
              "      <td>allen-p/_sent_mail/10.</td>\n",
              "      <td>Message-ID: &lt;15464986.1075855378456.JavaMail.e...</td>\n",
              "    </tr>\n",
              "    <tr>\n",
              "      <th>2</th>\n",
              "      <td>allen-p/_sent_mail/100.</td>\n",
              "      <td>Message-ID: &lt;24216240.1075855687451.JavaMail.e...</td>\n",
              "    </tr>\n",
              "    <tr>\n",
              "      <th>3</th>\n",
              "      <td>allen-p/_sent_mail/1000.</td>\n",
              "      <td>Message-ID: &lt;13505866.1075863688222.JavaMail.e...</td>\n",
              "    </tr>\n",
              "    <tr>\n",
              "      <th>4</th>\n",
              "      <td>allen-p/_sent_mail/1001.</td>\n",
              "      <td>Message-ID: &lt;30922949.1075863688243.JavaMail.e...</td>\n",
              "    </tr>\n",
              "    <tr>\n",
              "      <th>...</th>\n",
              "      <td>...</td>\n",
              "      <td>...</td>\n",
              "    </tr>\n",
              "    <tr>\n",
              "      <th>517396</th>\n",
              "      <td>zufferli-j/sent_items/95.</td>\n",
              "      <td>Message-ID: &lt;26807948.1075842029936.JavaMail.e...</td>\n",
              "    </tr>\n",
              "    <tr>\n",
              "      <th>517397</th>\n",
              "      <td>zufferli-j/sent_items/96.</td>\n",
              "      <td>Message-ID: &lt;25835861.1075842029959.JavaMail.e...</td>\n",
              "    </tr>\n",
              "    <tr>\n",
              "      <th>517398</th>\n",
              "      <td>zufferli-j/sent_items/97.</td>\n",
              "      <td>Message-ID: &lt;28979867.1075842029988.JavaMail.e...</td>\n",
              "    </tr>\n",
              "    <tr>\n",
              "      <th>517399</th>\n",
              "      <td>zufferli-j/sent_items/98.</td>\n",
              "      <td>Message-ID: &lt;22052556.1075842030013.JavaMail.e...</td>\n",
              "    </tr>\n",
              "    <tr>\n",
              "      <th>517400</th>\n",
              "      <td>zufferli-j/sent_items/99.</td>\n",
              "      <td>Message-ID: &lt;28618979.1075842030037.JavaMail.e...</td>\n",
              "    </tr>\n",
              "  </tbody>\n",
              "</table>\n",
              "<p>517401 rows × 2 columns</p>\n",
              "</div>\n",
              "      <button class=\"colab-df-convert\" onclick=\"convertToInteractive('df-bcbd8ea2-76fd-493c-aca9-4cd27b9c1b83')\"\n",
              "              title=\"Convert this dataframe to an interactive table.\"\n",
              "              style=\"display:none;\">\n",
              "        \n",
              "  <svg xmlns=\"http://www.w3.org/2000/svg\" height=\"24px\"viewBox=\"0 0 24 24\"\n",
              "       width=\"24px\">\n",
              "    <path d=\"M0 0h24v24H0V0z\" fill=\"none\"/>\n",
              "    <path d=\"M18.56 5.44l.94 2.06.94-2.06 2.06-.94-2.06-.94-.94-2.06-.94 2.06-2.06.94zm-11 1L8.5 8.5l.94-2.06 2.06-.94-2.06-.94L8.5 2.5l-.94 2.06-2.06.94zm10 10l.94 2.06.94-2.06 2.06-.94-2.06-.94-.94-2.06-.94 2.06-2.06.94z\"/><path d=\"M17.41 7.96l-1.37-1.37c-.4-.4-.92-.59-1.43-.59-.52 0-1.04.2-1.43.59L10.3 9.45l-7.72 7.72c-.78.78-.78 2.05 0 2.83L4 21.41c.39.39.9.59 1.41.59.51 0 1.02-.2 1.41-.59l7.78-7.78 2.81-2.81c.8-.78.8-2.07 0-2.86zM5.41 20L4 18.59l7.72-7.72 1.47 1.35L5.41 20z\"/>\n",
              "  </svg>\n",
              "      </button>\n",
              "      \n",
              "  <style>\n",
              "    .colab-df-container {\n",
              "      display:flex;\n",
              "      flex-wrap:wrap;\n",
              "      gap: 12px;\n",
              "    }\n",
              "\n",
              "    .colab-df-convert {\n",
              "      background-color: #E8F0FE;\n",
              "      border: none;\n",
              "      border-radius: 50%;\n",
              "      cursor: pointer;\n",
              "      display: none;\n",
              "      fill: #1967D2;\n",
              "      height: 32px;\n",
              "      padding: 0 0 0 0;\n",
              "      width: 32px;\n",
              "    }\n",
              "\n",
              "    .colab-df-convert:hover {\n",
              "      background-color: #E2EBFA;\n",
              "      box-shadow: 0px 1px 2px rgba(60, 64, 67, 0.3), 0px 1px 3px 1px rgba(60, 64, 67, 0.15);\n",
              "      fill: #174EA6;\n",
              "    }\n",
              "\n",
              "    [theme=dark] .colab-df-convert {\n",
              "      background-color: #3B4455;\n",
              "      fill: #D2E3FC;\n",
              "    }\n",
              "\n",
              "    [theme=dark] .colab-df-convert:hover {\n",
              "      background-color: #434B5C;\n",
              "      box-shadow: 0px 1px 3px 1px rgba(0, 0, 0, 0.15);\n",
              "      filter: drop-shadow(0px 1px 2px rgba(0, 0, 0, 0.3));\n",
              "      fill: #FFFFFF;\n",
              "    }\n",
              "  </style>\n",
              "\n",
              "      <script>\n",
              "        const buttonEl =\n",
              "          document.querySelector('#df-bcbd8ea2-76fd-493c-aca9-4cd27b9c1b83 button.colab-df-convert');\n",
              "        buttonEl.style.display =\n",
              "          google.colab.kernel.accessAllowed ? 'block' : 'none';\n",
              "\n",
              "        async function convertToInteractive(key) {\n",
              "          const element = document.querySelector('#df-bcbd8ea2-76fd-493c-aca9-4cd27b9c1b83');\n",
              "          const dataTable =\n",
              "            await google.colab.kernel.invokeFunction('convertToInteractive',\n",
              "                                                     [key], {});\n",
              "          if (!dataTable) return;\n",
              "\n",
              "          const docLinkHtml = 'Like what you see? Visit the ' +\n",
              "            '<a target=\"_blank\" href=https://colab.research.google.com/notebooks/data_table.ipynb>data table notebook</a>'\n",
              "            + ' to learn more about interactive tables.';\n",
              "          element.innerHTML = '';\n",
              "          dataTable['output_type'] = 'display_data';\n",
              "          await google.colab.output.renderOutput(dataTable, element);\n",
              "          const docLink = document.createElement('div');\n",
              "          docLink.innerHTML = docLinkHtml;\n",
              "          element.appendChild(docLink);\n",
              "        }\n",
              "      </script>\n",
              "    </div>\n",
              "  </div>\n",
              "  "
            ]
          },
          "metadata": {},
          "execution_count": 4
        }
      ]
    },
    {
      "cell_type": "code",
      "source": [
        "g = nx.Graph()\n",
        "for idx, row in df.iterrows():\n",
        "  str_list = row['message'].split('\\n')\n",
        "  n1 = str_list[2].split(': ')[1]\n",
        "  n2 = str_list[3].split(': ')[1]\n",
        "  g.add_edge(n1,n2)\n",
        "nx.info(g)"
      ],
      "metadata": {
        "colab": {
          "base_uri": "https://localhost:8080/",
          "height": 40
        },
        "id": "fTyBoEcOvYEr",
        "outputId": "785033df-9f16-4cd4-c16e-f7aaa754d289"
      },
      "execution_count": null,
      "outputs": [
        {
          "output_type": "execute_result",
          "data": {
            "text/plain": [
              "'Graph with 69693 nodes and 96281 edges'"
            ],
            "application/vnd.google.colaboratory.intrinsic+json": {
              "type": "string"
            }
          },
          "metadata": {},
          "execution_count": 5
        }
      ]
    },
    {
      "cell_type": "code",
      "source": [
        "import operator\n",
        "x = nx.degree_centrality(g)\n",
        "sorted_x = sorted(x.items(), key=operator.itemgetter(1), reverse=True)\n",
        "sorted_x[:10]"
      ],
      "metadata": {
        "colab": {
          "base_uri": "https://localhost:8080/"
        },
        "id": "alfbRbCmyYOv",
        "outputId": "1e445538-4788-46c5-aee0-21696dd80fd9"
      },
      "execution_count": null,
      "outputs": [
        {
          "output_type": "execute_result",
          "data": {
            "text/plain": [
              "[('jeff.dasovich@enron.com', 0.023460368478448027),\n",
              " ('klay@enron.com', 0.018165643115422143),\n",
              " ('sara.shackleton@enron.com', 0.01796475922631005),\n",
              " ('chris.germany@enron.com', 0.01729036331286231),\n",
              " ('tana.jones@enron.com', 0.016673362796303735),\n",
              " ('kay.mann@enron.com', 0.01452103541295988),\n",
              " ('outlook.team@enron.com', 0.012971359696952305),\n",
              " ('vince.kaminski@enron.com', 0.012942661998507719),\n",
              " ('gerald.nemec@enron.com', 0.011565172473167651),\n",
              " ('d..steffes@enron.com', 0.0105320553291626)]"
            ]
          },
          "metadata": {},
          "execution_count": 11
        }
      ]
    },
    {
      "cell_type": "code",
      "source": [
        "import operator\n",
        "x = nx.pagerank(g)\n",
        "sorted_x = sorted(x.items(), key=operator.itemgetter(1), reverse=True)\n",
        "sorted_x[:10]"
      ],
      "metadata": {
        "colab": {
          "base_uri": "https://localhost:8080/"
        },
        "id": "4JeTtTS2ZHUo",
        "outputId": "8447b281-010e-4820-c055-d2b662bfece9"
      },
      "execution_count": null,
      "outputs": [
        {
          "output_type": "execute_result",
          "data": {
            "text/plain": [
              "[('jeff.dasovich@enron.com', 0.007587417406666499),\n",
              " ('klay@enron.com', 0.006623988168408718),\n",
              " ('chris.germany@enron.com', 0.005610549996054232),\n",
              " ('sara.shackleton@enron.com', 0.00519744966046738),\n",
              " ('outlook.team@enron.com', 0.004675784207164437),\n",
              " ('tana.jones@enron.com', 0.004650718514748905),\n",
              " ('kay.mann@enron.com', 0.004620912798036621),\n",
              " ('vince.kaminski@enron.com', 0.003421296678898859),\n",
              " ('gerald.nemec@enron.com', 0.003361964940543702),\n",
              " ('d..steffes@enron.com', 0.0032947408529496944)]"
            ]
          },
          "metadata": {},
          "execution_count": 15
        }
      ]
    },
    {
      "cell_type": "code",
      "source": [
        "import operator\n",
        "x = nx.eigenvector_centrality(g)\n",
        "sorted_x = sorted(x.items(), key=operator.itemgetter(1), reverse=True)\n",
        "sorted_x[:10]"
      ],
      "metadata": {
        "colab": {
          "base_uri": "https://localhost:8080/"
        },
        "id": "XnAKP_zGZOQK",
        "outputId": "45431d03-b249-4dbd-ffd0-1fe6661f79e7"
      },
      "execution_count": null,
      "outputs": [
        {
          "output_type": "execute_result",
          "data": {
            "text/plain": [
              "[('tana.jones@enron.com', 0.22952253891439583),\n",
              " ('sara.shackleton@enron.com', 0.2264277138851939),\n",
              " ('louise.kitchen@enron.com', 0.18930716159748256),\n",
              " ('mark.taylor@enron.com', 0.1737311512590609),\n",
              " ('jeff.dasovich@enron.com', 0.1557449109873045),\n",
              " ('sally.beck@enron.com', 0.12944439892256646),\n",
              " ('mark.haedicke@enron.com', 0.1284356519780413),\n",
              " ('elizabeth.sager@enron.com', 0.12767038166556738),\n",
              " ('richard.sanders@enron.com', 0.12590030417011866),\n",
              " ('vince.kaminski@enron.com', 0.12579800087556628)]"
            ]
          },
          "metadata": {},
          "execution_count": 12
        }
      ]
    },
    {
      "cell_type": "code",
      "source": [
        "\n",
        "nx.write_gexf(g, \"./datasets/enron.gexf\")"
      ],
      "metadata": {
        "id": "tgWCXGtyaXrT"
      },
      "execution_count": 18,
      "outputs": []
    },
    {
      "cell_type": "code",
      "source": [
        "import matplotlib.pyplot as plt\n",
        "import matplotlib.image as img\n",
        "  \n",
        "# reading png image file\n",
        "im = img.imread('enron.png')\n",
        "  \n",
        "# show image\n",
        "plt.imshow(im)"
      ],
      "metadata": {
        "colab": {
          "base_uri": "https://localhost:8080/",
          "height": 292
        },
        "id": "vJ9RH2XXtF8g",
        "outputId": "9d99d3ff-9af8-4100-9b30-c578376c1f43"
      },
      "execution_count": 19,
      "outputs": [
        {
          "output_type": "execute_result",
          "data": {
            "text/plain": [
              "<matplotlib.image.AxesImage at 0x7f2698d20250>"
            ]
          },
          "metadata": {},
          "execution_count": 19
        },
        {
          "output_type": "display_data",
          "data": {
            "text/plain": [
              "<Figure size 432x288 with 1 Axes>"
            ],
            "image/png": "[encoded data removed]"
          },
          "metadata": {
            "needs_background": "light"
          }
        }
      ]
    }
  ]
}